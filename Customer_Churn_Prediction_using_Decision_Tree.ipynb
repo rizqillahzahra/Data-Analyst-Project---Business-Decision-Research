{
  "cells": [
    {
      "cell_type": "markdown",
      "metadata": {
        "id": "view-in-github",
        "colab_type": "text"
      },
      "source": [
        "<a href=\"https://colab.research.google.com/github/rizqillahzahra/Data-Project/blob/master/Customer_Churn_Prediction_using_Decision_Tree.ipynb\" target=\"_parent\"><img src=\"https://colab.research.google.com/assets/colab-badge.svg\" alt=\"Open In Colab\"/></a>"
      ]
    },
    {
      "cell_type": "markdown",
      "metadata": {
        "id": "2VjOp5sRI83_"
      },
      "source": [
        "### Permasalahan\n",
        "\n",
        "> Churn adalah salah satu peristiwa atau perilaku pelanggan beralih dari produk setelah (dalam jangka waktu tertentu) berlangganan produk. Produk dapat berupa barang atau jasa, seperti jaringan internet, penyedia telekomunikasi, dan sejenisnya. Dalam hal ini produk yang dianalisa adalah perusahaan telekomunikasi. Skema churn dapat dijelaskan dalam beberapa tahap. Tahap pertama, tahap ketika pelanggan berlangganan produk. Tahap kedua, yaitu rutinitas, atau perilaku pelanggan atau umpan balik pelanggan terhadap produk yang digunakan selama periode tertentu. Setelah itu, pada tahap ketiga, ada dua jenis, retensi (berlangganan kembali) atau churn (beralih atau berhenti berlangganan). Setiap perusahaan pasti ingin meminimalkan churn dan memaksimalkan retensi. Salah satu solusi yang dapat digunakan adalah dengan menggunakan prediksi churn pelanggan. Dengan ini, perusahaan dapat mengetahui karakteristik yang cenderung beralih atau berhenti berlangganan.\n",
        "\n",
        "### Deskripsi Data\n",
        "\n",
        "1.   Gender: Jenis kelamin pelanggan (Male, Female)\n",
        "2.   Partner: Status pernikahan pelanggan (yes, no)\n",
        "3.   Tenure: Lama beralangganan (integer; bulan)\n",
        "4.   PhoneService: Apakah pelanggan menggunakan telfon (yes, no)\n",
        "5.   PaperlessBilling:  Apakah pelanggan menggunakan paperless billing (yes, no)\n",
        "6.   MonthlyCharges: Biaya bulanan (numeric; usd)\n",
        "7.   Churn: Apakah pelanggan berhenti berlangganan atau tidak (yes, no)\n",
        "\n",
        "> Dalam kasus ini kita akan melakukan prediksi Churn sebagai variabel respon.\n",
        "\n",
        "\n"
      ]
    },
    {
      "cell_type": "markdown",
      "metadata": {
        "id": "L8vKCLJ0QT4X"
      },
      "source": [
        "## 1. Import Libraries and Data"
      ]
    },
    {
      "cell_type": "markdown",
      "metadata": {
        "id": "SFdgNnqVQivm"
      },
      "source": [
        "IMPORT PACKAGES"
      ]
    },
    {
      "cell_type": "code",
      "execution_count": null,
      "metadata": {
        "id": "IEBsjjViQPpr"
      },
      "outputs": [],
      "source": [
        "# Import Package\n",
        "import os\n",
        "import pandas as pd\n",
        "import numpy as np\n",
        "\n",
        "# Package untuk visualisasi\n",
        "import matplotlib.pyplot as plt\n",
        "import seaborn as sns\n",
        "\n",
        "# Package untuk cleaning, modelling, dan evaluation model\n",
        "import statsmodels.api as sm\n",
        "from sklearn.preprocessing import LabelEncoder, StandardScaler, MinMaxScaler\n",
        "from sklearn.model_selection import train_test_split, cross_validate, cross_val_score, KFold, GridSearchCV\n",
        "from sklearn.metrics import accuracy_score, precision_score, recall_score, f1_score\n"
      ]
    },
    {
      "cell_type": "code",
      "execution_count": null,
      "metadata": {
        "id": "wrAbgPO_Qmco"
      },
      "outputs": [],
      "source": [
        "# Membuat path untuk mengidentifikasi letak directory\n",
        "# Catatan : pastikan path yang anda masukkan sesuai dengan directory data anda. Kemungkinan besar path di contoh ini berbeda dengan penyimpanan data anda\n",
        "path = '/content/TelcoChurn.csv'"
      ]
    },
    {
      "cell_type": "markdown",
      "metadata": {
        "id": "_lEFjWLjQx60"
      },
      "source": [
        "IMPORT DATA"
      ]
    },
    {
      "cell_type": "code",
      "execution_count": null,
      "metadata": {
        "id": "J5EmSgd9QvMd",
        "colab": {
          "base_uri": "https://localhost:8080/",
          "height": 206
        },
        "outputId": "8ed3635e-c00b-439f-97c2-84ee5a52ed1e"
      },
      "outputs": [
        {
          "output_type": "execute_result",
          "data": {
            "text/plain": [
              "   gender Partner  tenure PhoneService PaperlessBilling  MonthlyCharges Churn\n",
              "0  Female     Yes       1           No              Yes           29.85    No\n",
              "1    Male      No      34          Yes               No           56.95    No\n",
              "2    Male      No       2          Yes              Yes           53.85   Yes\n",
              "3    Male      No      45           No               No           42.30    No\n",
              "4  Female      No       2          Yes              Yes           70.70   Yes"
            ],
            "text/html": [
              "\n",
              "  <div id=\"df-1ff3e025-2b1e-425d-b60b-848ef4550e27\">\n",
              "    <div class=\"colab-df-container\">\n",
              "      <div>\n",
              "<style scoped>\n",
              "    .dataframe tbody tr th:only-of-type {\n",
              "        vertical-align: middle;\n",
              "    }\n",
              "\n",
              "    .dataframe tbody tr th {\n",
              "        vertical-align: top;\n",
              "    }\n",
              "\n",
              "    .dataframe thead th {\n",
              "        text-align: right;\n",
              "    }\n",
              "</style>\n",
              "<table border=\"1\" class=\"dataframe\">\n",
              "  <thead>\n",
              "    <tr style=\"text-align: right;\">\n",
              "      <th></th>\n",
              "      <th>gender</th>\n",
              "      <th>Partner</th>\n",
              "      <th>tenure</th>\n",
              "      <th>PhoneService</th>\n",
              "      <th>PaperlessBilling</th>\n",
              "      <th>MonthlyCharges</th>\n",
              "      <th>Churn</th>\n",
              "    </tr>\n",
              "  </thead>\n",
              "  <tbody>\n",
              "    <tr>\n",
              "      <th>0</th>\n",
              "      <td>Female</td>\n",
              "      <td>Yes</td>\n",
              "      <td>1</td>\n",
              "      <td>No</td>\n",
              "      <td>Yes</td>\n",
              "      <td>29.85</td>\n",
              "      <td>No</td>\n",
              "    </tr>\n",
              "    <tr>\n",
              "      <th>1</th>\n",
              "      <td>Male</td>\n",
              "      <td>No</td>\n",
              "      <td>34</td>\n",
              "      <td>Yes</td>\n",
              "      <td>No</td>\n",
              "      <td>56.95</td>\n",
              "      <td>No</td>\n",
              "    </tr>\n",
              "    <tr>\n",
              "      <th>2</th>\n",
              "      <td>Male</td>\n",
              "      <td>No</td>\n",
              "      <td>2</td>\n",
              "      <td>Yes</td>\n",
              "      <td>Yes</td>\n",
              "      <td>53.85</td>\n",
              "      <td>Yes</td>\n",
              "    </tr>\n",
              "    <tr>\n",
              "      <th>3</th>\n",
              "      <td>Male</td>\n",
              "      <td>No</td>\n",
              "      <td>45</td>\n",
              "      <td>No</td>\n",
              "      <td>No</td>\n",
              "      <td>42.30</td>\n",
              "      <td>No</td>\n",
              "    </tr>\n",
              "    <tr>\n",
              "      <th>4</th>\n",
              "      <td>Female</td>\n",
              "      <td>No</td>\n",
              "      <td>2</td>\n",
              "      <td>Yes</td>\n",
              "      <td>Yes</td>\n",
              "      <td>70.70</td>\n",
              "      <td>Yes</td>\n",
              "    </tr>\n",
              "  </tbody>\n",
              "</table>\n",
              "</div>\n",
              "      <button class=\"colab-df-convert\" onclick=\"convertToInteractive('df-1ff3e025-2b1e-425d-b60b-848ef4550e27')\"\n",
              "              title=\"Convert this dataframe to an interactive table.\"\n",
              "              style=\"display:none;\">\n",
              "        \n",
              "  <svg xmlns=\"http://www.w3.org/2000/svg\" height=\"24px\"viewBox=\"0 0 24 24\"\n",
              "       width=\"24px\">\n",
              "    <path d=\"M0 0h24v24H0V0z\" fill=\"none\"/>\n",
              "    <path d=\"M18.56 5.44l.94 2.06.94-2.06 2.06-.94-2.06-.94-.94-2.06-.94 2.06-2.06.94zm-11 1L8.5 8.5l.94-2.06 2.06-.94-2.06-.94L8.5 2.5l-.94 2.06-2.06.94zm10 10l.94 2.06.94-2.06 2.06-.94-2.06-.94-.94-2.06-.94 2.06-2.06.94z\"/><path d=\"M17.41 7.96l-1.37-1.37c-.4-.4-.92-.59-1.43-.59-.52 0-1.04.2-1.43.59L10.3 9.45l-7.72 7.72c-.78.78-.78 2.05 0 2.83L4 21.41c.39.39.9.59 1.41.59.51 0 1.02-.2 1.41-.59l7.78-7.78 2.81-2.81c.8-.78.8-2.07 0-2.86zM5.41 20L4 18.59l7.72-7.72 1.47 1.35L5.41 20z\"/>\n",
              "  </svg>\n",
              "      </button>\n",
              "      \n",
              "  <style>\n",
              "    .colab-df-container {\n",
              "      display:flex;\n",
              "      flex-wrap:wrap;\n",
              "      gap: 12px;\n",
              "    }\n",
              "\n",
              "    .colab-df-convert {\n",
              "      background-color: #E8F0FE;\n",
              "      border: none;\n",
              "      border-radius: 50%;\n",
              "      cursor: pointer;\n",
              "      display: none;\n",
              "      fill: #1967D2;\n",
              "      height: 32px;\n",
              "      padding: 0 0 0 0;\n",
              "      width: 32px;\n",
              "    }\n",
              "\n",
              "    .colab-df-convert:hover {\n",
              "      background-color: #E2EBFA;\n",
              "      box-shadow: 0px 1px 2px rgba(60, 64, 67, 0.3), 0px 1px 3px 1px rgba(60, 64, 67, 0.15);\n",
              "      fill: #174EA6;\n",
              "    }\n",
              "\n",
              "    [theme=dark] .colab-df-convert {\n",
              "      background-color: #3B4455;\n",
              "      fill: #D2E3FC;\n",
              "    }\n",
              "\n",
              "    [theme=dark] .colab-df-convert:hover {\n",
              "      background-color: #434B5C;\n",
              "      box-shadow: 0px 1px 3px 1px rgba(0, 0, 0, 0.15);\n",
              "      filter: drop-shadow(0px 1px 2px rgba(0, 0, 0, 0.3));\n",
              "      fill: #FFFFFF;\n",
              "    }\n",
              "  </style>\n",
              "\n",
              "      <script>\n",
              "        const buttonEl =\n",
              "          document.querySelector('#df-1ff3e025-2b1e-425d-b60b-848ef4550e27 button.colab-df-convert');\n",
              "        buttonEl.style.display =\n",
              "          google.colab.kernel.accessAllowed ? 'block' : 'none';\n",
              "\n",
              "        async function convertToInteractive(key) {\n",
              "          const element = document.querySelector('#df-1ff3e025-2b1e-425d-b60b-848ef4550e27');\n",
              "          const dataTable =\n",
              "            await google.colab.kernel.invokeFunction('convertToInteractive',\n",
              "                                                     [key], {});\n",
              "          if (!dataTable) return;\n",
              "\n",
              "          const docLinkHtml = 'Like what you see? Visit the ' +\n",
              "            '<a target=\"_blank\" href=https://colab.research.google.com/notebooks/data_table.ipynb>data table notebook</a>'\n",
              "            + ' to learn more about interactive tables.';\n",
              "          element.innerHTML = '';\n",
              "          dataTable['output_type'] = 'display_data';\n",
              "          await google.colab.output.renderOutput(dataTable, element);\n",
              "          const docLink = document.createElement('div');\n",
              "          docLink.innerHTML = docLinkHtml;\n",
              "          element.appendChild(docLink);\n",
              "        }\n",
              "      </script>\n",
              "    </div>\n",
              "  </div>\n",
              "  "
            ]
          },
          "metadata": {},
          "execution_count": 8
        }
      ],
      "source": [
        "# Load data\n",
        "df = pd.read_csv(path, encoding='utf-8')\n",
        "df.head()"
      ]
    },
    {
      "cell_type": "markdown",
      "metadata": {
        "id": "qNsOA9RpREMx"
      },
      "source": [
        "Dari data diatas maka bisa didapat keterangan bahwa <br>\n",
        "x = gender, Partner, tenure, PhoneService, PaperlessBilling, MonthlyCharges <br>\n",
        "y = Churn"
      ]
    },
    {
      "cell_type": "markdown",
      "metadata": {
        "id": "HtvaY6zGRWyE"
      },
      "source": [
        "## 2. Exploratory Data Analysis (EDA)"
      ]
    },
    {
      "cell_type": "code",
      "execution_count": null,
      "metadata": {
        "id": "fcAg1xv-Q8ES",
        "colab": {
          "base_uri": "https://localhost:8080/"
        },
        "outputId": "f98d8fac-8409-4aca-f285-89b140730910"
      },
      "outputs": [
        {
          "output_type": "stream",
          "name": "stdout",
          "text": [
            "<class 'pandas.core.frame.DataFrame'>\n",
            "RangeIndex: 7043 entries, 0 to 7042\n",
            "Data columns (total 7 columns):\n",
            " #   Column            Non-Null Count  Dtype  \n",
            "---  ------            --------------  -----  \n",
            " 0   gender            7043 non-null   object \n",
            " 1   Partner           7043 non-null   object \n",
            " 2   tenure            7043 non-null   int64  \n",
            " 3   PhoneService      7043 non-null   object \n",
            " 4   PaperlessBilling  7043 non-null   object \n",
            " 5   MonthlyCharges    7043 non-null   float64\n",
            " 6   Churn             7043 non-null   object \n",
            "dtypes: float64(1), int64(1), object(5)\n",
            "memory usage: 385.3+ KB\n"
          ]
        }
      ],
      "source": [
        "# Cek informasi yang terdapat di data\n",
        "df.info()"
      ]
    },
    {
      "cell_type": "markdown",
      "metadata": {
        "id": "AEMe564LRmkI"
      },
      "source": [
        "Dari info tersebut tidak terdapat missing value. Selanjutnya akan dicari tahu, apakah pelanggan yang berhenti berlangganan lebih banyak dibandingkan yang tidak atau sebaliknya ?"
      ]
    },
    {
      "cell_type": "code",
      "execution_count": null,
      "metadata": {
        "id": "huhDvANyRZyV",
        "colab": {
          "base_uri": "https://localhost:8080/",
          "height": 248
        },
        "outputId": "f9ba1034-1aed-41b2-f036-a1c5483c64a1"
      },
      "outputs": [
        {
          "output_type": "display_data",
          "data": {
            "text/plain": [
              "<Figure size 432x288 with 1 Axes>"
            ],
            "image/png": "[encoded data removed]"
          },
          "metadata": {}
        }
      ],
      "source": [
        "# Mencari perbandingan label/class\n",
        "df['Churn'].value_counts().plot.pie(autopct='%1.1f%%',shadow=True)\n",
        "plt.show()"
      ]
    },
    {
      "cell_type": "markdown",
      "metadata": {
        "id": "E18121fqR1xv"
      },
      "source": [
        "Dari pie-chart tersebut, dapat dikatakan bahwa yang tidak berhenti berlangganan lebih banyak, data ini sedikit tidak seimbang. Untuk mengetahui pastinya saudara dapat menggunakan uji proporsi (untuk memutuskan apakah data seimbang atau tidak)."
      ]
    },
    {
      "cell_type": "code",
      "execution_count": null,
      "metadata": {
        "id": "JFYXvqeZRupc",
        "colab": {
          "base_uri": "https://localhost:8080/",
          "height": 300
        },
        "outputId": "593fa5a6-146a-4a61-eeda-51559fa7848f"
      },
      "outputs": [
        {
          "output_type": "execute_result",
          "data": {
            "text/plain": [
              "            tenure  MonthlyCharges\n",
              "count  7043.000000     7043.000000\n",
              "mean     32.371149       64.761692\n",
              "std      24.559481       30.090047\n",
              "min       0.000000       18.250000\n",
              "25%       9.000000       35.500000\n",
              "50%      29.000000       70.350000\n",
              "75%      55.000000       89.850000\n",
              "max      72.000000      118.750000"
            ],
            "text/html": [
              "\n",
              "  <div id=\"df-c01b67ad-419f-4f01-8368-0b40ebdaa0db\">\n",
              "    <div class=\"colab-df-container\">\n",
              "      <div>\n",
              "<style scoped>\n",
              "    .dataframe tbody tr th:only-of-type {\n",
              "        vertical-align: middle;\n",
              "    }\n",
              "\n",
              "    .dataframe tbody tr th {\n",
              "        vertical-align: top;\n",
              "    }\n",
              "\n",
              "    .dataframe thead th {\n",
              "        text-align: right;\n",
              "    }\n",
              "</style>\n",
              "<table border=\"1\" class=\"dataframe\">\n",
              "  <thead>\n",
              "    <tr style=\"text-align: right;\">\n",
              "      <th></th>\n",
              "      <th>tenure</th>\n",
              "      <th>MonthlyCharges</th>\n",
              "    </tr>\n",
              "  </thead>\n",
              "  <tbody>\n",
              "    <tr>\n",
              "      <th>count</th>\n",
              "      <td>7043.000000</td>\n",
              "      <td>7043.000000</td>\n",
              "    </tr>\n",
              "    <tr>\n",
              "      <th>mean</th>\n",
              "      <td>32.371149</td>\n",
              "      <td>64.761692</td>\n",
              "    </tr>\n",
              "    <tr>\n",
              "      <th>std</th>\n",
              "      <td>24.559481</td>\n",
              "      <td>30.090047</td>\n",
              "    </tr>\n",
              "    <tr>\n",
              "      <th>min</th>\n",
              "      <td>0.000000</td>\n",
              "      <td>18.250000</td>\n",
              "    </tr>\n",
              "    <tr>\n",
              "      <th>25%</th>\n",
              "      <td>9.000000</td>\n",
              "      <td>35.500000</td>\n",
              "    </tr>\n",
              "    <tr>\n",
              "      <th>50%</th>\n",
              "      <td>29.000000</td>\n",
              "      <td>70.350000</td>\n",
              "    </tr>\n",
              "    <tr>\n",
              "      <th>75%</th>\n",
              "      <td>55.000000</td>\n",
              "      <td>89.850000</td>\n",
              "    </tr>\n",
              "    <tr>\n",
              "      <th>max</th>\n",
              "      <td>72.000000</td>\n",
              "      <td>118.750000</td>\n",
              "    </tr>\n",
              "  </tbody>\n",
              "</table>\n",
              "</div>\n",
              "      <button class=\"colab-df-convert\" onclick=\"convertToInteractive('df-c01b67ad-419f-4f01-8368-0b40ebdaa0db')\"\n",
              "              title=\"Convert this dataframe to an interactive table.\"\n",
              "              style=\"display:none;\">\n",
              "        \n",
              "  <svg xmlns=\"http://www.w3.org/2000/svg\" height=\"24px\"viewBox=\"0 0 24 24\"\n",
              "       width=\"24px\">\n",
              "    <path d=\"M0 0h24v24H0V0z\" fill=\"none\"/>\n",
              "    <path d=\"M18.56 5.44l.94 2.06.94-2.06 2.06-.94-2.06-.94-.94-2.06-.94 2.06-2.06.94zm-11 1L8.5 8.5l.94-2.06 2.06-.94-2.06-.94L8.5 2.5l-.94 2.06-2.06.94zm10 10l.94 2.06.94-2.06 2.06-.94-2.06-.94-.94-2.06-.94 2.06-2.06.94z\"/><path d=\"M17.41 7.96l-1.37-1.37c-.4-.4-.92-.59-1.43-.59-.52 0-1.04.2-1.43.59L10.3 9.45l-7.72 7.72c-.78.78-.78 2.05 0 2.83L4 21.41c.39.39.9.59 1.41.59.51 0 1.02-.2 1.41-.59l7.78-7.78 2.81-2.81c.8-.78.8-2.07 0-2.86zM5.41 20L4 18.59l7.72-7.72 1.47 1.35L5.41 20z\"/>\n",
              "  </svg>\n",
              "      </button>\n",
              "      \n",
              "  <style>\n",
              "    .colab-df-container {\n",
              "      display:flex;\n",
              "      flex-wrap:wrap;\n",
              "      gap: 12px;\n",
              "    }\n",
              "\n",
              "    .colab-df-convert {\n",
              "      background-color: #E8F0FE;\n",
              "      border: none;\n",
              "      border-radius: 50%;\n",
              "      cursor: pointer;\n",
              "      display: none;\n",
              "      fill: #1967D2;\n",
              "      height: 32px;\n",
              "      padding: 0 0 0 0;\n",
              "      width: 32px;\n",
              "    }\n",
              "\n",
              "    .colab-df-convert:hover {\n",
              "      background-color: #E2EBFA;\n",
              "      box-shadow: 0px 1px 2px rgba(60, 64, 67, 0.3), 0px 1px 3px 1px rgba(60, 64, 67, 0.15);\n",
              "      fill: #174EA6;\n",
              "    }\n",
              "\n",
              "    [theme=dark] .colab-df-convert {\n",
              "      background-color: #3B4455;\n",
              "      fill: #D2E3FC;\n",
              "    }\n",
              "\n",
              "    [theme=dark] .colab-df-convert:hover {\n",
              "      background-color: #434B5C;\n",
              "      box-shadow: 0px 1px 3px 1px rgba(0, 0, 0, 0.15);\n",
              "      filter: drop-shadow(0px 1px 2px rgba(0, 0, 0, 0.3));\n",
              "      fill: #FFFFFF;\n",
              "    }\n",
              "  </style>\n",
              "\n",
              "      <script>\n",
              "        const buttonEl =\n",
              "          document.querySelector('#df-c01b67ad-419f-4f01-8368-0b40ebdaa0db button.colab-df-convert');\n",
              "        buttonEl.style.display =\n",
              "          google.colab.kernel.accessAllowed ? 'block' : 'none';\n",
              "\n",
              "        async function convertToInteractive(key) {\n",
              "          const element = document.querySelector('#df-c01b67ad-419f-4f01-8368-0b40ebdaa0db');\n",
              "          const dataTable =\n",
              "            await google.colab.kernel.invokeFunction('convertToInteractive',\n",
              "                                                     [key], {});\n",
              "          if (!dataTable) return;\n",
              "\n",
              "          const docLinkHtml = 'Like what you see? Visit the ' +\n",
              "            '<a target=\"_blank\" href=https://colab.research.google.com/notebooks/data_table.ipynb>data table notebook</a>'\n",
              "            + ' to learn more about interactive tables.';\n",
              "          element.innerHTML = '';\n",
              "          dataTable['output_type'] = 'display_data';\n",
              "          await google.colab.output.renderOutput(dataTable, element);\n",
              "          const docLink = document.createElement('div');\n",
              "          docLink.innerHTML = docLinkHtml;\n",
              "          element.appendChild(docLink);\n",
              "        }\n",
              "      </script>\n",
              "    </div>\n",
              "  </div>\n",
              "  "
            ]
          },
          "metadata": {},
          "execution_count": 11
        }
      ],
      "source": [
        "# Analisa deskriptif\n",
        "df.describe()"
      ]
    },
    {
      "cell_type": "markdown",
      "metadata": {
        "id": "hthyjOSnSWQa"
      },
      "source": [
        "Dari variabel tenure, pelanggan yang paling loyal adalah 72 bulan, dan rata-rata pelanggan berlangganan adalah 32 bulan. Sedangkan pada variabel monthly charge, tagihan tertinggi di angka 118 usd, dan rata-rata tagihan adalah 64 usd."
      ]
    },
    {
      "cell_type": "code",
      "execution_count": null,
      "metadata": {
        "id": "EraYBAtyVXQm",
        "colab": {
          "base_uri": "https://localhost:8080/",
          "height": 279
        },
        "outputId": "51350569-e85f-4753-b820-92fd0f358ecf"
      },
      "outputs": [
        {
          "output_type": "display_data",
          "data": {
            "text/plain": [
              "<Figure size 432x288 with 1 Axes>"
            ],
            "image/png": "[encoded data removed]"
          },
          "metadata": {
            "needs_background": "light"
          }
        }
      ],
      "source": [
        "# Buat Crosstab antara Churn dengan Gender\n",
        "gender_churn = pd.crosstab(df['Churn'], (df['gender']))\n",
        "\n",
        "# Buat hasil crosstab menjadi dataframe\n",
        "stacked = gender_churn.stack().reset_index().rename(columns={0:'Count'})\n",
        "sns.barplot(x=stacked.Churn, y=stacked.Count, hue=stacked.gender)\n",
        "plt.show()"
      ]
    },
    {
      "cell_type": "markdown",
      "metadata": {
        "id": "A2LaPh6tVfAQ"
      },
      "source": [
        "Tidak dapat perbedaan yang signifikan dalam hal ini."
      ]
    },
    {
      "cell_type": "code",
      "execution_count": null,
      "metadata": {
        "id": "Cq_RijJhVzXQ",
        "colab": {
          "base_uri": "https://localhost:8080/",
          "height": 279
        },
        "outputId": "271d682b-9ba1-4845-da6c-8be1157f01f1"
      },
      "outputs": [
        {
          "output_type": "display_data",
          "data": {
            "text/plain": [
              "<Figure size 432x288 with 1 Axes>"
            ],
            "image/png": "[encoded data removed]"
          },
          "metadata": {
            "needs_background": "light"
          }
        }
      ],
      "source": [
        "# Buat Crosstab antara Churn dengan Partner\n",
        "married_churn = pd.crosstab(df['Churn'], (df['Partner']))\n",
        "\n",
        "# Buat hasil crosstab menjadi dataframe\n",
        "stacked = married_churn.stack().reset_index().rename(columns={0:'Count'})\n",
        "sns.barplot(x=stacked.Churn, y=stacked.Count, hue=stacked.Partner)\n",
        "plt.show()"
      ]
    },
    {
      "cell_type": "markdown",
      "metadata": {
        "id": "bMXlsqbTU-S8"
      },
      "source": [
        "Jika dilihat dari barplot crosstab tersebut, pelanggan yang menikah cenderung tidak berhenti berlangganan, sedangkan pelanggan yang tidak menikah cenderung berhenti berlangganan."
      ]
    },
    {
      "cell_type": "code",
      "execution_count": null,
      "metadata": {
        "id": "y7KuZ4ePV0w3",
        "colab": {
          "base_uri": "https://localhost:8080/",
          "height": 279
        },
        "outputId": "fe45baa7-c6ee-42b2-9bb4-078f55686dca"
      },
      "outputs": [
        {
          "output_type": "display_data",
          "data": {
            "text/plain": [
              "<Figure size 432x288 with 1 Axes>"
            ],
            "image/png": "[encoded data removed]"
          },
          "metadata": {
            "needs_background": "light"
          }
        }
      ],
      "source": [
        "# Buat Crosstab antara Churn dengan PhoneService\n",
        "ps_churn = pd.crosstab(df['Churn'], (df['PhoneService']))\n",
        "\n",
        "# Buat hasil crosstab menjadi dataframe\n",
        "stacked = ps_churn.stack().reset_index().rename(columns={0:'Count'})\n",
        "sns.barplot(x=stacked.Churn, y=stacked.Count, hue=stacked.PhoneService)\n",
        "plt.show()"
      ]
    },
    {
      "cell_type": "markdown",
      "metadata": {
        "id": "IlzTs9SHWFsw"
      },
      "source": [
        "Pelanggan yang rumahnya terdapat layanan telfon, sebagian besar tidak berhenti berlangganan, tetapi tidak kecil juga pelanggan yang berhenti berlangganan dengan status phone service Yes. Secara keseluruhan, pelanggan dengan layanan telfon dirumahnya cenderung tidak berhenti berlangganan."
      ]
    },
    {
      "cell_type": "code",
      "execution_count": null,
      "metadata": {
        "id": "ObIfuCV_V3aE",
        "colab": {
          "base_uri": "https://localhost:8080/",
          "height": 279
        },
        "outputId": "7a50a245-6956-4e0d-b81e-adf39e77ae6a"
      },
      "outputs": [
        {
          "output_type": "display_data",
          "data": {
            "text/plain": [
              "<Figure size 432x288 with 1 Axes>"
            ],
            "image/png": "[encoded data removed]"
          },
          "metadata": {
            "needs_background": "light"
          }
        }
      ],
      "source": [
        "# Buat Crosstab antara Churn dengan PaperlessBilling\n",
        "pb_churn = pd.crosstab(df['Churn'], (df['PaperlessBilling']))\n",
        "\n",
        "# Buat hasil crosstab menjadi dataframe\n",
        "stacked = pb_churn.stack().reset_index().rename(columns={0:'Count'})\n",
        "sns.barplot(x=stacked.Churn, y=stacked.Count, hue=stacked.PaperlessBilling)\n",
        "plt.show()"
      ]
    },
    {
      "cell_type": "code",
      "execution_count": null,
      "metadata": {
        "id": "eLvzPdeLWjn6",
        "colab": {
          "base_uri": "https://localhost:8080/",
          "height": 296
        },
        "outputId": "e45cc2eb-ebc9-46e9-f8a1-06152e05df4c"
      },
      "outputs": [
        {
          "output_type": "execute_result",
          "data": {
            "text/plain": [
              "<matplotlib.axes._subplots.AxesSubplot at 0x7f6121edbca0>"
            ]
          },
          "metadata": {},
          "execution_count": 16
        },
        {
          "output_type": "display_data",
          "data": {
            "text/plain": [
              "<Figure size 432x288 with 1 Axes>"
            ],
            "image/png": "[encoded data removed]"
          },
          "metadata": {
            "needs_background": "light"
          }
        }
      ],
      "source": [
        "# Boxplot Tenure dengan Churn\n",
        "sns.boxplot(x=\"Churn\", y=\"tenure\", data=df)"
      ]
    },
    {
      "cell_type": "markdown",
      "metadata": {
        "id": "RHHAFmtAXqjU"
      },
      "source": [
        "Gambar boxplot tersebut menunjukkan bahwa pelanggan yang berhenti berlangganan mempunyai rata-rata tenure lebih kecil dibandingkan yang tidak berlangganan. Rata-rata pelanggan yang berhenti berlangganan adalah 10 bulan setelah pemakaian pertamanya. Tetapi terdapat juga nilai anomali yaitu pelanggan yang telah berlangganan 70 bulan, namun tetap saja berhenti berlangganan."
      ]
    },
    {
      "cell_type": "code",
      "execution_count": null,
      "metadata": {
        "id": "ljwuUWnIW2uo",
        "colab": {
          "base_uri": "https://localhost:8080/",
          "height": 296
        },
        "outputId": "0ab6ff5a-09f3-45ac-88c8-7098849e7f06"
      },
      "outputs": [
        {
          "output_type": "execute_result",
          "data": {
            "text/plain": [
              "<matplotlib.axes._subplots.AxesSubplot at 0x7f6121e59640>"
            ]
          },
          "metadata": {},
          "execution_count": 17
        },
        {
          "output_type": "display_data",
          "data": {
            "text/plain": [
              "<Figure size 432x288 with 1 Axes>"
            ],
            "image/png": "[encoded data removed]"
          },
          "metadata": {
            "needs_background": "light"
          }
        }
      ],
      "source": [
        "# Boxplot Tenure dengan Churn\n",
        "sns.boxplot(x=\"Churn\", y=\"MonthlyCharges\", data=df)"
      ]
    },
    {
      "cell_type": "markdown",
      "metadata": {
        "id": "TI8fY0BuYIXc"
      },
      "source": [
        "Gambar boxplot tersebut menunjukkan bahwa semakin tinggi biaya tagihan maka pelanggan mempunyai kecenderungan untuk berhenti berlangganan."
      ]
    },
    {
      "cell_type": "markdown",
      "metadata": {
        "id": "3uiRRIhMYypx"
      },
      "source": [
        "## 3 Preprocessing"
      ]
    },
    {
      "cell_type": "markdown",
      "metadata": {
        "id": "3GLVkK3-Y6-Z"
      },
      "source": [
        "Label Encoder"
      ]
    },
    {
      "cell_type": "code",
      "execution_count": null,
      "metadata": {
        "id": "fBLQzCPLYx_h",
        "colab": {
          "base_uri": "https://localhost:8080/",
          "height": 206
        },
        "outputId": "f66e718b-323d-4a2c-9873-835daf3371ee"
      },
      "outputs": [
        {
          "output_type": "execute_result",
          "data": {
            "text/plain": [
              "   gender Partner PhoneService PaperlessBilling Churn\n",
              "0  Female     Yes           No              Yes    No\n",
              "1    Male      No          Yes               No    No\n",
              "2    Male      No          Yes              Yes   Yes\n",
              "3    Male      No           No               No    No\n",
              "4  Female      No          Yes              Yes   Yes"
            ],
            "text/html": [
              "\n",
              "  <div id=\"df-f79f33f5-e266-4417-8902-3fbf77988c30\">\n",
              "    <div class=\"colab-df-container\">\n",
              "      <div>\n",
              "<style scoped>\n",
              "    .dataframe tbody tr th:only-of-type {\n",
              "        vertical-align: middle;\n",
              "    }\n",
              "\n",
              "    .dataframe tbody tr th {\n",
              "        vertical-align: top;\n",
              "    }\n",
              "\n",
              "    .dataframe thead th {\n",
              "        text-align: right;\n",
              "    }\n",
              "</style>\n",
              "<table border=\"1\" class=\"dataframe\">\n",
              "  <thead>\n",
              "    <tr style=\"text-align: right;\">\n",
              "      <th></th>\n",
              "      <th>gender</th>\n",
              "      <th>Partner</th>\n",
              "      <th>PhoneService</th>\n",
              "      <th>PaperlessBilling</th>\n",
              "      <th>Churn</th>\n",
              "    </tr>\n",
              "  </thead>\n",
              "  <tbody>\n",
              "    <tr>\n",
              "      <th>0</th>\n",
              "      <td>Female</td>\n",
              "      <td>Yes</td>\n",
              "      <td>No</td>\n",
              "      <td>Yes</td>\n",
              "      <td>No</td>\n",
              "    </tr>\n",
              "    <tr>\n",
              "      <th>1</th>\n",
              "      <td>Male</td>\n",
              "      <td>No</td>\n",
              "      <td>Yes</td>\n",
              "      <td>No</td>\n",
              "      <td>No</td>\n",
              "    </tr>\n",
              "    <tr>\n",
              "      <th>2</th>\n",
              "      <td>Male</td>\n",
              "      <td>No</td>\n",
              "      <td>Yes</td>\n",
              "      <td>Yes</td>\n",
              "      <td>Yes</td>\n",
              "    </tr>\n",
              "    <tr>\n",
              "      <th>3</th>\n",
              "      <td>Male</td>\n",
              "      <td>No</td>\n",
              "      <td>No</td>\n",
              "      <td>No</td>\n",
              "      <td>No</td>\n",
              "    </tr>\n",
              "    <tr>\n",
              "      <th>4</th>\n",
              "      <td>Female</td>\n",
              "      <td>No</td>\n",
              "      <td>Yes</td>\n",
              "      <td>Yes</td>\n",
              "      <td>Yes</td>\n",
              "    </tr>\n",
              "  </tbody>\n",
              "</table>\n",
              "</div>\n",
              "      <button class=\"colab-df-convert\" onclick=\"convertToInteractive('df-f79f33f5-e266-4417-8902-3fbf77988c30')\"\n",
              "              title=\"Convert this dataframe to an interactive table.\"\n",
              "              style=\"display:none;\">\n",
              "        \n",
              "  <svg xmlns=\"http://www.w3.org/2000/svg\" height=\"24px\"viewBox=\"0 0 24 24\"\n",
              "       width=\"24px\">\n",
              "    <path d=\"M0 0h24v24H0V0z\" fill=\"none\"/>\n",
              "    <path d=\"M18.56 5.44l.94 2.06.94-2.06 2.06-.94-2.06-.94-.94-2.06-.94 2.06-2.06.94zm-11 1L8.5 8.5l.94-2.06 2.06-.94-2.06-.94L8.5 2.5l-.94 2.06-2.06.94zm10 10l.94 2.06.94-2.06 2.06-.94-2.06-.94-.94-2.06-.94 2.06-2.06.94z\"/><path d=\"M17.41 7.96l-1.37-1.37c-.4-.4-.92-.59-1.43-.59-.52 0-1.04.2-1.43.59L10.3 9.45l-7.72 7.72c-.78.78-.78 2.05 0 2.83L4 21.41c.39.39.9.59 1.41.59.51 0 1.02-.2 1.41-.59l7.78-7.78 2.81-2.81c.8-.78.8-2.07 0-2.86zM5.41 20L4 18.59l7.72-7.72 1.47 1.35L5.41 20z\"/>\n",
              "  </svg>\n",
              "      </button>\n",
              "      \n",
              "  <style>\n",
              "    .colab-df-container {\n",
              "      display:flex;\n",
              "      flex-wrap:wrap;\n",
              "      gap: 12px;\n",
              "    }\n",
              "\n",
              "    .colab-df-convert {\n",
              "      background-color: #E8F0FE;\n",
              "      border: none;\n",
              "      border-radius: 50%;\n",
              "      cursor: pointer;\n",
              "      display: none;\n",
              "      fill: #1967D2;\n",
              "      height: 32px;\n",
              "      padding: 0 0 0 0;\n",
              "      width: 32px;\n",
              "    }\n",
              "\n",
              "    .colab-df-convert:hover {\n",
              "      background-color: #E2EBFA;\n",
              "      box-shadow: 0px 1px 2px rgba(60, 64, 67, 0.3), 0px 1px 3px 1px rgba(60, 64, 67, 0.15);\n",
              "      fill: #174EA6;\n",
              "    }\n",
              "\n",
              "    [theme=dark] .colab-df-convert {\n",
              "      background-color: #3B4455;\n",
              "      fill: #D2E3FC;\n",
              "    }\n",
              "\n",
              "    [theme=dark] .colab-df-convert:hover {\n",
              "      background-color: #434B5C;\n",
              "      box-shadow: 0px 1px 3px 1px rgba(0, 0, 0, 0.15);\n",
              "      filter: drop-shadow(0px 1px 2px rgba(0, 0, 0, 0.3));\n",
              "      fill: #FFFFFF;\n",
              "    }\n",
              "  </style>\n",
              "\n",
              "      <script>\n",
              "        const buttonEl =\n",
              "          document.querySelector('#df-f79f33f5-e266-4417-8902-3fbf77988c30 button.colab-df-convert');\n",
              "        buttonEl.style.display =\n",
              "          google.colab.kernel.accessAllowed ? 'block' : 'none';\n",
              "\n",
              "        async function convertToInteractive(key) {\n",
              "          const element = document.querySelector('#df-f79f33f5-e266-4417-8902-3fbf77988c30');\n",
              "          const dataTable =\n",
              "            await google.colab.kernel.invokeFunction('convertToInteractive',\n",
              "                                                     [key], {});\n",
              "          if (!dataTable) return;\n",
              "\n",
              "          const docLinkHtml = 'Like what you see? Visit the ' +\n",
              "            '<a target=\"_blank\" href=https://colab.research.google.com/notebooks/data_table.ipynb>data table notebook</a>'\n",
              "            + ' to learn more about interactive tables.';\n",
              "          element.innerHTML = '';\n",
              "          dataTable['output_type'] = 'display_data';\n",
              "          await google.colab.output.renderOutput(dataTable, element);\n",
              "          const docLink = document.createElement('div');\n",
              "          docLink.innerHTML = docLinkHtml;\n",
              "          element.appendChild(docLink);\n",
              "        }\n",
              "      </script>\n",
              "    </div>\n",
              "  </div>\n",
              "  "
            ]
          },
          "metadata": {},
          "execution_count": 18
        }
      ],
      "source": [
        "kategori = ['gender','Partner','PhoneService','PaperlessBilling','Churn']\n",
        "df_cat = df[kategori]\n",
        "df_cat.head()"
      ]
    },
    {
      "cell_type": "code",
      "execution_count": null,
      "metadata": {
        "id": "ybO5KehqZMz9",
        "colab": {
          "base_uri": "https://localhost:8080/",
          "height": 206
        },
        "outputId": "b889ebda-9c75-40bb-f1ef-fd6d0a83fcb8"
      },
      "outputs": [
        {
          "output_type": "execute_result",
          "data": {
            "text/plain": [
              "   gender  Partner  tenure  PhoneService  PaperlessBilling  MonthlyCharges  \\\n",
              "0       0        1       1             0                 1           29.85   \n",
              "1       1        0      34             1                 0           56.95   \n",
              "2       1        0       2             1                 1           53.85   \n",
              "3       1        0      45             0                 0           42.30   \n",
              "4       0        0       2             1                 1           70.70   \n",
              "\n",
              "   Churn  \n",
              "0      0  \n",
              "1      0  \n",
              "2      1  \n",
              "3      0  \n",
              "4      1  "
            ],
            "text/html": [
              "\n",
              "  <div id=\"df-932a0fd7-76b5-4b3e-afaa-6919b077ad5c\">\n",
              "    <div class=\"colab-df-container\">\n",
              "      <div>\n",
              "<style scoped>\n",
              "    .dataframe tbody tr th:only-of-type {\n",
              "        vertical-align: middle;\n",
              "    }\n",
              "\n",
              "    .dataframe tbody tr th {\n",
              "        vertical-align: top;\n",
              "    }\n",
              "\n",
              "    .dataframe thead th {\n",
              "        text-align: right;\n",
              "    }\n",
              "</style>\n",
              "<table border=\"1\" class=\"dataframe\">\n",
              "  <thead>\n",
              "    <tr style=\"text-align: right;\">\n",
              "      <th></th>\n",
              "      <th>gender</th>\n",
              "      <th>Partner</th>\n",
              "      <th>tenure</th>\n",
              "      <th>PhoneService</th>\n",
              "      <th>PaperlessBilling</th>\n",
              "      <th>MonthlyCharges</th>\n",
              "      <th>Churn</th>\n",
              "    </tr>\n",
              "  </thead>\n",
              "  <tbody>\n",
              "    <tr>\n",
              "      <th>0</th>\n",
              "      <td>0</td>\n",
              "      <td>1</td>\n",
              "      <td>1</td>\n",
              "      <td>0</td>\n",
              "      <td>1</td>\n",
              "      <td>29.85</td>\n",
              "      <td>0</td>\n",
              "    </tr>\n",
              "    <tr>\n",
              "      <th>1</th>\n",
              "      <td>1</td>\n",
              "      <td>0</td>\n",
              "      <td>34</td>\n",
              "      <td>1</td>\n",
              "      <td>0</td>\n",
              "      <td>56.95</td>\n",
              "      <td>0</td>\n",
              "    </tr>\n",
              "    <tr>\n",
              "      <th>2</th>\n",
              "      <td>1</td>\n",
              "      <td>0</td>\n",
              "      <td>2</td>\n",
              "      <td>1</td>\n",
              "      <td>1</td>\n",
              "      <td>53.85</td>\n",
              "      <td>1</td>\n",
              "    </tr>\n",
              "    <tr>\n",
              "      <th>3</th>\n",
              "      <td>1</td>\n",
              "      <td>0</td>\n",
              "      <td>45</td>\n",
              "      <td>0</td>\n",
              "      <td>0</td>\n",
              "      <td>42.30</td>\n",
              "      <td>0</td>\n",
              "    </tr>\n",
              "    <tr>\n",
              "      <th>4</th>\n",
              "      <td>0</td>\n",
              "      <td>0</td>\n",
              "      <td>2</td>\n",
              "      <td>1</td>\n",
              "      <td>1</td>\n",
              "      <td>70.70</td>\n",
              "      <td>1</td>\n",
              "    </tr>\n",
              "  </tbody>\n",
              "</table>\n",
              "</div>\n",
              "      <button class=\"colab-df-convert\" onclick=\"convertToInteractive('df-932a0fd7-76b5-4b3e-afaa-6919b077ad5c')\"\n",
              "              title=\"Convert this dataframe to an interactive table.\"\n",
              "              style=\"display:none;\">\n",
              "        \n",
              "  <svg xmlns=\"http://www.w3.org/2000/svg\" height=\"24px\"viewBox=\"0 0 24 24\"\n",
              "       width=\"24px\">\n",
              "    <path d=\"M0 0h24v24H0V0z\" fill=\"none\"/>\n",
              "    <path d=\"M18.56 5.44l.94 2.06.94-2.06 2.06-.94-2.06-.94-.94-2.06-.94 2.06-2.06.94zm-11 1L8.5 8.5l.94-2.06 2.06-.94-2.06-.94L8.5 2.5l-.94 2.06-2.06.94zm10 10l.94 2.06.94-2.06 2.06-.94-2.06-.94-.94-2.06-.94 2.06-2.06.94z\"/><path d=\"M17.41 7.96l-1.37-1.37c-.4-.4-.92-.59-1.43-.59-.52 0-1.04.2-1.43.59L10.3 9.45l-7.72 7.72c-.78.78-.78 2.05 0 2.83L4 21.41c.39.39.9.59 1.41.59.51 0 1.02-.2 1.41-.59l7.78-7.78 2.81-2.81c.8-.78.8-2.07 0-2.86zM5.41 20L4 18.59l7.72-7.72 1.47 1.35L5.41 20z\"/>\n",
              "  </svg>\n",
              "      </button>\n",
              "      \n",
              "  <style>\n",
              "    .colab-df-container {\n",
              "      display:flex;\n",
              "      flex-wrap:wrap;\n",
              "      gap: 12px;\n",
              "    }\n",
              "\n",
              "    .colab-df-convert {\n",
              "      background-color: #E8F0FE;\n",
              "      border: none;\n",
              "      border-radius: 50%;\n",
              "      cursor: pointer;\n",
              "      display: none;\n",
              "      fill: #1967D2;\n",
              "      height: 32px;\n",
              "      padding: 0 0 0 0;\n",
              "      width: 32px;\n",
              "    }\n",
              "\n",
              "    .colab-df-convert:hover {\n",
              "      background-color: #E2EBFA;\n",
              "      box-shadow: 0px 1px 2px rgba(60, 64, 67, 0.3), 0px 1px 3px 1px rgba(60, 64, 67, 0.15);\n",
              "      fill: #174EA6;\n",
              "    }\n",
              "\n",
              "    [theme=dark] .colab-df-convert {\n",
              "      background-color: #3B4455;\n",
              "      fill: #D2E3FC;\n",
              "    }\n",
              "\n",
              "    [theme=dark] .colab-df-convert:hover {\n",
              "      background-color: #434B5C;\n",
              "      box-shadow: 0px 1px 3px 1px rgba(0, 0, 0, 0.15);\n",
              "      filter: drop-shadow(0px 1px 2px rgba(0, 0, 0, 0.3));\n",
              "      fill: #FFFFFF;\n",
              "    }\n",
              "  </style>\n",
              "\n",
              "      <script>\n",
              "        const buttonEl =\n",
              "          document.querySelector('#df-932a0fd7-76b5-4b3e-afaa-6919b077ad5c button.colab-df-convert');\n",
              "        buttonEl.style.display =\n",
              "          google.colab.kernel.accessAllowed ? 'block' : 'none';\n",
              "\n",
              "        async function convertToInteractive(key) {\n",
              "          const element = document.querySelector('#df-932a0fd7-76b5-4b3e-afaa-6919b077ad5c');\n",
              "          const dataTable =\n",
              "            await google.colab.kernel.invokeFunction('convertToInteractive',\n",
              "                                                     [key], {});\n",
              "          if (!dataTable) return;\n",
              "\n",
              "          const docLinkHtml = 'Like what you see? Visit the ' +\n",
              "            '<a target=\"_blank\" href=https://colab.research.google.com/notebooks/data_table.ipynb>data table notebook</a>'\n",
              "            + ' to learn more about interactive tables.';\n",
              "          element.innerHTML = '';\n",
              "          dataTable['output_type'] = 'display_data';\n",
              "          await google.colab.output.renderOutput(dataTable, element);\n",
              "          const docLink = document.createElement('div');\n",
              "          docLink.innerHTML = docLinkHtml;\n",
              "          element.appendChild(docLink);\n",
              "        }\n",
              "      </script>\n",
              "    </div>\n",
              "  </div>\n",
              "  "
            ]
          },
          "metadata": {},
          "execution_count": 19
        }
      ],
      "source": [
        "# Ubah kedalam bentuk numerik\n",
        "encoded_data = LabelEncoder()\n",
        "\n",
        "for feature in kategori:\n",
        "        if feature in df.columns.values:\n",
        "            df[feature] = encoded_data.fit_transform(df[feature])\n",
        "\n",
        "df.head()"
      ]
    },
    {
      "cell_type": "markdown",
      "metadata": {
        "id": "lcWQDmY-cbrz"
      },
      "source": [
        "Variabel kategori harus dikoding ulang menjadi sebuah integer numerik supaya dapat dimodelkan kedalam model regresi logistik."
      ]
    },
    {
      "cell_type": "code",
      "execution_count": null,
      "metadata": {
        "id": "ykGGQi2mYVHT",
        "colab": {
          "base_uri": "https://localhost:8080/",
          "height": 458
        },
        "outputId": "17f9d54d-7fe5-4685-d298-9b7842a3b718"
      },
      "outputs": [
        {
          "output_type": "display_data",
          "data": {
            "text/plain": [
              "<Figure size 1080x576 with 2 Axes>"
            ],
            "image/png": "[encoded data removed]"
          },
          "metadata": {
            "needs_background": "light"
          }
        }
      ],
      "source": [
        "# Cek korelasi, mengasumsikan bahwa data bertime interval-rasio\n",
        "# Melakukan perhitungan nilai korelasi dengan mengasumsikan data adalah data interval.\n",
        "sns.heatmap(df.corr(),linewidths=.5,annot=True,cmap='RdYlGn')\n",
        "fig=plt.gcf()\n",
        "fig.set_size_inches(15,8)\n",
        "plt.show()"
      ]
    },
    {
      "cell_type": "markdown",
      "metadata": {
        "id": "nxGKOq7gcmke"
      },
      "source": [
        "JIka dilihat berdasarkan matriks korelasinya, nilai tertinggi berada diangka lebih dari absolute 0.3, hal tersebut menurut teori, secara umum sudah cukup dikatakan berkorelasi kuat."
      ]
    },
    {
      "cell_type": "markdown",
      "metadata": {
        "id": "qbMypfxnZc9N"
      },
      "source": [
        "## 5. Membangun Model Klasifikasi"
      ]
    },
    {
      "cell_type": "markdown",
      "metadata": {
        "id": "ry2zNqvBZh0J"
      },
      "source": [
        "MEMBAGI TRAIN TEST DATA"
      ]
    },
    {
      "cell_type": "code",
      "execution_count": null,
      "metadata": {
        "id": "QcMC2mQcZhA1",
        "colab": {
          "base_uri": "https://localhost:8080/"
        },
        "outputId": "da5d9f3d-ce60-4936-df60-b9c85852f785"
      },
      "outputs": [
        {
          "output_type": "stream",
          "name": "stdout",
          "text": [
            "X Train :  4930\n",
            "y Train :  4930\n",
            "X Test :  2113\n",
            "t Test :  2113\n"
          ]
        }
      ],
      "source": [
        "X = df.drop('Churn', axis=1)\n",
        "y = df['Churn']\n",
        "\n",
        "X_train, X_test, y_train, y_test = train_test_split(X, y, test_size=0.3, random_state=42)\n",
        "\n",
        "print(\"X Train : \", len(X_train))\n",
        "print(\"y Train : \", len(y_train))\n",
        "print(\"X Test : \", len(X_test))\n",
        "print(\"t Test : \", len(y_test))"
      ]
    },
    {
      "cell_type": "markdown",
      "metadata": {
        "id": "aei2CQXmcyiK"
      },
      "source": [
        "Menggunakan data testing berjumlah 30persen dari total data, dan data training berjumlah 70persen dari total data."
      ]
    },
    {
      "cell_type": "markdown",
      "metadata": {
        "id": "GSCqhlxmb778"
      },
      "source": [
        "### Decision Tree"
      ]
    },
    {
      "cell_type": "markdown",
      "source": [
        "![decision-tree-classification-algorithm.png](data:image/png;base64,iVBORw0KGgoAAAANSUhEUgAAAlgAAAGQCAMAAABF6+6qAAABR1BMVEUAAAD/rq602Oew5XwAAAB/f3+Hoq3X8r2AV1fZ6/P/1ta/g4NALCwQDQ1abHT/6+tAQEDvo6O/v78LDgyErF3/4eGpy9n/uLgtNjqoBAT/8PD/29vGBgbv7+8wISEgFhb/wsKevcqSsLzfmJjpwMDPjY2fbW3/0tL/s7PUREQiKStYcz7f39//9fX/x8f/vb1PX2VgQUE4REhleoIXGx1wTExQNjbigoL77+9EUVefn5//zMx8lZ/Pz8//+vpQUFBxh5Cl13RgYGCOYmJwcHDTgYGveHggICAsOR/KFhbxwcH34OC+Q0Py0NAwMDDpsbH3+/yPj4+ayG2PumWvr68hKxfYVFRNZDbNJSWtFBTbZGQ3SCe0JiZjgUYWHRDM5O+93ep5nFVCVi/fc3PRNTVuj07eoaHmkpLLaWnj8PbDU1Pr+N6ow44iNQ06AAAAAXRSTlMAQObYZgAAHA5JREFUeNrsnVFro0AQxxccuaeCjftoPkCx70qhFEshasiFao0SUYhJ6MPd93++Gbcm28bc0WsC8W5+tMnfmXGffuxSG4hgGIZhGOZ/5Me3y+KHYP4JvhmXxTfB/BOwWAzBYjHDgMViCBaLGQYsFkOwWMwwYLEYgsVihgGLxRAsFjMMWCyGYLH2PNwK5mLpESuRUiZGP0G6z9I4SvC2QNIzk+cnEusZzPFhdRbHM/FHprGvpntm12vBnEEsFwjbDYweStiZVUFlHENCHai1DntheCKxxlcwuftY9Bwk8o4KtRtbCOLmRuh0NeYsYuFL6kLWZ9a23FXTMP2NWHZ+drGECXCglucI4S+da9HL4qYbi5w5i3XA+cUiN3Ljr5HQgDy3WLRlIRNz/F4spFgIot8ZNbaMfBbrgHOLRTQ2GZKB7dJVWtpQr4xtSBM2ZOnbjrXCgTLBfhg0NpRBJ5ass24tamSVoYbrqhUrKQGa4ItiiSdQPL7oYnVuzDdOtJgKLd1EEXbU2NRZd4P+MnI2r2+DxWtbmy4cZ+kL5vRirSBFQVy5JbNSO1vJbdo2K9hKNyF5aNiVq8ymq4xGw51YeKtaK6BbXchpxZKGQ6pRCr8q1i10TJ7uNbFmzjUlL55voqmWvKLwvG7Mc2Illh9t5rFHns2dBQ22NUq8dZ1DLBIna6hg4/mV7ZthuOsHaA9p0pCCbTvZ9UrMNJ7bwVunDmkYQqzV7VD6RbHEI4Dm1su4lchbRyiJ73iCBFlqST8KhV8UqrCOfLWHiYLavkO1AlPszARzDrHQGyllBWkC233TBTd5k2erRGpqulK1nViJHbbjdUMVXKFdRHmZlRKB6u/FGo9Gd6ZpgcbkrhXr5ibaoBDXKAqyLLSki0X7k9cWiiVVps41/nTn6GYRI86rYE4tFr1LUEgURWvmALmSx4WueiiWUcGK+u1WRm9Y7MQChftZse5HL6b5aFlXcMCVOe6M8TeFCup6lz6IJRbRlAroF4HnpRNTaGsKTzAnF6sulR9ECiu9GbhQtc0KArrO7T6xjKyucNzO21ug0sVyP/FX4e1o9Gw+WdYEdL5bD6b5DB1PY82YOZ5hr44vkHWkpQ9iTaPlAgt0cNIJ+KqJxUqdTawGZCcFYpfvrcvCVp4UKpKmLnvFSqHB8bIm+SpIDbuhYTvEWnZcLP2oe7C+g87Esp7M59HoViheQGHdC80YkkTM8BdTsdDSB7FQuSUWFoVPGWWMljQYUW0jmJOLJaV0a9hSJnGClIIbGEnSirVKjNTOlTyhLY2gtNNesXAaKDeBsSKpcqhwuA5Vrf9/Qj8Pj7ory3o0zZfR/bHnDVfPlHVjNiRRFAt/Ec30tIx8bQw7DkoU03OFOUm1dl5xsOhqIhbM6cSqAAnzxCByQPIubFuxMuoHSp6gwYsaQ69YQQ34uqppjQAvSwpuiLWtjbFv23LfHXV3o9FY/IYJINat+CjWOvLp+bvjFOiGluLIKXSxZiSWmBfYX/sCpaLgUe06wsjb1vk+3RBIGahEQZHKRB9IjT+Rdrcm+zslxh5W6qj7xHMs82jbj2d6UmEqepjFvgrTfT/GyPyPH5sR4g7g6l4wl8igxXqE72PBXCSDFmvywF5dKkMW6/ZRMJfKkMXi7eqCGbJYzAXDYjEEi8UMAxaLIVgsZhiwWAzBYjHDgMViCBaLGQb8zRTMJWOCKRiGxWKGAYvFECwWMwxYrF/s2DGKhFAQRdEKylAQc3fgCgQRRDATGtz/WsZPyyjMMFQFDU/mnqgjkf6XshQFYeEZCAsFYeEZCAsFYeEZCAsFYeEZCAsFYeEZCAsFYeEZCAsFYeHQVvIabyophsg4QJYhEJbaOJBHWCwwH0FYhPVGWBGElUZYEYSVRlgRhJVGWBGElUZYEYSVRlgRhJVGWBGElUZYEYSVRlgRhJVGWBGElUZYEYSVRlgRhJVGWBGElUZYEYSVRlgRhJVGWBGElUZYEYSVRlgRhJVGWBGElfZ/wmr9xi6VXxq7NH65Z+A3bfbyV1iZy3/+7m00bYT1zLB231pTJhyWErlH4VC7T53pIqxnhmVd5b4Jl0VYf+n6H2H1Moc51oJljVdYYttgb0qaaehuYXXD1JiMo6zJxLTrMt7DGpdVYxds68GEdKvX836Gtc+1r0ozYnTXOLWbl/v26t9h9a/N/WUSVrFlZvTDusw+L6sfROb6qfLN1Ex+mAb3ofxSmamj10oj4VD5jVj11tVipb/v6SJznIvPJmbzb3rzYVZL/bD7zW4aGpk7+eVLp+BG08sNrEPj32Reddy13gqL2U9601RT7yeh01T8rNbX/lbL/E3iFj8tpkIxLKs0N/cvds3YxUEYisOPgG5CuaGQwaHXjB06yo0HmVTsGgi0k4j//x9wDdcGK73DFMRfzfuG8qSlw8f3QIO45BnWnTtqWHmGpgmdBG4TIcOiBE0TOnmGtomYYeUZmCZ4ErRNxAyLEjBN8OQZb+IUDkhPzm/BNx/OTPPEmsI48CZO4gPv0B2cDcyhOzaomj5Qg/+Cev1pNk5nsTDnE3nW/7QTC6eLWJzLb1nIYa12/WZjcWGOMzmAw1rv+s2GgICuIIe13vUbwGFNDYsthcBhcVjvgICArnBYAZbwj2UEBOTgsKZYgvYUhTIO6xVPjdYNDalaGqDuRKyMwwr3VFtTVfIhJakfru5ErIzDCvfU24KoKJ6F5VFSxa1ss+GwwsLyFXFY/8B3oi+EZarhnVVd1S6svZV2Pw6ra1ujidx3DdFtiEUZhxUalpZ9SQ6p7wlJaxvVy/0orKoznSJtWqXd9W2IRBmHFRoWaSmrehRW4Toy47DcZyFbN/Z+iEQZhxUcFpXamPohLDdRK+tSXyl9WJaIGtkopTrjh0iUzRfWLk3TnXjO9lN4UvEn29sf7J785nhc8IC0/GHfjFVbiYEoaobxlGoEQilXpFK1SCqysMU2r7KN64A/4P3/F7wdyVZsvHmBBK+1G90iGWlGAl8Od4Njv5/uwOLysB91yGDtY74l5aKC9TOwBLKkUDAhh5ksjx4+E2FQ6a77ntbPA4txuQfr+HI4d2/Bykd+Vcg/ECwAMALtFFmDy7tGG/hMhLIFKACsu7dl+In2/peffxGs/XlvAqzDyzFu5WLashkSfk1gMRstfFuEHVIJYN0wdWCc/jBIr5vXUwQrvqsw7t2BxT/fx3q3y8WkZXMk/LrAgk7yK7YoBa+Mkxh6GDRPSLTmnFj9OOAazi/VSXTqYhQFe7mLG9ZDGg4+GtU4xE7N6tLb6WUUh9VurE6HCNbxFPcmwXrb84HjVZFVQMIvF6weDRAKGpgsI21Pg4lNjwOJhuHhYUG9lbyyPKozWIQi3aX4qMCWb3Q8rHmPKz2zS7v87+VYJB1e3746kIusAhJ+uWAxOLaLAQWg7UdT69xXKIAx6RjB2G5yz2ETx1upzp2geRj1uBfikFmQSzcqIOEfZNl2OwdYCgUReTQNDrnJKdWkPgwJpC7wKu1lsBqp43joeGe8IV6SuLSORqFfE1gzJPyyP90gMP8mTCJCumq2iG2CR2AevQMLPPbcRwEsFKkZwcIksSaw5kj4VYAVHGSeDPbXTSXQx6ZHBcBeTIEFNngEkG08gv4aLLG4PxhuVEDCLxasDilCkSTdrYtWRzNMfK0quEmwDHYI4ALD59GA7HiYo93Z9YE1R8IvHCwiEgEHrhkcZbgQCpqU1X0DRrbJDC0JlJNmyig+hVx3CnqGqkU/Dgd93gNaFViPTfgVfILU4yjdNsBqedFeiiEaZbmvkhmqGxeBYBosFdjXPvAdalw6LoQGgEGOpV0TWA9O+BWAdStFpFKVCzDUXA8Y+ErmcrT5OEnUrOVROFvCrwmsGTThUpFvy0xaNmvCV7CKAWvm7xU+NuFX9Sj8nn4vWP/RIiyrYFWwKlgVrKhFWLbdVpcqWIULitAmqoL1dMuqSxWswgVFaBNVwXq6ZdWlClbhgiK0iapgPd2y6lIF6x97Z3DTMBBFQQutuXHhwI0OqIALLdB/NcjykSUmSqLMe5lpYDfzx07iSFk4TwiWHfBjGf/B3LD+xjMXTuDld3e+L5D2/Ha5rohTYrz8/gH/cx8QD2k6zSOFhT1vEm2NAVoRdXPv1I2BQCuibu51UG+lHKizQ2/OsHJnh96cYeXODr05w8qdHXpzhnXIx3hZuBhW7GMZmiLDKvFEU4QXhrQG9ERThBeGtAb0RFOEF4a0BvREU/TrEG0kNGuGVQLNmmGVQLNmWCXQrBlWCTRrhlUCzZphlUCzZlgl0KwBH8vQFGWgNRVtaO0QFSH4HF+LGNbVWce6SPC1B/y2Y1gNigwrFrYiw4qFrciwYmErMqxY2IoMKxa2IsOKha3IsG7taR1x3E3YqMGwDGsnMSzWvfeQa4VV9P55LoZlWDuGNYUYVtrShjWhZrqGZVgbTUsb1oSa6RqWYW00LW1YE2qma1iGtdG0tGFNqJnuA4bV86snwwpu6bzXYVgRS+e9jh92zmDFQSAIor1QuQiiCBJIELxtDkM+QDCCCN4Ewf//lhWMiUuyS2aajd3uvFPIZaye6qIZcbyxVCytT8c/NVaSSN2QJ8gsoTeWfwntjeWN9QyZJfTG8sZ6o47MPBjLZCSY8rEqpTeWPGNRXBXZwlhZUcm+wyNpm3JZlbJpE28sgcbKWoT1cDXWUIdoRQcWUQ90vZmqYvoO6Hm1ZYalQt6ko8RI29SomxYj4mtVYaQqgGL6xWxaVljKu0Dxj3QkCfP7HAUjfBZiQZgxjcULS5U46ADIng53OpLPgAUDsQDcw1L0xV98HXxjJbijIttj3IiJB8AIS+HTKFcHf86vMVOTBgxuGLaxOGGpFgsdHGOZcPauIRU0uNKwwy92DUvdV6va6gDIhZ2ayX2O8tdDXGxY2rC6DsBxo5QNDTubRhAallasrQNw3ChVgTV1gkUjbCIsV9UBuC6jrFY7u0bYRFiuqQNwXUZZrbLQphG2EZYr6OAby2ibRmurs5FthOWKOgDnjVJyhjVjrBphG2G5oo44JkcSHYfurlK3EZYqdUz7FEXRMfjOcfyP5FEUZME2wlKfjkuUBud8//Ez+/wcpNGFVkGY5+NY6pNJCv1DGuSnj1c55Z/pgX5n854vCqlPJiX0IxtPLd0VRPQcbZ7/ot7cVlMHojCcFf4OqTlsJFTFgNZItQQ8W0EqRdjQ6z5Cb33/F9hO1Gy6G13bQycr30VNJ+Pwu+bLEk93d1KT/eVjc18Emw/rIgbRkK5hGA2sL5TSeUBqsoyPT7sYPi8wq9kf0fWM+tx1KN55QGqywr0636xBNKJbMWIqJd15QGqyAxu7ODZndfIh3ZbhyQ4v3HlAarID93Zx3Fv/zUOdbk/9wTqKcOcBqclKJVamlUS1CnEekJqsRGL9Ux9ZahXkPCA1mSyxTrwt03ykn+WxKVArbgMBqclkiXW8ThX6eSrWSSQ6D0hNVg6xmiMywehkmSQ6D0hNVgqxHp7JDM+nertE5wGpycogFnPhmboAJTp/dyc1WQnEeiWTvIp7GsycL2UyuWKxXpkyq1TOi0kmVqyITBMJ3T2i1xImkyrWLzLPLyuXEjkvKJlQsd7qZJ76m5VHeZyXlEyoWH0qgr6VR2mcF5VMplgDyqfr0jGeWvDS2/0Ut0vf8Hp0moHFo503H69/RjKjJaM+K1ZHKdWx86nFdoayj1LbL9DJmTMec58V8pvngI5Q9T3XTSuB36SBQ9+Ac0mRGOcNxRvwyQxnypIxYgXQhEHNzmGKzKwZZvYxFOa13Vr2NxqNPLHyeT5753roUorn+92Lq1Q/oy0YjtfnkxnOlCXjxNIyxAGSPLPW02w0bsQnxArHNxCreXzn2DOe1/Yur1LT4tDOFxGvzicrpmRU58XSKIzti1FYQl0vVsTWorsAJtXt7cRHu0f00obn7avUw/uhIu8t+Itues82Wm465m7HHPbVM+e8+XhNLpnxTFkyXizNMtSGJAiDtD9NQ8xX9rqhZ4RI4n3HWiUIpx3dv2rLEId+pqDmyWEtfSKZ2bvJ81kqVmcKLGucWBVu56r+wn1veUTuxHUXcKnnwXH2VSLPr+6q5MDZTtN9/mV71GvrMVcf+Q73IQXnvPl4EfNj4MhUpvxkvFgrxLZCoNbarDhMVmodpydnWKugo+XRkwO1SkL9X6KnNjKxFILdWjV91wBjveJUT27oMX3UuFqslzbpx/tEKe3Jl75OT5ikVarCSSs6oe7uYtR/WxO9js+9k8xFMx+vwny7oWIqU34yXiwtTrJMG5RtN/5Qb74tjsJAGKfhIRSsAVfIyS4oCu6CcGA1FuT6otDv/50uY+wfWZc58Ajp88LOZsbl2dmfoknaPJJZds9rKEGYjITglC7vuQ7lVN6mes6YjIphj62ZiqqtYOWnyApXG9af++Kw7NJuQERdmp9Oj4WLbp2zZ15RMz3irPm394cFy7+npTMeLA0lpexRlbg8kgqqnOG5OJBGQz+5sTtYZZpN5WakkRKX+ZcQl00nrdBvBQuT6I8+FMfvXUqKnDoyj+0xRzQWwSnaBpZ/e/wdy4OnLXcs+pRwkhLyKdkCrYNHYR5dAUv0OFMeSpCg5iSBBSe19eEd+1tP8sQell2a7uD0THBFQiNDvOhSxC998WD5t8eD5cHTJrBMJ+48VTg/J7VCPyV7aEGkpWtgicb0ttxNPGj0z2Cp/zPdcMqf34bzZZemguKw39XTjT8pTjb6tFFE1fGwYbrhwbx/ex8MWB8ePG15eB8hZyhIabekrskmeCr0BI3pVsGqMNryzhB8PSqRjlScZnas4cEi/frxPxeRkmh6cbYXUmEvvwHfu5TE2Ns4jnbJKa5tI21U58WeCq82XXNTMhzz/u29M2C9+/b079MNUkplcKGYwNEVBUqL0j2Nn0tRpa2DJ0ul0F1arYJlq0HxqMWZoGrR22KTzWNC/ggWv6RDonflGEBub+AxcBryZZdIV+pScgRQRG5ZDPHngS7WAVYDN4nMMO/f3pJ5gHHmrWX8BGkPq6wtBamFVXsLLhNYDeW1g0ePAIwU62BpA3s8GwCtFhYqClRGM/gpgGYB1tq0zO8dq8gtmSb0sS6XrueojpL7GIXMshfDvH97XyxYX1498Us669JSahdR4FTJ8rmgEpyq26nl40wpy5feNkPMexDDPBCqs7C3zYS1tShA5oFQnQUOVlCbIQNkHgjVWehghbR9O0Dm395CdRY8WAF94eR1mA/IWbhghfMVuRdi/i97d1AEQAgDQRANKDsJ518FMuih4iCP/mbHuQyGxTz1rjH/0MMqNEOQMq9cRsNChlNa5pHLbFjG1FPMvHGZDksYp6uZJy4zYO0tz2n2zAOXGbDsAeCg+fuXJWDBAQHW/Jo5bjb/EDc/AQE9CwOa95MnmUgTnZWbSFM5K2eHMCcrp8j6Pz1jeti7Y1SHYSAIw1OMmoBi4zb4BjlBQATCq129+58lURM5RcAJZNmV5+vkwgj8C6xqHTfvfxDm+9G9x+N65WZ077fjjQ9vxxtrdK/taSThns+B7AbNk1531kdYT8MwnA6vTo9n+ESg5s+k0515C6uc0atfNP/P0enOnIWVeINsd+MfwrIMqzDPkK3mzIKwSNhZmCBbJS6IyzSsiZHPoLVLnhAXCUNXZpW1Weirjm1Y86KydsIqrFYWk/7gd4CEqflK5gukdySMTQvLasUVNInNiGZkk9BwZerl9ZGRMFfQy5dXWK7Ckh1QWFIpLIlBYUmlsCQGhSWVwpIYFJZUCktiUFhSKSy5s3cHqwoCYRSAR/jbCKIEEiSC0KIWpnuhhBLaCYLv/yy36V4toyAyuv+p8+EiWh04w4xjNGLgwCKLA4swcGCRxYFFT5u8k8jkKfwfFx6BYAiNyEQ9DixACKUhZCTA0hAyEmBpCBkJsDSEjARYGkJGAiwNISMBloaQkQBLQ8hIgKUhZCTA0hAyEmBpCBkJsDSEjARYGkJGAiwNISPhlFYU8TBjXPDYRxiKB1ZcS9meM7al1DypVruiSocDK630zQapJ+LtNjbjZmc/Q59F/iUCqZu0G1hpU0tg9GnFOtjLag2pF3siUhaxSFyUtj2Vq0wpF0pDAKZieadLtB6fG3vS4cu8UFRypvZddY30GkMQ+tlA7UJoHfqIhkAU0tO3I7xcsRWv1XRLIL9U7gg7gf6IhDgbTPVHpGslwj4+4IQFJ5UT3Q+0p5yw8JRytDO61QL9IuyvBDEbFJp3rXRbgHD74nmGwEDMBpXW3wXovoOGJ9q+70fuUHT8zvxJde8u6FaZ+/1VmW+09UM3S2bOfbMkc0N/a0i96zIXi38pcx66ycp51CpZhnNDSmkp0x/GeDyQ6xtSRkuZ6yhzxsiitSEl1JQ5X+bOePmSq6ICaspcR7nzKjnnrXE+p0w/c14r4/3WOB9RZjhzXm8WGhoDvswuiY409NPeGaw2DgNhOD/MQXgkgg4lkIBUMHZ6CcUH+1LYSyDv/0hrO82y2dDaqTeKJOY71EKlMPANtmtJM/Gl1VlmLJFIak2STlrdLXP7isfyKv8iLiNNmQUeT7ESFpGezO07QvAuN61lpCbz5Q1heJM3rYUkJbPA98jjMCEikvmBkHyshEUkI3MyFMmsdIhI5g6h2a2ERSQhc43wyOLhQhKQ+WuD8GxkB/NC4pe5xzPYr4TlzJdZMr6icqTHK2OES9yg67tlHoCnBCObtBZyn0xF+AJrNPPoi44YIIUbSOFemXs8Lhi5ZQVm/wOXNZUY0caUky7ny3zDc4LZrITFzJepaPI3Wns95XK+zC3wpGBk0fC/s53hsuyIGguUjSFfA60nrT9d1nS6eDs5Ml05/qUnx+Mc93NqrswdAgQj37LCsJt2aU3HJ6cBbpg7YtSalPp0CW3s2aUixSdnSqDtR7Uf5ngYzZZZIEQwsmQYhGLaZesBMFUY8c3V0wcVNaNLS2r03qAcR6fhp2sAKIN5MguECEbWdSYIlliu4x46Aqhq5fW1S7TEIHV5h278eXTxy8xHqubJLBAkGLljTRAqseiMgtW+uXVpvQOpy5yiy4gUmM7w3DtWkGAksSYIlljqYs5ZQP/rEieqjcKRLHpac+WS79k9s8ODg5GF6AnCvrx3Dn9JdTcu0XmtUNERgPVdP6oBMCnAtLhD5hYPDkY+N0wQ6nMDD1imxgIMeGfR0q1LawZv2jBsZyrAGUblvALUINhWc2VuQgQjH0jDsPnG5QijNkTkgFN/7Vp34xLHwaVtiMjzefGOTK0VgJZ6WsyUuUeAYGRJJwx7zIC5RI8dLl9jucKZiu2fuWE4U+YBjw9GFqEDccBzOMi2mcyJSWZMe8OEjDb6xbSbVchoa3JU+++FjA5TRHViSMjo+FdUZxyFtDLrI5lT2UJGR+yjqiMhZFQUJKrKN0JGZYyiqtUlJPE4LBKsLihkVCoyqnqoQkbFbeOq4CzEm1rxVHqXtJpFGqm1eUm+S4aQUcuTuPr6CBk1aYqrE5mQUVu5yHonCvnJjKXbq5ChzHv7UxfSbDxeopN56ah/zW1HfdlznABRylyv17viml0/t/opvwHzbwvo/CBaMgAAAABJRU5ErkJggg==)"
      ],
      "metadata": {
        "id": "e7YqKm16SGcr"
      }
    },
    {
      "cell_type": "markdown",
      "source": [
        "Keunggulan Decision Tree:\n",
        "- Mudah diinterpretasikan: Logic Boolean serta representasi dari decision tree memudahkan pengguna untuk memahami dan menguasainya. \n",
        "\n",
        "- Data Preparation yang minim digunakan: Decision Tree dapat mengatasi dan menangani beragam tipe data—semisal diskrit atau kontinu, dan nilai kontinu akan dikonversi ke dalam kategorikal melalui batas / threshold.  \n",
        "\n",
        "- Lebih Fleksibel: Decision trees dapat digunakan untuk klasifikasi dan regresi. Selain itu Decision Tree juga insensitive terhadap ketergantungan pada relasi atau hubungan antar atribut. \n",
        "\n"
      ],
      "metadata": {
        "id": "KbZFoT3uS0yy"
      }
    },
    {
      "cell_type": "markdown",
      "source": [
        "Kelemahan Decision Tree:\n",
        "- Rawan terjadi overfitting: Algoritma decision trees yang kompleks cenderung mengalami overfit dan tidak dapat optimal dalam menangani data baru. \n",
        "\n",
        "- Sensitif terhadap varians: varians dalam data dapat menghasilkan hasil Decision Tree yang sangat berbeda.  \n",
        "\n",
        "- More costly: dengan pendekatan dari algoritma Decision Tree yang kompleks akan membuat resource dari Decision Tree akan lebih banyak dibandingkan algoritma lain. \n",
        "\n",
        "\n"
      ],
      "metadata": {
        "id": "CExJZSRCS3Mc"
      }
    },
    {
      "cell_type": "code",
      "source": [
        "from sklearn.tree import DecisionTreeClassifier\n",
        "from sklearn.metrics import confusion_matrix, classification_report"
      ],
      "metadata": {
        "id": "o-_0eKwckHb_"
      },
      "execution_count": null,
      "outputs": []
    },
    {
      "cell_type": "code",
      "execution_count": null,
      "metadata": {
        "id": "v6TUnt2bb4O0",
        "colab": {
          "base_uri": "https://localhost:8080/"
        },
        "outputId": "8d915358-bf31-4b75-ed38-6a68783dc465"
      },
      "outputs": [
        {
          "output_type": "execute_result",
          "data": {
            "text/plain": [
              "DecisionTreeClassifier()"
            ]
          },
          "metadata": {},
          "execution_count": 23
        }
      ],
      "source": [
        "clf = DecisionTreeClassifier()\n",
        "clf.fit(X_train, y_train)"
      ]
    },
    {
      "cell_type": "code",
      "execution_count": null,
      "metadata": {
        "id": "W87MfFGEb9c3",
        "colab": {
          "base_uri": "https://localhost:8080/",
          "height": 270
        },
        "outputId": "f7618b9a-f71b-4f83-8665-788034d4af5d"
      },
      "outputs": [
        {
          "output_type": "execute_result",
          "data": {
            "text/plain": [
              "      gender  Partner  tenure  PhoneService  PaperlessBilling  MonthlyCharges  \\\n",
              "185        0        1       1             0                 1           24.80   \n",
              "2715       1        0      41             1                 1           25.25   \n",
              "3825       0        1      52             1                 0           19.35   \n",
              "1807       0        0       1             1                 0           76.35   \n",
              "132        1        0      67             1                 0           50.55   \n",
              "\n",
              "      Churn  prediction  \n",
              "185       1           1  \n",
              "2715      0           1  \n",
              "3825      0           0  \n",
              "1807      1           1  \n",
              "132       0           0  "
            ],
            "text/html": [
              "\n",
              "  <div id=\"df-c3d5a80e-40fa-40a0-8d74-c057b6c172f6\">\n",
              "    <div class=\"colab-df-container\">\n",
              "      <div>\n",
              "<style scoped>\n",
              "    .dataframe tbody tr th:only-of-type {\n",
              "        vertical-align: middle;\n",
              "    }\n",
              "\n",
              "    .dataframe tbody tr th {\n",
              "        vertical-align: top;\n",
              "    }\n",
              "\n",
              "    .dataframe thead th {\n",
              "        text-align: right;\n",
              "    }\n",
              "</style>\n",
              "<table border=\"1\" class=\"dataframe\">\n",
              "  <thead>\n",
              "    <tr style=\"text-align: right;\">\n",
              "      <th></th>\n",
              "      <th>gender</th>\n",
              "      <th>Partner</th>\n",
              "      <th>tenure</th>\n",
              "      <th>PhoneService</th>\n",
              "      <th>PaperlessBilling</th>\n",
              "      <th>MonthlyCharges</th>\n",
              "      <th>Churn</th>\n",
              "      <th>prediction</th>\n",
              "    </tr>\n",
              "  </thead>\n",
              "  <tbody>\n",
              "    <tr>\n",
              "      <th>185</th>\n",
              "      <td>0</td>\n",
              "      <td>1</td>\n",
              "      <td>1</td>\n",
              "      <td>0</td>\n",
              "      <td>1</td>\n",
              "      <td>24.80</td>\n",
              "      <td>1</td>\n",
              "      <td>1</td>\n",
              "    </tr>\n",
              "    <tr>\n",
              "      <th>2715</th>\n",
              "      <td>1</td>\n",
              "      <td>0</td>\n",
              "      <td>41</td>\n",
              "      <td>1</td>\n",
              "      <td>1</td>\n",
              "      <td>25.25</td>\n",
              "      <td>0</td>\n",
              "      <td>1</td>\n",
              "    </tr>\n",
              "    <tr>\n",
              "      <th>3825</th>\n",
              "      <td>0</td>\n",
              "      <td>1</td>\n",
              "      <td>52</td>\n",
              "      <td>1</td>\n",
              "      <td>0</td>\n",
              "      <td>19.35</td>\n",
              "      <td>0</td>\n",
              "      <td>0</td>\n",
              "    </tr>\n",
              "    <tr>\n",
              "      <th>1807</th>\n",
              "      <td>0</td>\n",
              "      <td>0</td>\n",
              "      <td>1</td>\n",
              "      <td>1</td>\n",
              "      <td>0</td>\n",
              "      <td>76.35</td>\n",
              "      <td>1</td>\n",
              "      <td>1</td>\n",
              "    </tr>\n",
              "    <tr>\n",
              "      <th>132</th>\n",
              "      <td>1</td>\n",
              "      <td>0</td>\n",
              "      <td>67</td>\n",
              "      <td>1</td>\n",
              "      <td>0</td>\n",
              "      <td>50.55</td>\n",
              "      <td>0</td>\n",
              "      <td>0</td>\n",
              "    </tr>\n",
              "  </tbody>\n",
              "</table>\n",
              "</div>\n",
              "      <button class=\"colab-df-convert\" onclick=\"convertToInteractive('df-c3d5a80e-40fa-40a0-8d74-c057b6c172f6')\"\n",
              "              title=\"Convert this dataframe to an interactive table.\"\n",
              "              style=\"display:none;\">\n",
              "        \n",
              "  <svg xmlns=\"http://www.w3.org/2000/svg\" height=\"24px\"viewBox=\"0 0 24 24\"\n",
              "       width=\"24px\">\n",
              "    <path d=\"M0 0h24v24H0V0z\" fill=\"none\"/>\n",
              "    <path d=\"M18.56 5.44l.94 2.06.94-2.06 2.06-.94-2.06-.94-.94-2.06-.94 2.06-2.06.94zm-11 1L8.5 8.5l.94-2.06 2.06-.94-2.06-.94L8.5 2.5l-.94 2.06-2.06.94zm10 10l.94 2.06.94-2.06 2.06-.94-2.06-.94-.94-2.06-.94 2.06-2.06.94z\"/><path d=\"M17.41 7.96l-1.37-1.37c-.4-.4-.92-.59-1.43-.59-.52 0-1.04.2-1.43.59L10.3 9.45l-7.72 7.72c-.78.78-.78 2.05 0 2.83L4 21.41c.39.39.9.59 1.41.59.51 0 1.02-.2 1.41-.59l7.78-7.78 2.81-2.81c.8-.78.8-2.07 0-2.86zM5.41 20L4 18.59l7.72-7.72 1.47 1.35L5.41 20z\"/>\n",
              "  </svg>\n",
              "      </button>\n",
              "      \n",
              "  <style>\n",
              "    .colab-df-container {\n",
              "      display:flex;\n",
              "      flex-wrap:wrap;\n",
              "      gap: 12px;\n",
              "    }\n",
              "\n",
              "    .colab-df-convert {\n",
              "      background-color: #E8F0FE;\n",
              "      border: none;\n",
              "      border-radius: 50%;\n",
              "      cursor: pointer;\n",
              "      display: none;\n",
              "      fill: #1967D2;\n",
              "      height: 32px;\n",
              "      padding: 0 0 0 0;\n",
              "      width: 32px;\n",
              "    }\n",
              "\n",
              "    .colab-df-convert:hover {\n",
              "      background-color: #E2EBFA;\n",
              "      box-shadow: 0px 1px 2px rgba(60, 64, 67, 0.3), 0px 1px 3px 1px rgba(60, 64, 67, 0.15);\n",
              "      fill: #174EA6;\n",
              "    }\n",
              "\n",
              "    [theme=dark] .colab-df-convert {\n",
              "      background-color: #3B4455;\n",
              "      fill: #D2E3FC;\n",
              "    }\n",
              "\n",
              "    [theme=dark] .colab-df-convert:hover {\n",
              "      background-color: #434B5C;\n",
              "      box-shadow: 0px 1px 3px 1px rgba(0, 0, 0, 0.15);\n",
              "      filter: drop-shadow(0px 1px 2px rgba(0, 0, 0, 0.3));\n",
              "      fill: #FFFFFF;\n",
              "    }\n",
              "  </style>\n",
              "\n",
              "      <script>\n",
              "        const buttonEl =\n",
              "          document.querySelector('#df-c3d5a80e-40fa-40a0-8d74-c057b6c172f6 button.colab-df-convert');\n",
              "        buttonEl.style.display =\n",
              "          google.colab.kernel.accessAllowed ? 'block' : 'none';\n",
              "\n",
              "        async function convertToInteractive(key) {\n",
              "          const element = document.querySelector('#df-c3d5a80e-40fa-40a0-8d74-c057b6c172f6');\n",
              "          const dataTable =\n",
              "            await google.colab.kernel.invokeFunction('convertToInteractive',\n",
              "                                                     [key], {});\n",
              "          if (!dataTable) return;\n",
              "\n",
              "          const docLinkHtml = 'Like what you see? Visit the ' +\n",
              "            '<a target=\"_blank\" href=https://colab.research.google.com/notebooks/data_table.ipynb>data table notebook</a>'\n",
              "            + ' to learn more about interactive tables.';\n",
              "          element.innerHTML = '';\n",
              "          dataTable['output_type'] = 'display_data';\n",
              "          await google.colab.output.renderOutput(dataTable, element);\n",
              "          const docLink = document.createElement('div');\n",
              "          docLink.innerHTML = docLinkHtml;\n",
              "          element.appendChild(docLink);\n",
              "        }\n",
              "      </script>\n",
              "    </div>\n",
              "  </div>\n",
              "  "
            ]
          },
          "metadata": {},
          "execution_count": 24
        }
      ],
      "source": [
        "y_pred = clf.predict(X_test)\n",
        "dt_test = pd.merge(X_test, y_test, left_index = True, right_index=True, how='outer')\n",
        "dt_test['prediction'] = y_pred\n",
        "dt_test.head()"
      ]
    },
    {
      "cell_type": "code",
      "execution_count": null,
      "metadata": {
        "id": "0i-s0M-xb_BI",
        "colab": {
          "base_uri": "https://localhost:8080/",
          "height": 1000
        },
        "outputId": "a73dbb2a-ff1e-4d68-9a8e-3129d537ee25"
      },
      "outputs": [
        {
          "output_type": "execute_result",
          "data": {
            "text/plain": [
              "[Text(0.42668416554442734, 0.9814814814814815, 'X[2] <= 12.5\\ngini = 0.387\\nsamples = 4930\\nvalue = [3635, 1295]'),\n",
              " Text(0.2062359997866634, 0.9444444444444444, 'X[5] <= 66.3\\ngini = 0.499\\nsamples = 1529\\nvalue = [804, 725]'),\n",
              " Text(0.11569700109715958, 0.9074074074074074, 'X[2] <= 3.5\\ngini = 0.428\\nsamples = 845\\nvalue = [583, 262]'),\n",
              " Text(0.06576862123613313, 0.8703703703703703, 'X[5] <= 20.875\\ngini = 0.489\\nsamples = 416\\nvalue = [239, 177]'),\n",
              " Text(0.03632817261977325, 0.8333333333333334, 'X[2] <= 1.5\\ngini = 0.396\\nsamples = 158\\nvalue = [115, 43]'),\n",
              " Text(0.021455565037181518, 0.7962962962962963, 'X[5] <= 19.875\\ngini = 0.449\\nsamples = 106\\nvalue = [70, 36]'),\n",
              " Text(0.012190661952944045, 0.7592592592592593, 'X[5] <= 19.525\\ngini = 0.375\\nsamples = 48\\nvalue = [36, 12]'),\n",
              " Text(0.008777276606119712, 0.7222222222222222, 'X[5] <= 19.425\\ngini = 0.435\\nsamples = 25\\nvalue = [17, 8]'),\n",
              " Text(0.0058515177374131415, 0.6851851851851852, 'X[1] <= 0.5\\ngini = 0.375\\nsamples = 20\\nvalue = [15, 5]'),\n",
              " Text(0.004876264781177618, 0.6481481481481481, 'X[5] <= 19.35\\ngini = 0.43\\nsamples = 16\\nvalue = [11, 5]'),\n",
              " Text(0.0039010118249420945, 0.6111111111111112, 'X[4] <= 0.5\\ngini = 0.459\\nsamples = 14\\nvalue = [9, 5]'),\n",
              " Text(0.0019505059124710472, 0.5740740740740741, 'X[5] <= 19.225\\ngini = 0.375\\nsamples = 8\\nvalue = [6, 2]'),\n",
              " Text(0.0009752529562355236, 0.5370370370370371, 'gini = 0.0\\nsamples = 5\\nvalue = [5, 0]'),\n",
              " Text(0.0029257588687065707, 0.5370370370370371, 'X[5] <= 19.275\\ngini = 0.444\\nsamples = 3\\nvalue = [1, 2]'),\n",
              " Text(0.0019505059124710472, 0.5, 'gini = 0.0\\nsamples = 1\\nvalue = [0, 1]'),\n",
              " Text(0.0039010118249420945, 0.5, 'X[0] <= 0.5\\ngini = 0.5\\nsamples = 2\\nvalue = [1, 1]'),\n",
              " Text(0.0029257588687065707, 0.46296296296296297, 'gini = 0.0\\nsamples = 1\\nvalue = [0, 1]'),\n",
              " Text(0.004876264781177618, 0.46296296296296297, 'gini = 0.0\\nsamples = 1\\nvalue = [1, 0]'),\n",
              " Text(0.0058515177374131415, 0.5740740740740741, 'X[5] <= 19.15\\ngini = 0.5\\nsamples = 6\\nvalue = [3, 3]'),\n",
              " Text(0.004876264781177618, 0.5370370370370371, 'gini = 0.0\\nsamples = 2\\nvalue = [0, 2]'),\n",
              " Text(0.006826770693648665, 0.5370370370370371, 'X[5] <= 19.275\\ngini = 0.375\\nsamples = 4\\nvalue = [3, 1]'),\n",
              " Text(0.0058515177374131415, 0.5, 'gini = 0.0\\nsamples = 2\\nvalue = [2, 0]'),\n",
              " Text(0.007802023649884189, 0.5, 'gini = 0.5\\nsamples = 2\\nvalue = [1, 1]'),\n",
              " Text(0.0058515177374131415, 0.6111111111111112, 'gini = 0.0\\nsamples = 2\\nvalue = [2, 0]'),\n",
              " Text(0.006826770693648665, 0.6481481481481481, 'gini = 0.0\\nsamples = 4\\nvalue = [4, 0]'),\n",
              " Text(0.011703035474826283, 0.6851851851851852, 'X[1] <= 0.5\\ngini = 0.48\\nsamples = 5\\nvalue = [2, 3]'),\n",
              " Text(0.010727782518590759, 0.6481481481481481, 'X[5] <= 19.475\\ngini = 0.5\\nsamples = 4\\nvalue = [2, 2]'),\n",
              " Text(0.008777276606119712, 0.6111111111111112, 'X[4] <= 0.5\\ngini = 0.5\\nsamples = 2\\nvalue = [1, 1]'),\n",
              " Text(0.007802023649884189, 0.5740740740740741, 'gini = 0.0\\nsamples = 1\\nvalue = [1, 0]'),\n",
              " Text(0.009752529562355236, 0.5740740740740741, 'gini = 0.0\\nsamples = 1\\nvalue = [0, 1]'),\n",
              " Text(0.012678288431061807, 0.6111111111111112, 'X[4] <= 0.5\\ngini = 0.5\\nsamples = 2\\nvalue = [1, 1]'),\n",
              " Text(0.011703035474826283, 0.5740740740740741, 'gini = 0.0\\nsamples = 1\\nvalue = [0, 1]'),\n",
              " Text(0.01365354138729733, 0.5740740740740741, 'gini = 0.0\\nsamples = 1\\nvalue = [1, 0]'),\n",
              " Text(0.012678288431061807, 0.6481481481481481, 'gini = 0.0\\nsamples = 1\\nvalue = [0, 1]'),\n",
              " Text(0.015604047299768378, 0.7222222222222222, 'X[0] <= 0.5\\ngini = 0.287\\nsamples = 23\\nvalue = [19, 4]'),\n",
              " Text(0.014628794343532854, 0.6851851851851852, 'gini = 0.0\\nsamples = 9\\nvalue = [9, 0]'),\n",
              " Text(0.0165793002560039, 0.6851851851851852, 'X[1] <= 0.5\\ngini = 0.408\\nsamples = 14\\nvalue = [10, 4]'),\n",
              " Text(0.015604047299768378, 0.6481481481481481, 'X[5] <= 19.575\\ngini = 0.48\\nsamples = 10\\nvalue = [6, 4]'),\n",
              " Text(0.014628794343532854, 0.6111111111111112, 'gini = 0.0\\nsamples = 2\\nvalue = [2, 0]'),\n",
              " Text(0.0165793002560039, 0.6111111111111112, 'X[5] <= 19.725\\ngini = 0.5\\nsamples = 8\\nvalue = [4, 4]'),\n",
              " Text(0.015604047299768378, 0.5740740740740741, 'gini = 0.0\\nsamples = 2\\nvalue = [0, 2]'),\n",
              " Text(0.017554553212239424, 0.5740740740740741, 'X[4] <= 0.5\\ngini = 0.444\\nsamples = 6\\nvalue = [4, 2]'),\n",
              " Text(0.0165793002560039, 0.5370370370370371, 'gini = 0.5\\nsamples = 4\\nvalue = [2, 2]'),\n",
              " Text(0.01852980616847495, 0.5370370370370371, 'gini = 0.0\\nsamples = 2\\nvalue = [2, 0]'),\n",
              " Text(0.017554553212239424, 0.6481481481481481, 'gini = 0.0\\nsamples = 4\\nvalue = [4, 0]'),\n",
              " Text(0.030720468121418994, 0.7592592592592593, 'X[5] <= 20.225\\ngini = 0.485\\nsamples = 58\\nvalue = [34, 24]'),\n",
              " Text(0.02438132390588809, 0.7222222222222222, 'X[2] <= 0.5\\ngini = 0.483\\nsamples = 27\\nvalue = [11, 16]'),\n",
              " Text(0.023406070949652566, 0.6851851851851852, 'gini = 0.0\\nsamples = 1\\nvalue = [1, 0]'),\n",
              " Text(0.025356576862123614, 0.6851851851851852, 'X[5] <= 20.075\\ngini = 0.473\\nsamples = 26\\nvalue = [10, 16]'),\n",
              " Text(0.023406070949652566, 0.6481481481481481, 'X[1] <= 0.5\\ngini = 0.497\\nsamples = 13\\nvalue = [6, 7]'),\n",
              " Text(0.022430817993417042, 0.6111111111111112, 'X[4] <= 0.5\\ngini = 0.48\\nsamples = 10\\nvalue = [6, 4]'),\n",
              " Text(0.021455565037181518, 0.5740740740740741, 'X[0] <= 0.5\\ngini = 0.5\\nsamples = 8\\nvalue = [4, 4]'),\n",
              " Text(0.020480312080945997, 0.5370370370370371, 'gini = 0.444\\nsamples = 3\\nvalue = [2, 1]'),\n",
              " Text(0.022430817993417042, 0.5370370370370371, 'X[5] <= 20.0\\ngini = 0.48\\nsamples = 5\\nvalue = [2, 3]'),\n",
              " Text(0.021455565037181518, 0.5, 'gini = 0.0\\nsamples = 1\\nvalue = [0, 1]'),\n",
              " Text(0.023406070949652566, 0.5, 'gini = 0.5\\nsamples = 4\\nvalue = [2, 2]'),\n",
              " Text(0.023406070949652566, 0.5740740740740741, 'gini = 0.0\\nsamples = 2\\nvalue = [2, 0]'),\n",
              " Text(0.02438132390588809, 0.6111111111111112, 'gini = 0.0\\nsamples = 3\\nvalue = [0, 3]'),\n",
              " Text(0.02730708277459466, 0.6481481481481481, 'X[1] <= 0.5\\ngini = 0.426\\nsamples = 13\\nvalue = [4, 9]'),\n",
              " Text(0.02633182981835914, 0.6111111111111112, 'X[4] <= 0.5\\ngini = 0.298\\nsamples = 11\\nvalue = [2, 9]'),\n",
              " Text(0.025356576862123614, 0.5740740740740741, 'X[0] <= 0.5\\ngini = 0.444\\nsamples = 6\\nvalue = [2, 4]'),\n",
              " Text(0.02438132390588809, 0.5370370370370371, 'gini = 0.0\\nsamples = 1\\nvalue = [1, 0]'),\n",
              " Text(0.02633182981835914, 0.5370370370370371, 'X[5] <= 20.175\\ngini = 0.32\\nsamples = 5\\nvalue = [1, 4]'),\n",
              " Text(0.025356576862123614, 0.5, 'gini = 0.0\\nsamples = 3\\nvalue = [0, 3]'),\n",
              " Text(0.02730708277459466, 0.5, 'gini = 0.5\\nsamples = 2\\nvalue = [1, 1]'),\n",
              " Text(0.02730708277459466, 0.5740740740740741, 'gini = 0.0\\nsamples = 5\\nvalue = [0, 5]'),\n",
              " Text(0.028282335730830183, 0.6111111111111112, 'gini = 0.0\\nsamples = 2\\nvalue = [2, 0]'),\n",
              " Text(0.0370596123369499, 0.7222222222222222, 'X[0] <= 0.5\\ngini = 0.383\\nsamples = 31\\nvalue = [23, 8]'),\n",
              " Text(0.0331586005120078, 0.6851851851851852, 'X[5] <= 20.6\\ngini = 0.486\\nsamples = 12\\nvalue = [7, 5]'),\n",
              " Text(0.032183347555772276, 0.6481481481481481, 'X[5] <= 20.45\\ngini = 0.5\\nsamples = 10\\nvalue = [5, 5]'),\n",
              " Text(0.03023284164330123, 0.6111111111111112, 'X[4] <= 0.5\\ngini = 0.444\\nsamples = 6\\nvalue = [4, 2]'),\n",
              " Text(0.029257588687065707, 0.5740740740740741, 'gini = 0.0\\nsamples = 2\\nvalue = [2, 0]'),\n",
              " Text(0.031208094599536756, 0.5740740740740741, 'X[1] <= 0.5\\ngini = 0.5\\nsamples = 4\\nvalue = [2, 2]'),\n",
              " Text(0.03023284164330123, 0.5370370370370371, 'X[5] <= 20.275\\ngini = 0.444\\nsamples = 3\\nvalue = [1, 2]'),\n",
              " Text(0.029257588687065707, 0.5, 'gini = 0.5\\nsamples = 2\\nvalue = [1, 1]'),\n",
              " Text(0.031208094599536756, 0.5, 'gini = 0.0\\nsamples = 1\\nvalue = [0, 1]'),\n",
              " Text(0.032183347555772276, 0.5370370370370371, 'gini = 0.0\\nsamples = 1\\nvalue = [1, 0]'),\n",
              " Text(0.034133853468243325, 0.6111111111111112, 'X[1] <= 0.5\\ngini = 0.375\\nsamples = 4\\nvalue = [1, 3]'),\n",
              " Text(0.0331586005120078, 0.5740740740740741, 'gini = 0.5\\nsamples = 2\\nvalue = [1, 1]'),\n",
              " Text(0.03510910642447885, 0.5740740740740741, 'gini = 0.0\\nsamples = 2\\nvalue = [0, 2]'),\n",
              " Text(0.034133853468243325, 0.6481481481481481, 'gini = 0.0\\nsamples = 2\\nvalue = [2, 0]'),\n",
              " Text(0.040960624161891994, 0.6851851851851852, 'X[5] <= 20.475\\ngini = 0.266\\nsamples = 19\\nvalue = [16, 3]'),\n",
              " Text(0.039010118249420946, 0.6481481481481481, 'X[5] <= 20.275\\ngini = 0.142\\nsamples = 13\\nvalue = [12, 1]'),\n",
              " Text(0.03803486529318542, 0.6111111111111112, 'X[4] <= 0.5\\ngini = 0.375\\nsamples = 4\\nvalue = [3, 1]'),\n",
              " Text(0.0370596123369499, 0.5740740740740741, 'X[2] <= 0.5\\ngini = 0.444\\nsamples = 3\\nvalue = [2, 1]'),\n",
              " Text(0.03608435938071437, 0.5370370370370371, 'gini = 0.0\\nsamples = 1\\nvalue = [1, 0]'),\n",
              " Text(0.03803486529318542, 0.5370370370370371, 'gini = 0.5\\nsamples = 2\\nvalue = [1, 1]'),\n",
              " Text(0.039010118249420946, 0.5740740740740741, 'gini = 0.0\\nsamples = 1\\nvalue = [1, 0]'),\n",
              " Text(0.03998537120565647, 0.6111111111111112, 'gini = 0.0\\nsamples = 9\\nvalue = [9, 0]'),\n",
              " Text(0.042911130074363035, 0.6481481481481481, 'X[5] <= 20.575\\ngini = 0.444\\nsamples = 6\\nvalue = [4, 2]'),\n",
              " Text(0.04193587711812751, 0.6111111111111112, 'X[5] <= 20.525\\ngini = 0.444\\nsamples = 3\\nvalue = [1, 2]'),\n",
              " Text(0.040960624161891994, 0.5740740740740741, 'gini = 0.0\\nsamples = 1\\nvalue = [0, 1]'),\n",
              " Text(0.042911130074363035, 0.5740740740740741, 'gini = 0.5\\nsamples = 2\\nvalue = [1, 1]'),\n",
              " Text(0.04388638303059856, 0.6111111111111112, 'gini = 0.0\\nsamples = 3\\nvalue = [3, 0]'),\n",
              " Text(0.05120078020236499, 0.7962962962962963, 'X[5] <= 19.9\\ngini = 0.233\\nsamples = 52\\nvalue = [45, 7]'),\n",
              " Text(0.04876264781177618, 0.7592592592592593, 'X[5] <= 19.575\\ngini = 0.365\\nsamples = 25\\nvalue = [19, 6]'),\n",
              " Text(0.047787394855540656, 0.7222222222222222, 'gini = 0.0\\nsamples = 11\\nvalue = [11, 0]'),\n",
              " Text(0.049737900768011704, 0.7222222222222222, 'X[0] <= 0.5\\ngini = 0.49\\nsamples = 14\\nvalue = [8, 6]'),\n",
              " Text(0.047787394855540656, 0.6851851851851852, 'X[1] <= 0.5\\ngini = 0.49\\nsamples = 7\\nvalue = [3, 4]'),\n",
              " Text(0.04681214189930513, 0.6481481481481481, 'X[5] <= 19.8\\ngini = 0.32\\nsamples = 5\\nvalue = [1, 4]'),\n",
              " Text(0.04583688894306961, 0.6111111111111112, 'gini = 0.0\\nsamples = 3\\nvalue = [0, 3]'),\n",
              " Text(0.047787394855540656, 0.6111111111111112, 'gini = 0.5\\nsamples = 2\\nvalue = [1, 1]'),\n",
              " Text(0.04876264781177618, 0.6481481481481481, 'gini = 0.0\\nsamples = 2\\nvalue = [2, 0]'),\n",
              " Text(0.05168840668048275, 0.6851851851851852, 'X[5] <= 19.8\\ngini = 0.408\\nsamples = 7\\nvalue = [5, 2]'),\n",
              " Text(0.05071315372424723, 0.6481481481481481, 'gini = 0.0\\nsamples = 5\\nvalue = [5, 0]'),\n",
              " Text(0.05266365963671828, 0.6481481481481481, 'gini = 0.0\\nsamples = 2\\nvalue = [0, 2]'),\n",
              " Text(0.053638912592953794, 0.7592592592592593, 'X[4] <= 0.5\\ngini = 0.071\\nsamples = 27\\nvalue = [26, 1]'),\n",
              " Text(0.05266365963671828, 0.7222222222222222, 'gini = 0.0\\nsamples = 20\\nvalue = [20, 0]'),\n",
              " Text(0.05461416554918932, 0.7222222222222222, 'X[1] <= 0.5\\ngini = 0.245\\nsamples = 7\\nvalue = [6, 1]'),\n",
              " Text(0.053638912592953794, 0.6851851851851852, 'gini = 0.0\\nsamples = 6\\nvalue = [6, 0]'),\n",
              " Text(0.05558941850542484, 0.6851851851851852, 'gini = 0.0\\nsamples = 1\\nvalue = [0, 1]'),\n",
              " Text(0.09520906985249299, 0.8333333333333334, 'X[4] <= 0.5\\ngini = 0.499\\nsamples = 258\\nvalue = [124, 134]'),\n",
              " Text(0.07533829086919419, 0.7962962962962963, 'X[1] <= 0.5\\ngini = 0.49\\nsamples = 123\\nvalue = [70, 53]'),\n",
              " Text(0.06680482750213336, 0.7592592592592593, 'X[5] <= 44.25\\ngini = 0.481\\nsamples = 107\\nvalue = [64, 43]'),\n",
              " Text(0.0599780568084847, 0.7222222222222222, 'X[5] <= 25.35\\ngini = 0.426\\nsamples = 39\\nvalue = [27, 12]'),\n",
              " Text(0.05753992441789589, 0.6851851851851852, 'X[0] <= 0.5\\ngini = 0.494\\nsamples = 18\\nvalue = [10, 8]'),\n",
              " Text(0.05558941850542484, 0.6481481481481481, 'X[2] <= 2.5\\ngini = 0.486\\nsamples = 12\\nvalue = [5, 7]'),\n",
              " Text(0.05461416554918932, 0.6111111111111112, 'X[5] <= 22.475\\ngini = 0.5\\nsamples = 10\\nvalue = [5, 5]'),\n",
              " Text(0.05266365963671828, 0.5740740740740741, 'X[5] <= 20.925\\ngini = 0.375\\nsamples = 4\\nvalue = [1, 3]'),\n",
              " Text(0.05168840668048275, 0.5370370370370371, 'gini = 0.444\\nsamples = 3\\nvalue = [1, 2]'),\n",
              " Text(0.053638912592953794, 0.5370370370370371, 'gini = 0.0\\nsamples = 1\\nvalue = [0, 1]'),\n",
              " Text(0.05656467146166037, 0.5740740740740741, 'X[5] <= 24.175\\ngini = 0.444\\nsamples = 6\\nvalue = [4, 2]'),\n",
              " Text(0.05558941850542484, 0.5370370370370371, 'gini = 0.0\\nsamples = 1\\nvalue = [1, 0]'),\n",
              " Text(0.05753992441789589, 0.5370370370370371, 'X[5] <= 24.425\\ngini = 0.48\\nsamples = 5\\nvalue = [3, 2]'),\n",
              " Text(0.05656467146166037, 0.5, 'gini = 0.0\\nsamples = 1\\nvalue = [0, 1]'),\n",
              " Text(0.058515177374131415, 0.5, 'X[5] <= 24.975\\ngini = 0.375\\nsamples = 4\\nvalue = [3, 1]'),\n",
              " Text(0.05753992441789589, 0.46296296296296297, 'gini = 0.0\\nsamples = 2\\nvalue = [2, 0]'),\n",
              " Text(0.05949043033036694, 0.46296296296296297, 'gini = 0.5\\nsamples = 2\\nvalue = [1, 1]'),\n",
              " Text(0.05656467146166037, 0.6111111111111112, 'gini = 0.0\\nsamples = 2\\nvalue = [0, 2]'),\n",
              " Text(0.05949043033036694, 0.6481481481481481, 'X[5] <= 24.575\\ngini = 0.278\\nsamples = 6\\nvalue = [5, 1]'),\n",
              " Text(0.058515177374131415, 0.6111111111111112, 'gini = 0.0\\nsamples = 4\\nvalue = [4, 0]'),\n",
              " Text(0.06046568328660246, 0.6111111111111112, 'X[5] <= 24.925\\ngini = 0.5\\nsamples = 2\\nvalue = [1, 1]'),\n",
              " Text(0.05949043033036694, 0.5740740740740741, 'gini = 0.0\\nsamples = 1\\nvalue = [0, 1]'),\n",
              " Text(0.06144093624283799, 0.5740740740740741, 'gini = 0.0\\nsamples = 1\\nvalue = [1, 0]'),\n",
              " Text(0.06241618919907351, 0.6851851851851852, 'X[5] <= 29.925\\ngini = 0.308\\nsamples = 21\\nvalue = [17, 4]'),\n",
              " Text(0.06144093624283799, 0.6481481481481481, 'gini = 0.0\\nsamples = 5\\nvalue = [5, 0]'),\n",
              " Text(0.06339144215530904, 0.6481481481481481, 'X[5] <= 30.175\\ngini = 0.375\\nsamples = 16\\nvalue = [12, 4]'),\n",
              " Text(0.06241618919907351, 0.6111111111111112, 'gini = 0.0\\nsamples = 1\\nvalue = [0, 1]'),\n",
              " Text(0.06436669511154455, 0.6111111111111112, 'X[5] <= 43.975\\ngini = 0.32\\nsamples = 15\\nvalue = [12, 3]'),\n",
              " Text(0.06339144215530904, 0.5740740740740741, 'X[5] <= 34.325\\ngini = 0.397\\nsamples = 11\\nvalue = [8, 3]'),\n",
              " Text(0.06241618919907351, 0.5370370370370371, 'gini = 0.0\\nsamples = 3\\nvalue = [3, 0]'),\n",
              " Text(0.06436669511154455, 0.5370370370370371, 'X[5] <= 35.475\\ngini = 0.469\\nsamples = 8\\nvalue = [5, 3]'),\n",
              " Text(0.06339144215530904, 0.5, 'gini = 0.0\\nsamples = 1\\nvalue = [0, 1]'),\n",
              " Text(0.06534194806778008, 0.5, 'X[2] <= 1.5\\ngini = 0.408\\nsamples = 7\\nvalue = [5, 2]'),\n",
              " Text(0.06436669511154455, 0.46296296296296297, 'X[0] <= 0.5\\ngini = 0.48\\nsamples = 5\\nvalue = [3, 2]'),\n",
              " Text(0.06339144215530904, 0.42592592592592593, 'X[5] <= 43.875\\ngini = 0.375\\nsamples = 4\\nvalue = [3, 1]'),\n",
              " Text(0.06241618919907351, 0.3888888888888889, 'gini = 0.0\\nsamples = 2\\nvalue = [2, 0]'),\n",
              " Text(0.06436669511154455, 0.3888888888888889, 'gini = 0.5\\nsamples = 2\\nvalue = [1, 1]'),\n",
              " Text(0.06534194806778008, 0.42592592592592593, 'gini = 0.0\\nsamples = 1\\nvalue = [0, 1]'),\n",
              " Text(0.0663172010240156, 0.46296296296296297, 'gini = 0.0\\nsamples = 2\\nvalue = [2, 0]'),\n",
              " Text(0.06534194806778008, 0.5740740740740741, 'gini = 0.0\\nsamples = 4\\nvalue = [4, 0]'),\n",
              " Text(0.07363159819578204, 0.7222222222222222, 'X[5] <= 46.25\\ngini = 0.496\\nsamples = 68\\nvalue = [37, 31]'),\n",
              " Text(0.07119346580519322, 0.6851851851851852, 'X[5] <= 45.675\\ngini = 0.444\\nsamples = 27\\nvalue = [9, 18]'),\n",
              " Text(0.0702182128489577, 0.6481481481481481, 'X[5] <= 45.4\\ngini = 0.49\\nsamples = 21\\nvalue = [9, 12]'),\n",
              " Text(0.06924295989272218, 0.6111111111111112, 'X[5] <= 44.425\\ngini = 0.465\\nsamples = 19\\nvalue = [7, 12]'),\n",
              " Text(0.06826770693648665, 0.5740740740740741, 'gini = 0.0\\nsamples = 3\\nvalue = [0, 3]'),\n",
              " Text(0.0702182128489577, 0.5740740740740741, 'X[5] <= 44.925\\ngini = 0.492\\nsamples = 16\\nvalue = [7, 9]'),\n",
              " Text(0.06826770693648665, 0.5370370370370371, 'X[5] <= 44.625\\ngini = 0.32\\nsamples = 5\\nvalue = [4, 1]'),\n",
              " Text(0.06729245398025113, 0.5, 'gini = 0.0\\nsamples = 2\\nvalue = [2, 0]'),\n",
              " Text(0.06924295989272218, 0.5, 'X[5] <= 44.7\\ngini = 0.444\\nsamples = 3\\nvalue = [2, 1]'),\n",
              " Text(0.06826770693648665, 0.46296296296296297, 'gini = 0.0\\nsamples = 1\\nvalue = [0, 1]'),\n",
              " Text(0.0702182128489577, 0.46296296296296297, 'gini = 0.0\\nsamples = 2\\nvalue = [2, 0]'),\n",
              " Text(0.07216871876142875, 0.5370370370370371, 'X[5] <= 45.175\\ngini = 0.397\\nsamples = 11\\nvalue = [3, 8]'),\n",
              " Text(0.07119346580519322, 0.5, 'gini = 0.0\\nsamples = 5\\nvalue = [0, 5]'),\n",
              " Text(0.07314397171766426, 0.5, 'X[5] <= 45.275\\ngini = 0.5\\nsamples = 6\\nvalue = [3, 3]'),\n",
              " Text(0.07216871876142875, 0.46296296296296297, 'gini = 0.0\\nsamples = 2\\nvalue = [2, 0]'),\n",
              " Text(0.0741192246738998, 0.46296296296296297, 'X[0] <= 0.5\\ngini = 0.375\\nsamples = 4\\nvalue = [1, 3]'),\n",
              " Text(0.07314397171766426, 0.42592592592592593, 'gini = 0.0\\nsamples = 1\\nvalue = [1, 0]'),\n",
              " Text(0.07509447763013531, 0.42592592592592593, 'gini = 0.0\\nsamples = 3\\nvalue = [0, 3]'),\n",
              " Text(0.07119346580519322, 0.6111111111111112, 'gini = 0.0\\nsamples = 2\\nvalue = [2, 0]'),\n",
              " Text(0.07216871876142875, 0.6481481481481481, 'gini = 0.0\\nsamples = 6\\nvalue = [0, 6]'),\n",
              " Text(0.07606973058637084, 0.6851851851851852, 'X[5] <= 50.475\\ngini = 0.433\\nsamples = 41\\nvalue = [28, 13]'),\n",
              " Text(0.0741192246738998, 0.6481481481481481, 'X[5] <= 48.975\\ngini = 0.124\\nsamples = 15\\nvalue = [14, 1]'),\n",
              " Text(0.07314397171766426, 0.6111111111111112, 'X[5] <= 48.45\\ngini = 0.444\\nsamples = 3\\nvalue = [2, 1]'),\n",
              " Text(0.07216871876142875, 0.5740740740740741, 'gini = 0.0\\nsamples = 2\\nvalue = [2, 0]'),\n",
              " Text(0.0741192246738998, 0.5740740740740741, 'gini = 0.0\\nsamples = 1\\nvalue = [0, 1]'),\n",
              " Text(0.07509447763013531, 0.6111111111111112, 'gini = 0.0\\nsamples = 12\\nvalue = [12, 0]'),\n",
              " Text(0.07802023649884189, 0.6481481481481481, 'X[5] <= 50.675\\ngini = 0.497\\nsamples = 26\\nvalue = [14, 12]'),\n",
              " Text(0.07704498354260636, 0.6111111111111112, 'gini = 0.0\\nsamples = 2\\nvalue = [0, 2]'),\n",
              " Text(0.07899548945507741, 0.6111111111111112, 'X[0] <= 0.5\\ngini = 0.486\\nsamples = 24\\nvalue = [14, 10]'),\n",
              " Text(0.07606973058637084, 0.5740740740740741, 'X[5] <= 54.675\\ngini = 0.397\\nsamples = 11\\nvalue = [8, 3]'),\n",
              " Text(0.07509447763013531, 0.5370370370370371, 'gini = 0.0\\nsamples = 6\\nvalue = [6, 0]'),\n",
              " Text(0.07704498354260636, 0.5370370370370371, 'X[5] <= 60.025\\ngini = 0.48\\nsamples = 5\\nvalue = [2, 3]'),\n",
              " Text(0.07606973058637084, 0.5, 'gini = 0.0\\nsamples = 3\\nvalue = [0, 3]'),\n",
              " Text(0.07802023649884189, 0.5, 'gini = 0.0\\nsamples = 2\\nvalue = [2, 0]'),\n",
              " Text(0.08192124832378399, 0.5740740740740741, 'X[5] <= 61.6\\ngini = 0.497\\nsamples = 13\\nvalue = [6, 7]'),\n",
              " Text(0.08094599536754846, 0.5370370370370371, 'X[5] <= 60.375\\ngini = 0.496\\nsamples = 11\\nvalue = [6, 5]'),\n",
              " Text(0.07997074241131294, 0.5, 'X[5] <= 50.775\\ngini = 0.469\\nsamples = 8\\nvalue = [3, 5]'),\n",
              " Text(0.07899548945507741, 0.46296296296296297, 'gini = 0.0\\nsamples = 1\\nvalue = [1, 0]'),\n",
              " Text(0.08094599536754846, 0.46296296296296297, 'X[5] <= 53.85\\ngini = 0.408\\nsamples = 7\\nvalue = [2, 5]'),\n",
              " Text(0.07997074241131294, 0.42592592592592593, 'gini = 0.0\\nsamples = 3\\nvalue = [0, 3]'),\n",
              " Text(0.08192124832378399, 0.42592592592592593, 'X[5] <= 54.325\\ngini = 0.5\\nsamples = 4\\nvalue = [2, 2]'),\n",
              " Text(0.08094599536754846, 0.3888888888888889, 'gini = 0.0\\nsamples = 1\\nvalue = [1, 0]'),\n",
              " Text(0.0828965012800195, 0.3888888888888889, 'X[5] <= 54.95\\ngini = 0.444\\nsamples = 3\\nvalue = [1, 2]'),\n",
              " Text(0.08192124832378399, 0.35185185185185186, 'gini = 0.0\\nsamples = 1\\nvalue = [0, 1]'),\n",
              " Text(0.08387175423625502, 0.35185185185185186, 'X[5] <= 57.825\\ngini = 0.5\\nsamples = 2\\nvalue = [1, 1]'),\n",
              " Text(0.0828965012800195, 0.3148148148148148, 'gini = 0.0\\nsamples = 1\\nvalue = [1, 0]'),\n",
              " Text(0.08484700719249055, 0.3148148148148148, 'gini = 0.0\\nsamples = 1\\nvalue = [0, 1]'),\n",
              " Text(0.08192124832378399, 0.5, 'gini = 0.0\\nsamples = 3\\nvalue = [3, 0]'),\n",
              " Text(0.0828965012800195, 0.5370370370370371, 'gini = 0.0\\nsamples = 2\\nvalue = [0, 2]'),\n",
              " Text(0.08387175423625502, 0.7592592592592593, 'X[0] <= 0.5\\ngini = 0.469\\nsamples = 16\\nvalue = [6, 10]'),\n",
              " Text(0.08192124832378399, 0.7222222222222222, 'X[2] <= 2.5\\ngini = 0.219\\nsamples = 8\\nvalue = [1, 7]'),\n",
              " Text(0.08094599536754846, 0.6851851851851852, 'gini = 0.0\\nsamples = 5\\nvalue = [0, 5]'),\n",
              " Text(0.0828965012800195, 0.6851851851851852, 'X[3] <= 0.5\\ngini = 0.444\\nsamples = 3\\nvalue = [1, 2]'),\n",
              " Text(0.08192124832378399, 0.6481481481481481, 'X[5] <= 35.0\\ngini = 0.5\\nsamples = 2\\nvalue = [1, 1]'),\n",
              " Text(0.08094599536754846, 0.6111111111111112, 'gini = 0.0\\nsamples = 1\\nvalue = [0, 1]'),\n",
              " Text(0.0828965012800195, 0.6111111111111112, 'gini = 0.0\\nsamples = 1\\nvalue = [1, 0]'),\n",
              " Text(0.08387175423625502, 0.6481481481481481, 'gini = 0.0\\nsamples = 1\\nvalue = [0, 1]'),\n",
              " Text(0.08582226014872607, 0.7222222222222222, 'X[5] <= 25.2\\ngini = 0.469\\nsamples = 8\\nvalue = [5, 3]'),\n",
              " Text(0.08484700719249055, 0.6851851851851852, 'gini = 0.0\\nsamples = 1\\nvalue = [0, 1]'),\n",
              " Text(0.0867975131049616, 0.6851851851851852, 'X[5] <= 30.0\\ngini = 0.408\\nsamples = 7\\nvalue = [5, 2]'),\n",
              " Text(0.08582226014872607, 0.6481481481481481, 'gini = 0.0\\nsamples = 3\\nvalue = [3, 0]'),\n",
              " Text(0.08777276606119712, 0.6481481481481481, 'X[5] <= 37.375\\ngini = 0.5\\nsamples = 4\\nvalue = [2, 2]'),\n",
              " Text(0.0867975131049616, 0.6111111111111112, 'gini = 0.0\\nsamples = 1\\nvalue = [0, 1]'),\n",
              " Text(0.08874801901743265, 0.6111111111111112, 'X[5] <= 44.625\\ngini = 0.444\\nsamples = 3\\nvalue = [2, 1]'),\n",
              " Text(0.08777276606119712, 0.5740740740740741, 'gini = 0.0\\nsamples = 1\\nvalue = [1, 0]'),\n",
              " Text(0.08972327197366817, 0.5740740740740741, 'X[5] <= 50.2\\ngini = 0.5\\nsamples = 2\\nvalue = [1, 1]'),\n",
              " Text(0.08874801901743265, 0.5370370370370371, 'gini = 0.0\\nsamples = 1\\nvalue = [0, 1]'),\n",
              " Text(0.0906985249299037, 0.5370370370370371, 'gini = 0.0\\nsamples = 1\\nvalue = [1, 0]'),\n",
              " Text(0.11507984883579178, 0.7962962962962963, 'X[5] <= 56.4\\ngini = 0.48\\nsamples = 135\\nvalue = [54, 81]'),\n",
              " Text(0.10727782518590759, 0.7592592592592593, 'X[3] <= 0.5\\ngini = 0.46\\nsamples = 123\\nvalue = [44, 79]'),\n",
              " Text(0.09996342801414117, 0.7222222222222222, 'X[1] <= 0.5\\ngini = 0.334\\nsamples = 33\\nvalue = [7, 26]'),\n",
              " Text(0.09752529562355236, 0.6851851851851852, 'X[5] <= 35.125\\ngini = 0.219\\nsamples = 24\\nvalue = [3, 21]'),\n",
              " Text(0.09655004266731683, 0.6481481481481481, 'X[5] <= 32.85\\ngini = 0.355\\nsamples = 13\\nvalue = [3, 10]'),\n",
              " Text(0.09557478971108131, 0.6111111111111112, 'X[5] <= 24.425\\ngini = 0.278\\nsamples = 12\\nvalue = [2, 10]'),\n",
              " Text(0.09362428379861026, 0.5740740740740741, 'X[5] <= 24.325\\ngini = 0.5\\nsamples = 2\\nvalue = [1, 1]'),\n",
              " Text(0.09264903084237475, 0.5370370370370371, 'gini = 0.0\\nsamples = 1\\nvalue = [0, 1]'),\n",
              " Text(0.0945995367548458, 0.5370370370370371, 'gini = 0.0\\nsamples = 1\\nvalue = [1, 0]'),\n",
              " Text(0.09752529562355236, 0.5740740740740741, 'X[0] <= 0.5\\ngini = 0.18\\nsamples = 10\\nvalue = [1, 9]'),\n",
              " Text(0.09655004266731683, 0.5370370370370371, 'X[5] <= 25.175\\ngini = 0.375\\nsamples = 4\\nvalue = [1, 3]'),\n",
              " Text(0.09557478971108131, 0.5, 'X[5] <= 25.125\\ngini = 0.5\\nsamples = 2\\nvalue = [1, 1]'),\n",
              " Text(0.0945995367548458, 0.46296296296296297, 'gini = 0.0\\nsamples = 1\\nvalue = [0, 1]'),\n",
              " Text(0.09655004266731683, 0.46296296296296297, 'gini = 0.0\\nsamples = 1\\nvalue = [1, 0]'),\n",
              " Text(0.09752529562355236, 0.5, 'gini = 0.0\\nsamples = 2\\nvalue = [0, 2]'),\n",
              " Text(0.09850054857978788, 0.5370370370370371, 'gini = 0.0\\nsamples = 6\\nvalue = [0, 6]'),\n",
              " Text(0.09752529562355236, 0.6111111111111112, 'gini = 0.0\\nsamples = 1\\nvalue = [1, 0]'),\n",
              " Text(0.09850054857978788, 0.6481481481481481, 'gini = 0.0\\nsamples = 11\\nvalue = [0, 11]'),\n",
              " Text(0.10240156040472997, 0.6851851851851852, 'X[5] <= 30.875\\ngini = 0.494\\nsamples = 9\\nvalue = [4, 5]'),\n",
              " Text(0.10045105449225893, 0.6481481481481481, 'X[5] <= 27.325\\ngini = 0.375\\nsamples = 4\\nvalue = [3, 1]'),\n",
              " Text(0.09947580153602341, 0.6111111111111112, 'gini = 0.0\\nsamples = 1\\nvalue = [0, 1]'),\n",
              " Text(0.10142630744849446, 0.6111111111111112, 'gini = 0.0\\nsamples = 3\\nvalue = [3, 0]'),\n",
              " Text(0.10435206631720102, 0.6481481481481481, 'X[5] <= 44.5\\ngini = 0.32\\nsamples = 5\\nvalue = [1, 4]'),\n",
              " Text(0.1033768133609655, 0.6111111111111112, 'gini = 0.0\\nsamples = 4\\nvalue = [0, 4]'),\n",
              " Text(0.10532731927343655, 0.6111111111111112, 'gini = 0.0\\nsamples = 1\\nvalue = [1, 0]'),\n",
              " Text(0.11459222235767402, 0.7222222222222222, 'X[5] <= 44.075\\ngini = 0.484\\nsamples = 90\\nvalue = [37, 53]'),\n",
              " Text(0.11020358405461417, 0.6851851851851852, 'X[5] <= 24.525\\ngini = 0.42\\nsamples = 10\\nvalue = [7, 3]'),\n",
              " Text(0.10825307814214312, 0.6481481481481481, 'X[1] <= 0.5\\ngini = 0.444\\nsamples = 3\\nvalue = [1, 2]'),\n",
              " Text(0.10727782518590759, 0.6111111111111112, 'X[5] <= 22.55\\ngini = 0.5\\nsamples = 2\\nvalue = [1, 1]'),\n",
              " Text(0.10630257222967207, 0.5740740740740741, 'gini = 0.0\\nsamples = 1\\nvalue = [1, 0]'),\n",
              " Text(0.10825307814214312, 0.5740740740740741, 'gini = 0.0\\nsamples = 1\\nvalue = [0, 1]'),\n",
              " Text(0.10922833109837864, 0.6111111111111112, 'gini = 0.0\\nsamples = 1\\nvalue = [0, 1]'),\n",
              " Text(0.11215408996708522, 0.6481481481481481, 'X[2] <= 2.0\\ngini = 0.245\\nsamples = 7\\nvalue = [6, 1]'),\n",
              " Text(0.11117883701084968, 0.6111111111111112, 'gini = 0.0\\nsamples = 5\\nvalue = [5, 0]'),\n",
              " Text(0.11312934292332073, 0.6111111111111112, 'X[5] <= 34.85\\ngini = 0.5\\nsamples = 2\\nvalue = [1, 1]'),\n",
              " Text(0.11215408996708522, 0.5740740740740741, 'gini = 0.0\\nsamples = 1\\nvalue = [1, 0]'),\n",
              " Text(0.11410459587955626, 0.5740740740740741, 'gini = 0.0\\nsamples = 1\\nvalue = [0, 1]'),\n",
              " Text(0.11898086066073388, 0.6851851851851852, 'X[5] <= 55.575\\ngini = 0.469\\nsamples = 80\\nvalue = [30, 50]'),\n",
              " Text(0.11800560770449836, 0.6481481481481481, 'X[5] <= 55.175\\ngini = 0.478\\nsamples = 76\\nvalue = [30, 46]'),\n",
              " Text(0.11703035474826283, 0.6111111111111112, 'X[5] <= 54.675\\ngini = 0.461\\nsamples = 72\\nvalue = [26, 46]'),\n",
              " Text(0.11605510179202731, 0.5740740740740741, 'X[5] <= 54.425\\ngini = 0.478\\nsamples = 66\\nvalue = [26, 40]'),\n",
              " Text(0.11507984883579178, 0.5370370370370371, 'X[5] <= 44.725\\ngini = 0.469\\nsamples = 64\\nvalue = [24, 40]'),\n",
              " Text(0.11087407046202609, 0.5, 'X[2] <= 1.5\\ngini = 0.219\\nsamples = 8\\nvalue = [1, 7]'),\n",
              " Text(0.10989881750579056, 0.46296296296296297, 'gini = 0.0\\nsamples = 4\\nvalue = [0, 4]'),\n",
              " Text(0.1118493234182616, 0.46296296296296297, 'X[0] <= 0.5\\ngini = 0.375\\nsamples = 4\\nvalue = [1, 3]'),\n",
              " Text(0.11087407046202609, 0.42592592592592593, 'X[1] <= 0.5\\ngini = 0.5\\nsamples = 2\\nvalue = [1, 1]'),\n",
              " Text(0.10989881750579056, 0.3888888888888889, 'gini = 0.0\\nsamples = 1\\nvalue = [1, 0]'),\n",
              " Text(0.1118493234182616, 0.3888888888888889, 'gini = 0.0\\nsamples = 1\\nvalue = [0, 1]'),\n",
              " Text(0.11282457637449714, 0.42592592592592593, 'gini = 0.0\\nsamples = 2\\nvalue = [0, 2]'),\n",
              " Text(0.11928562720955747, 0.5, 'X[5] <= 45.05\\ngini = 0.484\\nsamples = 56\\nvalue = [23, 33]'),\n",
              " Text(0.1157503352432037, 0.46296296296296297, 'X[5] <= 44.925\\ngini = 0.375\\nsamples = 4\\nvalue = [3, 1]'),\n",
              " Text(0.11477508228696819, 0.42592592592592593, 'X[5] <= 44.825\\ngini = 0.5\\nsamples = 2\\nvalue = [1, 1]'),\n",
              " Text(0.11379982933073265, 0.3888888888888889, 'gini = 0.0\\nsamples = 1\\nvalue = [1, 0]'),\n",
              " Text(0.1157503352432037, 0.3888888888888889, 'gini = 0.0\\nsamples = 1\\nvalue = [0, 1]'),\n",
              " Text(0.11672558819943923, 0.42592592592592593, 'gini = 0.0\\nsamples = 2\\nvalue = [2, 0]'),\n",
              " Text(0.12282091917591126, 0.46296296296296297, 'X[5] <= 45.75\\ngini = 0.473\\nsamples = 52\\nvalue = [20, 32]'),\n",
              " Text(0.11867609411191028, 0.42592592592592593, 'X[2] <= 1.5\\ngini = 0.298\\nsamples = 11\\nvalue = [2, 9]'),\n",
              " Text(0.11770084115567475, 0.3888888888888889, 'gini = 0.0\\nsamples = 7\\nvalue = [0, 7]'),\n",
              " Text(0.1196513470681458, 0.3888888888888889, 'X[0] <= 0.5\\ngini = 0.5\\nsamples = 4\\nvalue = [2, 2]'),\n",
              " Text(0.11867609411191028, 0.35185185185185186, 'gini = 0.0\\nsamples = 2\\nvalue = [2, 0]'),\n",
              " Text(0.12062660002438133, 0.35185185185185186, 'gini = 0.0\\nsamples = 2\\nvalue = [0, 2]'),\n",
              " Text(0.12696574423991222, 0.42592592592592593, 'X[5] <= 48.9\\ngini = 0.493\\nsamples = 41\\nvalue = [18, 23]'),\n",
              " Text(0.1235523588930879, 0.3888888888888889, 'X[5] <= 45.975\\ngini = 0.219\\nsamples = 8\\nvalue = [7, 1]'),\n",
              " Text(0.12257710593685237, 0.35185185185185186, 'X[5] <= 45.825\\ngini = 0.375\\nsamples = 4\\nvalue = [3, 1]'),\n",
              " Text(0.12160185298061685, 0.3148148148148148, 'gini = 0.0\\nsamples = 1\\nvalue = [1, 0]'),\n",
              " Text(0.1235523588930879, 0.3148148148148148, 'X[2] <= 1.5\\ngini = 0.444\\nsamples = 3\\nvalue = [2, 1]'),\n",
              " Text(0.12257710593685237, 0.2777777777777778, 'gini = 0.5\\nsamples = 2\\nvalue = [1, 1]'),\n",
              " Text(0.12452761184932341, 0.2777777777777778, 'gini = 0.0\\nsamples = 1\\nvalue = [1, 0]'),\n",
              " Text(0.12452761184932341, 0.35185185185185186, 'gini = 0.0\\nsamples = 4\\nvalue = [4, 0]'),\n",
              " Text(0.13037912958673656, 0.3888888888888889, 'X[5] <= 49.725\\ngini = 0.444\\nsamples = 33\\nvalue = [11, 22]'),\n",
              " Text(0.12842862367426552, 0.35185185185185186, 'X[2] <= 1.5\\ngini = 0.198\\nsamples = 9\\nvalue = [1, 8]'),\n",
              " Text(0.12745337071802998, 0.3148148148148148, 'X[1] <= 0.5\\ngini = 0.375\\nsamples = 4\\nvalue = [1, 3]'),\n",
              " Text(0.12647811776179446, 0.2777777777777778, 'X[5] <= 49.475\\ngini = 0.5\\nsamples = 2\\nvalue = [1, 1]'),\n",
              " Text(0.12550286480555894, 0.24074074074074073, 'gini = 0.0\\nsamples = 1\\nvalue = [1, 0]'),\n",
              " Text(0.12745337071802998, 0.24074074074074073, 'gini = 0.0\\nsamples = 1\\nvalue = [0, 1]'),\n",
              " Text(0.12842862367426552, 0.2777777777777778, 'gini = 0.0\\nsamples = 2\\nvalue = [0, 2]'),\n",
              " Text(0.12940387663050104, 0.3148148148148148, 'gini = 0.0\\nsamples = 5\\nvalue = [0, 5]'),\n",
              " Text(0.13232963549920762, 0.35185185185185186, 'X[5] <= 49.85\\ngini = 0.486\\nsamples = 24\\nvalue = [10, 14]'),\n",
              " Text(0.13135438254297208, 0.3148148148148148, 'gini = 0.0\\nsamples = 1\\nvalue = [1, 0]'),\n",
              " Text(0.13330488845544314, 0.3148148148148148, 'X[5] <= 50.775\\ngini = 0.476\\nsamples = 23\\nvalue = [9, 14]'),\n",
              " Text(0.13062294282579545, 0.2777777777777778, 'X[1] <= 0.5\\ngini = 0.498\\nsamples = 15\\nvalue = [7, 8]'),\n",
              " Text(0.1296476898695599, 0.24074074074074073, 'X[5] <= 50.6\\ngini = 0.5\\nsamples = 14\\nvalue = [7, 7]'),\n",
              " Text(0.1272095574789711, 0.2037037037037037, 'X[5] <= 50.3\\ngini = 0.496\\nsamples = 11\\nvalue = [5, 6]'),\n",
              " Text(0.12525905156650005, 0.16666666666666666, 'X[2] <= 2.0\\ngini = 0.49\\nsamples = 7\\nvalue = [4, 3]'),\n",
              " Text(0.12428379861026453, 0.12962962962962962, 'X[5] <= 50.125\\ngini = 0.444\\nsamples = 6\\nvalue = [4, 2]'),\n",
              " Text(0.12330854565402902, 0.09259259259259259, 'X[0] <= 0.5\\ngini = 0.48\\nsamples = 5\\nvalue = [3, 2]'),\n",
              " Text(0.12233329269779349, 0.05555555555555555, 'X[5] <= 50.0\\ngini = 0.444\\nsamples = 3\\nvalue = [2, 1]'),\n",
              " Text(0.12135803974155797, 0.018518518518518517, 'gini = 0.0\\nsamples = 1\\nvalue = [1, 0]'),\n",
              " Text(0.12330854565402902, 0.018518518518518517, 'gini = 0.5\\nsamples = 2\\nvalue = [1, 1]'),\n",
              " Text(0.12428379861026453, 0.05555555555555555, 'gini = 0.5\\nsamples = 2\\nvalue = [1, 1]'),\n",
              " Text(0.12525905156650005, 0.09259259259259259, 'gini = 0.0\\nsamples = 1\\nvalue = [1, 0]'),\n",
              " Text(0.1262343045227356, 0.12962962962962962, 'gini = 0.0\\nsamples = 1\\nvalue = [0, 1]'),\n",
              " Text(0.12916006339144215, 0.16666666666666666, 'X[2] <= 2.0\\ngini = 0.375\\nsamples = 4\\nvalue = [1, 3]'),\n",
              " Text(0.12818481043520663, 0.12962962962962962, 'gini = 0.0\\nsamples = 3\\nvalue = [0, 3]'),\n",
              " Text(0.13013531634767767, 0.12962962962962962, 'gini = 0.0\\nsamples = 1\\nvalue = [1, 0]'),\n",
              " Text(0.13208582226014873, 0.2037037037037037, 'X[5] <= 50.725\\ngini = 0.444\\nsamples = 3\\nvalue = [2, 1]'),\n",
              " Text(0.1311105693039132, 0.16666666666666666, 'gini = 0.0\\nsamples = 1\\nvalue = [1, 0]'),\n",
              " Text(0.13306107521638424, 0.16666666666666666, 'gini = 0.5\\nsamples = 2\\nvalue = [1, 1]'),\n",
              " Text(0.13159819578203097, 0.24074074074074073, 'gini = 0.0\\nsamples = 1\\nvalue = [0, 1]'),\n",
              " Text(0.13598683408509082, 0.2777777777777778, 'X[2] <= 2.5\\ngini = 0.375\\nsamples = 8\\nvalue = [2, 6]'),\n",
              " Text(0.1350115811288553, 0.24074074074074073, 'X[1] <= 0.5\\ngini = 0.245\\nsamples = 7\\nvalue = [1, 6]'),\n",
              " Text(0.13403632817261976, 0.2037037037037037, 'gini = 0.0\\nsamples = 6\\nvalue = [0, 6]'),\n",
              " Text(0.13598683408509082, 0.2037037037037037, 'gini = 0.0\\nsamples = 1\\nvalue = [1, 0]'),\n",
              " Text(0.13696208704132634, 0.24074074074074073, 'gini = 0.0\\nsamples = 1\\nvalue = [1, 0]'),\n",
              " Text(0.11703035474826283, 0.5370370370370371, 'gini = 0.0\\nsamples = 2\\nvalue = [2, 0]'),\n",
              " Text(0.11800560770449836, 0.5740740740740741, 'gini = 0.0\\nsamples = 6\\nvalue = [0, 6]'),\n",
              " Text(0.11898086066073388, 0.6111111111111112, 'gini = 0.0\\nsamples = 4\\nvalue = [4, 0]'),\n",
              " Text(0.1199561136169694, 0.6481481481481481, 'gini = 0.0\\nsamples = 4\\nvalue = [0, 4]'),\n",
              " Text(0.12288187248567597, 0.7592592592592593, 'X[0] <= 0.5\\ngini = 0.278\\nsamples = 12\\nvalue = [10, 2]'),\n",
              " Text(0.12190661952944044, 0.7222222222222222, 'X[2] <= 1.5\\ngini = 0.408\\nsamples = 7\\nvalue = [5, 2]'),\n",
              " Text(0.12093136657320493, 0.6851851851851852, 'gini = 0.0\\nsamples = 1\\nvalue = [0, 1]'),\n",
              " Text(0.12288187248567597, 0.6851851851851852, 'X[5] <= 62.4\\ngini = 0.278\\nsamples = 6\\nvalue = [5, 1]'),\n",
              " Text(0.12190661952944044, 0.6481481481481481, 'gini = 0.0\\nsamples = 4\\nvalue = [4, 0]'),\n",
              " Text(0.12385712544191149, 0.6481481481481481, 'X[5] <= 64.05\\ngini = 0.5\\nsamples = 2\\nvalue = [1, 1]'),\n",
              " Text(0.12288187248567597, 0.6111111111111112, 'gini = 0.0\\nsamples = 1\\nvalue = [0, 1]'),\n",
              " Text(0.12483237839814702, 0.6111111111111112, 'gini = 0.0\\nsamples = 1\\nvalue = [1, 0]'),\n",
              " Text(0.12385712544191149, 0.7222222222222222, 'gini = 0.0\\nsamples = 5\\nvalue = [5, 0]'),\n",
              " Text(0.16562538095818602, 0.8703703703703703, 'X[5] <= 20.9\\ngini = 0.318\\nsamples = 429\\nvalue = [344, 85]'),\n",
              " Text(0.1344630013409728, 0.8333333333333334, 'X[5] <= 19.275\\ngini = 0.142\\nsamples = 156\\nvalue = [144, 12]'),\n",
              " Text(0.1277581372668536, 0.7962962962962963, 'X[5] <= 19.225\\ngini = 0.391\\nsamples = 15\\nvalue = [11, 4]'),\n",
              " Text(0.12678288431061807, 0.7592592592592593, 'X[2] <= 8.5\\ngini = 0.26\\nsamples = 13\\nvalue = [11, 2]'),\n",
              " Text(0.12580763135438255, 0.7222222222222222, 'gini = 0.0\\nsamples = 8\\nvalue = [8, 0]'),\n",
              " Text(0.1277581372668536, 0.7222222222222222, 'X[5] <= 19.025\\ngini = 0.48\\nsamples = 5\\nvalue = [3, 2]'),\n",
              " Text(0.12678288431061807, 0.6851851851851852, 'X[5] <= 18.9\\ngini = 0.444\\nsamples = 3\\nvalue = [1, 2]'),\n",
              " Text(0.12580763135438255, 0.6481481481481481, 'gini = 0.0\\nsamples = 1\\nvalue = [1, 0]'),\n",
              " Text(0.1277581372668536, 0.6481481481481481, 'gini = 0.0\\nsamples = 2\\nvalue = [0, 2]'),\n",
              " Text(0.1287333902230891, 0.6851851851851852, 'gini = 0.0\\nsamples = 2\\nvalue = [2, 0]'),\n",
              " Text(0.1287333902230891, 0.7592592592592593, 'gini = 0.0\\nsamples = 2\\nvalue = [0, 2]'),\n",
              " Text(0.14116786541509205, 0.7962962962962963, 'X[1] <= 0.5\\ngini = 0.107\\nsamples = 141\\nvalue = [133, 8]'),\n",
              " Text(0.13507253443862002, 0.7592592592592593, 'X[2] <= 5.5\\ngini = 0.064\\nsamples = 91\\nvalue = [88, 3]'),\n",
              " Text(0.1326344020480312, 0.7222222222222222, 'X[0] <= 0.5\\ngini = 0.133\\nsamples = 28\\nvalue = [26, 2]'),\n",
              " Text(0.13165914909179569, 0.6851851851851852, 'X[5] <= 19.9\\ngini = 0.26\\nsamples = 13\\nvalue = [11, 2]'),\n",
              " Text(0.12970864317932465, 0.6481481481481481, 'X[5] <= 19.7\\ngini = 0.5\\nsamples = 2\\nvalue = [1, 1]'),\n",
              " Text(0.1287333902230891, 0.6111111111111112, 'gini = 0.0\\nsamples = 1\\nvalue = [1, 0]'),\n",
              " Text(0.13068389613556017, 0.6111111111111112, 'gini = 0.0\\nsamples = 1\\nvalue = [0, 1]'),\n",
              " Text(0.13360965500426672, 0.6481481481481481, 'X[5] <= 20.25\\ngini = 0.165\\nsamples = 11\\nvalue = [10, 1]'),\n",
              " Text(0.1326344020480312, 0.6111111111111112, 'gini = 0.0\\nsamples = 6\\nvalue = [6, 0]'),\n",
              " Text(0.13458490796050226, 0.6111111111111112, 'X[5] <= 20.375\\ngini = 0.32\\nsamples = 5\\nvalue = [4, 1]'),\n",
              " Text(0.13360965500426672, 0.5740740740740741, 'gini = 0.0\\nsamples = 1\\nvalue = [0, 1]'),\n",
              " Text(0.13556016091673778, 0.5740740740740741, 'gini = 0.0\\nsamples = 4\\nvalue = [4, 0]'),\n",
              " Text(0.13360965500426672, 0.6851851851851852, 'gini = 0.0\\nsamples = 15\\nvalue = [15, 0]'),\n",
              " Text(0.13751066682920882, 0.7222222222222222, 'X[5] <= 20.225\\ngini = 0.031\\nsamples = 63\\nvalue = [62, 1]'),\n",
              " Text(0.1365354138729733, 0.6851851851851852, 'gini = 0.0\\nsamples = 44\\nvalue = [44, 0]'),\n",
              " Text(0.13848591978544436, 0.6851851851851852, 'X[5] <= 20.275\\ngini = 0.1\\nsamples = 19\\nvalue = [18, 1]'),\n",
              " Text(0.13751066682920882, 0.6481481481481481, 'X[0] <= 0.5\\ngini = 0.444\\nsamples = 3\\nvalue = [2, 1]'),\n",
              " Text(0.1365354138729733, 0.6111111111111112, 'gini = 0.0\\nsamples = 1\\nvalue = [1, 0]'),\n",
              " Text(0.13848591978544436, 0.6111111111111112, 'X[2] <= 10.0\\ngini = 0.5\\nsamples = 2\\nvalue = [1, 1]'),\n",
              " Text(0.13751066682920882, 0.5740740740740741, 'gini = 0.0\\nsamples = 1\\nvalue = [0, 1]'),\n",
              " Text(0.13946117274167988, 0.5740740740740741, 'gini = 0.0\\nsamples = 1\\nvalue = [1, 0]'),\n",
              " Text(0.13946117274167988, 0.6481481481481481, 'gini = 0.0\\nsamples = 16\\nvalue = [16, 0]'),\n",
              " Text(0.14726319639156407, 0.7592592592592593, 'X[0] <= 0.5\\ngini = 0.18\\nsamples = 50\\nvalue = [45, 5]'),\n",
              " Text(0.145312690479093, 0.7222222222222222, 'X[2] <= 8.5\\ngini = 0.26\\nsamples = 26\\nvalue = [22, 4]'),\n",
              " Text(0.1443374375228575, 0.6851851851851852, 'X[5] <= 20.4\\ngini = 0.375\\nsamples = 16\\nvalue = [12, 4]'),\n",
              " Text(0.14336218456662198, 0.6481481481481481, 'X[5] <= 20.25\\ngini = 0.426\\nsamples = 13\\nvalue = [9, 4]'),\n",
              " Text(0.14238693161038643, 0.6111111111111112, 'X[2] <= 5.0\\ngini = 0.375\\nsamples = 12\\nvalue = [9, 3]'),\n",
              " Text(0.1414116786541509, 0.5740740740740741, 'gini = 0.0\\nsamples = 3\\nvalue = [3, 0]'),\n",
              " Text(0.14336218456662198, 0.5740740740740741, 'X[5] <= 20.125\\ngini = 0.444\\nsamples = 9\\nvalue = [6, 3]'),\n",
              " Text(0.14238693161038643, 0.5370370370370371, 'X[5] <= 19.775\\ngini = 0.375\\nsamples = 8\\nvalue = [6, 2]'),\n",
              " Text(0.1414116786541509, 0.5, 'X[5] <= 19.725\\ngini = 0.48\\nsamples = 5\\nvalue = [3, 2]'),\n",
              " Text(0.1404364256979154, 0.46296296296296297, 'X[5] <= 19.6\\ngini = 0.375\\nsamples = 4\\nvalue = [3, 1]'),\n",
              " Text(0.13946117274167988, 0.42592592592592593, 'X[2] <= 7.0\\ngini = 0.5\\nsamples = 2\\nvalue = [1, 1]'),\n",
              " Text(0.13848591978544436, 0.3888888888888889, 'gini = 0.0\\nsamples = 1\\nvalue = [0, 1]'),\n",
              " Text(0.1404364256979154, 0.3888888888888889, 'gini = 0.0\\nsamples = 1\\nvalue = [1, 0]'),\n",
              " Text(0.1414116786541509, 0.42592592592592593, 'gini = 0.0\\nsamples = 2\\nvalue = [2, 0]'),\n",
              " Text(0.14238693161038643, 0.46296296296296297, 'gini = 0.0\\nsamples = 1\\nvalue = [0, 1]'),\n",
              " Text(0.14336218456662198, 0.5, 'gini = 0.0\\nsamples = 3\\nvalue = [3, 0]'),\n",
              " Text(0.1443374375228575, 0.5370370370370371, 'gini = 0.0\\nsamples = 1\\nvalue = [0, 1]'),\n",
              " Text(0.1443374375228575, 0.6111111111111112, 'gini = 0.0\\nsamples = 1\\nvalue = [0, 1]'),\n",
              " Text(0.145312690479093, 0.6481481481481481, 'gini = 0.0\\nsamples = 3\\nvalue = [3, 0]'),\n",
              " Text(0.14628794343532853, 0.6851851851851852, 'gini = 0.0\\nsamples = 10\\nvalue = [10, 0]'),\n",
              " Text(0.1492137023040351, 0.7222222222222222, 'X[2] <= 10.5\\ngini = 0.08\\nsamples = 24\\nvalue = [23, 1]'),\n",
              " Text(0.1482384493477996, 0.6851851851851852, 'gini = 0.0\\nsamples = 19\\nvalue = [19, 0]'),\n",
              " Text(0.15018895526027062, 0.6851851851851852, 'X[5] <= 19.875\\ngini = 0.32\\nsamples = 5\\nvalue = [4, 1]'),\n",
              " Text(0.1492137023040351, 0.6481481481481481, 'gini = 0.0\\nsamples = 3\\nvalue = [3, 0]'),\n",
              " Text(0.15116420821650617, 0.6481481481481481, 'X[5] <= 20.225\\ngini = 0.5\\nsamples = 2\\nvalue = [1, 1]'),\n",
              " Text(0.15018895526027062, 0.6111111111111112, 'gini = 0.0\\nsamples = 1\\nvalue = [0, 1]'),\n",
              " Text(0.15213946117274169, 0.6111111111111112, 'gini = 0.0\\nsamples = 1\\nvalue = [1, 0]'),\n",
              " Text(0.19678776057539923, 0.8333333333333334, 'X[5] <= 51.125\\ngini = 0.392\\nsamples = 273\\nvalue = [200, 73]'),\n",
              " Text(0.17438741923686457, 0.7962962962962963, 'X[2] <= 5.5\\ngini = 0.449\\nsamples = 182\\nvalue = [120, 62]'),\n",
              " Text(0.16262343045227357, 0.7592592592592593, 'X[5] <= 45.525\\ngini = 0.5\\nsamples = 56\\nvalue = [28, 28]'),\n",
              " Text(0.15799097891015482, 0.7222222222222222, 'X[1] <= 0.5\\ngini = 0.464\\nsamples = 30\\nvalue = [19, 11]'),\n",
              " Text(0.15604047299768378, 0.6851851851851852, 'X[5] <= 43.65\\ngini = 0.499\\nsamples = 19\\nvalue = [9, 10]'),\n",
              " Text(0.15506522004144824, 0.6481481481481481, 'X[5] <= 35.0\\ngini = 0.469\\nsamples = 16\\nvalue = [6, 10]'),\n",
              " Text(0.15408996708521272, 0.6111111111111112, 'X[5] <= 22.475\\ngini = 0.497\\nsamples = 13\\nvalue = [6, 7]'),\n",
              " Text(0.1531147141289772, 0.5740740740740741, 'gini = 0.0\\nsamples = 2\\nvalue = [0, 2]'),\n",
              " Text(0.15506522004144824, 0.5740740740740741, 'X[3] <= 0.5\\ngini = 0.496\\nsamples = 11\\nvalue = [6, 5]'),\n",
              " Text(0.15408996708521272, 0.5370370370370371, 'X[5] <= 30.075\\ngini = 0.469\\nsamples = 8\\nvalue = [3, 5]'),\n",
              " Text(0.1531147141289772, 0.5, 'X[4] <= 0.5\\ngini = 0.408\\nsamples = 7\\nvalue = [2, 5]'),\n",
              " Text(0.15116420821650617, 0.46296296296296297, 'X[5] <= 26.375\\ngini = 0.5\\nsamples = 2\\nvalue = [1, 1]'),\n",
              " Text(0.15018895526027062, 0.42592592592592593, 'gini = 0.0\\nsamples = 1\\nvalue = [1, 0]'),\n",
              " Text(0.15213946117274169, 0.42592592592592593, 'gini = 0.0\\nsamples = 1\\nvalue = [0, 1]'),\n",
              " Text(0.15506522004144824, 0.46296296296296297, 'X[5] <= 27.175\\ngini = 0.32\\nsamples = 5\\nvalue = [1, 4]'),\n",
              " Text(0.15408996708521272, 0.42592592592592593, 'gini = 0.0\\nsamples = 3\\nvalue = [0, 3]'),\n",
              " Text(0.15604047299768378, 0.42592592592592593, 'X[5] <= 29.4\\ngini = 0.5\\nsamples = 2\\nvalue = [1, 1]'),\n",
              " Text(0.15506522004144824, 0.3888888888888889, 'gini = 0.0\\nsamples = 1\\nvalue = [1, 0]'),\n",
              " Text(0.1570157259539193, 0.3888888888888889, 'gini = 0.0\\nsamples = 1\\nvalue = [0, 1]'),\n",
              " Text(0.15506522004144824, 0.5, 'gini = 0.0\\nsamples = 1\\nvalue = [1, 0]'),\n",
              " Text(0.15604047299768378, 0.5370370370370371, 'gini = 0.0\\nsamples = 3\\nvalue = [3, 0]'),\n",
              " Text(0.15604047299768378, 0.6111111111111112, 'gini = 0.0\\nsamples = 3\\nvalue = [0, 3]'),\n",
              " Text(0.1570157259539193, 0.6481481481481481, 'gini = 0.0\\nsamples = 3\\nvalue = [3, 0]'),\n",
              " Text(0.15994148482262588, 0.6851851851851852, 'X[5] <= 27.475\\ngini = 0.165\\nsamples = 11\\nvalue = [10, 1]'),\n",
              " Text(0.15896623186639033, 0.6481481481481481, 'X[2] <= 4.5\\ngini = 0.444\\nsamples = 3\\nvalue = [2, 1]'),\n",
              " Text(0.15799097891015482, 0.6111111111111112, 'gini = 0.0\\nsamples = 2\\nvalue = [2, 0]'),\n",
              " Text(0.15994148482262588, 0.6111111111111112, 'gini = 0.0\\nsamples = 1\\nvalue = [0, 1]'),\n",
              " Text(0.1609167377788614, 0.6481481481481481, 'gini = 0.0\\nsamples = 8\\nvalue = [8, 0]'),\n",
              " Text(0.16725588199439229, 0.7222222222222222, 'X[4] <= 0.5\\ngini = 0.453\\nsamples = 26\\nvalue = [9, 17]'),\n",
              " Text(0.16384249664756798, 0.6851851851851852, 'X[0] <= 0.5\\ngini = 0.165\\nsamples = 11\\nvalue = [1, 10]'),\n",
              " Text(0.16286724369133243, 0.6481481481481481, 'gini = 0.0\\nsamples = 5\\nvalue = [0, 5]'),\n",
              " Text(0.1648177496038035, 0.6481481481481481, 'X[5] <= 49.3\\ngini = 0.278\\nsamples = 6\\nvalue = [1, 5]'),\n",
              " Text(0.16384249664756798, 0.6111111111111112, 'X[2] <= 4.5\\ngini = 0.5\\nsamples = 2\\nvalue = [1, 1]'),\n",
              " Text(0.16286724369133243, 0.5740740740740741, 'gini = 0.0\\nsamples = 1\\nvalue = [1, 0]'),\n",
              " Text(0.1648177496038035, 0.5740740740740741, 'gini = 0.0\\nsamples = 1\\nvalue = [0, 1]'),\n",
              " Text(0.165793002560039, 0.6111111111111112, 'gini = 0.0\\nsamples = 4\\nvalue = [0, 4]'),\n",
              " Text(0.17066926734121662, 0.6851851851851852, 'X[5] <= 50.925\\ngini = 0.498\\nsamples = 15\\nvalue = [8, 7]'),\n",
              " Text(0.1687187614287456, 0.6481481481481481, 'X[5] <= 45.95\\ngini = 0.496\\nsamples = 11\\nvalue = [5, 6]'),\n",
              " Text(0.16774350847251004, 0.6111111111111112, 'gini = 0.0\\nsamples = 1\\nvalue = [1, 0]'),\n",
              " Text(0.1696940143849811, 0.6111111111111112, 'X[5] <= 48.6\\ngini = 0.48\\nsamples = 10\\nvalue = [4, 6]'),\n",
              " Text(0.1687187614287456, 0.5740740740740741, 'gini = 0.0\\nsamples = 2\\nvalue = [0, 2]'),\n",
              " Text(0.17066926734121662, 0.5740740740740741, 'X[5] <= 48.925\\ngini = 0.5\\nsamples = 8\\nvalue = [4, 4]'),\n",
              " Text(0.1696940143849811, 0.5370370370370371, 'gini = 0.0\\nsamples = 1\\nvalue = [1, 0]'),\n",
              " Text(0.17164452029745214, 0.5370370370370371, 'X[0] <= 0.5\\ngini = 0.49\\nsamples = 7\\nvalue = [3, 4]'),\n",
              " Text(0.1696940143849811, 0.5, 'X[5] <= 50.575\\ngini = 0.444\\nsamples = 3\\nvalue = [2, 1]'),\n",
              " Text(0.1687187614287456, 0.46296296296296297, 'gini = 0.0\\nsamples = 2\\nvalue = [2, 0]'),\n",
              " Text(0.17066926734121662, 0.46296296296296297, 'gini = 0.0\\nsamples = 1\\nvalue = [0, 1]'),\n",
              " Text(0.1735950262099232, 0.5, 'X[5] <= 50.1\\ngini = 0.375\\nsamples = 4\\nvalue = [1, 3]'),\n",
              " Text(0.17261977325368769, 0.46296296296296297, 'gini = 0.0\\nsamples = 2\\nvalue = [0, 2]'),\n",
              " Text(0.17457027916615872, 0.46296296296296297, 'X[1] <= 0.5\\ngini = 0.5\\nsamples = 2\\nvalue = [1, 1]'),\n",
              " Text(0.1735950262099232, 0.42592592592592593, 'gini = 0.0\\nsamples = 1\\nvalue = [1, 0]'),\n",
              " Text(0.17554553212239424, 0.42592592592592593, 'gini = 0.0\\nsamples = 1\\nvalue = [0, 1]'),\n",
              " Text(0.17261977325368769, 0.6481481481481481, 'X[0] <= 0.5\\ngini = 0.375\\nsamples = 4\\nvalue = [3, 1]'),\n",
              " Text(0.17164452029745214, 0.6111111111111112, 'gini = 0.0\\nsamples = 2\\nvalue = [2, 0]'),\n",
              " Text(0.1735950262099232, 0.6111111111111112, 'X[2] <= 4.5\\ngini = 0.5\\nsamples = 2\\nvalue = [1, 1]'),\n",
              " Text(0.17261977325368769, 0.5740740740740741, 'gini = 0.0\\nsamples = 1\\nvalue = [1, 0]'),\n",
              " Text(0.17457027916615872, 0.5740740740740741, 'gini = 0.0\\nsamples = 1\\nvalue = [0, 1]'),\n",
              " Text(0.18615140802145558, 0.7592592592592593, 'X[5] <= 29.375\\ngini = 0.394\\nsamples = 126\\nvalue = [92, 34]'),\n",
              " Text(0.17944654394733633, 0.7222222222222222, 'X[3] <= 0.5\\ngini = 0.198\\nsamples = 36\\nvalue = [32, 4]'),\n",
              " Text(0.1774960380348653, 0.6851851851851852, 'X[4] <= 0.5\\ngini = 0.444\\nsamples = 9\\nvalue = [6, 3]'),\n",
              " Text(0.17652078507862978, 0.6481481481481481, 'X[5] <= 29.275\\ngini = 0.375\\nsamples = 4\\nvalue = [1, 3]'),\n",
              " Text(0.17554553212239424, 0.6111111111111112, 'gini = 0.0\\nsamples = 3\\nvalue = [0, 3]'),\n",
              " Text(0.1774960380348653, 0.6111111111111112, 'gini = 0.0\\nsamples = 1\\nvalue = [1, 0]'),\n",
              " Text(0.17847129099110082, 0.6481481481481481, 'gini = 0.0\\nsamples = 5\\nvalue = [5, 0]'),\n",
              " Text(0.1813970498598074, 0.6851851851851852, 'X[5] <= 23.325\\ngini = 0.071\\nsamples = 27\\nvalue = [26, 1]'),\n",
              " Text(0.18042179690357185, 0.6481481481481481, 'X[5] <= 22.2\\ngini = 0.219\\nsamples = 8\\nvalue = [7, 1]'),\n",
              " Text(0.17944654394733633, 0.6111111111111112, 'gini = 0.0\\nsamples = 7\\nvalue = [7, 0]'),\n",
              " Text(0.1813970498598074, 0.6111111111111112, 'gini = 0.0\\nsamples = 1\\nvalue = [0, 1]'),\n",
              " Text(0.1823723028160429, 0.6481481481481481, 'gini = 0.0\\nsamples = 19\\nvalue = [19, 0]'),\n",
              " Text(0.1928562720955748, 0.7222222222222222, 'X[4] <= 0.5\\ngini = 0.444\\nsamples = 90\\nvalue = [60, 30]'),\n",
              " Text(0.186273314640985, 0.6851851851851852, 'X[0] <= 0.5\\ngini = 0.283\\nsamples = 41\\nvalue = [34, 7]'),\n",
              " Text(0.18432280872851395, 0.6481481481481481, 'X[2] <= 10.5\\ngini = 0.091\\nsamples = 21\\nvalue = [20, 1]'),\n",
              " Text(0.18334755577227843, 0.6111111111111112, 'gini = 0.0\\nsamples = 14\\nvalue = [14, 0]'),\n",
              " Text(0.1852980616847495, 0.6111111111111112, 'X[1] <= 0.5\\ngini = 0.245\\nsamples = 7\\nvalue = [6, 1]'),\n",
              " Text(0.18432280872851395, 0.5740740740740741, 'X[2] <= 11.5\\ngini = 0.444\\nsamples = 3\\nvalue = [2, 1]'),\n",
              " Text(0.18334755577227843, 0.5370370370370371, 'gini = 0.0\\nsamples = 1\\nvalue = [0, 1]'),\n",
              " Text(0.1852980616847495, 0.5370370370370371, 'gini = 0.0\\nsamples = 2\\nvalue = [2, 0]'),\n",
              " Text(0.186273314640985, 0.5740740740740741, 'gini = 0.0\\nsamples = 4\\nvalue = [4, 0]'),\n",
              " Text(0.18822382055345604, 0.6481481481481481, 'X[5] <= 31.75\\ngini = 0.42\\nsamples = 20\\nvalue = [14, 6]'),\n",
              " Text(0.18724856759722053, 0.6111111111111112, 'gini = 0.0\\nsamples = 1\\nvalue = [0, 1]'),\n",
              " Text(0.1891990735096916, 0.6111111111111112, 'X[5] <= 39.6\\ngini = 0.388\\nsamples = 19\\nvalue = [14, 5]'),\n",
              " Text(0.18822382055345604, 0.5740740740740741, 'gini = 0.0\\nsamples = 4\\nvalue = [4, 0]'),\n",
              " Text(0.1901743264659271, 0.5740740740740741, 'X[2] <= 11.0\\ngini = 0.444\\nsamples = 15\\nvalue = [10, 5]'),\n",
              " Text(0.1891990735096916, 0.5370370370370371, 'X[5] <= 48.95\\ngini = 0.408\\nsamples = 14\\nvalue = [10, 4]'),\n",
              " Text(0.18822382055345604, 0.5, 'X[5] <= 42.1\\ngini = 0.494\\nsamples = 9\\nvalue = [5, 4]'),\n",
              " Text(0.18724856759722053, 0.46296296296296297, 'gini = 0.0\\nsamples = 1\\nvalue = [0, 1]'),\n",
              " Text(0.1891990735096916, 0.46296296296296297, 'X[5] <= 44.725\\ngini = 0.469\\nsamples = 8\\nvalue = [5, 3]'),\n",
              " Text(0.18822382055345604, 0.42592592592592593, 'gini = 0.0\\nsamples = 3\\nvalue = [3, 0]'),\n",
              " Text(0.1901743264659271, 0.42592592592592593, 'X[2] <= 9.5\\ngini = 0.48\\nsamples = 5\\nvalue = [2, 3]'),\n",
              " Text(0.1891990735096916, 0.3888888888888889, 'X[1] <= 0.5\\ngini = 0.375\\nsamples = 4\\nvalue = [1, 3]'),\n",
              " Text(0.18822382055345604, 0.35185185185185186, 'gini = 0.0\\nsamples = 2\\nvalue = [0, 2]'),\n",
              " Text(0.1901743264659271, 0.35185185185185186, 'X[5] <= 46.725\\ngini = 0.5\\nsamples = 2\\nvalue = [1, 1]'),\n",
              " Text(0.1891990735096916, 0.3148148148148148, 'gini = 0.0\\nsamples = 1\\nvalue = [1, 0]'),\n",
              " Text(0.19114957942216262, 0.3148148148148148, 'gini = 0.0\\nsamples = 1\\nvalue = [0, 1]'),\n",
              " Text(0.19114957942216262, 0.3888888888888889, 'gini = 0.0\\nsamples = 1\\nvalue = [1, 0]'),\n",
              " Text(0.1901743264659271, 0.5, 'gini = 0.0\\nsamples = 5\\nvalue = [5, 0]'),\n",
              " Text(0.19114957942216262, 0.5370370370370371, 'gini = 0.0\\nsamples = 1\\nvalue = [0, 1]'),\n",
              " Text(0.19943922955016458, 0.6851851851851852, 'X[5] <= 35.375\\ngini = 0.498\\nsamples = 49\\nvalue = [26, 23]'),\n",
              " Text(0.19602584420334024, 0.6481481481481481, 'X[2] <= 10.5\\ngini = 0.397\\nsamples = 11\\nvalue = [3, 8]'),\n",
              " Text(0.19505059124710472, 0.6111111111111112, 'X[5] <= 29.625\\ngini = 0.198\\nsamples = 9\\nvalue = [1, 8]'),\n",
              " Text(0.1940753382908692, 0.5740740740740741, 'X[5] <= 29.5\\ngini = 0.5\\nsamples = 2\\nvalue = [1, 1]'),\n",
              " Text(0.19310008533463366, 0.5370370370370371, 'gini = 0.0\\nsamples = 1\\nvalue = [0, 1]'),\n",
              " Text(0.19505059124710472, 0.5370370370370371, 'gini = 0.0\\nsamples = 1\\nvalue = [1, 0]'),\n",
              " Text(0.19602584420334024, 0.5740740740740741, 'gini = 0.0\\nsamples = 7\\nvalue = [0, 7]'),\n",
              " Text(0.19700109715957576, 0.6111111111111112, 'gini = 0.0\\nsamples = 2\\nvalue = [2, 0]'),\n",
              " Text(0.20285261489698891, 0.6481481481481481, 'X[5] <= 50.55\\ngini = 0.478\\nsamples = 38\\nvalue = [23, 15]'),\n",
              " Text(0.20187736194075337, 0.6111111111111112, 'X[5] <= 45.65\\ngini = 0.461\\nsamples = 36\\nvalue = [23, 13]'),\n",
              " Text(0.1979763501158113, 0.5740740740740741, 'X[5] <= 45.2\\ngini = 0.499\\nsamples = 21\\nvalue = [11, 10]'),\n",
              " Text(0.19700109715957576, 0.5370370370370371, 'X[5] <= 43.55\\ngini = 0.475\\nsamples = 18\\nvalue = [11, 7]'),\n",
              " Text(0.19505059124710472, 0.5, 'X[2] <= 7.5\\ngini = 0.278\\nsamples = 6\\nvalue = [5, 1]'),\n",
              " Text(0.1940753382908692, 0.46296296296296297, 'gini = 0.0\\nsamples = 1\\nvalue = [0, 1]'),\n",
              " Text(0.19602584420334024, 0.46296296296296297, 'gini = 0.0\\nsamples = 5\\nvalue = [5, 0]'),\n",
              " Text(0.19895160307204682, 0.5, 'X[1] <= 0.5\\ngini = 0.5\\nsamples = 12\\nvalue = [6, 6]'),\n",
              " Text(0.1979763501158113, 0.46296296296296297, 'X[2] <= 9.5\\ngini = 0.48\\nsamples = 10\\nvalue = [6, 4]'),\n",
              " Text(0.19602584420334024, 0.42592592592592593, 'X[5] <= 44.3\\ngini = 0.32\\nsamples = 5\\nvalue = [4, 1]'),\n",
              " Text(0.19505059124710472, 0.3888888888888889, 'X[5] <= 43.975\\ngini = 0.5\\nsamples = 2\\nvalue = [1, 1]'),\n",
              " Text(0.1940753382908692, 0.35185185185185186, 'gini = 0.0\\nsamples = 1\\nvalue = [1, 0]'),\n",
              " Text(0.19602584420334024, 0.35185185185185186, 'gini = 0.0\\nsamples = 1\\nvalue = [0, 1]'),\n",
              " Text(0.19700109715957576, 0.3888888888888889, 'gini = 0.0\\nsamples = 3\\nvalue = [3, 0]'),\n",
              " Text(0.19992685602828233, 0.42592592592592593, 'X[0] <= 0.5\\ngini = 0.48\\nsamples = 5\\nvalue = [2, 3]'),\n",
              " Text(0.19895160307204682, 0.3888888888888889, 'X[5] <= 44.6\\ngini = 0.444\\nsamples = 3\\nvalue = [2, 1]'),\n",
              " Text(0.1979763501158113, 0.35185185185185186, 'gini = 0.0\\nsamples = 1\\nvalue = [0, 1]'),\n",
              " Text(0.19992685602828233, 0.35185185185185186, 'gini = 0.0\\nsamples = 2\\nvalue = [2, 0]'),\n",
              " Text(0.20090210898451785, 0.3888888888888889, 'gini = 0.0\\nsamples = 2\\nvalue = [0, 2]'),\n",
              " Text(0.19992685602828233, 0.46296296296296297, 'gini = 0.0\\nsamples = 2\\nvalue = [0, 2]'),\n",
              " Text(0.19895160307204682, 0.5370370370370371, 'gini = 0.0\\nsamples = 3\\nvalue = [0, 3]'),\n",
              " Text(0.20577837376569547, 0.5740740740740741, 'X[0] <= 0.5\\ngini = 0.32\\nsamples = 15\\nvalue = [12, 3]'),\n",
              " Text(0.20480312080945995, 0.5370370370370371, 'X[5] <= 49.05\\ngini = 0.49\\nsamples = 7\\nvalue = [4, 3]'),\n",
              " Text(0.20382786785322443, 0.5, 'gini = 0.0\\nsamples = 2\\nvalue = [2, 0]'),\n",
              " Text(0.20577837376569547, 0.5, 'X[5] <= 50.075\\ngini = 0.48\\nsamples = 5\\nvalue = [2, 3]'),\n",
              " Text(0.20480312080945995, 0.46296296296296297, 'X[5] <= 49.55\\ngini = 0.375\\nsamples = 4\\nvalue = [1, 3]'),\n",
              " Text(0.20382786785322443, 0.42592592592592593, 'X[1] <= 0.5\\ngini = 0.5\\nsamples = 2\\nvalue = [1, 1]'),\n",
              " Text(0.20285261489698891, 0.3888888888888889, 'gini = 0.0\\nsamples = 1\\nvalue = [1, 0]'),\n",
              " Text(0.20480312080945995, 0.3888888888888889, 'gini = 0.0\\nsamples = 1\\nvalue = [0, 1]'),\n",
              " Text(0.20577837376569547, 0.42592592592592593, 'gini = 0.0\\nsamples = 2\\nvalue = [0, 2]'),\n",
              " Text(0.206753626721931, 0.46296296296296297, 'gini = 0.0\\nsamples = 1\\nvalue = [1, 0]'),\n",
              " Text(0.206753626721931, 0.5370370370370371, 'gini = 0.0\\nsamples = 8\\nvalue = [8, 0]'),\n",
              " Text(0.20382786785322443, 0.6111111111111112, 'gini = 0.0\\nsamples = 2\\nvalue = [0, 2]'),\n",
              " Text(0.21918810191393392, 0.7962962962962963, 'X[2] <= 11.5\\ngini = 0.213\\nsamples = 91\\nvalue = [80, 11]'),\n",
              " Text(0.21601852980616848, 0.7592592592592593, 'X[4] <= 0.5\\ngini = 0.154\\nsamples = 83\\nvalue = [76, 7]'),\n",
              " Text(0.21260514445934414, 0.7222222222222222, 'X[5] <= 58.675\\ngini = 0.291\\nsamples = 34\\nvalue = [28, 6]'),\n",
              " Text(0.2106546385468731, 0.6851851851851852, 'X[5] <= 56.4\\ngini = 0.401\\nsamples = 18\\nvalue = [13, 5]'),\n",
              " Text(0.20967938559063756, 0.6481481481481481, 'X[5] <= 55.175\\ngini = 0.305\\nsamples = 16\\nvalue = [13, 3]'),\n",
              " Text(0.20870413263440205, 0.6111111111111112, 'gini = 0.0\\nsamples = 7\\nvalue = [7, 0]'),\n",
              " Text(0.2106546385468731, 0.6111111111111112, 'X[2] <= 8.5\\ngini = 0.444\\nsamples = 9\\nvalue = [6, 3]'),\n",
              " Text(0.20967938559063756, 0.5740740740740741, 'X[2] <= 5.5\\ngini = 0.245\\nsamples = 7\\nvalue = [6, 1]'),\n",
              " Text(0.20870413263440205, 0.5370370370370371, 'gini = 0.0\\nsamples = 4\\nvalue = [4, 0]'),\n",
              " Text(0.2106546385468731, 0.5370370370370371, 'X[2] <= 7.0\\ngini = 0.444\\nsamples = 3\\nvalue = [2, 1]'),\n",
              " Text(0.20967938559063756, 0.5, 'gini = 0.0\\nsamples = 1\\nvalue = [0, 1]'),\n",
              " Text(0.21162989150310862, 0.5, 'gini = 0.0\\nsamples = 2\\nvalue = [2, 0]'),\n",
              " Text(0.21162989150310862, 0.5740740740740741, 'gini = 0.0\\nsamples = 2\\nvalue = [0, 2]'),\n",
              " Text(0.21162989150310862, 0.6481481481481481, 'gini = 0.0\\nsamples = 2\\nvalue = [0, 2]'),\n",
              " Text(0.21455565037181518, 0.6851851851851852, 'X[2] <= 5.0\\ngini = 0.117\\nsamples = 16\\nvalue = [15, 1]'),\n",
              " Text(0.21358039741557966, 0.6481481481481481, 'X[5] <= 63.5\\ngini = 0.444\\nsamples = 3\\nvalue = [2, 1]'),\n",
              " Text(0.21260514445934414, 0.6111111111111112, 'gini = 0.0\\nsamples = 1\\nvalue = [0, 1]'),\n",
              " Text(0.21455565037181518, 0.6111111111111112, 'gini = 0.0\\nsamples = 2\\nvalue = [2, 0]'),\n",
              " Text(0.21553090332805072, 0.6481481481481481, 'gini = 0.0\\nsamples = 13\\nvalue = [13, 0]'),\n",
              " Text(0.21943191515299282, 0.7222222222222222, 'X[2] <= 4.5\\ngini = 0.04\\nsamples = 49\\nvalue = [48, 1]'),\n",
              " Text(0.21845666219675727, 0.6851851851851852, 'X[5] <= 59.45\\ngini = 0.278\\nsamples = 6\\nvalue = [5, 1]'),\n",
              " Text(0.21748140924052176, 0.6481481481481481, 'gini = 0.0\\nsamples = 3\\nvalue = [3, 0]'),\n",
              " Text(0.21943191515299282, 0.6481481481481481, 'X[5] <= 60.85\\ngini = 0.444\\nsamples = 3\\nvalue = [2, 1]'),\n",
              " Text(0.21845666219675727, 0.6111111111111112, 'gini = 0.0\\nsamples = 1\\nvalue = [0, 1]'),\n",
              " Text(0.22040716810922834, 0.6111111111111112, 'gini = 0.0\\nsamples = 2\\nvalue = [2, 0]'),\n",
              " Text(0.22040716810922834, 0.6851851851851852, 'gini = 0.0\\nsamples = 43\\nvalue = [43, 0]'),\n",
              " Text(0.22235767402169937, 0.7592592592592593, 'X[4] <= 0.5\\ngini = 0.5\\nsamples = 8\\nvalue = [4, 4]'),\n",
              " Text(0.22138242106546385, 0.7222222222222222, 'gini = 0.0\\nsamples = 2\\nvalue = [0, 2]'),\n",
              " Text(0.22333292697793491, 0.7222222222222222, 'X[5] <= 59.075\\ngini = 0.444\\nsamples = 6\\nvalue = [4, 2]'),\n",
              " Text(0.22235767402169937, 0.6851851851851852, 'gini = 0.0\\nsamples = 4\\nvalue = [4, 0]'),\n",
              " Text(0.22430817993417043, 0.6851851851851852, 'gini = 0.0\\nsamples = 2\\nvalue = [0, 2]'),\n",
              " Text(0.29677499847616723, 0.9074074074074074, 'X[2] <= 1.5\\ngini = 0.437\\nsamples = 684\\nvalue = [221, 463]'),\n",
              " Text(0.24100938680970377, 0.8703703703703703, 'X[5] <= 69.875\\ngini = 0.268\\nsamples = 163\\nvalue = [26, 137]'),\n",
              " Text(0.24003413385346825, 0.8333333333333334, 'gini = 0.0\\nsamples = 25\\nvalue = [0, 25]'),\n",
              " Text(0.24198463976593929, 0.8333333333333334, 'X[5] <= 75.625\\ngini = 0.306\\nsamples = 138\\nvalue = [26, 112]'),\n",
              " Text(0.23649884188711448, 0.7962962962962963, 'X[5] <= 75.425\\ngini = 0.414\\nsamples = 65\\nvalue = [19, 46]'),\n",
              " Text(0.23552358893087894, 0.7592592592592593, 'X[5] <= 74.375\\ngini = 0.394\\nsamples = 63\\nvalue = [17, 46]'),\n",
              " Text(0.23015969767158356, 0.7222222222222222, 'X[5] <= 71.05\\ngini = 0.43\\nsamples = 48\\nvalue = [15, 33]'),\n",
              " Text(0.22625868584664147, 0.6851851851851852, 'X[5] <= 70.725\\ngini = 0.375\\nsamples = 36\\nvalue = [9, 27]'),\n",
              " Text(0.22528343289040595, 0.6481481481481481, 'X[5] <= 70.55\\ngini = 0.428\\nsamples = 29\\nvalue = [9, 20]'),\n",
              " Text(0.22333292697793491, 0.6111111111111112, 'X[5] <= 70.375\\ngini = 0.375\\nsamples = 24\\nvalue = [6, 18]'),\n",
              " Text(0.22235767402169937, 0.5740740740740741, 'X[5] <= 70.325\\ngini = 0.42\\nsamples = 20\\nvalue = [6, 14]'),\n",
              " Text(0.22138242106546385, 0.5370370370370371, 'X[5] <= 70.225\\ngini = 0.388\\nsamples = 19\\nvalue = [5, 14]'),\n",
              " Text(0.22040716810922834, 0.5, 'X[5] <= 70.175\\ngini = 0.444\\nsamples = 15\\nvalue = [5, 10]'),\n",
              " Text(0.21943191515299282, 0.46296296296296297, 'X[5] <= 70.125\\ngini = 0.408\\nsamples = 14\\nvalue = [4, 10]'),\n",
              " Text(0.21845666219675727, 0.42592592592592593, 'X[5] <= 70.025\\ngini = 0.444\\nsamples = 12\\nvalue = [4, 8]'),\n",
              " Text(0.21650615628428624, 0.3888888888888889, 'X[0] <= 0.5\\ngini = 0.375\\nsamples = 8\\nvalue = [2, 6]'),\n",
              " Text(0.21553090332805072, 0.35185185185185186, 'gini = 0.0\\nsamples = 2\\nvalue = [0, 2]'),\n",
              " Text(0.21748140924052176, 0.35185185185185186, 'X[4] <= 0.5\\ngini = 0.444\\nsamples = 6\\nvalue = [2, 4]'),\n",
              " Text(0.21650615628428624, 0.3148148148148148, 'gini = 0.0\\nsamples = 2\\nvalue = [0, 2]'),\n",
              " Text(0.21845666219675727, 0.3148148148148148, 'X[5] <= 69.925\\ngini = 0.5\\nsamples = 4\\nvalue = [2, 2]'),\n",
              " Text(0.21748140924052176, 0.2777777777777778, 'gini = 0.444\\nsamples = 3\\nvalue = [1, 2]'),\n",
              " Text(0.21943191515299282, 0.2777777777777778, 'gini = 0.0\\nsamples = 1\\nvalue = [1, 0]'),\n",
              " Text(0.22040716810922834, 0.3888888888888889, 'X[4] <= 0.5\\ngini = 0.5\\nsamples = 4\\nvalue = [2, 2]'),\n",
              " Text(0.21943191515299282, 0.35185185185185186, 'gini = 0.0\\nsamples = 1\\nvalue = [1, 0]'),\n",
              " Text(0.22138242106546385, 0.35185185185185186, 'X[0] <= 0.5\\ngini = 0.444\\nsamples = 3\\nvalue = [1, 2]'),\n",
              " Text(0.22040716810922834, 0.3148148148148148, 'gini = 0.0\\nsamples = 1\\nvalue = [0, 1]'),\n",
              " Text(0.22235767402169937, 0.3148148148148148, 'gini = 0.5\\nsamples = 2\\nvalue = [1, 1]'),\n",
              " Text(0.22040716810922834, 0.42592592592592593, 'gini = 0.0\\nsamples = 2\\nvalue = [0, 2]'),\n",
              " Text(0.22138242106546385, 0.46296296296296297, 'gini = 0.0\\nsamples = 1\\nvalue = [1, 0]'),\n",
              " Text(0.22235767402169937, 0.5, 'gini = 0.0\\nsamples = 4\\nvalue = [0, 4]'),\n",
              " Text(0.22333292697793491, 0.5370370370370371, 'gini = 0.0\\nsamples = 1\\nvalue = [1, 0]'),\n",
              " Text(0.22430817993417043, 0.5740740740740741, 'gini = 0.0\\nsamples = 4\\nvalue = [0, 4]'),\n",
              " Text(0.22723393880287698, 0.6111111111111112, 'X[4] <= 0.5\\ngini = 0.48\\nsamples = 5\\nvalue = [3, 2]'),\n",
              " Text(0.22625868584664147, 0.5740740740740741, 'gini = 0.0\\nsamples = 1\\nvalue = [0, 1]'),\n",
              " Text(0.22820919175911253, 0.5740740740740741, 'X[0] <= 0.5\\ngini = 0.375\\nsamples = 4\\nvalue = [3, 1]'),\n",
              " Text(0.22723393880287698, 0.5370370370370371, 'X[5] <= 70.65\\ngini = 0.444\\nsamples = 3\\nvalue = [2, 1]'),\n",
              " Text(0.22625868584664147, 0.5, 'gini = 0.5\\nsamples = 2\\nvalue = [1, 1]'),\n",
              " Text(0.22820919175911253, 0.5, 'gini = 0.0\\nsamples = 1\\nvalue = [1, 0]'),\n",
              " Text(0.22918444471534805, 0.5370370370370371, 'gini = 0.0\\nsamples = 1\\nvalue = [1, 0]'),\n",
              " Text(0.22723393880287698, 0.6481481481481481, 'gini = 0.0\\nsamples = 7\\nvalue = [0, 7]'),\n",
              " Text(0.23406070949652566, 0.6851851851851852, 'X[4] <= 0.5\\ngini = 0.5\\nsamples = 12\\nvalue = [6, 6]'),\n",
              " Text(0.23211020358405463, 0.6481481481481481, 'X[5] <= 73.8\\ngini = 0.32\\nsamples = 5\\nvalue = [4, 1]'),\n",
              " Text(0.23113495062781908, 0.6111111111111112, 'X[5] <= 72.3\\ngini = 0.5\\nsamples = 2\\nvalue = [1, 1]'),\n",
              " Text(0.23015969767158356, 0.5740740740740741, 'gini = 0.0\\nsamples = 1\\nvalue = [1, 0]'),\n",
              " Text(0.23211020358405463, 0.5740740740740741, 'gini = 0.0\\nsamples = 1\\nvalue = [0, 1]'),\n",
              " Text(0.23308545654029014, 0.6111111111111112, 'gini = 0.0\\nsamples = 3\\nvalue = [3, 0]'),\n",
              " Text(0.23601121540899672, 0.6481481481481481, 'X[5] <= 72.85\\ngini = 0.408\\nsamples = 7\\nvalue = [2, 5]'),\n",
              " Text(0.23503596245276118, 0.6111111111111112, 'X[5] <= 71.2\\ngini = 0.444\\nsamples = 3\\nvalue = [2, 1]'),\n",
              " Text(0.23406070949652566, 0.5740740740740741, 'gini = 0.0\\nsamples = 1\\nvalue = [0, 1]'),\n",
              " Text(0.23601121540899672, 0.5740740740740741, 'gini = 0.0\\nsamples = 2\\nvalue = [2, 0]'),\n",
              " Text(0.23698646836523224, 0.6111111111111112, 'gini = 0.0\\nsamples = 4\\nvalue = [0, 4]'),\n",
              " Text(0.24088748019017434, 0.7222222222222222, 'X[4] <= 0.5\\ngini = 0.231\\nsamples = 15\\nvalue = [2, 13]'),\n",
              " Text(0.23893697427770327, 0.6851851851851852, 'X[0] <= 0.5\\ngini = 0.5\\nsamples = 2\\nvalue = [1, 1]'),\n",
              " Text(0.23796172132146776, 0.6481481481481481, 'gini = 0.0\\nsamples = 1\\nvalue = [0, 1]'),\n",
              " Text(0.2399122272339388, 0.6481481481481481, 'gini = 0.0\\nsamples = 1\\nvalue = [1, 0]'),\n",
              " Text(0.24283798610264537, 0.6851851851851852, 'X[5] <= 75.0\\ngini = 0.142\\nsamples = 13\\nvalue = [1, 12]'),\n",
              " Text(0.24186273314640985, 0.6481481481481481, 'gini = 0.0\\nsamples = 7\\nvalue = [0, 7]'),\n",
              " Text(0.2438132390588809, 0.6481481481481481, 'X[5] <= 75.2\\ngini = 0.278\\nsamples = 6\\nvalue = [1, 5]'),\n",
              " Text(0.24283798610264537, 0.6111111111111112, 'X[0] <= 0.5\\ngini = 0.5\\nsamples = 2\\nvalue = [1, 1]'),\n",
              " Text(0.24186273314640985, 0.5740740740740741, 'gini = 0.0\\nsamples = 1\\nvalue = [0, 1]'),\n",
              " Text(0.2438132390588809, 0.5740740740740741, 'gini = 0.0\\nsamples = 1\\nvalue = [1, 0]'),\n",
              " Text(0.24478849201511643, 0.6111111111111112, 'gini = 0.0\\nsamples = 4\\nvalue = [0, 4]'),\n",
              " Text(0.23747409484335, 0.7592592592592593, 'gini = 0.0\\nsamples = 2\\nvalue = [2, 0]'),\n",
              " Text(0.24747043764476412, 0.7962962962962963, 'X[2] <= 0.5\\ngini = 0.173\\nsamples = 73\\nvalue = [7, 66]'),\n",
              " Text(0.24649518468852857, 0.7592592592592593, 'gini = 0.0\\nsamples = 1\\nvalue = [1, 0]'),\n",
              " Text(0.24844569060099964, 0.7592592592592593, 'X[4] <= 0.5\\ngini = 0.153\\nsamples = 72\\nvalue = [6, 66]'),\n",
              " Text(0.24747043764476412, 0.7222222222222222, 'gini = 0.0\\nsamples = 15\\nvalue = [0, 15]'),\n",
              " Text(0.24942094355723515, 0.7222222222222222, 'X[5] <= 79.125\\ngini = 0.188\\nsamples = 57\\nvalue = [6, 51]'),\n",
              " Text(0.24844569060099964, 0.6851851851851852, 'gini = 0.0\\nsamples = 8\\nvalue = [0, 8]'),\n",
              " Text(0.25039619651347067, 0.6851851851851852, 'X[5] <= 79.325\\ngini = 0.215\\nsamples = 49\\nvalue = [6, 43]'),\n",
              " Text(0.24771425088382298, 0.6481481481481481, 'X[0] <= 0.5\\ngini = 0.5\\nsamples = 2\\nvalue = [1, 1]'),\n",
              " Text(0.24673899792758747, 0.6111111111111112, 'gini = 0.0\\nsamples = 1\\nvalue = [1, 0]'),\n",
              " Text(0.24868950384005853, 0.6111111111111112, 'gini = 0.0\\nsamples = 1\\nvalue = [0, 1]'),\n",
              " Text(0.25307814214311836, 0.6481481481481481, 'X[1] <= 0.5\\ngini = 0.19\\nsamples = 47\\nvalue = [5, 42]'),\n",
              " Text(0.25064000975252954, 0.6111111111111112, 'X[5] <= 95.65\\ngini = 0.149\\nsamples = 37\\nvalue = [3, 34]'),\n",
              " Text(0.24868950384005853, 0.5740740740740741, 'X[0] <= 0.5\\ngini = 0.114\\nsamples = 33\\nvalue = [2, 31]'),\n",
              " Text(0.24771425088382298, 0.5370370370370371, 'gini = 0.0\\nsamples = 13\\nvalue = [0, 13]'),\n",
              " Text(0.24966475679629405, 0.5370370370370371, 'X[5] <= 80.675\\ngini = 0.18\\nsamples = 20\\nvalue = [2, 18]'),\n",
              " Text(0.24771425088382298, 0.5, 'X[5] <= 80.05\\ngini = 0.444\\nsamples = 3\\nvalue = [1, 2]'),\n",
              " Text(0.24673899792758747, 0.46296296296296297, 'gini = 0.0\\nsamples = 2\\nvalue = [0, 2]'),\n",
              " Text(0.24868950384005853, 0.46296296296296297, 'gini = 0.0\\nsamples = 1\\nvalue = [1, 0]'),\n",
              " Text(0.2516152627087651, 0.5, 'X[5] <= 89.175\\ngini = 0.111\\nsamples = 17\\nvalue = [1, 16]'),\n",
              " Text(0.25064000975252954, 0.46296296296296297, 'gini = 0.0\\nsamples = 9\\nvalue = [0, 9]'),\n",
              " Text(0.2525905156650006, 0.46296296296296297, 'X[5] <= 89.575\\ngini = 0.219\\nsamples = 8\\nvalue = [1, 7]'),\n",
              " Text(0.2516152627087651, 0.42592592592592593, 'gini = 0.0\\nsamples = 1\\nvalue = [1, 0]'),\n",
              " Text(0.25356576862123614, 0.42592592592592593, 'gini = 0.0\\nsamples = 7\\nvalue = [0, 7]'),\n",
              " Text(0.2525905156650006, 0.5740740740740741, 'X[5] <= 97.8\\ngini = 0.375\\nsamples = 4\\nvalue = [1, 3]'),\n",
              " Text(0.2516152627087651, 0.5370370370370371, 'gini = 0.0\\nsamples = 1\\nvalue = [1, 0]'),\n",
              " Text(0.25356576862123614, 0.5370370370370371, 'gini = 0.0\\nsamples = 3\\nvalue = [0, 3]'),\n",
              " Text(0.2555162745337072, 0.6111111111111112, 'X[5] <= 80.8\\ngini = 0.32\\nsamples = 10\\nvalue = [2, 8]'),\n",
              " Text(0.25454102157747166, 0.5740740740740741, 'gini = 0.0\\nsamples = 3\\nvalue = [0, 3]'),\n",
              " Text(0.2564915274899427, 0.5740740740740741, 'X[5] <= 82.925\\ngini = 0.408\\nsamples = 7\\nvalue = [2, 5]'),\n",
              " Text(0.2555162745337072, 0.5370370370370371, 'gini = 0.0\\nsamples = 1\\nvalue = [1, 0]'),\n",
              " Text(0.2574667804461782, 0.5370370370370371, 'X[5] <= 92.55\\ngini = 0.278\\nsamples = 6\\nvalue = [1, 5]'),\n",
              " Text(0.2564915274899427, 0.5, 'X[5] <= 88.075\\ngini = 0.444\\nsamples = 3\\nvalue = [1, 2]'),\n",
              " Text(0.2555162745337072, 0.46296296296296297, 'gini = 0.0\\nsamples = 2\\nvalue = [0, 2]'),\n",
              " Text(0.2574667804461782, 0.46296296296296297, 'gini = 0.0\\nsamples = 1\\nvalue = [1, 0]'),\n",
              " Text(0.25844203340241373, 0.5, 'gini = 0.0\\nsamples = 3\\nvalue = [0, 3]'),\n",
              " Text(0.3525406101426308, 0.8703703703703703, 'X[5] <= 93.25\\ngini = 0.468\\nsamples = 521\\nvalue = [195, 326]'),\n",
              " Text(0.31083521272705106, 0.8333333333333334, 'X[5] <= 71.9\\ngini = 0.488\\nsamples = 408\\nvalue = [172, 236]'),\n",
              " Text(0.27258320126782887, 0.7962962962962963, 'X[2] <= 5.5\\ngini = 0.494\\nsamples = 85\\nvalue = [47, 38]'),\n",
              " Text(0.2677069364866512, 0.7592592592592593, 'X[1] <= 0.5\\ngini = 0.497\\nsamples = 50\\nvalue = [23, 27]'),\n",
              " Text(0.2652688040960624, 0.7222222222222222, 'X[5] <= 71.0\\ngini = 0.472\\nsamples = 42\\nvalue = [16, 26]'),\n",
              " Text(0.2642935511398269, 0.6851851851851852, 'X[0] <= 0.5\\ngini = 0.444\\nsamples = 39\\nvalue = [13, 26]'),\n",
              " Text(0.2603925393148848, 0.6481481481481481, 'X[5] <= 70.175\\ngini = 0.308\\nsamples = 21\\nvalue = [4, 17]'),\n",
              " Text(0.2594172863586493, 0.6111111111111112, 'X[5] <= 69.675\\ngini = 0.426\\nsamples = 13\\nvalue = [4, 9]'),\n",
              " Text(0.25844203340241373, 0.5740740740740741, 'gini = 0.0\\nsamples = 5\\nvalue = [0, 5]'),\n",
              " Text(0.2603925393148848, 0.5740740740740741, 'X[4] <= 0.5\\ngini = 0.5\\nsamples = 8\\nvalue = [4, 4]'),\n",
              " Text(0.2594172863586493, 0.5370370370370371, 'gini = 0.0\\nsamples = 2\\nvalue = [0, 2]'),\n",
              " Text(0.26136779227112034, 0.5370370370370371, 'X[2] <= 3.5\\ngini = 0.444\\nsamples = 6\\nvalue = [4, 2]'),\n",
              " Text(0.2603925393148848, 0.5, 'gini = 0.0\\nsamples = 4\\nvalue = [4, 0]'),\n",
              " Text(0.26234304522735585, 0.5, 'gini = 0.0\\nsamples = 2\\nvalue = [0, 2]'),\n",
              " Text(0.26136779227112034, 0.6111111111111112, 'gini = 0.0\\nsamples = 8\\nvalue = [0, 8]'),\n",
              " Text(0.268194562964769, 0.6481481481481481, 'X[5] <= 70.275\\ngini = 0.5\\nsamples = 18\\nvalue = [9, 9]'),\n",
              " Text(0.26721931000853344, 0.6111111111111112, 'X[2] <= 4.5\\ngini = 0.375\\nsamples = 12\\nvalue = [3, 9]'),\n",
              " Text(0.2662440570522979, 0.5740740740740741, 'X[2] <= 3.5\\ngini = 0.469\\nsamples = 8\\nvalue = [3, 5]'),\n",
              " Text(0.2652688040960624, 0.5370370370370371, 'X[5] <= 69.475\\ngini = 0.408\\nsamples = 7\\nvalue = [2, 5]'),\n",
              " Text(0.2642935511398269, 0.5, 'gini = 0.0\\nsamples = 3\\nvalue = [0, 3]'),\n",
              " Text(0.2662440570522979, 0.5, 'X[4] <= 0.5\\ngini = 0.5\\nsamples = 4\\nvalue = [2, 2]'),\n",
              " Text(0.2652688040960624, 0.46296296296296297, 'gini = 0.0\\nsamples = 1\\nvalue = [0, 1]'),\n",
              " Text(0.26721931000853344, 0.46296296296296297, 'X[5] <= 69.7\\ngini = 0.444\\nsamples = 3\\nvalue = [2, 1]'),\n",
              " Text(0.2662440570522979, 0.42592592592592593, 'gini = 0.0\\nsamples = 1\\nvalue = [1, 0]'),\n",
              " Text(0.268194562964769, 0.42592592592592593, 'gini = 0.5\\nsamples = 2\\nvalue = [1, 1]'),\n",
              " Text(0.26721931000853344, 0.5370370370370371, 'gini = 0.0\\nsamples = 1\\nvalue = [1, 0]'),\n",
              " Text(0.268194562964769, 0.5740740740740741, 'gini = 0.0\\nsamples = 4\\nvalue = [0, 4]'),\n",
              " Text(0.26916981592100453, 0.6111111111111112, 'gini = 0.0\\nsamples = 6\\nvalue = [6, 0]'),\n",
              " Text(0.2662440570522979, 0.6851851851851852, 'gini = 0.0\\nsamples = 3\\nvalue = [3, 0]'),\n",
              " Text(0.27014506887724005, 0.7222222222222222, 'X[0] <= 0.5\\ngini = 0.219\\nsamples = 8\\nvalue = [7, 1]'),\n",
              " Text(0.26916981592100453, 0.6851851851851852, 'gini = 0.0\\nsamples = 6\\nvalue = [6, 0]'),\n",
              " Text(0.27112032183347556, 0.6851851851851852, 'X[5] <= 70.25\\ngini = 0.5\\nsamples = 2\\nvalue = [1, 1]'),\n",
              " Text(0.27014506887724005, 0.6481481481481481, 'gini = 0.0\\nsamples = 1\\nvalue = [1, 0]'),\n",
              " Text(0.2720955747897111, 0.6481481481481481, 'gini = 0.0\\nsamples = 1\\nvalue = [0, 1]'),\n",
              " Text(0.27745946604900645, 0.7592592592592593, 'X[5] <= 69.925\\ngini = 0.431\\nsamples = 35\\nvalue = [24, 11]'),\n",
              " Text(0.2740460807021821, 0.7222222222222222, 'X[5] <= 66.525\\ngini = 0.308\\nsamples = 21\\nvalue = [17, 4]'),\n",
              " Text(0.2730708277459466, 0.6851851851851852, 'gini = 0.0\\nsamples = 1\\nvalue = [0, 1]'),\n",
              " Text(0.27502133365841763, 0.6851851851851852, 'X[2] <= 7.5\\ngini = 0.255\\nsamples = 20\\nvalue = [17, 3]'),\n",
              " Text(0.2740460807021821, 0.6481481481481481, 'X[5] <= 69.4\\ngini = 0.397\\nsamples = 11\\nvalue = [8, 3]'),\n",
              " Text(0.2730708277459466, 0.6111111111111112, 'X[5] <= 69.225\\ngini = 0.49\\nsamples = 7\\nvalue = [4, 3]'),\n",
              " Text(0.2720955747897111, 0.5740740740740741, 'X[1] <= 0.5\\ngini = 0.32\\nsamples = 5\\nvalue = [4, 1]'),\n",
              " Text(0.27112032183347556, 0.5370370370370371, 'gini = 0.0\\nsamples = 3\\nvalue = [3, 0]'),\n",
              " Text(0.2730708277459466, 0.5370370370370371, 'X[5] <= 69.1\\ngini = 0.5\\nsamples = 2\\nvalue = [1, 1]'),\n",
              " Text(0.2720955747897111, 0.5, 'gini = 0.0\\nsamples = 1\\nvalue = [0, 1]'),\n",
              " Text(0.2740460807021821, 0.5, 'gini = 0.0\\nsamples = 1\\nvalue = [1, 0]'),\n",
              " Text(0.2740460807021821, 0.5740740740740741, 'gini = 0.0\\nsamples = 2\\nvalue = [0, 2]'),\n",
              " Text(0.27502133365841763, 0.6111111111111112, 'gini = 0.0\\nsamples = 4\\nvalue = [4, 0]'),\n",
              " Text(0.27599658661465315, 0.6481481481481481, 'gini = 0.0\\nsamples = 9\\nvalue = [9, 0]'),\n",
              " Text(0.2808728513958308, 0.7222222222222222, 'X[4] <= 0.5\\ngini = 0.5\\nsamples = 14\\nvalue = [7, 7]'),\n",
              " Text(0.27892234548335976, 0.6851851851851852, 'X[5] <= 70.925\\ngini = 0.278\\nsamples = 6\\nvalue = [5, 1]'),\n",
              " Text(0.27794709252712424, 0.6481481481481481, 'gini = 0.0\\nsamples = 5\\nvalue = [5, 0]'),\n",
              " Text(0.2798975984395953, 0.6481481481481481, 'gini = 0.0\\nsamples = 1\\nvalue = [0, 1]'),\n",
              " Text(0.2828233573083018, 0.6851851851851852, 'X[5] <= 70.9\\ngini = 0.375\\nsamples = 8\\nvalue = [2, 6]'),\n",
              " Text(0.2818481043520663, 0.6481481481481481, 'X[2] <= 10.5\\ngini = 0.245\\nsamples = 7\\nvalue = [1, 6]'),\n",
              " Text(0.2808728513958308, 0.6111111111111112, 'gini = 0.0\\nsamples = 6\\nvalue = [0, 6]'),\n",
              " Text(0.2828233573083018, 0.6111111111111112, 'gini = 0.0\\nsamples = 1\\nvalue = [1, 0]'),\n",
              " Text(0.28379861026453734, 0.6481481481481481, 'gini = 0.0\\nsamples = 1\\nvalue = [1, 0]'),\n",
              " Text(0.3490872241862733, 0.7962962962962963, 'X[5] <= 90.25\\ngini = 0.474\\nsamples = 323\\nvalue = [125, 198]'),\n",
              " Text(0.32367731317810555, 0.7592592592592593, 'X[2] <= 5.5\\ngini = 0.466\\nsamples = 303\\nvalue = [112, 191]'),\n",
              " Text(0.30504083871754234, 0.7222222222222222, 'X[5] <= 85.725\\ngini = 0.414\\nsamples = 140\\nvalue = [41, 99]'),\n",
              " Text(0.2989759843959527, 0.6851851851851852, 'X[1] <= 0.5\\ngini = 0.443\\nsamples = 118\\nvalue = [39, 79]'),\n",
              " Text(0.28977203462147993, 0.6481481481481481, 'X[5] <= 74.975\\ngini = 0.466\\nsamples = 92\\nvalue = [34, 58]'),\n",
              " Text(0.28477386322077286, 0.6111111111111112, 'X[2] <= 3.5\\ngini = 0.475\\nsamples = 18\\nvalue = [11, 7]'),\n",
              " Text(0.2828233573083018, 0.5740740740740741, 'X[5] <= 74.425\\ngini = 0.278\\nsamples = 12\\nvalue = [10, 2]'),\n",
              " Text(0.2818481043520663, 0.5370370370370371, 'X[5] <= 74.125\\ngini = 0.48\\nsamples = 5\\nvalue = [3, 2]'),\n",
              " Text(0.2808728513958308, 0.5, 'X[2] <= 2.5\\ngini = 0.375\\nsamples = 4\\nvalue = [3, 1]'),\n",
              " Text(0.2798975984395953, 0.46296296296296297, 'X[5] <= 72.925\\ngini = 0.5\\nsamples = 2\\nvalue = [1, 1]'),\n",
              " Text(0.27892234548335976, 0.42592592592592593, 'gini = 0.0\\nsamples = 1\\nvalue = [1, 0]'),\n",
              " Text(0.2808728513958308, 0.42592592592592593, 'gini = 0.0\\nsamples = 1\\nvalue = [0, 1]'),\n",
              " Text(0.2818481043520663, 0.46296296296296297, 'gini = 0.0\\nsamples = 2\\nvalue = [2, 0]'),\n",
              " Text(0.2828233573083018, 0.5, 'gini = 0.0\\nsamples = 1\\nvalue = [0, 1]'),\n",
              " Text(0.28379861026453734, 0.5370370370370371, 'gini = 0.0\\nsamples = 7\\nvalue = [7, 0]'),\n",
              " Text(0.28672436913324395, 0.5740740740740741, 'X[2] <= 4.5\\ngini = 0.278\\nsamples = 6\\nvalue = [1, 5]'),\n",
              " Text(0.28574911617700843, 0.5370370370370371, 'gini = 0.0\\nsamples = 5\\nvalue = [0, 5]'),\n",
              " Text(0.28769962208947947, 0.5370370370370371, 'gini = 0.0\\nsamples = 1\\nvalue = [1, 0]'),\n",
              " Text(0.294770206022187, 0.6111111111111112, 'X[5] <= 79.425\\ngini = 0.428\\nsamples = 74\\nvalue = [23, 51]'),\n",
              " Text(0.290625380958186, 0.5740740740740741, 'X[5] <= 75.6\\ngini = 0.231\\nsamples = 30\\nvalue = [4, 26]'),\n",
              " Text(0.2896501280019505, 0.5370370370370371, 'gini = 0.0\\nsamples = 9\\nvalue = [0, 9]'),\n",
              " Text(0.29160063391442154, 0.5370370370370371, 'X[5] <= 75.675\\ngini = 0.308\\nsamples = 21\\nvalue = [4, 17]'),\n",
              " Text(0.290625380958186, 0.5, 'gini = 0.0\\nsamples = 2\\nvalue = [2, 0]'),\n",
              " Text(0.29257588687065705, 0.5, 'X[5] <= 77.625\\ngini = 0.188\\nsamples = 19\\nvalue = [2, 17]'),\n",
              " Text(0.29160063391442154, 0.46296296296296297, 'X[5] <= 77.2\\ngini = 0.32\\nsamples = 10\\nvalue = [2, 8]'),\n",
              " Text(0.290625380958186, 0.42592592592592593, 'X[4] <= 0.5\\ngini = 0.198\\nsamples = 9\\nvalue = [1, 8]'),\n",
              " Text(0.2896501280019505, 0.3888888888888889, 'X[5] <= 76.25\\ngini = 0.5\\nsamples = 2\\nvalue = [1, 1]'),\n",
              " Text(0.288674875045715, 0.35185185185185186, 'gini = 0.0\\nsamples = 1\\nvalue = [1, 0]'),\n",
              " Text(0.290625380958186, 0.35185185185185186, 'gini = 0.0\\nsamples = 1\\nvalue = [0, 1]'),\n",
              " Text(0.29160063391442154, 0.3888888888888889, 'gini = 0.0\\nsamples = 7\\nvalue = [0, 7]'),\n",
              " Text(0.29257588687065705, 0.42592592592592593, 'gini = 0.0\\nsamples = 1\\nvalue = [1, 0]'),\n",
              " Text(0.2935511398268926, 0.46296296296296297, 'gini = 0.0\\nsamples = 9\\nvalue = [0, 9]'),\n",
              " Text(0.298915031086188, 0.5740740740740741, 'X[2] <= 2.5\\ngini = 0.491\\nsamples = 44\\nvalue = [19, 25]'),\n",
              " Text(0.29550164573936366, 0.5370370370370371, 'X[5] <= 79.575\\ngini = 0.36\\nsamples = 17\\nvalue = [4, 13]'),\n",
              " Text(0.29452639278312814, 0.5, 'gini = 0.0\\nsamples = 2\\nvalue = [2, 0]'),\n",
              " Text(0.2964768986955992, 0.5, 'X[5] <= 80.5\\ngini = 0.231\\nsamples = 15\\nvalue = [2, 13]'),\n",
              " Text(0.29550164573936366, 0.46296296296296297, 'X[5] <= 80.35\\ngini = 0.346\\nsamples = 9\\nvalue = [2, 7]'),\n",
              " Text(0.29452639278312814, 0.42592592592592593, 'X[0] <= 0.5\\ngini = 0.219\\nsamples = 8\\nvalue = [1, 7]'),\n",
              " Text(0.2935511398268926, 0.3888888888888889, 'gini = 0.0\\nsamples = 4\\nvalue = [0, 4]'),\n",
              " Text(0.29550164573936366, 0.3888888888888889, 'X[5] <= 80.075\\ngini = 0.375\\nsamples = 4\\nvalue = [1, 3]'),\n",
              " Text(0.29452639278312814, 0.35185185185185186, 'X[5] <= 79.9\\ngini = 0.5\\nsamples = 2\\nvalue = [1, 1]'),\n",
              " Text(0.2935511398268926, 0.3148148148148148, 'gini = 0.0\\nsamples = 1\\nvalue = [0, 1]'),\n",
              " Text(0.29550164573936366, 0.3148148148148148, 'gini = 0.0\\nsamples = 1\\nvalue = [1, 0]'),\n",
              " Text(0.2964768986955992, 0.35185185185185186, 'gini = 0.0\\nsamples = 2\\nvalue = [0, 2]'),\n",
              " Text(0.2964768986955992, 0.42592592592592593, 'gini = 0.0\\nsamples = 1\\nvalue = [1, 0]'),\n",
              " Text(0.2974521516518347, 0.46296296296296297, 'gini = 0.0\\nsamples = 6\\nvalue = [0, 6]'),\n",
              " Text(0.30232841643301234, 0.5370370370370371, 'X[5] <= 80.55\\ngini = 0.494\\nsamples = 27\\nvalue = [15, 12]'),\n",
              " Text(0.30037791052054125, 0.5, 'X[4] <= 0.5\\ngini = 0.198\\nsamples = 9\\nvalue = [8, 1]'),\n",
              " Text(0.29940265756430573, 0.46296296296296297, 'X[5] <= 80.15\\ngini = 0.5\\nsamples = 2\\nvalue = [1, 1]'),\n",
              " Text(0.2984274046080702, 0.42592592592592593, 'gini = 0.0\\nsamples = 1\\nvalue = [0, 1]'),\n",
              " Text(0.30037791052054125, 0.42592592592592593, 'gini = 0.0\\nsamples = 1\\nvalue = [1, 0]'),\n",
              " Text(0.30135316347677676, 0.46296296296296297, 'gini = 0.0\\nsamples = 7\\nvalue = [7, 0]'),\n",
              " Text(0.30427892234548337, 0.5, 'X[5] <= 81.65\\ngini = 0.475\\nsamples = 18\\nvalue = [7, 11]'),\n",
              " Text(0.30330366938924785, 0.46296296296296297, 'gini = 0.0\\nsamples = 4\\nvalue = [0, 4]'),\n",
              " Text(0.3052541753017189, 0.46296296296296297, 'X[5] <= 82.95\\ngini = 0.5\\nsamples = 14\\nvalue = [7, 7]'),\n",
              " Text(0.30427892234548337, 0.42592592592592593, 'gini = 0.0\\nsamples = 2\\nvalue = [2, 0]'),\n",
              " Text(0.3062294282579544, 0.42592592592592593, 'X[5] <= 85.675\\ngini = 0.486\\nsamples = 12\\nvalue = [5, 7]'),\n",
              " Text(0.3052541753017189, 0.3888888888888889, 'X[2] <= 4.5\\ngini = 0.463\\nsamples = 11\\nvalue = [4, 7]'),\n",
              " Text(0.30330366938924785, 0.35185185185185186, 'X[5] <= 84.45\\ngini = 0.32\\nsamples = 5\\nvalue = [1, 4]'),\n",
              " Text(0.30232841643301234, 0.3148148148148148, 'X[5] <= 84.175\\ngini = 0.5\\nsamples = 2\\nvalue = [1, 1]'),\n",
              " Text(0.30135316347677676, 0.2777777777777778, 'gini = 0.0\\nsamples = 1\\nvalue = [0, 1]'),\n",
              " Text(0.30330366938924785, 0.2777777777777778, 'gini = 0.0\\nsamples = 1\\nvalue = [1, 0]'),\n",
              " Text(0.30427892234548337, 0.3148148148148148, 'gini = 0.0\\nsamples = 3\\nvalue = [0, 3]'),\n",
              " Text(0.3072046812141899, 0.35185185185185186, 'X[5] <= 83.575\\ngini = 0.5\\nsamples = 6\\nvalue = [3, 3]'),\n",
              " Text(0.3062294282579544, 0.3148148148148148, 'gini = 0.0\\nsamples = 1\\nvalue = [0, 1]'),\n",
              " Text(0.30817993417042544, 0.3148148148148148, 'X[5] <= 84.6\\ngini = 0.48\\nsamples = 5\\nvalue = [3, 2]'),\n",
              " Text(0.3072046812141899, 0.2777777777777778, 'gini = 0.0\\nsamples = 1\\nvalue = [1, 0]'),\n",
              " Text(0.30915518712666096, 0.2777777777777778, 'X[5] <= 85.25\\ngini = 0.5\\nsamples = 4\\nvalue = [2, 2]'),\n",
              " Text(0.30817993417042544, 0.24074074074074073, 'gini = 0.0\\nsamples = 1\\nvalue = [0, 1]'),\n",
              " Text(0.3101304400828965, 0.24074074074074073, 'X[5] <= 85.425\\ngini = 0.444\\nsamples = 3\\nvalue = [2, 1]'),\n",
              " Text(0.30915518712666096, 0.2037037037037037, 'X[0] <= 0.5\\ngini = 0.5\\nsamples = 2\\nvalue = [1, 1]'),\n",
              " Text(0.30817993417042544, 0.16666666666666666, 'gini = 0.0\\nsamples = 1\\nvalue = [1, 0]'),\n",
              " Text(0.3101304400828965, 0.16666666666666666, 'gini = 0.0\\nsamples = 1\\nvalue = [0, 1]'),\n",
              " Text(0.31110569303913205, 0.2037037037037037, 'gini = 0.0\\nsamples = 1\\nvalue = [1, 0]'),\n",
              " Text(0.3072046812141899, 0.3888888888888889, 'gini = 0.0\\nsamples = 1\\nvalue = [1, 0]'),\n",
              " Text(0.30817993417042544, 0.6481481481481481, 'X[0] <= 0.5\\ngini = 0.311\\nsamples = 26\\nvalue = [5, 21]'),\n",
              " Text(0.3072046812141899, 0.6111111111111112, 'X[5] <= 83.975\\ngini = 0.388\\nsamples = 19\\nvalue = [5, 14]'),\n",
              " Text(0.3062294282579544, 0.5740740740740741, 'X[5] <= 74.5\\ngini = 0.346\\nsamples = 18\\nvalue = [4, 14]'),\n",
              " Text(0.3052541753017189, 0.5370370370370371, 'gini = 0.0\\nsamples = 5\\nvalue = [0, 5]'),\n",
              " Text(0.3072046812141899, 0.5370370370370371, 'X[5] <= 74.675\\ngini = 0.426\\nsamples = 13\\nvalue = [4, 9]'),\n",
              " Text(0.3062294282579544, 0.5, 'gini = 0.0\\nsamples = 1\\nvalue = [1, 0]'),\n",
              " Text(0.30817993417042544, 0.5, 'X[2] <= 3.5\\ngini = 0.375\\nsamples = 12\\nvalue = [3, 9]'),\n",
              " Text(0.3072046812141899, 0.46296296296296297, 'gini = 0.0\\nsamples = 6\\nvalue = [0, 6]'),\n",
              " Text(0.30915518712666096, 0.46296296296296297, 'X[4] <= 0.5\\ngini = 0.5\\nsamples = 6\\nvalue = [3, 3]'),\n",
              " Text(0.30817993417042544, 0.42592592592592593, 'gini = 0.0\\nsamples = 1\\nvalue = [0, 1]'),\n",
              " Text(0.3101304400828965, 0.42592592592592593, 'X[5] <= 80.925\\ngini = 0.48\\nsamples = 5\\nvalue = [3, 2]'),\n",
              " Text(0.30915518712666096, 0.3888888888888889, 'gini = 0.0\\nsamples = 2\\nvalue = [2, 0]'),\n",
              " Text(0.31110569303913205, 0.3888888888888889, 'X[2] <= 4.5\\ngini = 0.444\\nsamples = 3\\nvalue = [1, 2]'),\n",
              " Text(0.3101304400828965, 0.35185185185185186, 'gini = 0.0\\nsamples = 1\\nvalue = [1, 0]'),\n",
              " Text(0.31208094599536756, 0.35185185185185186, 'gini = 0.0\\nsamples = 2\\nvalue = [0, 2]'),\n",
              " Text(0.30817993417042544, 0.5740740740740741, 'gini = 0.0\\nsamples = 1\\nvalue = [1, 0]'),\n",
              " Text(0.30915518712666096, 0.6111111111111112, 'gini = 0.0\\nsamples = 7\\nvalue = [0, 7]'),\n",
              " Text(0.31110569303913205, 0.6851851851851852, 'X[5] <= 89.825\\ngini = 0.165\\nsamples = 22\\nvalue = [2, 20]'),\n",
              " Text(0.3101304400828965, 0.6481481481481481, 'gini = 0.0\\nsamples = 18\\nvalue = [0, 18]'),\n",
              " Text(0.31208094599536756, 0.6481481481481481, 'X[5] <= 89.925\\ngini = 0.5\\nsamples = 4\\nvalue = [2, 2]'),\n",
              " Text(0.31110569303913205, 0.6111111111111112, 'gini = 0.0\\nsamples = 2\\nvalue = [2, 0]'),\n",
              " Text(0.3130561989516031, 0.6111111111111112, 'gini = 0.0\\nsamples = 2\\nvalue = [0, 2]'),\n",
              " Text(0.34231378763866877, 0.7222222222222222, 'X[5] <= 80.025\\ngini = 0.492\\nsamples = 163\\nvalue = [71, 92]'),\n",
              " Text(0.32390588808972326, 0.6851851851851852, 'X[5] <= 74.8\\ngini = 0.497\\nsamples = 74\\nvalue = [40, 34]'),\n",
              " Text(0.31695721077654515, 0.6481481481481481, 'X[5] <= 74.375\\ngini = 0.426\\nsamples = 26\\nvalue = [8, 18]'),\n",
              " Text(0.3150067048640741, 0.6111111111111112, 'X[2] <= 6.5\\ngini = 0.492\\nsamples = 16\\nvalue = [7, 9]'),\n",
              " Text(0.3140314519078386, 0.5740740740740741, 'gini = 0.0\\nsamples = 2\\nvalue = [2, 0]'),\n",
              " Text(0.31598195782030963, 0.5740740740740741, 'X[5] <= 72.875\\ngini = 0.459\\nsamples = 14\\nvalue = [5, 9]'),\n",
              " Text(0.3150067048640741, 0.5370370370370371, 'gini = 0.0\\nsamples = 2\\nvalue = [0, 2]'),\n",
              " Text(0.31695721077654515, 0.5370370370370371, 'X[5] <= 73.4\\ngini = 0.486\\nsamples = 12\\nvalue = [5, 7]'),\n",
              " Text(0.3150067048640741, 0.5, 'X[2] <= 10.0\\ngini = 0.444\\nsamples = 3\\nvalue = [2, 1]'),\n",
              " Text(0.3140314519078386, 0.46296296296296297, 'gini = 0.0\\nsamples = 1\\nvalue = [0, 1]'),\n",
              " Text(0.31598195782030963, 0.46296296296296297, 'gini = 0.0\\nsamples = 2\\nvalue = [2, 0]'),\n",
              " Text(0.31890771668901624, 0.5, 'X[2] <= 9.5\\ngini = 0.444\\nsamples = 9\\nvalue = [3, 6]'),\n",
              " Text(0.31793246373278067, 0.46296296296296297, 'X[5] <= 73.9\\ngini = 0.48\\nsamples = 5\\nvalue = [3, 2]'),\n",
              " Text(0.31695721077654515, 0.42592592592592593, 'gini = 0.0\\nsamples = 2\\nvalue = [0, 2]'),\n",
              " Text(0.31890771668901624, 0.42592592592592593, 'gini = 0.0\\nsamples = 3\\nvalue = [3, 0]'),\n",
              " Text(0.31988296964525176, 0.46296296296296297, 'gini = 0.0\\nsamples = 4\\nvalue = [0, 4]'),\n",
              " Text(0.31890771668901624, 0.6111111111111112, 'X[2] <= 11.5\\ngini = 0.18\\nsamples = 10\\nvalue = [1, 9]'),\n",
              " Text(0.31793246373278067, 0.5740740740740741, 'gini = 0.0\\nsamples = 9\\nvalue = [0, 9]'),\n",
              " Text(0.31988296964525176, 0.5740740740740741, 'gini = 0.0\\nsamples = 1\\nvalue = [1, 0]'),\n",
              " Text(0.33085456540290137, 0.6481481481481481, 'X[1] <= 0.5\\ngini = 0.444\\nsamples = 48\\nvalue = [32, 16]'),\n",
              " Text(0.32524686090454713, 0.6111111111111112, 'X[5] <= 76.2\\ngini = 0.366\\nsamples = 29\\nvalue = [22, 7]'),\n",
              " Text(0.3242716079483116, 0.5740740740740741, 'gini = 0.0\\nsamples = 10\\nvalue = [10, 0]'),\n",
              " Text(0.32622211386078265, 0.5740740740740741, 'X[5] <= 78.4\\ngini = 0.465\\nsamples = 19\\nvalue = [12, 7]'),\n",
              " Text(0.3237839814701938, 0.5370370370370371, 'X[5] <= 77.125\\ngini = 0.32\\nsamples = 5\\nvalue = [1, 4]'),\n",
              " Text(0.3228087285139583, 0.5, 'X[5] <= 76.55\\ngini = 0.5\\nsamples = 2\\nvalue = [1, 1]'),\n",
              " Text(0.3218334755577228, 0.46296296296296297, 'gini = 0.0\\nsamples = 1\\nvalue = [0, 1]'),\n",
              " Text(0.3237839814701938, 0.46296296296296297, 'gini = 0.0\\nsamples = 1\\nvalue = [1, 0]'),\n",
              " Text(0.32475923442642934, 0.5, 'gini = 0.0\\nsamples = 3\\nvalue = [0, 3]'),\n",
              " Text(0.32866024625137147, 0.5370370370370371, 'X[2] <= 10.5\\ngini = 0.337\\nsamples = 14\\nvalue = [11, 3]'),\n",
              " Text(0.32768499329513595, 0.5, 'X[2] <= 8.5\\ngini = 0.444\\nsamples = 9\\nvalue = [6, 3]'),\n",
              " Text(0.32573448738266486, 0.46296296296296297, 'X[5] <= 79.325\\ngini = 0.278\\nsamples = 6\\nvalue = [5, 1]'),\n",
              " Text(0.32475923442642934, 0.42592592592592593, 'gini = 0.0\\nsamples = 3\\nvalue = [3, 0]'),\n",
              " Text(0.3267097403389004, 0.42592592592592593, 'X[0] <= 0.5\\ngini = 0.444\\nsamples = 3\\nvalue = [2, 1]'),\n",
              " Text(0.32573448738266486, 0.3888888888888889, 'X[5] <= 79.85\\ngini = 0.5\\nsamples = 2\\nvalue = [1, 1]'),\n",
              " Text(0.32475923442642934, 0.35185185185185186, 'gini = 0.0\\nsamples = 1\\nvalue = [0, 1]'),\n",
              " Text(0.3267097403389004, 0.35185185185185186, 'gini = 0.0\\nsamples = 1\\nvalue = [1, 0]'),\n",
              " Text(0.32768499329513595, 0.3888888888888889, 'gini = 0.0\\nsamples = 1\\nvalue = [1, 0]'),\n",
              " Text(0.329635499207607, 0.46296296296296297, 'X[4] <= 0.5\\ngini = 0.444\\nsamples = 3\\nvalue = [1, 2]'),\n",
              " Text(0.32866024625137147, 0.42592592592592593, 'gini = 0.0\\nsamples = 1\\nvalue = [1, 0]'),\n",
              " Text(0.3306107521638425, 0.42592592592592593, 'gini = 0.0\\nsamples = 2\\nvalue = [0, 2]'),\n",
              " Text(0.329635499207607, 0.5, 'gini = 0.0\\nsamples = 5\\nvalue = [5, 0]'),\n",
              " Text(0.33646226990125566, 0.6111111111111112, 'X[5] <= 79.275\\ngini = 0.499\\nsamples = 19\\nvalue = [10, 9]'),\n",
              " Text(0.33451176398878457, 0.5740740740740741, 'X[5] <= 75.8\\ngini = 0.459\\nsamples = 14\\nvalue = [9, 5]'),\n",
              " Text(0.33353651103254905, 0.5370370370370371, 'X[2] <= 8.5\\ngini = 0.494\\nsamples = 9\\nvalue = [4, 5]'),\n",
              " Text(0.33256125807631354, 0.5, 'X[4] <= 0.5\\ngini = 0.49\\nsamples = 7\\nvalue = [4, 3]'),\n",
              " Text(0.331586005120078, 0.46296296296296297, 'gini = 0.0\\nsamples = 1\\nvalue = [0, 1]'),\n",
              " Text(0.33353651103254905, 0.46296296296296297, 'X[2] <= 6.5\\ngini = 0.444\\nsamples = 6\\nvalue = [4, 2]'),\n",
              " Text(0.33256125807631354, 0.42592592592592593, 'gini = 0.0\\nsamples = 1\\nvalue = [0, 1]'),\n",
              " Text(0.33451176398878457, 0.42592592592592593, 'X[0] <= 0.5\\ngini = 0.32\\nsamples = 5\\nvalue = [4, 1]'),\n",
              " Text(0.33353651103254905, 0.3888888888888889, 'X[5] <= 75.425\\ngini = 0.5\\nsamples = 2\\nvalue = [1, 1]'),\n",
              " Text(0.33256125807631354, 0.35185185185185186, 'gini = 0.0\\nsamples = 1\\nvalue = [0, 1]'),\n",
              " Text(0.33451176398878457, 0.35185185185185186, 'gini = 0.0\\nsamples = 1\\nvalue = [1, 0]'),\n",
              " Text(0.3354870169450201, 0.3888888888888889, 'gini = 0.0\\nsamples = 3\\nvalue = [3, 0]'),\n",
              " Text(0.33451176398878457, 0.5, 'gini = 0.0\\nsamples = 2\\nvalue = [0, 2]'),\n",
              " Text(0.3354870169450201, 0.5370370370370371, 'gini = 0.0\\nsamples = 5\\nvalue = [5, 0]'),\n",
              " Text(0.3384127758137267, 0.5740740740740741, 'X[0] <= 0.5\\ngini = 0.32\\nsamples = 5\\nvalue = [1, 4]'),\n",
              " Text(0.3374375228574912, 0.5370370370370371, 'gini = 0.0\\nsamples = 1\\nvalue = [1, 0]'),\n",
              " Text(0.3393880287699622, 0.5370370370370371, 'gini = 0.0\\nsamples = 4\\nvalue = [0, 4]'),\n",
              " Text(0.36072168718761427, 0.6851851851851852, 'X[5] <= 85.625\\ngini = 0.454\\nsamples = 89\\nvalue = [31, 58]'),\n",
              " Text(0.35279775691820064, 0.6481481481481481, 'X[2] <= 10.5\\ngini = 0.366\\nsamples = 58\\nvalue = [14, 44]'),\n",
              " Text(0.3467024259417286, 0.6111111111111112, 'X[4] <= 0.5\\ngini = 0.292\\nsamples = 45\\nvalue = [8, 37]'),\n",
              " Text(0.34231378763866877, 0.5740740740740741, 'X[5] <= 82.575\\ngini = 0.49\\nsamples = 7\\nvalue = [3, 4]'),\n",
              " Text(0.34133853468243325, 0.5370370370370371, 'gini = 0.0\\nsamples = 2\\nvalue = [2, 0]'),\n",
              " Text(0.3432890405949043, 0.5370370370370371, 'X[5] <= 85.075\\ngini = 0.32\\nsamples = 5\\nvalue = [1, 4]'),\n",
              " Text(0.34231378763866877, 0.5, 'gini = 0.0\\nsamples = 3\\nvalue = [0, 3]'),\n",
              " Text(0.3442642935511398, 0.5, 'X[0] <= 0.5\\ngini = 0.5\\nsamples = 2\\nvalue = [1, 1]'),\n",
              " Text(0.3432890405949043, 0.46296296296296297, 'gini = 0.0\\nsamples = 1\\nvalue = [1, 0]'),\n",
              " Text(0.34523954650737537, 0.46296296296296297, 'gini = 0.0\\nsamples = 1\\nvalue = [0, 1]'),\n",
              " Text(0.3510910642447885, 0.5740740740740741, 'X[5] <= 85.275\\ngini = 0.229\\nsamples = 38\\nvalue = [5, 33]'),\n",
              " Text(0.34914055833231744, 0.5370370370370371, 'X[1] <= 0.5\\ngini = 0.165\\nsamples = 33\\nvalue = [3, 30]'),\n",
              " Text(0.3481653053760819, 0.5, 'X[5] <= 84.375\\ngini = 0.255\\nsamples = 20\\nvalue = [3, 17]'),\n",
              " Text(0.3471900524198464, 0.46296296296296297, 'X[5] <= 84.1\\ngini = 0.337\\nsamples = 14\\nvalue = [3, 11]'),\n",
              " Text(0.3462147994636109, 0.42592592592592593, 'X[0] <= 0.5\\ngini = 0.26\\nsamples = 13\\nvalue = [2, 11]'),\n",
              " Text(0.34523954650737537, 0.3888888888888889, 'gini = 0.0\\nsamples = 7\\nvalue = [0, 7]'),\n",
              " Text(0.3471900524198464, 0.3888888888888889, 'X[5] <= 80.375\\ngini = 0.444\\nsamples = 6\\nvalue = [2, 4]'),\n",
              " Text(0.3462147994636109, 0.35185185185185186, 'gini = 0.0\\nsamples = 1\\nvalue = [1, 0]'),\n",
              " Text(0.3481653053760819, 0.35185185185185186, 'X[5] <= 80.975\\ngini = 0.32\\nsamples = 5\\nvalue = [1, 4]'),\n",
              " Text(0.3471900524198464, 0.3148148148148148, 'gini = 0.0\\nsamples = 2\\nvalue = [0, 2]'),\n",
              " Text(0.34914055833231744, 0.3148148148148148, 'X[5] <= 81.2\\ngini = 0.444\\nsamples = 3\\nvalue = [1, 2]'),\n",
              " Text(0.3481653053760819, 0.2777777777777778, 'gini = 0.0\\nsamples = 1\\nvalue = [1, 0]'),\n",
              " Text(0.35011581128855296, 0.2777777777777778, 'gini = 0.0\\nsamples = 2\\nvalue = [0, 2]'),\n",
              " Text(0.3481653053760819, 0.42592592592592593, 'gini = 0.0\\nsamples = 1\\nvalue = [1, 0]'),\n",
              " Text(0.34914055833231744, 0.46296296296296297, 'gini = 0.0\\nsamples = 6\\nvalue = [0, 6]'),\n",
              " Text(0.35011581128855296, 0.5, 'gini = 0.0\\nsamples = 13\\nvalue = [0, 13]'),\n",
              " Text(0.35304157015725957, 0.5370370370370371, 'X[5] <= 85.325\\ngini = 0.48\\nsamples = 5\\nvalue = [2, 3]'),\n",
              " Text(0.352066317201024, 0.5, 'gini = 0.0\\nsamples = 1\\nvalue = [1, 0]'),\n",
              " Text(0.3540168231134951, 0.5, 'X[5] <= 85.425\\ngini = 0.375\\nsamples = 4\\nvalue = [1, 3]'),\n",
              " Text(0.35304157015725957, 0.46296296296296297, 'gini = 0.0\\nsamples = 2\\nvalue = [0, 2]'),\n",
              " Text(0.3549920760697306, 0.46296296296296297, 'X[5] <= 85.55\\ngini = 0.5\\nsamples = 2\\nvalue = [1, 1]'),\n",
              " Text(0.3540168231134951, 0.42592592592592593, 'gini = 0.0\\nsamples = 1\\nvalue = [1, 0]'),\n",
              " Text(0.3559673290259661, 0.42592592592592593, 'gini = 0.0\\nsamples = 1\\nvalue = [0, 1]'),\n",
              " Text(0.35889308789467267, 0.6111111111111112, 'X[5] <= 84.55\\ngini = 0.497\\nsamples = 13\\nvalue = [6, 7]'),\n",
              " Text(0.3559673290259661, 0.5740740740740741, 'X[5] <= 81.15\\ngini = 0.375\\nsamples = 8\\nvalue = [2, 6]'),\n",
              " Text(0.3549920760697306, 0.5370370370370371, 'gini = 0.0\\nsamples = 3\\nvalue = [0, 3]'),\n",
              " Text(0.35694258198220163, 0.5370370370370371, 'X[5] <= 83.35\\ngini = 0.48\\nsamples = 5\\nvalue = [2, 3]'),\n",
              " Text(0.3559673290259661, 0.5, 'gini = 0.0\\nsamples = 2\\nvalue = [2, 0]'),\n",
              " Text(0.35791783493843715, 0.5, 'gini = 0.0\\nsamples = 3\\nvalue = [0, 3]'),\n",
              " Text(0.3618188467633793, 0.5740740740740741, 'X[2] <= 11.5\\ngini = 0.32\\nsamples = 5\\nvalue = [4, 1]'),\n",
              " Text(0.3608435938071437, 0.5370370370370371, 'X[0] <= 0.5\\ngini = 0.5\\nsamples = 2\\nvalue = [1, 1]'),\n",
              " Text(0.3598683408509082, 0.5, 'gini = 0.0\\nsamples = 1\\nvalue = [0, 1]'),\n",
              " Text(0.3618188467633793, 0.5, 'gini = 0.0\\nsamples = 1\\nvalue = [1, 0]'),\n",
              " Text(0.3627940997196148, 0.5370370370370371, 'gini = 0.0\\nsamples = 3\\nvalue = [3, 0]'),\n",
              " Text(0.3686456174570279, 0.6481481481481481, 'X[5] <= 89.275\\ngini = 0.495\\nsamples = 31\\nvalue = [17, 14]'),\n",
              " Text(0.36669511154455686, 0.6111111111111112, 'X[5] <= 87.075\\ngini = 0.408\\nsamples = 21\\nvalue = [15, 6]'),\n",
              " Text(0.36571985858832134, 0.5740740740740741, 'X[5] <= 86.35\\ngini = 0.496\\nsamples = 11\\nvalue = [5, 6]'),\n",
              " Text(0.3647446056320858, 0.5370370370370371, 'X[2] <= 7.5\\ngini = 0.278\\nsamples = 6\\nvalue = [5, 1]'),\n",
              " Text(0.3637693526758503, 0.5, 'X[1] <= 0.5\\ngini = 0.5\\nsamples = 2\\nvalue = [1, 1]'),\n",
              " Text(0.3627940997196148, 0.46296296296296297, 'gini = 0.0\\nsamples = 1\\nvalue = [1, 0]'),\n",
              " Text(0.3647446056320858, 0.46296296296296297, 'gini = 0.0\\nsamples = 1\\nvalue = [0, 1]'),\n",
              " Text(0.36571985858832134, 0.5, 'gini = 0.0\\nsamples = 4\\nvalue = [4, 0]'),\n",
              " Text(0.36669511154455686, 0.5370370370370371, 'gini = 0.0\\nsamples = 5\\nvalue = [0, 5]'),\n",
              " Text(0.3676703645007924, 0.5740740740740741, 'gini = 0.0\\nsamples = 10\\nvalue = [10, 0]'),\n",
              " Text(0.370596123369499, 0.6111111111111112, 'X[5] <= 89.625\\ngini = 0.32\\nsamples = 10\\nvalue = [2, 8]'),\n",
              " Text(0.3696208704132634, 0.5740740740740741, 'gini = 0.0\\nsamples = 6\\nvalue = [0, 6]'),\n",
              " Text(0.3715713763257345, 0.5740740740740741, 'X[5] <= 89.925\\ngini = 0.5\\nsamples = 4\\nvalue = [2, 2]'),\n",
              " Text(0.370596123369499, 0.5370370370370371, 'gini = 0.0\\nsamples = 1\\nvalue = [1, 0]'),\n",
              " Text(0.37254662928197, 0.5370370370370371, 'X[2] <= 7.5\\ngini = 0.444\\nsamples = 3\\nvalue = [1, 2]'),\n",
              " Text(0.3715713763257345, 0.5, 'gini = 0.0\\nsamples = 1\\nvalue = [0, 1]'),\n",
              " Text(0.37352188223820554, 0.5, 'X[5] <= 90.125\\ngini = 0.5\\nsamples = 2\\nvalue = [1, 1]'),\n",
              " Text(0.37254662928197, 0.46296296296296297, 'gini = 0.0\\nsamples = 1\\nvalue = [1, 0]'),\n",
              " Text(0.37449713519444106, 0.46296296296296297, 'gini = 0.0\\nsamples = 1\\nvalue = [0, 1]'),\n",
              " Text(0.37449713519444106, 0.7592592592592593, 'X[5] <= 90.775\\ngini = 0.455\\nsamples = 20\\nvalue = [13, 7]'),\n",
              " Text(0.37352188223820554, 0.7222222222222222, 'gini = 0.0\\nsamples = 9\\nvalue = [9, 0]'),\n",
              " Text(0.3754723881506766, 0.7222222222222222, 'X[1] <= 0.5\\ngini = 0.463\\nsamples = 11\\nvalue = [4, 7]'),\n",
              " Text(0.37449713519444106, 0.6851851851851852, 'X[5] <= 91.125\\ngini = 0.49\\nsamples = 7\\nvalue = [4, 3]'),\n",
              " Text(0.37352188223820554, 0.6481481481481481, 'X[2] <= 9.5\\ngini = 0.375\\nsamples = 4\\nvalue = [1, 3]'),\n",
              " Text(0.37254662928197, 0.6111111111111112, 'gini = 0.0\\nsamples = 3\\nvalue = [0, 3]'),\n",
              " Text(0.37449713519444106, 0.6111111111111112, 'gini = 0.0\\nsamples = 1\\nvalue = [1, 0]'),\n",
              " Text(0.3754723881506766, 0.6481481481481481, 'gini = 0.0\\nsamples = 3\\nvalue = [3, 0]'),\n",
              " Text(0.3764476411069121, 0.6851851851851852, 'gini = 0.0\\nsamples = 4\\nvalue = [0, 4]'),\n",
              " Text(0.39424600755821043, 0.8333333333333334, 'X[5] <= 107.325\\ngini = 0.324\\nsamples = 113\\nvalue = [23, 90]'),\n",
              " Text(0.3866877971473851, 0.7962962962962963, 'X[4] <= 0.5\\ngini = 0.302\\nsamples = 108\\nvalue = [20, 88]'),\n",
              " Text(0.38132390588808973, 0.7592592592592593, 'X[2] <= 4.0\\ngini = 0.459\\nsamples = 14\\nvalue = [5, 9]'),\n",
              " Text(0.3793733999756187, 0.7222222222222222, 'X[5] <= 95.175\\ngini = 0.32\\nsamples = 5\\nvalue = [4, 1]'),\n",
              " Text(0.3783981470193832, 0.6851851851851852, 'X[0] <= 0.5\\ngini = 0.5\\nsamples = 2\\nvalue = [1, 1]'),\n",
              " Text(0.3774228940631476, 0.6481481481481481, 'gini = 0.0\\nsamples = 1\\nvalue = [1, 0]'),\n",
              " Text(0.3793733999756187, 0.6481481481481481, 'gini = 0.0\\nsamples = 1\\nvalue = [0, 1]'),\n",
              " Text(0.3803486529318542, 0.6851851851851852, 'gini = 0.0\\nsamples = 3\\nvalue = [3, 0]'),\n",
              " Text(0.38327441180056077, 0.7222222222222222, 'X[2] <= 11.0\\ngini = 0.198\\nsamples = 9\\nvalue = [1, 8]'),\n",
              " Text(0.38229915884432525, 0.6851851851851852, 'gini = 0.0\\nsamples = 8\\nvalue = [0, 8]'),\n",
              " Text(0.3842496647567963, 0.6851851851851852, 'gini = 0.0\\nsamples = 1\\nvalue = [1, 0]'),\n",
              " Text(0.3920516884066805, 0.7592592592592593, 'X[2] <= 5.5\\ngini = 0.268\\nsamples = 94\\nvalue = [15, 79]'),\n",
              " Text(0.3871754236255029, 0.7222222222222222, 'X[5] <= 94.975\\ngini = 0.117\\nsamples = 32\\nvalue = [2, 30]'),\n",
              " Text(0.3862001706692673, 0.6851851851851852, 'X[5] <= 94.675\\ngini = 0.278\\nsamples = 12\\nvalue = [2, 10]'),\n",
              " Text(0.3852249177130318, 0.6481481481481481, 'gini = 0.0\\nsamples = 9\\nvalue = [0, 9]'),\n",
              " Text(0.3871754236255029, 0.6481481481481481, 'X[2] <= 4.5\\ngini = 0.444\\nsamples = 3\\nvalue = [2, 1]'),\n",
              " Text(0.3862001706692673, 0.6111111111111112, 'gini = 0.0\\nsamples = 2\\nvalue = [2, 0]'),\n",
              " Text(0.3881506765817384, 0.6111111111111112, 'gini = 0.0\\nsamples = 1\\nvalue = [0, 1]'),\n",
              " Text(0.3881506765817384, 0.6851851851851852, 'gini = 0.0\\nsamples = 20\\nvalue = [0, 20]'),\n",
              " Text(0.3969279531878581, 0.7222222222222222, 'X[2] <= 9.5\\ngini = 0.331\\nsamples = 62\\nvalue = [13, 49]'),\n",
              " Text(0.393026941362916, 0.6851851851851852, 'X[2] <= 8.5\\ngini = 0.43\\nsamples = 32\\nvalue = [10, 22]'),\n",
              " Text(0.39107643545044496, 0.6481481481481481, 'X[5] <= 100.5\\ngini = 0.34\\nsamples = 23\\nvalue = [5, 18]'),\n",
              " Text(0.39010118249420944, 0.6111111111111112, 'X[5] <= 100.05\\ngini = 0.401\\nsamples = 18\\nvalue = [5, 13]'),\n",
              " Text(0.3891259295379739, 0.5740740740740741, 'X[5] <= 95.05\\ngini = 0.305\\nsamples = 16\\nvalue = [3, 13]'),\n",
              " Text(0.3881506765817384, 0.5370370370370371, 'X[5] <= 94.025\\ngini = 0.444\\nsamples = 9\\nvalue = [3, 6]'),\n",
              " Text(0.3871754236255029, 0.5, 'gini = 0.0\\nsamples = 3\\nvalue = [0, 3]'),\n",
              " Text(0.3891259295379739, 0.5, 'X[5] <= 94.25\\ngini = 0.5\\nsamples = 6\\nvalue = [3, 3]'),\n",
              " Text(0.3881506765817384, 0.46296296296296297, 'gini = 0.0\\nsamples = 2\\nvalue = [2, 0]'),\n",
              " Text(0.39010118249420944, 0.46296296296296297, 'X[5] <= 94.725\\ngini = 0.375\\nsamples = 4\\nvalue = [1, 3]'),\n",
              " Text(0.3891259295379739, 0.42592592592592593, 'gini = 0.0\\nsamples = 3\\nvalue = [0, 3]'),\n",
              " Text(0.39107643545044496, 0.42592592592592593, 'gini = 0.0\\nsamples = 1\\nvalue = [1, 0]'),\n",
              " Text(0.39010118249420944, 0.5370370370370371, 'gini = 0.0\\nsamples = 7\\nvalue = [0, 7]'),\n",
              " Text(0.39107643545044496, 0.5740740740740741, 'gini = 0.0\\nsamples = 2\\nvalue = [2, 0]'),\n",
              " Text(0.3920516884066805, 0.6111111111111112, 'gini = 0.0\\nsamples = 5\\nvalue = [0, 5]'),\n",
              " Text(0.39497744727538703, 0.6481481481481481, 'X[5] <= 101.0\\ngini = 0.494\\nsamples = 9\\nvalue = [5, 4]'),\n",
              " Text(0.3940021943191515, 0.6111111111111112, 'X[5] <= 99.375\\ngini = 0.49\\nsamples = 7\\nvalue = [3, 4]'),\n",
              " Text(0.393026941362916, 0.5740740740740741, 'X[5] <= 95.375\\ngini = 0.48\\nsamples = 5\\nvalue = [3, 2]'),\n",
              " Text(0.3920516884066805, 0.5370370370370371, 'X[5] <= 94.4\\ngini = 0.444\\nsamples = 3\\nvalue = [1, 2]'),\n",
              " Text(0.39107643545044496, 0.5, 'gini = 0.0\\nsamples = 1\\nvalue = [1, 0]'),\n",
              " Text(0.393026941362916, 0.5, 'gini = 0.0\\nsamples = 2\\nvalue = [0, 2]'),\n",
              " Text(0.3940021943191515, 0.5370370370370371, 'gini = 0.0\\nsamples = 2\\nvalue = [2, 0]'),\n",
              " Text(0.39497744727538703, 0.5740740740740741, 'gini = 0.0\\nsamples = 2\\nvalue = [0, 2]'),\n",
              " Text(0.3959527002316226, 0.6111111111111112, 'gini = 0.0\\nsamples = 2\\nvalue = [2, 0]'),\n",
              " Text(0.4008289650128002, 0.6851851851851852, 'X[5] <= 95.3\\ngini = 0.18\\nsamples = 30\\nvalue = [3, 27]'),\n",
              " Text(0.39887845910032915, 0.6481481481481481, 'X[5] <= 95.125\\ngini = 0.408\\nsamples = 7\\nvalue = [2, 5]'),\n",
              " Text(0.39790320614409364, 0.6111111111111112, 'X[5] <= 94.525\\ngini = 0.278\\nsamples = 6\\nvalue = [1, 5]'),\n",
              " Text(0.3969279531878581, 0.5740740740740741, 'X[1] <= 0.5\\ngini = 0.444\\nsamples = 3\\nvalue = [1, 2]'),\n",
              " Text(0.3959527002316226, 0.5370370370370371, 'X[2] <= 11.5\\ngini = 0.5\\nsamples = 2\\nvalue = [1, 1]'),\n",
              " Text(0.39497744727538703, 0.5, 'gini = 0.0\\nsamples = 1\\nvalue = [1, 0]'),\n",
              " Text(0.3969279531878581, 0.5, 'gini = 0.0\\nsamples = 1\\nvalue = [0, 1]'),\n",
              " Text(0.39790320614409364, 0.5370370370370371, 'gini = 0.0\\nsamples = 1\\nvalue = [0, 1]'),\n",
              " Text(0.39887845910032915, 0.5740740740740741, 'gini = 0.0\\nsamples = 3\\nvalue = [0, 3]'),\n",
              " Text(0.39985371205656467, 0.6111111111111112, 'gini = 0.0\\nsamples = 1\\nvalue = [1, 0]'),\n",
              " ...]"
            ]
          },
          "metadata": {},
          "execution_count": 26
        },
        {
          "output_type": "display_data",
          "data": {
            "text/plain": [
              "<Figure size 864x576 with 1 Axes>"
            ],
            "image/png": "[encoded data removed]"
          },
          "metadata": {
            "needs_background": "light"
          }
        }
      ],
      "source": [
        "plt.figure(figsize = (12,8))\n",
        "\n",
        "from sklearn import tree\n",
        "tree.plot_tree(clf.fit(X_train, y_train))"
      ]
    },
    {
      "cell_type": "code",
      "source": [
        "print('Training set score : {:.4f}'.format(clf.score(X_train, y_train)))\n",
        "print('Test set score : {:.4f}'.format(clf.score(X_test, y_test)))"
      ],
      "metadata": {
        "id": "frTcS44akf5_",
        "colab": {
          "base_uri": "https://localhost:8080/"
        },
        "outputId": "4b7bc070-5d8b-4c98-f125-ef98870b132b"
      },
      "execution_count": null,
      "outputs": [
        {
          "output_type": "stream",
          "name": "stdout",
          "text": [
            "Training set score : 0.9947\n",
            "Test set score : 0.7189\n"
          ]
        }
      ]
    },
    {
      "cell_type": "code",
      "source": [
        "acc_dtc = accuracy_score(y_test, y_pred)\n",
        "conf = confusion_matrix(y_test, y_pred)\n",
        "clf_report = classification_report(y_test, y_pred)\n",
        "\n",
        "print(f\"Accuracy Score of Decision Tree is : : {acc_dtc}\")\n",
        "print(f\"Confusion Matrix : {conf}\")\n",
        "print(f\"Classification Report : \\n{clf_report}\")"
      ],
      "metadata": {
        "id": "_fbc4-P8lHjJ",
        "colab": {
          "base_uri": "https://localhost:8080/"
        },
        "outputId": "2e0ca791-e82d-47e4-d438-7154600be73d"
      },
      "execution_count": null,
      "outputs": [
        {
          "output_type": "stream",
          "name": "stdout",
          "text": [
            "Accuracy Score of Decision Tree is : : 0.7165168007572172\n",
            "Confusion Matrix : [[1232  307]\n",
            " [ 292  282]]\n",
            "Classification Report : \n",
            "              precision    recall  f1-score   support\n",
            "\n",
            "           0       0.81      0.80      0.80      1539\n",
            "           1       0.48      0.49      0.48       574\n",
            "\n",
            "    accuracy                           0.72      2113\n",
            "   macro avg       0.64      0.65      0.64      2113\n",
            "weighted avg       0.72      0.72      0.72      2113\n",
            "\n"
          ]
        }
      ]
    },
    {
      "cell_type": "code",
      "source": [
        "clf_gini = DecisionTreeClassifier(criterion='gini', max_depth=5)\n",
        "clf_gini.fit(X_train, y_train)"
      ],
      "metadata": {
        "id": "gMytNKHclLQK",
        "colab": {
          "base_uri": "https://localhost:8080/"
        },
        "outputId": "8596fa7d-ef10-43d6-bc8b-57c07c829024"
      },
      "execution_count": null,
      "outputs": [
        {
          "output_type": "execute_result",
          "data": {
            "text/plain": [
              "DecisionTreeClassifier(max_depth=5)"
            ]
          },
          "metadata": {},
          "execution_count": 35
        }
      ]
    },
    {
      "cell_type": "code",
      "source": [
        "y_pred_gini = clf_gini.predict(X_test)"
      ],
      "metadata": {
        "id": "McFALcGplRba"
      },
      "execution_count": null,
      "outputs": []
    },
    {
      "cell_type": "code",
      "source": [
        "import graphviz\n",
        "\n",
        "dot_data = tree.export_graphviz(clf_gini, out_file=None,\n",
        "                                feature_names = X_train.columns,\n",
        "                                filled=True, rounded=True,\n",
        "                                special_characters=True\n",
        "                             )\n",
        "\n",
        "graph = graphviz.Source(dot_data)\n",
        "\n",
        "graph"
      ],
      "metadata": {
        "id": "BNfttwtSlTlY",
        "colab": {
          "base_uri": "https://localhost:8080/",
          "height": 816
        },
        "outputId": "416b1141-13c5-4e60-e3b8-b412d54149aa"
      },
      "execution_count": null,
      "outputs": [
        {
          "output_type": "execute_result",
          "data": {
            "text/plain": [
              "<graphviz.files.Source at 0x7f611d7ba250>"
            ],
            "image/svg+xml": "<?xml version=\"1.0\" encoding=\"UTF-8\" standalone=\"no\"?>\n<!DOCTYPE svg PUBLIC \"-//W3C//DTD SVG 1.1//EN\"\n \"http://www.w3.org/Graphics/SVG/1.1/DTD/svg11.dtd\">\n<!-- Generated by graphviz version 2.40.1 (20161225.0304)\n -->\n<!-- Title: Tree Pages: 1 -->\n<svg width=\"4032pt\" height=\"581pt\"\n viewBox=\"0.00 0.00 4031.50 581.00\" xmlns=\"http://www.w3.org/2000/svg\" xmlns:xlink=\"http://www.w3.org/1999/xlink\">\n<g id=\"graph0\" class=\"graph\" transform=\"scale(1 1) rotate(0) translate(4 577)\">\n<title>Tree</title>\n<polygon fill=\"#ffffff\" stroke=\"transparent\" points=\"-4,4 -4,-577 4027.5,-577 4027.5,4 -4,4\"/>\n<!-- 0 -->\n<g id=\"node1\" class=\"node\">\n<title>0</title>\n<path fill=\"#eeae80\" stroke=\"#000000\" d=\"M2059.5,-573C2059.5,-573 1934.5,-573 1934.5,-573 1928.5,-573 1922.5,-567 1922.5,-561 1922.5,-561 1922.5,-517 1922.5,-517 1922.5,-511 1928.5,-505 1934.5,-505 1934.5,-505 2059.5,-505 2059.5,-505 2065.5,-505 2071.5,-511 2071.5,-517 2071.5,-517 2071.5,-561 2071.5,-561 2071.5,-567 2065.5,-573 2059.5,-573\"/>\n<text text-anchor=\"start\" x=\"1954.5\" y=\"-557.8\" font-family=\"Helvetica,sans-Serif\" font-size=\"14.00\" fill=\"#000000\">tenure ≤ 12.5</text>\n<text text-anchor=\"start\" x=\"1959\" y=\"-542.8\" font-family=\"Helvetica,sans-Serif\" font-size=\"14.00\" fill=\"#000000\">gini = 0.387</text>\n<text text-anchor=\"start\" x=\"1945\" y=\"-527.8\" font-family=\"Helvetica,sans-Serif\" font-size=\"14.00\" fill=\"#000000\">samples = 4930</text>\n<text text-anchor=\"start\" x=\"1930.5\" y=\"-512.8\" font-family=\"Helvetica,sans-Serif\" font-size=\"14.00\" fill=\"#000000\">value = [3635, 1295]</text>\n</g>\n<!-- 1 -->\n<g id=\"node2\" class=\"node\">\n<title>1</title>\n<path fill=\"#fcf3ec\" stroke=\"#000000\" d=\"M1426.5,-469C1426.5,-469 1283.5,-469 1283.5,-469 1277.5,-469 1271.5,-463 1271.5,-457 1271.5,-457 1271.5,-413 1271.5,-413 1271.5,-407 1277.5,-401 1283.5,-401 1283.5,-401 1426.5,-401 1426.5,-401 1432.5,-401 1438.5,-407 1438.5,-413 1438.5,-413 1438.5,-457 1438.5,-457 1438.5,-463 1432.5,-469 1426.5,-469\"/>\n<text text-anchor=\"start\" x=\"1279.5\" y=\"-453.8\" font-family=\"Helvetica,sans-Serif\" font-size=\"14.00\" fill=\"#000000\">MonthlyCharges ≤ 66.3</text>\n<text text-anchor=\"start\" x=\"1317\" y=\"-438.8\" font-family=\"Helvetica,sans-Serif\" font-size=\"14.00\" fill=\"#000000\">gini = 0.499</text>\n<text text-anchor=\"start\" x=\"1303\" y=\"-423.8\" font-family=\"Helvetica,sans-Serif\" font-size=\"14.00\" fill=\"#000000\">samples = 1529</text>\n<text text-anchor=\"start\" x=\"1297\" y=\"-408.8\" font-family=\"Helvetica,sans-Serif\" font-size=\"14.00\" fill=\"#000000\">value = [804, 725]</text>\n</g>\n<!-- 0&#45;&gt;1 -->\n<g id=\"edge1\" class=\"edge\">\n<title>0&#45;&gt;1</title>\n<path fill=\"none\" stroke=\"#000000\" d=\"M1922.4129,-526.9174C1804.9904,-507.8956 1577.2121,-470.997 1448.8426,-450.2019\"/>\n<polygon fill=\"#000000\" stroke=\"#000000\" points=\"1449.0673,-446.6928 1438.6363,-448.5486 1447.9479,-453.6027 1449.0673,-446.6928\"/>\n<text text-anchor=\"middle\" x=\"1453.2597\" y=\"-465.1256\" font-family=\"Helvetica,sans-Serif\" font-size=\"14.00\" fill=\"#000000\">True</text>\n</g>\n<!-- 30 -->\n<g id=\"node31\" class=\"node\">\n<title>30</title>\n<path fill=\"#ea9a61\" stroke=\"#000000\" d=\"M2382.5,-469C2382.5,-469 2223.5,-469 2223.5,-469 2217.5,-469 2211.5,-463 2211.5,-457 2211.5,-457 2211.5,-413 2211.5,-413 2211.5,-407 2217.5,-401 2223.5,-401 2223.5,-401 2382.5,-401 2382.5,-401 2388.5,-401 2394.5,-407 2394.5,-413 2394.5,-413 2394.5,-457 2394.5,-457 2394.5,-463 2388.5,-469 2382.5,-469\"/>\n<text text-anchor=\"start\" x=\"2219.5\" y=\"-453.8\" font-family=\"Helvetica,sans-Serif\" font-size=\"14.00\" fill=\"#000000\">MonthlyCharges ≤ 69.975</text>\n<text text-anchor=\"start\" x=\"2265\" y=\"-438.8\" font-family=\"Helvetica,sans-Serif\" font-size=\"14.00\" fill=\"#000000\">gini = 0.279</text>\n<text text-anchor=\"start\" x=\"2251\" y=\"-423.8\" font-family=\"Helvetica,sans-Serif\" font-size=\"14.00\" fill=\"#000000\">samples = 3401</text>\n<text text-anchor=\"start\" x=\"2241\" y=\"-408.8\" font-family=\"Helvetica,sans-Serif\" font-size=\"14.00\" fill=\"#000000\">value = [2831, 570]</text>\n</g>\n<!-- 0&#45;&gt;30 -->\n<g id=\"edge30\" class=\"edge\">\n<title>0&#45;&gt;30</title>\n<path fill=\"none\" stroke=\"#000000\" d=\"M2071.856,-513.5587C2111.0057,-500.253 2159.4865,-483.7758 2201.9216,-469.3535\"/>\n<polygon fill=\"#000000\" stroke=\"#000000\" points=\"2203.0975,-472.6505 2211.4393,-466.1187 2200.8449,-466.0228 2203.0975,-472.6505\"/>\n<text text-anchor=\"middle\" x=\"2200.3904\" y=\"-484.8446\" font-family=\"Helvetica,sans-Serif\" font-size=\"14.00\" fill=\"#000000\">False</text>\n</g>\n<!-- 2 -->\n<g id=\"node3\" class=\"node\">\n<title>2</title>\n<path fill=\"#f1ba92\" stroke=\"#000000\" d=\"M835,-365C835,-365 727,-365 727,-365 721,-365 715,-359 715,-353 715,-353 715,-309 715,-309 715,-303 721,-297 727,-297 727,-297 835,-297 835,-297 841,-297 847,-303 847,-309 847,-309 847,-353 847,-353 847,-359 841,-365 835,-365\"/>\n<text text-anchor=\"start\" x=\"742.5\" y=\"-349.8\" font-family=\"Helvetica,sans-Serif\" font-size=\"14.00\" fill=\"#000000\">tenure ≤ 3.5</text>\n<text text-anchor=\"start\" x=\"743\" y=\"-334.8\" font-family=\"Helvetica,sans-Serif\" font-size=\"14.00\" fill=\"#000000\">gini = 0.428</text>\n<text text-anchor=\"start\" x=\"733\" y=\"-319.8\" font-family=\"Helvetica,sans-Serif\" font-size=\"14.00\" fill=\"#000000\">samples = 845</text>\n<text text-anchor=\"start\" x=\"723\" y=\"-304.8\" font-family=\"Helvetica,sans-Serif\" font-size=\"14.00\" fill=\"#000000\">value = [583, 262]</text>\n</g>\n<!-- 1&#45;&gt;2 -->\n<g id=\"edge2\" class=\"edge\">\n<title>1&#45;&gt;2</title>\n<path fill=\"none\" stroke=\"#000000\" d=\"M1271.2283,-419.8219C1159.8461,-399.6411 964.5913,-364.2639 857.1804,-344.8027\"/>\n<polygon fill=\"#000000\" stroke=\"#000000\" points=\"857.5296,-341.3091 847.0658,-342.9701 856.2816,-348.1969 857.5296,-341.3091\"/>\n</g>\n<!-- 17 -->\n<g id=\"node18\" class=\"node\">\n<title>17</title>\n<path fill=\"#98ccf1\" stroke=\"#000000\" d=\"M1409,-365C1409,-365 1301,-365 1301,-365 1295,-365 1289,-359 1289,-353 1289,-353 1289,-309 1289,-309 1289,-303 1295,-297 1301,-297 1301,-297 1409,-297 1409,-297 1415,-297 1421,-303 1421,-309 1421,-309 1421,-353 1421,-353 1421,-359 1415,-365 1409,-365\"/>\n<text text-anchor=\"start\" x=\"1316.5\" y=\"-349.8\" font-family=\"Helvetica,sans-Serif\" font-size=\"14.00\" fill=\"#000000\">tenure ≤ 1.5</text>\n<text text-anchor=\"start\" x=\"1317\" y=\"-334.8\" font-family=\"Helvetica,sans-Serif\" font-size=\"14.00\" fill=\"#000000\">gini = 0.437</text>\n<text text-anchor=\"start\" x=\"1307\" y=\"-319.8\" font-family=\"Helvetica,sans-Serif\" font-size=\"14.00\" fill=\"#000000\">samples = 684</text>\n<text text-anchor=\"start\" x=\"1297\" y=\"-304.8\" font-family=\"Helvetica,sans-Serif\" font-size=\"14.00\" fill=\"#000000\">value = [221, 463]</text>\n</g>\n<!-- 1&#45;&gt;17 -->\n<g id=\"edge17\" class=\"edge\">\n<title>1&#45;&gt;17</title>\n<path fill=\"none\" stroke=\"#000000\" d=\"M1355,-400.9465C1355,-392.776 1355,-383.9318 1355,-375.3697\"/>\n<polygon fill=\"#000000\" stroke=\"#000000\" points=\"1358.5001,-375.13 1355,-365.13 1351.5001,-375.13 1358.5001,-375.13\"/>\n</g>\n<!-- 3 -->\n<g id=\"node4\" class=\"node\">\n<title>3</title>\n<path fill=\"#f8decc\" stroke=\"#000000\" d=\"M478.5,-261C478.5,-261 319.5,-261 319.5,-261 313.5,-261 307.5,-255 307.5,-249 307.5,-249 307.5,-205 307.5,-205 307.5,-199 313.5,-193 319.5,-193 319.5,-193 478.5,-193 478.5,-193 484.5,-193 490.5,-199 490.5,-205 490.5,-205 490.5,-249 490.5,-249 490.5,-255 484.5,-261 478.5,-261\"/>\n<text text-anchor=\"start\" x=\"315.5\" y=\"-245.8\" font-family=\"Helvetica,sans-Serif\" font-size=\"14.00\" fill=\"#000000\">MonthlyCharges ≤ 20.875</text>\n<text text-anchor=\"start\" x=\"361\" y=\"-230.8\" font-family=\"Helvetica,sans-Serif\" font-size=\"14.00\" fill=\"#000000\">gini = 0.489</text>\n<text text-anchor=\"start\" x=\"351\" y=\"-215.8\" font-family=\"Helvetica,sans-Serif\" font-size=\"14.00\" fill=\"#000000\">samples = 416</text>\n<text text-anchor=\"start\" x=\"341\" y=\"-200.8\" font-family=\"Helvetica,sans-Serif\" font-size=\"14.00\" fill=\"#000000\">value = [239, 177]</text>\n</g>\n<!-- 2&#45;&gt;3 -->\n<g id=\"edge3\" class=\"edge\">\n<title>2&#45;&gt;3</title>\n<path fill=\"none\" stroke=\"#000000\" d=\"M714.8968,-313.0033C655.8725,-296.9339 568.5111,-273.1496 500.6108,-254.6637\"/>\n<polygon fill=\"#000000\" stroke=\"#000000\" points=\"501.3078,-251.2261 490.7396,-251.9762 499.4689,-257.9803 501.3078,-251.2261\"/>\n</g>\n<!-- 10 -->\n<g id=\"node11\" class=\"node\">\n<title>10</title>\n<path fill=\"#eba06a\" stroke=\"#000000\" d=\"M852.5,-261C852.5,-261 709.5,-261 709.5,-261 703.5,-261 697.5,-255 697.5,-249 697.5,-249 697.5,-205 697.5,-205 697.5,-199 703.5,-193 709.5,-193 709.5,-193 852.5,-193 852.5,-193 858.5,-193 864.5,-199 864.5,-205 864.5,-205 864.5,-249 864.5,-249 864.5,-255 858.5,-261 852.5,-261\"/>\n<text text-anchor=\"start\" x=\"705.5\" y=\"-245.8\" font-family=\"Helvetica,sans-Serif\" font-size=\"14.00\" fill=\"#000000\">MonthlyCharges ≤ 20.9</text>\n<text text-anchor=\"start\" x=\"743\" y=\"-230.8\" font-family=\"Helvetica,sans-Serif\" font-size=\"14.00\" fill=\"#000000\">gini = 0.318</text>\n<text text-anchor=\"start\" x=\"733\" y=\"-215.8\" font-family=\"Helvetica,sans-Serif\" font-size=\"14.00\" fill=\"#000000\">samples = 429</text>\n<text text-anchor=\"start\" x=\"727\" y=\"-200.8\" font-family=\"Helvetica,sans-Serif\" font-size=\"14.00\" fill=\"#000000\">value = [344, 85]</text>\n</g>\n<!-- 2&#45;&gt;10 -->\n<g id=\"edge10\" class=\"edge\">\n<title>2&#45;&gt;10</title>\n<path fill=\"none\" stroke=\"#000000\" d=\"M781,-296.9465C781,-288.776 781,-279.9318 781,-271.3697\"/>\n<polygon fill=\"#000000\" stroke=\"#000000\" points=\"784.5001,-271.13 781,-261.13 777.5001,-271.13 784.5001,-271.13\"/>\n</g>\n<!-- 4 -->\n<g id=\"node5\" class=\"node\">\n<title>4</title>\n<path fill=\"#efb083\" stroke=\"#000000\" d=\"M238,-157C238,-157 138,-157 138,-157 132,-157 126,-151 126,-145 126,-145 126,-101 126,-101 126,-95 132,-89 138,-89 138,-89 238,-89 238,-89 244,-89 250,-95 250,-101 250,-101 250,-145 250,-145 250,-151 244,-157 238,-157\"/>\n<text text-anchor=\"start\" x=\"149.5\" y=\"-141.8\" font-family=\"Helvetica,sans-Serif\" font-size=\"14.00\" fill=\"#000000\">tenure ≤ 1.5</text>\n<text text-anchor=\"start\" x=\"150\" y=\"-126.8\" font-family=\"Helvetica,sans-Serif\" font-size=\"14.00\" fill=\"#000000\">gini = 0.396</text>\n<text text-anchor=\"start\" x=\"140\" y=\"-111.8\" font-family=\"Helvetica,sans-Serif\" font-size=\"14.00\" fill=\"#000000\">samples = 158</text>\n<text text-anchor=\"start\" x=\"134\" y=\"-96.8\" font-family=\"Helvetica,sans-Serif\" font-size=\"14.00\" fill=\"#000000\">value = [115, 43]</text>\n</g>\n<!-- 3&#45;&gt;4 -->\n<g id=\"edge4\" class=\"edge\">\n<title>3&#45;&gt;4</title>\n<path fill=\"none\" stroke=\"#000000\" d=\"M329.9107,-192.9465C307.3049,-181.8043 282.157,-169.4092 259.3854,-158.1852\"/>\n<polygon fill=\"#000000\" stroke=\"#000000\" points=\"260.6383,-154.9007 250.1213,-153.619 257.5435,-161.1795 260.6383,-154.9007\"/>\n</g>\n<!-- 7 -->\n<g id=\"node8\" class=\"node\">\n<title>7</title>\n<path fill=\"#f0f8fd\" stroke=\"#000000\" d=\"M464.5,-157C464.5,-157 333.5,-157 333.5,-157 327.5,-157 321.5,-151 321.5,-145 321.5,-145 321.5,-101 321.5,-101 321.5,-95 327.5,-89 333.5,-89 333.5,-89 464.5,-89 464.5,-89 470.5,-89 476.5,-95 476.5,-101 476.5,-101 476.5,-145 476.5,-145 476.5,-151 470.5,-157 464.5,-157\"/>\n<text text-anchor=\"start\" x=\"329.5\" y=\"-141.8\" font-family=\"Helvetica,sans-Serif\" font-size=\"14.00\" fill=\"#000000\">PaperlessBilling ≤ 0.5</text>\n<text text-anchor=\"start\" x=\"361\" y=\"-126.8\" font-family=\"Helvetica,sans-Serif\" font-size=\"14.00\" fill=\"#000000\">gini = 0.499</text>\n<text text-anchor=\"start\" x=\"351\" y=\"-111.8\" font-family=\"Helvetica,sans-Serif\" font-size=\"14.00\" fill=\"#000000\">samples = 258</text>\n<text text-anchor=\"start\" x=\"341\" y=\"-96.8\" font-family=\"Helvetica,sans-Serif\" font-size=\"14.00\" fill=\"#000000\">value = [124, 134]</text>\n</g>\n<!-- 3&#45;&gt;7 -->\n<g id=\"edge7\" class=\"edge\">\n<title>3&#45;&gt;7</title>\n<path fill=\"none\" stroke=\"#000000\" d=\"M399,-192.9465C399,-184.776 399,-175.9318 399,-167.3697\"/>\n<polygon fill=\"#000000\" stroke=\"#000000\" points=\"402.5001,-167.13 399,-157.13 395.5001,-167.13 402.5001,-167.13\"/>\n</g>\n<!-- 5 -->\n<g id=\"node6\" class=\"node\">\n<title>5</title>\n<path fill=\"#f2c29f\" stroke=\"#000000\" d=\"M104,-53C104,-53 12,-53 12,-53 6,-53 0,-47 0,-41 0,-41 0,-12 0,-12 0,-6 6,0 12,0 12,0 104,0 104,0 110,0 116,-6 116,-12 116,-12 116,-41 116,-41 116,-47 110,-53 104,-53\"/>\n<text text-anchor=\"start\" x=\"20\" y=\"-37.8\" font-family=\"Helvetica,sans-Serif\" font-size=\"14.00\" fill=\"#000000\">gini = 0.449</text>\n<text text-anchor=\"start\" x=\"10\" y=\"-22.8\" font-family=\"Helvetica,sans-Serif\" font-size=\"14.00\" fill=\"#000000\">samples = 106</text>\n<text text-anchor=\"start\" x=\"8\" y=\"-7.8\" font-family=\"Helvetica,sans-Serif\" font-size=\"14.00\" fill=\"#000000\">value = [70, 36]</text>\n</g>\n<!-- 4&#45;&gt;5 -->\n<g id=\"edge5\" class=\"edge\">\n<title>4&#45;&gt;5</title>\n<path fill=\"none\" stroke=\"#000000\" d=\"M142.1669,-88.9777C129.2143,-79.3629 115.1465,-68.9203 102.2867,-59.3743\"/>\n<polygon fill=\"#000000\" stroke=\"#000000\" points=\"104.1499,-56.3986 94.0342,-53.2485 99.9776,-62.0193 104.1499,-56.3986\"/>\n</g>\n<!-- 6 -->\n<g id=\"node7\" class=\"node\">\n<title>6</title>\n<path fill=\"#e99558\" stroke=\"#000000\" d=\"M229.5,-53C229.5,-53 146.5,-53 146.5,-53 140.5,-53 134.5,-47 134.5,-41 134.5,-41 134.5,-12 134.5,-12 134.5,-6 140.5,0 146.5,0 146.5,0 229.5,0 229.5,0 235.5,0 241.5,-6 241.5,-12 241.5,-12 241.5,-41 241.5,-41 241.5,-47 235.5,-53 229.5,-53\"/>\n<text text-anchor=\"start\" x=\"150\" y=\"-37.8\" font-family=\"Helvetica,sans-Serif\" font-size=\"14.00\" fill=\"#000000\">gini = 0.233</text>\n<text text-anchor=\"start\" x=\"144\" y=\"-22.8\" font-family=\"Helvetica,sans-Serif\" font-size=\"14.00\" fill=\"#000000\">samples = 52</text>\n<text text-anchor=\"start\" x=\"142.5\" y=\"-7.8\" font-family=\"Helvetica,sans-Serif\" font-size=\"14.00\" fill=\"#000000\">value = [45, 7]</text>\n</g>\n<!-- 4&#45;&gt;6 -->\n<g id=\"edge6\" class=\"edge\">\n<title>4&#45;&gt;6</title>\n<path fill=\"none\" stroke=\"#000000\" d=\"M188,-88.9777C188,-80.7364 188,-71.887 188,-63.5153\"/>\n<polygon fill=\"#000000\" stroke=\"#000000\" points=\"191.5001,-63.2484 188,-53.2485 184.5001,-63.2485 191.5001,-63.2484\"/>\n</g>\n<!-- 8 -->\n<g id=\"node9\" class=\"node\">\n<title>8</title>\n<path fill=\"#f9e0cf\" stroke=\"#000000\" d=\"M364,-53C364,-53 272,-53 272,-53 266,-53 260,-47 260,-41 260,-41 260,-12 260,-12 260,-6 266,0 272,0 272,0 364,0 364,0 370,0 376,-6 376,-12 376,-12 376,-41 376,-41 376,-47 370,-53 364,-53\"/>\n<text text-anchor=\"start\" x=\"284.5\" y=\"-37.8\" font-family=\"Helvetica,sans-Serif\" font-size=\"14.00\" fill=\"#000000\">gini = 0.49</text>\n<text text-anchor=\"start\" x=\"270\" y=\"-22.8\" font-family=\"Helvetica,sans-Serif\" font-size=\"14.00\" fill=\"#000000\">samples = 123</text>\n<text text-anchor=\"start\" x=\"268\" y=\"-7.8\" font-family=\"Helvetica,sans-Serif\" font-size=\"14.00\" fill=\"#000000\">value = [70, 53]</text>\n</g>\n<!-- 7&#45;&gt;8 -->\n<g id=\"edge8\" class=\"edge\">\n<title>7&#45;&gt;8</title>\n<path fill=\"none\" stroke=\"#000000\" d=\"M370.4424,-88.9777C362.8331,-79.9123 354.6061,-70.111 346.9747,-61.0192\"/>\n<polygon fill=\"#000000\" stroke=\"#000000\" points=\"349.562,-58.6577 340.4521,-53.2485 344.2005,-63.1581 349.562,-58.6577\"/>\n</g>\n<!-- 9 -->\n<g id=\"node10\" class=\"node\">\n<title>9</title>\n<path fill=\"#bddef6\" stroke=\"#000000\" d=\"M498,-53C498,-53 406,-53 406,-53 400,-53 394,-47 394,-41 394,-41 394,-12 394,-12 394,-6 400,0 406,0 406,0 498,0 498,0 504,0 510,-6 510,-12 510,-12 510,-41 510,-41 510,-47 504,-53 498,-53\"/>\n<text text-anchor=\"start\" x=\"418.5\" y=\"-37.8\" font-family=\"Helvetica,sans-Serif\" font-size=\"14.00\" fill=\"#000000\">gini = 0.48</text>\n<text text-anchor=\"start\" x=\"404\" y=\"-22.8\" font-family=\"Helvetica,sans-Serif\" font-size=\"14.00\" fill=\"#000000\">samples = 135</text>\n<text text-anchor=\"start\" x=\"402\" y=\"-7.8\" font-family=\"Helvetica,sans-Serif\" font-size=\"14.00\" fill=\"#000000\">value = [54, 81]</text>\n</g>\n<!-- 7&#45;&gt;9 -->\n<g id=\"edge9\" class=\"edge\">\n<title>7&#45;&gt;9</title>\n<path fill=\"none\" stroke=\"#000000\" d=\"M417.6858,-88.9777C422.4636,-80.2786 427.6135,-70.9018 432.4341,-62.1247\"/>\n<polygon fill=\"#000000\" stroke=\"#000000\" points=\"435.5629,-63.6984 437.3091,-53.2485 429.4274,-60.3286 435.5629,-63.6984\"/>\n</g>\n<!-- 11 -->\n<g id=\"node12\" class=\"node\">\n<title>11</title>\n<path fill=\"#e78c49\" stroke=\"#000000\" d=\"M760.5,-157C760.5,-157 601.5,-157 601.5,-157 595.5,-157 589.5,-151 589.5,-145 589.5,-145 589.5,-101 589.5,-101 589.5,-95 595.5,-89 601.5,-89 601.5,-89 760.5,-89 760.5,-89 766.5,-89 772.5,-95 772.5,-101 772.5,-101 772.5,-145 772.5,-145 772.5,-151 766.5,-157 760.5,-157\"/>\n<text text-anchor=\"start\" x=\"597.5\" y=\"-141.8\" font-family=\"Helvetica,sans-Serif\" font-size=\"14.00\" fill=\"#000000\">MonthlyCharges ≤ 19.275</text>\n<text text-anchor=\"start\" x=\"643\" y=\"-126.8\" font-family=\"Helvetica,sans-Serif\" font-size=\"14.00\" fill=\"#000000\">gini = 0.142</text>\n<text text-anchor=\"start\" x=\"633\" y=\"-111.8\" font-family=\"Helvetica,sans-Serif\" font-size=\"14.00\" fill=\"#000000\">samples = 156</text>\n<text text-anchor=\"start\" x=\"627\" y=\"-96.8\" font-family=\"Helvetica,sans-Serif\" font-size=\"14.00\" fill=\"#000000\">value = [144, 12]</text>\n</g>\n<!-- 10&#45;&gt;11 -->\n<g id=\"edge11\" class=\"edge\">\n<title>10&#45;&gt;11</title>\n<path fill=\"none\" stroke=\"#000000\" d=\"M748.2563,-192.9465C739.5367,-183.8782 730.0191,-173.9799 720.9601,-164.5585\"/>\n<polygon fill=\"#000000\" stroke=\"#000000\" points=\"723.2713,-161.9125 713.8173,-157.13 718.2255,-166.7642 723.2713,-161.9125\"/>\n</g>\n<!-- 14 -->\n<g id=\"node15\" class=\"node\">\n<title>14</title>\n<path fill=\"#eeaf81\" stroke=\"#000000\" d=\"M961.5,-157C961.5,-157 802.5,-157 802.5,-157 796.5,-157 790.5,-151 790.5,-145 790.5,-145 790.5,-101 790.5,-101 790.5,-95 796.5,-89 802.5,-89 802.5,-89 961.5,-89 961.5,-89 967.5,-89 973.5,-95 973.5,-101 973.5,-101 973.5,-145 973.5,-145 973.5,-151 967.5,-157 961.5,-157\"/>\n<text text-anchor=\"start\" x=\"798.5\" y=\"-141.8\" font-family=\"Helvetica,sans-Serif\" font-size=\"14.00\" fill=\"#000000\">MonthlyCharges ≤ 51.125</text>\n<text text-anchor=\"start\" x=\"844\" y=\"-126.8\" font-family=\"Helvetica,sans-Serif\" font-size=\"14.00\" fill=\"#000000\">gini = 0.392</text>\n<text text-anchor=\"start\" x=\"834\" y=\"-111.8\" font-family=\"Helvetica,sans-Serif\" font-size=\"14.00\" fill=\"#000000\">samples = 273</text>\n<text text-anchor=\"start\" x=\"828\" y=\"-96.8\" font-family=\"Helvetica,sans-Serif\" font-size=\"14.00\" fill=\"#000000\">value = [200, 73]</text>\n</g>\n<!-- 10&#45;&gt;14 -->\n<g id=\"edge14\" class=\"edge\">\n<title>10&#45;&gt;14</title>\n<path fill=\"none\" stroke=\"#000000\" d=\"M814.0712,-192.9465C822.8779,-183.8782 832.4907,-173.9799 841.6403,-164.5585\"/>\n<polygon fill=\"#000000\" stroke=\"#000000\" points=\"844.3985,-166.7422 848.8545,-157.13 839.3768,-161.8654 844.3985,-166.7422\"/>\n</g>\n<!-- 12 -->\n<g id=\"node13\" class=\"node\">\n<title>12</title>\n<path fill=\"#eeaf81\" stroke=\"#000000\" d=\"M623.5,-53C623.5,-53 540.5,-53 540.5,-53 534.5,-53 528.5,-47 528.5,-41 528.5,-41 528.5,-12 528.5,-12 528.5,-6 534.5,0 540.5,0 540.5,0 623.5,0 623.5,0 629.5,0 635.5,-6 635.5,-12 635.5,-12 635.5,-41 635.5,-41 635.5,-47 629.5,-53 623.5,-53\"/>\n<text text-anchor=\"start\" x=\"544\" y=\"-37.8\" font-family=\"Helvetica,sans-Serif\" font-size=\"14.00\" fill=\"#000000\">gini = 0.391</text>\n<text text-anchor=\"start\" x=\"538\" y=\"-22.8\" font-family=\"Helvetica,sans-Serif\" font-size=\"14.00\" fill=\"#000000\">samples = 15</text>\n<text text-anchor=\"start\" x=\"536.5\" y=\"-7.8\" font-family=\"Helvetica,sans-Serif\" font-size=\"14.00\" fill=\"#000000\">value = [11, 4]</text>\n</g>\n<!-- 11&#45;&gt;12 -->\n<g id=\"edge12\" class=\"edge\">\n<title>11&#45;&gt;12</title>\n<path fill=\"none\" stroke=\"#000000\" d=\"M646.0963,-88.9777C636.6082,-79.7292 626.3343,-69.7147 616.8491,-60.4691\"/>\n<polygon fill=\"#000000\" stroke=\"#000000\" points=\"619.0454,-57.7223 609.4414,-53.2485 614.1593,-62.7349 619.0454,-57.7223\"/>\n</g>\n<!-- 13 -->\n<g id=\"node14\" class=\"node\">\n<title>13</title>\n<path fill=\"#e78945\" stroke=\"#000000\" d=\"M758,-53C758,-53 666,-53 666,-53 660,-53 654,-47 654,-41 654,-41 654,-12 654,-12 654,-6 660,0 666,0 666,0 758,0 758,0 764,0 770,-6 770,-12 770,-12 770,-41 770,-41 770,-47 764,-53 758,-53\"/>\n<text text-anchor=\"start\" x=\"674\" y=\"-37.8\" font-family=\"Helvetica,sans-Serif\" font-size=\"14.00\" fill=\"#000000\">gini = 0.107</text>\n<text text-anchor=\"start\" x=\"664\" y=\"-22.8\" font-family=\"Helvetica,sans-Serif\" font-size=\"14.00\" fill=\"#000000\">samples = 141</text>\n<text text-anchor=\"start\" x=\"662\" y=\"-7.8\" font-family=\"Helvetica,sans-Serif\" font-size=\"14.00\" fill=\"#000000\">value = [133, 8]</text>\n</g>\n<!-- 11&#45;&gt;13 -->\n<g id=\"edge13\" class=\"edge\">\n<title>11&#45;&gt;13</title>\n<path fill=\"none\" stroke=\"#000000\" d=\"M691.9294,-88.9777C694.6357,-80.5533 697.5462,-71.4934 700.2881,-62.9579\"/>\n<polygon fill=\"#000000\" stroke=\"#000000\" points=\"703.6809,-63.8398 703.4072,-53.2485 697.0164,-61.6988 703.6809,-63.8398\"/>\n</g>\n<!-- 15 -->\n<g id=\"node16\" class=\"node\">\n<title>15</title>\n<path fill=\"#f2c29f\" stroke=\"#000000\" d=\"M900,-53C900,-53 800,-53 800,-53 794,-53 788,-47 788,-41 788,-41 788,-12 788,-12 788,-6 794,0 800,0 800,0 900,0 900,0 906,0 912,-6 912,-12 912,-12 912,-41 912,-41 912,-47 906,-53 900,-53\"/>\n<text text-anchor=\"start\" x=\"812\" y=\"-37.8\" font-family=\"Helvetica,sans-Serif\" font-size=\"14.00\" fill=\"#000000\">gini = 0.449</text>\n<text text-anchor=\"start\" x=\"802\" y=\"-22.8\" font-family=\"Helvetica,sans-Serif\" font-size=\"14.00\" fill=\"#000000\">samples = 182</text>\n<text text-anchor=\"start\" x=\"796\" y=\"-7.8\" font-family=\"Helvetica,sans-Serif\" font-size=\"14.00\" fill=\"#000000\">value = [120, 62]</text>\n</g>\n<!-- 14&#45;&gt;15 -->\n<g id=\"edge15\" class=\"edge\">\n<title>14&#45;&gt;15</title>\n<path fill=\"none\" stroke=\"#000000\" d=\"M870.718,-88.9777C867.9244,-80.5533 864.9201,-71.4934 862.0897,-62.9579\"/>\n<polygon fill=\"#000000\" stroke=\"#000000\" points=\"865.3397,-61.6386 858.87,-53.2485 858.6954,-63.8419 865.3397,-61.6386\"/>\n</g>\n<!-- 16 -->\n<g id=\"node17\" class=\"node\">\n<title>16</title>\n<path fill=\"#e99254\" stroke=\"#000000\" d=\"M1034,-53C1034,-53 942,-53 942,-53 936,-53 930,-47 930,-41 930,-41 930,-12 930,-12 930,-6 936,0 942,0 942,0 1034,0 1034,0 1040,0 1046,-6 1046,-12 1046,-12 1046,-41 1046,-41 1046,-47 1040,-53 1034,-53\"/>\n<text text-anchor=\"start\" x=\"950\" y=\"-37.8\" font-family=\"Helvetica,sans-Serif\" font-size=\"14.00\" fill=\"#000000\">gini = 0.213</text>\n<text text-anchor=\"start\" x=\"944\" y=\"-22.8\" font-family=\"Helvetica,sans-Serif\" font-size=\"14.00\" fill=\"#000000\">samples = 91</text>\n<text text-anchor=\"start\" x=\"938\" y=\"-7.8\" font-family=\"Helvetica,sans-Serif\" font-size=\"14.00\" fill=\"#000000\">value = [80, 11]</text>\n</g>\n<!-- 14&#45;&gt;16 -->\n<g id=\"edge16\" class=\"edge\">\n<title>14&#45;&gt;16</title>\n<path fill=\"none\" stroke=\"#000000\" d=\"M919.3716,-88.9777C929.6312,-79.6376 940.7489,-69.5163 950.9882,-60.1947\"/>\n<polygon fill=\"#000000\" stroke=\"#000000\" points=\"953.5798,-62.5686 958.6183,-53.2485 948.8674,-57.3923 953.5798,-62.5686\"/>\n</g>\n<!-- 18 -->\n<g id=\"node19\" class=\"node\">\n<title>18</title>\n<path fill=\"#5fb0ea\" stroke=\"#000000\" d=\"M1331.5,-261C1331.5,-261 1172.5,-261 1172.5,-261 1166.5,-261 1160.5,-255 1160.5,-249 1160.5,-249 1160.5,-205 1160.5,-205 1160.5,-199 1166.5,-193 1172.5,-193 1172.5,-193 1331.5,-193 1331.5,-193 1337.5,-193 1343.5,-199 1343.5,-205 1343.5,-205 1343.5,-249 1343.5,-249 1343.5,-255 1337.5,-261 1331.5,-261\"/>\n<text text-anchor=\"start\" x=\"1168.5\" y=\"-245.8\" font-family=\"Helvetica,sans-Serif\" font-size=\"14.00\" fill=\"#000000\">MonthlyCharges ≤ 69.875</text>\n<text text-anchor=\"start\" x=\"1214\" y=\"-230.8\" font-family=\"Helvetica,sans-Serif\" font-size=\"14.00\" fill=\"#000000\">gini = 0.268</text>\n<text text-anchor=\"start\" x=\"1204\" y=\"-215.8\" font-family=\"Helvetica,sans-Serif\" font-size=\"14.00\" fill=\"#000000\">samples = 163</text>\n<text text-anchor=\"start\" x=\"1198\" y=\"-200.8\" font-family=\"Helvetica,sans-Serif\" font-size=\"14.00\" fill=\"#000000\">value = [26, 137]</text>\n</g>\n<!-- 17&#45;&gt;18 -->\n<g id=\"edge18\" class=\"edge\">\n<title>17&#45;&gt;18</title>\n<path fill=\"none\" stroke=\"#000000\" d=\"M1321.2739,-296.9465C1312.2039,-287.7884 1302.2955,-277.7838 1292.8819,-268.2788\"/>\n<polygon fill=\"#000000\" stroke=\"#000000\" points=\"1295.3255,-265.7723 1285.8018,-261.13 1290.3519,-270.6981 1295.3255,-265.7723\"/>\n</g>\n<!-- 23 -->\n<g id=\"node24\" class=\"node\">\n<title>23</title>\n<path fill=\"#afd8f5\" stroke=\"#000000\" d=\"M1534.5,-261C1534.5,-261 1383.5,-261 1383.5,-261 1377.5,-261 1371.5,-255 1371.5,-249 1371.5,-249 1371.5,-205 1371.5,-205 1371.5,-199 1377.5,-193 1383.5,-193 1383.5,-193 1534.5,-193 1534.5,-193 1540.5,-193 1546.5,-199 1546.5,-205 1546.5,-205 1546.5,-249 1546.5,-249 1546.5,-255 1540.5,-261 1534.5,-261\"/>\n<text text-anchor=\"start\" x=\"1379.5\" y=\"-245.8\" font-family=\"Helvetica,sans-Serif\" font-size=\"14.00\" fill=\"#000000\">MonthlyCharges ≤ 93.25</text>\n<text text-anchor=\"start\" x=\"1421\" y=\"-230.8\" font-family=\"Helvetica,sans-Serif\" font-size=\"14.00\" fill=\"#000000\">gini = 0.468</text>\n<text text-anchor=\"start\" x=\"1411\" y=\"-215.8\" font-family=\"Helvetica,sans-Serif\" font-size=\"14.00\" fill=\"#000000\">samples = 521</text>\n<text text-anchor=\"start\" x=\"1401\" y=\"-200.8\" font-family=\"Helvetica,sans-Serif\" font-size=\"14.00\" fill=\"#000000\">value = [195, 326]</text>\n</g>\n<!-- 17&#45;&gt;23 -->\n<g id=\"edge23\" class=\"edge\">\n<title>17&#45;&gt;23</title>\n<path fill=\"none\" stroke=\"#000000\" d=\"M1389.0535,-296.9465C1398.2116,-287.7884 1408.2162,-277.7838 1417.7212,-268.2788\"/>\n<polygon fill=\"#000000\" stroke=\"#000000\" points=\"1420.2738,-270.676 1424.87,-261.13 1415.324,-265.7262 1420.2738,-270.676\"/>\n</g>\n<!-- 19 -->\n<g id=\"node20\" class=\"node\">\n<title>19</title>\n<path fill=\"#399de5\" stroke=\"#000000\" d=\"M1130.5,-149.5C1130.5,-149.5 1047.5,-149.5 1047.5,-149.5 1041.5,-149.5 1035.5,-143.5 1035.5,-137.5 1035.5,-137.5 1035.5,-108.5 1035.5,-108.5 1035.5,-102.5 1041.5,-96.5 1047.5,-96.5 1047.5,-96.5 1130.5,-96.5 1130.5,-96.5 1136.5,-96.5 1142.5,-102.5 1142.5,-108.5 1142.5,-108.5 1142.5,-137.5 1142.5,-137.5 1142.5,-143.5 1136.5,-149.5 1130.5,-149.5\"/>\n<text text-anchor=\"start\" x=\"1059.5\" y=\"-134.3\" font-family=\"Helvetica,sans-Serif\" font-size=\"14.00\" fill=\"#000000\">gini = 0.0</text>\n<text text-anchor=\"start\" x=\"1045\" y=\"-119.3\" font-family=\"Helvetica,sans-Serif\" font-size=\"14.00\" fill=\"#000000\">samples = 25</text>\n<text text-anchor=\"start\" x=\"1043.5\" y=\"-104.3\" font-family=\"Helvetica,sans-Serif\" font-size=\"14.00\" fill=\"#000000\">value = [0, 25]</text>\n</g>\n<!-- 18&#45;&gt;19 -->\n<g id=\"edge19\" class=\"edge\">\n<title>18&#45;&gt;19</title>\n<path fill=\"none\" stroke=\"#000000\" d=\"M1198.6277,-192.9465C1179.4649,-180.72 1157.9375,-166.9847 1139.0657,-154.9437\"/>\n<polygon fill=\"#000000\" stroke=\"#000000\" points=\"1140.9126,-151.9704 1130.5997,-149.5422 1137.1474,-157.8716 1140.9126,-151.9704\"/>\n</g>\n<!-- 20 -->\n<g id=\"node21\" class=\"node\">\n<title>20</title>\n<path fill=\"#67b4eb\" stroke=\"#000000\" d=\"M1331.5,-157C1331.5,-157 1172.5,-157 1172.5,-157 1166.5,-157 1160.5,-151 1160.5,-145 1160.5,-145 1160.5,-101 1160.5,-101 1160.5,-95 1166.5,-89 1172.5,-89 1172.5,-89 1331.5,-89 1331.5,-89 1337.5,-89 1343.5,-95 1343.5,-101 1343.5,-101 1343.5,-145 1343.5,-145 1343.5,-151 1337.5,-157 1331.5,-157\"/>\n<text text-anchor=\"start\" x=\"1168.5\" y=\"-141.8\" font-family=\"Helvetica,sans-Serif\" font-size=\"14.00\" fill=\"#000000\">MonthlyCharges ≤ 75.625</text>\n<text text-anchor=\"start\" x=\"1214\" y=\"-126.8\" font-family=\"Helvetica,sans-Serif\" font-size=\"14.00\" fill=\"#000000\">gini = 0.306</text>\n<text text-anchor=\"start\" x=\"1204\" y=\"-111.8\" font-family=\"Helvetica,sans-Serif\" font-size=\"14.00\" fill=\"#000000\">samples = 138</text>\n<text text-anchor=\"start\" x=\"1198\" y=\"-96.8\" font-family=\"Helvetica,sans-Serif\" font-size=\"14.00\" fill=\"#000000\">value = [26, 112]</text>\n</g>\n<!-- 18&#45;&gt;20 -->\n<g id=\"edge20\" class=\"edge\">\n<title>18&#45;&gt;20</title>\n<path fill=\"none\" stroke=\"#000000\" d=\"M1252,-192.9465C1252,-184.776 1252,-175.9318 1252,-167.3697\"/>\n<polygon fill=\"#000000\" stroke=\"#000000\" points=\"1255.5001,-167.13 1252,-157.13 1248.5001,-167.13 1255.5001,-167.13\"/>\n</g>\n<!-- 21 -->\n<g id=\"node22\" class=\"node\">\n<title>21</title>\n<path fill=\"#8bc5f0\" stroke=\"#000000\" d=\"M1168,-53C1168,-53 1076,-53 1076,-53 1070,-53 1064,-47 1064,-41 1064,-41 1064,-12 1064,-12 1064,-6 1070,0 1076,0 1076,0 1168,0 1168,0 1174,0 1180,-6 1180,-12 1180,-12 1180,-41 1180,-41 1180,-47 1174,-53 1168,-53\"/>\n<text text-anchor=\"start\" x=\"1084\" y=\"-37.8\" font-family=\"Helvetica,sans-Serif\" font-size=\"14.00\" fill=\"#000000\">gini = 0.414</text>\n<text text-anchor=\"start\" x=\"1078\" y=\"-22.8\" font-family=\"Helvetica,sans-Serif\" font-size=\"14.00\" fill=\"#000000\">samples = 65</text>\n<text text-anchor=\"start\" x=\"1072\" y=\"-7.8\" font-family=\"Helvetica,sans-Serif\" font-size=\"14.00\" fill=\"#000000\">value = [19, 46]</text>\n</g>\n<!-- 20&#45;&gt;21 -->\n<g id=\"edge21\" class=\"edge\">\n<title>20&#45;&gt;21</title>\n<path fill=\"none\" stroke=\"#000000\" d=\"M1206.1669,-88.9777C1193.2143,-79.3629 1179.1465,-68.9203 1166.2867,-59.3743\"/>\n<polygon fill=\"#000000\" stroke=\"#000000\" points=\"1168.1499,-56.3986 1158.0342,-53.2485 1163.9776,-62.0193 1168.1499,-56.3986\"/>\n</g>\n<!-- 22 -->\n<g id=\"node23\" class=\"node\">\n<title>22</title>\n<path fill=\"#4ea7e8\" stroke=\"#000000\" d=\"M1293.5,-53C1293.5,-53 1210.5,-53 1210.5,-53 1204.5,-53 1198.5,-47 1198.5,-41 1198.5,-41 1198.5,-12 1198.5,-12 1198.5,-6 1204.5,0 1210.5,0 1210.5,0 1293.5,0 1293.5,0 1299.5,0 1305.5,-6 1305.5,-12 1305.5,-12 1305.5,-41 1305.5,-41 1305.5,-47 1299.5,-53 1293.5,-53\"/>\n<text text-anchor=\"start\" x=\"1214\" y=\"-37.8\" font-family=\"Helvetica,sans-Serif\" font-size=\"14.00\" fill=\"#000000\">gini = 0.173</text>\n<text text-anchor=\"start\" x=\"1208\" y=\"-22.8\" font-family=\"Helvetica,sans-Serif\" font-size=\"14.00\" fill=\"#000000\">samples = 73</text>\n<text text-anchor=\"start\" x=\"1206.5\" y=\"-7.8\" font-family=\"Helvetica,sans-Serif\" font-size=\"14.00\" fill=\"#000000\">value = [7, 66]</text>\n</g>\n<!-- 20&#45;&gt;22 -->\n<g id=\"edge22\" class=\"edge\">\n<title>20&#45;&gt;22</title>\n<path fill=\"none\" stroke=\"#000000\" d=\"M1252,-88.9777C1252,-80.7364 1252,-71.887 1252,-63.5153\"/>\n<polygon fill=\"#000000\" stroke=\"#000000\" points=\"1255.5001,-63.2484 1252,-53.2485 1248.5001,-63.2485 1255.5001,-63.2484\"/>\n</g>\n<!-- 24 -->\n<g id=\"node25\" class=\"node\">\n<title>24</title>\n<path fill=\"#c9e4f8\" stroke=\"#000000\" d=\"M1530.5,-157C1530.5,-157 1387.5,-157 1387.5,-157 1381.5,-157 1375.5,-151 1375.5,-145 1375.5,-145 1375.5,-101 1375.5,-101 1375.5,-95 1381.5,-89 1387.5,-89 1387.5,-89 1530.5,-89 1530.5,-89 1536.5,-89 1542.5,-95 1542.5,-101 1542.5,-101 1542.5,-145 1542.5,-145 1542.5,-151 1536.5,-157 1530.5,-157\"/>\n<text text-anchor=\"start\" x=\"1383.5\" y=\"-141.8\" font-family=\"Helvetica,sans-Serif\" font-size=\"14.00\" fill=\"#000000\">MonthlyCharges ≤ 71.9</text>\n<text text-anchor=\"start\" x=\"1421\" y=\"-126.8\" font-family=\"Helvetica,sans-Serif\" font-size=\"14.00\" fill=\"#000000\">gini = 0.488</text>\n<text text-anchor=\"start\" x=\"1411\" y=\"-111.8\" font-family=\"Helvetica,sans-Serif\" font-size=\"14.00\" fill=\"#000000\">samples = 408</text>\n<text text-anchor=\"start\" x=\"1401\" y=\"-96.8\" font-family=\"Helvetica,sans-Serif\" font-size=\"14.00\" fill=\"#000000\">value = [172, 236]</text>\n</g>\n<!-- 23&#45;&gt;24 -->\n<g id=\"edge24\" class=\"edge\">\n<title>23&#45;&gt;24</title>\n<path fill=\"none\" stroke=\"#000000\" d=\"M1459,-192.9465C1459,-184.776 1459,-175.9318 1459,-167.3697\"/>\n<polygon fill=\"#000000\" stroke=\"#000000\" points=\"1462.5001,-167.13 1459,-157.13 1455.5001,-167.13 1462.5001,-167.13\"/>\n</g>\n<!-- 27 -->\n<g id=\"node28\" class=\"node\">\n<title>27</title>\n<path fill=\"#6cb6ec\" stroke=\"#000000\" d=\"M1749.5,-157C1749.5,-157 1582.5,-157 1582.5,-157 1576.5,-157 1570.5,-151 1570.5,-145 1570.5,-145 1570.5,-101 1570.5,-101 1570.5,-95 1576.5,-89 1582.5,-89 1582.5,-89 1749.5,-89 1749.5,-89 1755.5,-89 1761.5,-95 1761.5,-101 1761.5,-101 1761.5,-145 1761.5,-145 1761.5,-151 1755.5,-157 1749.5,-157\"/>\n<text text-anchor=\"start\" x=\"1578.5\" y=\"-141.8\" font-family=\"Helvetica,sans-Serif\" font-size=\"14.00\" fill=\"#000000\">MonthlyCharges ≤ 107.325</text>\n<text text-anchor=\"start\" x=\"1628\" y=\"-126.8\" font-family=\"Helvetica,sans-Serif\" font-size=\"14.00\" fill=\"#000000\">gini = 0.324</text>\n<text text-anchor=\"start\" x=\"1618\" y=\"-111.8\" font-family=\"Helvetica,sans-Serif\" font-size=\"14.00\" fill=\"#000000\">samples = 113</text>\n<text text-anchor=\"start\" x=\"1616\" y=\"-96.8\" font-family=\"Helvetica,sans-Serif\" font-size=\"14.00\" fill=\"#000000\">value = [23, 90]</text>\n</g>\n<!-- 23&#45;&gt;27 -->\n<g id=\"edge27\" class=\"edge\">\n<title>23&#45;&gt;27</title>\n<path fill=\"none\" stroke=\"#000000\" d=\"M1526.7795,-192.9465C1546.7054,-182.9354 1568.6446,-171.9129 1589.0973,-161.6371\"/>\n<polygon fill=\"#000000\" stroke=\"#000000\" points=\"1590.7039,-164.7469 1598.0682,-157.13 1587.5612,-158.492 1590.7039,-164.7469\"/>\n</g>\n<!-- 25 -->\n<g id=\"node26\" class=\"node\">\n<title>25</title>\n<path fill=\"#fae7d9\" stroke=\"#000000\" d=\"M1428,-53C1428,-53 1336,-53 1336,-53 1330,-53 1324,-47 1324,-41 1324,-41 1324,-12 1324,-12 1324,-6 1330,0 1336,0 1336,0 1428,0 1428,0 1434,0 1440,-6 1440,-12 1440,-12 1440,-41 1440,-41 1440,-47 1434,-53 1428,-53\"/>\n<text text-anchor=\"start\" x=\"1344\" y=\"-37.8\" font-family=\"Helvetica,sans-Serif\" font-size=\"14.00\" fill=\"#000000\">gini = 0.494</text>\n<text text-anchor=\"start\" x=\"1338\" y=\"-22.8\" font-family=\"Helvetica,sans-Serif\" font-size=\"14.00\" fill=\"#000000\">samples = 85</text>\n<text text-anchor=\"start\" x=\"1332\" y=\"-7.8\" font-family=\"Helvetica,sans-Serif\" font-size=\"14.00\" fill=\"#000000\">value = [47, 38]</text>\n</g>\n<!-- 24&#45;&gt;25 -->\n<g id=\"edge25\" class=\"edge\">\n<title>24&#45;&gt;25</title>\n<path fill=\"none\" stroke=\"#000000\" d=\"M1431.8527,-88.9777C1424.6922,-80.0039 1416.9564,-70.3089 1409.7639,-61.295\"/>\n<polygon fill=\"#000000\" stroke=\"#000000\" points=\"1412.3163,-58.8821 1403.3433,-53.2485 1406.8446,-63.2481 1412.3163,-58.8821\"/>\n</g>\n<!-- 26 -->\n<g id=\"node27\" class=\"node\">\n<title>26</title>\n<path fill=\"#b6dbf5\" stroke=\"#000000\" d=\"M1578,-53C1578,-53 1470,-53 1470,-53 1464,-53 1458,-47 1458,-41 1458,-41 1458,-12 1458,-12 1458,-6 1464,0 1470,0 1470,0 1578,0 1578,0 1584,0 1590,-6 1590,-12 1590,-12 1590,-41 1590,-41 1590,-47 1584,-53 1578,-53\"/>\n<text text-anchor=\"start\" x=\"1486\" y=\"-37.8\" font-family=\"Helvetica,sans-Serif\" font-size=\"14.00\" fill=\"#000000\">gini = 0.474</text>\n<text text-anchor=\"start\" x=\"1476\" y=\"-22.8\" font-family=\"Helvetica,sans-Serif\" font-size=\"14.00\" fill=\"#000000\">samples = 323</text>\n<text text-anchor=\"start\" x=\"1466\" y=\"-7.8\" font-family=\"Helvetica,sans-Serif\" font-size=\"14.00\" fill=\"#000000\">value = [125, 198]</text>\n</g>\n<!-- 24&#45;&gt;26 -->\n<g id=\"edge26\" class=\"edge\">\n<title>24&#45;&gt;26</title>\n<path fill=\"none\" stroke=\"#000000\" d=\"M1481.9166,-88.9777C1487.8994,-80.0954 1494.3582,-70.5067 1500.377,-61.5711\"/>\n<polygon fill=\"#000000\" stroke=\"#000000\" points=\"1503.2991,-63.4978 1505.9829,-53.2485 1497.4933,-59.5871 1503.2991,-63.4978\"/>\n</g>\n<!-- 28 -->\n<g id=\"node29\" class=\"node\">\n<title>28</title>\n<path fill=\"#66b3eb\" stroke=\"#000000\" d=\"M1712,-53C1712,-53 1620,-53 1620,-53 1614,-53 1608,-47 1608,-41 1608,-41 1608,-12 1608,-12 1608,-6 1614,0 1620,0 1620,0 1712,0 1712,0 1718,0 1724,-6 1724,-12 1724,-12 1724,-41 1724,-41 1724,-47 1718,-53 1712,-53\"/>\n<text text-anchor=\"start\" x=\"1628\" y=\"-37.8\" font-family=\"Helvetica,sans-Serif\" font-size=\"14.00\" fill=\"#000000\">gini = 0.302</text>\n<text text-anchor=\"start\" x=\"1618\" y=\"-22.8\" font-family=\"Helvetica,sans-Serif\" font-size=\"14.00\" fill=\"#000000\">samples = 108</text>\n<text text-anchor=\"start\" x=\"1616\" y=\"-7.8\" font-family=\"Helvetica,sans-Serif\" font-size=\"14.00\" fill=\"#000000\">value = [20, 88]</text>\n</g>\n<!-- 27&#45;&gt;28 -->\n<g id=\"edge28\" class=\"edge\">\n<title>27&#45;&gt;28</title>\n<path fill=\"none\" stroke=\"#000000\" d=\"M1666,-88.9777C1666,-80.7364 1666,-71.887 1666,-63.5153\"/>\n<polygon fill=\"#000000\" stroke=\"#000000\" points=\"1669.5001,-63.2484 1666,-53.2485 1662.5001,-63.2485 1669.5001,-63.2484\"/>\n</g>\n<!-- 29 -->\n<g id=\"node30\" class=\"node\">\n<title>29</title>\n<path fill=\"#f6d5bd\" stroke=\"#000000\" d=\"M1829.5,-53C1829.5,-53 1754.5,-53 1754.5,-53 1748.5,-53 1742.5,-47 1742.5,-41 1742.5,-41 1742.5,-12 1742.5,-12 1742.5,-6 1748.5,0 1754.5,0 1754.5,0 1829.5,0 1829.5,0 1835.5,0 1841.5,-6 1841.5,-12 1841.5,-12 1841.5,-41 1841.5,-41 1841.5,-47 1835.5,-53 1829.5,-53\"/>\n<text text-anchor=\"start\" x=\"1758.5\" y=\"-37.8\" font-family=\"Helvetica,sans-Serif\" font-size=\"14.00\" fill=\"#000000\">gini = 0.48</text>\n<text text-anchor=\"start\" x=\"1752.5\" y=\"-22.8\" font-family=\"Helvetica,sans-Serif\" font-size=\"14.00\" fill=\"#000000\">samples = 5</text>\n<text text-anchor=\"start\" x=\"1750.5\" y=\"-7.8\" font-family=\"Helvetica,sans-Serif\" font-size=\"14.00\" fill=\"#000000\">value = [3, 2]</text>\n</g>\n<!-- 27&#45;&gt;29 -->\n<g id=\"edge29\" class=\"edge\">\n<title>27&#45;&gt;29</title>\n<path fill=\"none\" stroke=\"#000000\" d=\"M1710.4229,-88.9777C1722.977,-79.3629 1736.6119,-68.9203 1749.076,-59.3743\"/>\n<polygon fill=\"#000000\" stroke=\"#000000\" points=\"1751.2635,-62.1076 1757.0745,-53.2485 1747.0073,-56.5502 1751.2635,-62.1076\"/>\n</g>\n<!-- 31 -->\n<g id=\"node32\" class=\"node\">\n<title>31</title>\n<path fill=\"#e78b49\" stroke=\"#000000\" d=\"M2378.5,-365C2378.5,-365 2227.5,-365 2227.5,-365 2221.5,-365 2215.5,-359 2215.5,-353 2215.5,-353 2215.5,-309 2215.5,-309 2215.5,-303 2221.5,-297 2227.5,-297 2227.5,-297 2378.5,-297 2378.5,-297 2384.5,-297 2390.5,-303 2390.5,-309 2390.5,-309 2390.5,-353 2390.5,-353 2390.5,-359 2384.5,-365 2378.5,-365\"/>\n<text text-anchor=\"start\" x=\"2223.5\" y=\"-349.8\" font-family=\"Helvetica,sans-Serif\" font-size=\"14.00\" fill=\"#000000\">MonthlyCharges ≤ 27.75</text>\n<text text-anchor=\"start\" x=\"2265\" y=\"-334.8\" font-family=\"Helvetica,sans-Serif\" font-size=\"14.00\" fill=\"#000000\">gini = 0.137</text>\n<text text-anchor=\"start\" x=\"2251\" y=\"-319.8\" font-family=\"Helvetica,sans-Serif\" font-size=\"14.00\" fill=\"#000000\">samples = 1487</text>\n<text text-anchor=\"start\" x=\"2241\" y=\"-304.8\" font-family=\"Helvetica,sans-Serif\" font-size=\"14.00\" fill=\"#000000\">value = [1377, 110]</text>\n</g>\n<!-- 30&#45;&gt;31 -->\n<g id=\"edge31\" class=\"edge\">\n<title>30&#45;&gt;31</title>\n<path fill=\"none\" stroke=\"#000000\" d=\"M2303,-400.9465C2303,-392.776 2303,-383.9318 2303,-375.3697\"/>\n<polygon fill=\"#000000\" stroke=\"#000000\" points=\"2306.5001,-375.13 2303,-365.13 2299.5001,-375.13 2306.5001,-375.13\"/>\n</g>\n<!-- 46 -->\n<g id=\"node47\" class=\"node\">\n<title>46</title>\n<path fill=\"#eda978\" stroke=\"#000000\" d=\"M3257,-365C3257,-365 3141,-365 3141,-365 3135,-365 3129,-359 3129,-353 3129,-353 3129,-309 3129,-309 3129,-303 3135,-297 3141,-297 3141,-297 3257,-297 3257,-297 3263,-297 3269,-303 3269,-309 3269,-309 3269,-353 3269,-353 3269,-359 3263,-365 3257,-365\"/>\n<text text-anchor=\"start\" x=\"3156.5\" y=\"-349.8\" font-family=\"Helvetica,sans-Serif\" font-size=\"14.00\" fill=\"#000000\">tenure ≤ 54.5</text>\n<text text-anchor=\"start\" x=\"3161\" y=\"-334.8\" font-family=\"Helvetica,sans-Serif\" font-size=\"14.00\" fill=\"#000000\">gini = 0.365</text>\n<text text-anchor=\"start\" x=\"3147\" y=\"-319.8\" font-family=\"Helvetica,sans-Serif\" font-size=\"14.00\" fill=\"#000000\">samples = 1914</text>\n<text text-anchor=\"start\" x=\"3137\" y=\"-304.8\" font-family=\"Helvetica,sans-Serif\" font-size=\"14.00\" fill=\"#000000\">value = [1454, 460]</text>\n</g>\n<!-- 30&#45;&gt;46 -->\n<g id=\"edge46\" class=\"edge\">\n<title>30&#45;&gt;46</title>\n<path fill=\"none\" stroke=\"#000000\" d=\"M2394.677,-424.3589C2570.4077,-403.9616 2951.9818,-359.6718 3118.5285,-340.3404\"/>\n<polygon fill=\"#000000\" stroke=\"#000000\" points=\"3119.1732,-343.7892 3128.703,-339.1595 3118.3661,-336.8359 3119.1732,-343.7892\"/>\n</g>\n<!-- 32 -->\n<g id=\"node33\" class=\"node\">\n<title>32</title>\n<path fill=\"#e6853f\" stroke=\"#000000\" d=\"M2292.5,-261C2292.5,-261 2173.5,-261 2173.5,-261 2167.5,-261 2161.5,-255 2161.5,-249 2161.5,-249 2161.5,-205 2161.5,-205 2161.5,-199 2167.5,-193 2173.5,-193 2173.5,-193 2292.5,-193 2292.5,-193 2298.5,-193 2304.5,-199 2304.5,-205 2304.5,-205 2304.5,-249 2304.5,-249 2304.5,-255 2298.5,-261 2292.5,-261\"/>\n<text text-anchor=\"start\" x=\"2169.5\" y=\"-245.8\" font-family=\"Helvetica,sans-Serif\" font-size=\"14.00\" fill=\"#000000\">PhoneService ≤ 0.5</text>\n<text text-anchor=\"start\" x=\"2195\" y=\"-230.8\" font-family=\"Helvetica,sans-Serif\" font-size=\"14.00\" fill=\"#000000\">gini = 0.056</text>\n<text text-anchor=\"start\" x=\"2185\" y=\"-215.8\" font-family=\"Helvetica,sans-Serif\" font-size=\"14.00\" fill=\"#000000\">samples = 731</text>\n<text text-anchor=\"start\" x=\"2179\" y=\"-200.8\" font-family=\"Helvetica,sans-Serif\" font-size=\"14.00\" fill=\"#000000\">value = [710, 21]</text>\n</g>\n<!-- 31&#45;&gt;32 -->\n<g id=\"edge32\" class=\"edge\">\n<title>31&#45;&gt;32</title>\n<path fill=\"none\" stroke=\"#000000\" d=\"M2280.0794,-296.9465C2274.2174,-288.2373 2267.8402,-278.7626 2261.727,-269.6801\"/>\n<polygon fill=\"#000000\" stroke=\"#000000\" points=\"2264.4595,-267.4716 2255.9721,-261.13 2258.6524,-271.3802 2264.4595,-267.4716\"/>\n</g>\n<!-- 39 -->\n<g id=\"node40\" class=\"node\">\n<title>39</title>\n<path fill=\"#e89253\" stroke=\"#000000\" d=\"M2539,-261C2539,-261 2439,-261 2439,-261 2433,-261 2427,-255 2427,-249 2427,-249 2427,-205 2427,-205 2427,-199 2433,-193 2439,-193 2439,-193 2539,-193 2539,-193 2545,-193 2551,-199 2551,-205 2551,-205 2551,-249 2551,-249 2551,-255 2545,-261 2539,-261\"/>\n<text text-anchor=\"start\" x=\"2446.5\" y=\"-245.8\" font-family=\"Helvetica,sans-Serif\" font-size=\"14.00\" fill=\"#000000\">tenure ≤ 55.5</text>\n<text text-anchor=\"start\" x=\"2451\" y=\"-230.8\" font-family=\"Helvetica,sans-Serif\" font-size=\"14.00\" fill=\"#000000\">gini = 0.208</text>\n<text text-anchor=\"start\" x=\"2441\" y=\"-215.8\" font-family=\"Helvetica,sans-Serif\" font-size=\"14.00\" fill=\"#000000\">samples = 756</text>\n<text text-anchor=\"start\" x=\"2435\" y=\"-200.8\" font-family=\"Helvetica,sans-Serif\" font-size=\"14.00\" fill=\"#000000\">value = [667, 89]</text>\n</g>\n<!-- 31&#45;&gt;39 -->\n<g id=\"edge39\" class=\"edge\">\n<title>31&#45;&gt;39</title>\n<path fill=\"none\" stroke=\"#000000\" d=\"M2363.9034,-296.9465C2381.5669,-287.0701 2400.9911,-276.2093 2419.1566,-266.0522\"/>\n<polygon fill=\"#000000\" stroke=\"#000000\" points=\"2420.9397,-269.0653 2427.9598,-261.13 2417.5234,-262.9555 2420.9397,-269.0653\"/>\n</g>\n<!-- 33 -->\n<g id=\"node34\" class=\"node\">\n<title>33</title>\n<path fill=\"#ea9a61\" stroke=\"#000000\" d=\"M2071.5,-157C2071.5,-157 1988.5,-157 1988.5,-157 1982.5,-157 1976.5,-151 1976.5,-145 1976.5,-145 1976.5,-101 1976.5,-101 1976.5,-95 1982.5,-89 1988.5,-89 1988.5,-89 2071.5,-89 2071.5,-89 2077.5,-89 2083.5,-95 2083.5,-101 2083.5,-101 2083.5,-145 2083.5,-145 2083.5,-151 2077.5,-157 2071.5,-157\"/>\n<text text-anchor=\"start\" x=\"1989\" y=\"-141.8\" font-family=\"Helvetica,sans-Serif\" font-size=\"14.00\" fill=\"#000000\">gender ≤ 0.5</text>\n<text text-anchor=\"start\" x=\"1992\" y=\"-126.8\" font-family=\"Helvetica,sans-Serif\" font-size=\"14.00\" fill=\"#000000\">gini = 0.278</text>\n<text text-anchor=\"start\" x=\"1986\" y=\"-111.8\" font-family=\"Helvetica,sans-Serif\" font-size=\"14.00\" fill=\"#000000\">samples = 18</text>\n<text text-anchor=\"start\" x=\"1984.5\" y=\"-96.8\" font-family=\"Helvetica,sans-Serif\" font-size=\"14.00\" fill=\"#000000\">value = [15, 3]</text>\n</g>\n<!-- 32&#45;&gt;33 -->\n<g id=\"edge33\" class=\"edge\">\n<title>32&#45;&gt;33</title>\n<path fill=\"none\" stroke=\"#000000\" d=\"M2166.5302,-192.9465C2142.8474,-180.8135 2116.2645,-167.1946 2092.8914,-155.2202\"/>\n<polygon fill=\"#000000\" stroke=\"#000000\" points=\"2094.2634,-151.9906 2083.7676,-150.5459 2091.0717,-158.2206 2094.2634,-151.9906\"/>\n</g>\n<!-- 36 -->\n<g id=\"node37\" class=\"node\">\n<title>36</title>\n<path fill=\"#e6843e\" stroke=\"#000000\" d=\"M2283,-157C2283,-157 2183,-157 2183,-157 2177,-157 2171,-151 2171,-145 2171,-145 2171,-101 2171,-101 2171,-95 2177,-89 2183,-89 2183,-89 2283,-89 2283,-89 2289,-89 2295,-95 2295,-101 2295,-101 2295,-145 2295,-145 2295,-151 2289,-157 2283,-157\"/>\n<text text-anchor=\"start\" x=\"2190.5\" y=\"-141.8\" font-family=\"Helvetica,sans-Serif\" font-size=\"14.00\" fill=\"#000000\">tenure ≤ 33.5</text>\n<text text-anchor=\"start\" x=\"2195\" y=\"-126.8\" font-family=\"Helvetica,sans-Serif\" font-size=\"14.00\" fill=\"#000000\">gini = 0.049</text>\n<text text-anchor=\"start\" x=\"2185\" y=\"-111.8\" font-family=\"Helvetica,sans-Serif\" font-size=\"14.00\" fill=\"#000000\">samples = 713</text>\n<text text-anchor=\"start\" x=\"2179\" y=\"-96.8\" font-family=\"Helvetica,sans-Serif\" font-size=\"14.00\" fill=\"#000000\">value = [695, 18]</text>\n</g>\n<!-- 32&#45;&gt;36 -->\n<g id=\"edge36\" class=\"edge\">\n<title>32&#45;&gt;36</title>\n<path fill=\"none\" stroke=\"#000000\" d=\"M2233,-192.9465C2233,-184.776 2233,-175.9318 2233,-167.3697\"/>\n<polygon fill=\"#000000\" stroke=\"#000000\" points=\"2236.5001,-167.13 2233,-157.13 2229.5001,-167.13 2236.5001,-167.13\"/>\n</g>\n<!-- 34 -->\n<g id=\"node35\" class=\"node\">\n<title>34</title>\n<path fill=\"#bddef6\" stroke=\"#000000\" d=\"M1946.5,-53C1946.5,-53 1871.5,-53 1871.5,-53 1865.5,-53 1859.5,-47 1859.5,-41 1859.5,-41 1859.5,-12 1859.5,-12 1859.5,-6 1865.5,0 1871.5,0 1871.5,0 1946.5,0 1946.5,0 1952.5,0 1958.5,-6 1958.5,-12 1958.5,-12 1958.5,-41 1958.5,-41 1958.5,-47 1952.5,-53 1946.5,-53\"/>\n<text text-anchor=\"start\" x=\"1875.5\" y=\"-37.8\" font-family=\"Helvetica,sans-Serif\" font-size=\"14.00\" fill=\"#000000\">gini = 0.48</text>\n<text text-anchor=\"start\" x=\"1869.5\" y=\"-22.8\" font-family=\"Helvetica,sans-Serif\" font-size=\"14.00\" fill=\"#000000\">samples = 5</text>\n<text text-anchor=\"start\" x=\"1867.5\" y=\"-7.8\" font-family=\"Helvetica,sans-Serif\" font-size=\"14.00\" fill=\"#000000\">value = [2, 3]</text>\n</g>\n<!-- 33&#45;&gt;34 -->\n<g id=\"edge34\" class=\"edge\">\n<title>33&#45;&gt;34</title>\n<path fill=\"none\" stroke=\"#000000\" d=\"M1987.3399,-88.9777C1975.3989,-79.4545 1962.4395,-69.1191 1950.563,-59.6473\"/>\n<polygon fill=\"#000000\" stroke=\"#000000\" points=\"1952.54,-56.7473 1942.5395,-53.2485 1948.1754,-62.22 1952.54,-56.7473\"/>\n</g>\n<!-- 35 -->\n<g id=\"node36\" class=\"node\">\n<title>35</title>\n<path fill=\"#e58139\" stroke=\"#000000\" d=\"M2071.5,-53C2071.5,-53 1988.5,-53 1988.5,-53 1982.5,-53 1976.5,-47 1976.5,-41 1976.5,-41 1976.5,-12 1976.5,-12 1976.5,-6 1982.5,0 1988.5,0 1988.5,0 2071.5,0 2071.5,0 2077.5,0 2083.5,-6 2083.5,-12 2083.5,-12 2083.5,-41 2083.5,-41 2083.5,-47 2077.5,-53 2071.5,-53\"/>\n<text text-anchor=\"start\" x=\"2000.5\" y=\"-37.8\" font-family=\"Helvetica,sans-Serif\" font-size=\"14.00\" fill=\"#000000\">gini = 0.0</text>\n<text text-anchor=\"start\" x=\"1986\" y=\"-22.8\" font-family=\"Helvetica,sans-Serif\" font-size=\"14.00\" fill=\"#000000\">samples = 13</text>\n<text text-anchor=\"start\" x=\"1984.5\" y=\"-7.8\" font-family=\"Helvetica,sans-Serif\" font-size=\"14.00\" fill=\"#000000\">value = [13, 0]</text>\n</g>\n<!-- 33&#45;&gt;35 -->\n<g id=\"edge35\" class=\"edge\">\n<title>33&#45;&gt;35</title>\n<path fill=\"none\" stroke=\"#000000\" d=\"M2030,-88.9777C2030,-80.7364 2030,-71.887 2030,-63.5153\"/>\n<polygon fill=\"#000000\" stroke=\"#000000\" points=\"2033.5001,-63.2484 2030,-53.2485 2026.5001,-63.2485 2033.5001,-63.2484\"/>\n</g>\n<!-- 37 -->\n<g id=\"node38\" class=\"node\">\n<title>37</title>\n<path fill=\"#e68742\" stroke=\"#000000\" d=\"M2214,-53C2214,-53 2114,-53 2114,-53 2108,-53 2102,-47 2102,-41 2102,-41 2102,-12 2102,-12 2102,-6 2108,0 2114,0 2114,0 2214,0 2214,0 2220,0 2226,-6 2226,-12 2226,-12 2226,-41 2226,-41 2226,-47 2220,-53 2214,-53\"/>\n<text text-anchor=\"start\" x=\"2126\" y=\"-37.8\" font-family=\"Helvetica,sans-Serif\" font-size=\"14.00\" fill=\"#000000\">gini = 0.087</text>\n<text text-anchor=\"start\" x=\"2116\" y=\"-22.8\" font-family=\"Helvetica,sans-Serif\" font-size=\"14.00\" fill=\"#000000\">samples = 264</text>\n<text text-anchor=\"start\" x=\"2110\" y=\"-7.8\" font-family=\"Helvetica,sans-Serif\" font-size=\"14.00\" fill=\"#000000\">value = [252, 12]</text>\n</g>\n<!-- 36&#45;&gt;37 -->\n<g id=\"edge37\" class=\"edge\">\n<title>36&#45;&gt;37</title>\n<path fill=\"none\" stroke=\"#000000\" d=\"M2208.6732,-88.9777C2202.3221,-80.0954 2195.466,-70.5067 2189.0768,-61.5711\"/>\n<polygon fill=\"#000000\" stroke=\"#000000\" points=\"2191.7893,-59.3472 2183.1259,-53.2485 2186.0952,-63.4187 2191.7893,-59.3472\"/>\n</g>\n<!-- 38 -->\n<g id=\"node39\" class=\"node\">\n<title>38</title>\n<path fill=\"#e5833c\" stroke=\"#000000\" d=\"M2348,-53C2348,-53 2256,-53 2256,-53 2250,-53 2244,-47 2244,-41 2244,-41 2244,-12 2244,-12 2244,-6 2250,0 2256,0 2256,0 2348,0 2348,0 2354,0 2360,-6 2360,-12 2360,-12 2360,-41 2360,-41 2360,-47 2354,-53 2348,-53\"/>\n<text text-anchor=\"start\" x=\"2264\" y=\"-37.8\" font-family=\"Helvetica,sans-Serif\" font-size=\"14.00\" fill=\"#000000\">gini = 0.026</text>\n<text text-anchor=\"start\" x=\"2254\" y=\"-22.8\" font-family=\"Helvetica,sans-Serif\" font-size=\"14.00\" fill=\"#000000\">samples = 449</text>\n<text text-anchor=\"start\" x=\"2252\" y=\"-7.8\" font-family=\"Helvetica,sans-Serif\" font-size=\"14.00\" fill=\"#000000\">value = [443, 6]</text>\n</g>\n<!-- 36&#45;&gt;38 -->\n<g id=\"edge38\" class=\"edge\">\n<title>36&#45;&gt;38</title>\n<path fill=\"none\" stroke=\"#000000\" d=\"M2257.3268,-88.9777C2263.6779,-80.0954 2270.534,-70.5067 2276.9232,-61.5711\"/>\n<polygon fill=\"#000000\" stroke=\"#000000\" points=\"2279.9048,-63.4187 2282.8741,-53.2485 2274.2107,-59.3472 2279.9048,-63.4187\"/>\n</g>\n<!-- 40 -->\n<g id=\"node41\" class=\"node\">\n<title>40</title>\n<path fill=\"#e9975b\" stroke=\"#000000\" d=\"M2554.5,-157C2554.5,-157 2423.5,-157 2423.5,-157 2417.5,-157 2411.5,-151 2411.5,-145 2411.5,-145 2411.5,-101 2411.5,-101 2411.5,-95 2417.5,-89 2423.5,-89 2423.5,-89 2554.5,-89 2554.5,-89 2560.5,-89 2566.5,-95 2566.5,-101 2566.5,-101 2566.5,-145 2566.5,-145 2566.5,-151 2560.5,-157 2554.5,-157\"/>\n<text text-anchor=\"start\" x=\"2419.5\" y=\"-141.8\" font-family=\"Helvetica,sans-Serif\" font-size=\"14.00\" fill=\"#000000\">PaperlessBilling ≤ 0.5</text>\n<text text-anchor=\"start\" x=\"2451\" y=\"-126.8\" font-family=\"Helvetica,sans-Serif\" font-size=\"14.00\" fill=\"#000000\">gini = 0.251</text>\n<text text-anchor=\"start\" x=\"2441\" y=\"-111.8\" font-family=\"Helvetica,sans-Serif\" font-size=\"14.00\" fill=\"#000000\">samples = 556</text>\n<text text-anchor=\"start\" x=\"2435\" y=\"-96.8\" font-family=\"Helvetica,sans-Serif\" font-size=\"14.00\" fill=\"#000000\">value = [474, 82]</text>\n</g>\n<!-- 39&#45;&gt;40 -->\n<g id=\"edge40\" class=\"edge\">\n<title>39&#45;&gt;40</title>\n<path fill=\"none\" stroke=\"#000000\" d=\"M2489,-192.9465C2489,-184.776 2489,-175.9318 2489,-167.3697\"/>\n<polygon fill=\"#000000\" stroke=\"#000000\" points=\"2492.5001,-167.13 2489,-157.13 2485.5001,-167.13 2492.5001,-167.13\"/>\n</g>\n<!-- 43 -->\n<g id=\"node44\" class=\"node\">\n<title>43</title>\n<path fill=\"#e68640\" stroke=\"#000000\" d=\"M2787.5,-157C2787.5,-157 2644.5,-157 2644.5,-157 2638.5,-157 2632.5,-151 2632.5,-145 2632.5,-145 2632.5,-101 2632.5,-101 2632.5,-95 2638.5,-89 2644.5,-89 2644.5,-89 2787.5,-89 2787.5,-89 2793.5,-89 2799.5,-95 2799.5,-101 2799.5,-101 2799.5,-145 2799.5,-145 2799.5,-151 2793.5,-157 2787.5,-157\"/>\n<text text-anchor=\"start\" x=\"2640.5\" y=\"-141.8\" font-family=\"Helvetica,sans-Serif\" font-size=\"14.00\" fill=\"#000000\">MonthlyCharges ≤ 45.3</text>\n<text text-anchor=\"start\" x=\"2678\" y=\"-126.8\" font-family=\"Helvetica,sans-Serif\" font-size=\"14.00\" fill=\"#000000\">gini = 0.068</text>\n<text text-anchor=\"start\" x=\"2668\" y=\"-111.8\" font-family=\"Helvetica,sans-Serif\" font-size=\"14.00\" fill=\"#000000\">samples = 200</text>\n<text text-anchor=\"start\" x=\"2666\" y=\"-96.8\" font-family=\"Helvetica,sans-Serif\" font-size=\"14.00\" fill=\"#000000\">value = [193, 7]</text>\n</g>\n<!-- 39&#45;&gt;43 -->\n<g id=\"edge43\" class=\"edge\">\n<title>39&#45;&gt;43</title>\n<path fill=\"none\" stroke=\"#000000\" d=\"M2551.0287,-198.5815C2576.0404,-187.1225 2605.2829,-173.725 2632.1435,-161.4189\"/>\n<polygon fill=\"#000000\" stroke=\"#000000\" points=\"2633.9007,-164.4637 2641.5342,-157.1165 2630.9851,-158.0998 2633.9007,-164.4637\"/>\n</g>\n<!-- 41 -->\n<g id=\"node42\" class=\"node\">\n<title>41</title>\n<path fill=\"#e89050\" stroke=\"#000000\" d=\"M2490,-53C2490,-53 2390,-53 2390,-53 2384,-53 2378,-47 2378,-41 2378,-41 2378,-12 2378,-12 2378,-6 2384,0 2390,0 2390,0 2490,0 2490,0 2496,0 2502,-6 2502,-12 2502,-12 2502,-41 2502,-41 2502,-47 2496,-53 2490,-53\"/>\n<text text-anchor=\"start\" x=\"2402\" y=\"-37.8\" font-family=\"Helvetica,sans-Serif\" font-size=\"14.00\" fill=\"#000000\">gini = 0.186</text>\n<text text-anchor=\"start\" x=\"2392\" y=\"-22.8\" font-family=\"Helvetica,sans-Serif\" font-size=\"14.00\" fill=\"#000000\">samples = 260</text>\n<text text-anchor=\"start\" x=\"2386\" y=\"-7.8\" font-family=\"Helvetica,sans-Serif\" font-size=\"14.00\" fill=\"#000000\">value = [233, 27]</text>\n</g>\n<!-- 40&#45;&gt;41 -->\n<g id=\"edge41\" class=\"edge\">\n<title>40&#45;&gt;41</title>\n<path fill=\"none\" stroke=\"#000000\" d=\"M2471.7244,-88.9777C2467.3538,-80.3702 2462.6462,-71.0992 2458.23,-62.402\"/>\n<polygon fill=\"#000000\" stroke=\"#000000\" points=\"2461.2304,-60.5802 2453.5821,-53.2485 2454.9889,-63.7495 2461.2304,-60.5802\"/>\n</g>\n<!-- 42 -->\n<g id=\"node43\" class=\"node\">\n<title>42</title>\n<path fill=\"#eb9e66\" stroke=\"#000000\" d=\"M2632,-53C2632,-53 2532,-53 2532,-53 2526,-53 2520,-47 2520,-41 2520,-41 2520,-12 2520,-12 2520,-6 2526,0 2532,0 2532,0 2632,0 2632,0 2638,0 2644,-6 2644,-12 2644,-12 2644,-41 2644,-41 2644,-47 2638,-53 2632,-53\"/>\n<text text-anchor=\"start\" x=\"2544\" y=\"-37.8\" font-family=\"Helvetica,sans-Serif\" font-size=\"14.00\" fill=\"#000000\">gini = 0.303</text>\n<text text-anchor=\"start\" x=\"2534\" y=\"-22.8\" font-family=\"Helvetica,sans-Serif\" font-size=\"14.00\" fill=\"#000000\">samples = 296</text>\n<text text-anchor=\"start\" x=\"2528\" y=\"-7.8\" font-family=\"Helvetica,sans-Serif\" font-size=\"14.00\" fill=\"#000000\">value = [241, 55]</text>\n</g>\n<!-- 40&#45;&gt;42 -->\n<g id=\"edge42\" class=\"edge\">\n<title>40&#45;&gt;42</title>\n<path fill=\"none\" stroke=\"#000000\" d=\"M2521.7883,-88.9777C2530.7014,-79.7292 2540.3527,-69.7147 2549.2629,-60.4691\"/>\n<polygon fill=\"#000000\" stroke=\"#000000\" points=\"2551.8025,-62.8777 2556.2217,-53.2485 2546.7622,-58.0202 2551.8025,-62.8777\"/>\n</g>\n<!-- 44 -->\n<g id=\"node45\" class=\"node\">\n<title>44</title>\n<path fill=\"#e88e4e\" stroke=\"#000000\" d=\"M2757.5,-53C2757.5,-53 2674.5,-53 2674.5,-53 2668.5,-53 2662.5,-47 2662.5,-41 2662.5,-41 2662.5,-12 2662.5,-12 2662.5,-6 2668.5,0 2674.5,0 2674.5,0 2757.5,0 2757.5,0 2763.5,0 2769.5,-6 2769.5,-12 2769.5,-12 2769.5,-41 2769.5,-41 2769.5,-47 2763.5,-53 2757.5,-53\"/>\n<text text-anchor=\"start\" x=\"2678\" y=\"-37.8\" font-family=\"Helvetica,sans-Serif\" font-size=\"14.00\" fill=\"#000000\">gini = 0.175</text>\n<text text-anchor=\"start\" x=\"2672\" y=\"-22.8\" font-family=\"Helvetica,sans-Serif\" font-size=\"14.00\" fill=\"#000000\">samples = 31</text>\n<text text-anchor=\"start\" x=\"2670.5\" y=\"-7.8\" font-family=\"Helvetica,sans-Serif\" font-size=\"14.00\" fill=\"#000000\">value = [28, 3]</text>\n</g>\n<!-- 43&#45;&gt;44 -->\n<g id=\"edge44\" class=\"edge\">\n<title>43&#45;&gt;44</title>\n<path fill=\"none\" stroke=\"#000000\" d=\"M2716,-88.9777C2716,-80.7364 2716,-71.887 2716,-63.5153\"/>\n<polygon fill=\"#000000\" stroke=\"#000000\" points=\"2719.5001,-63.2484 2716,-53.2485 2712.5001,-63.2485 2719.5001,-63.2484\"/>\n</g>\n<!-- 45 -->\n<g id=\"node46\" class=\"node\">\n<title>45</title>\n<path fill=\"#e6843e\" stroke=\"#000000\" d=\"M2892,-53C2892,-53 2800,-53 2800,-53 2794,-53 2788,-47 2788,-41 2788,-41 2788,-12 2788,-12 2788,-6 2794,0 2800,0 2800,0 2892,0 2892,0 2898,0 2904,-6 2904,-12 2904,-12 2904,-41 2904,-41 2904,-47 2898,-53 2892,-53\"/>\n<text text-anchor=\"start\" x=\"2808\" y=\"-37.8\" font-family=\"Helvetica,sans-Serif\" font-size=\"14.00\" fill=\"#000000\">gini = 0.046</text>\n<text text-anchor=\"start\" x=\"2798\" y=\"-22.8\" font-family=\"Helvetica,sans-Serif\" font-size=\"14.00\" fill=\"#000000\">samples = 169</text>\n<text text-anchor=\"start\" x=\"2796\" y=\"-7.8\" font-family=\"Helvetica,sans-Serif\" font-size=\"14.00\" fill=\"#000000\">value = [165, 4]</text>\n</g>\n<!-- 43&#45;&gt;45 -->\n<g id=\"edge45\" class=\"edge\">\n<title>43&#45;&gt;45</title>\n<path fill=\"none\" stroke=\"#000000\" d=\"M2761.8331,-88.9777C2774.7857,-79.3629 2788.8535,-68.9203 2801.7133,-59.3743\"/>\n<polygon fill=\"#000000\" stroke=\"#000000\" points=\"2804.0224,-62.0193 2809.9658,-53.2485 2799.8501,-56.3986 2804.0224,-62.0193\"/>\n</g>\n<!-- 47 -->\n<g id=\"node48\" class=\"node\">\n<title>47</title>\n<path fill=\"#f2c19e\" stroke=\"#000000\" d=\"M3264.5,-261C3264.5,-261 3133.5,-261 3133.5,-261 3127.5,-261 3121.5,-255 3121.5,-249 3121.5,-249 3121.5,-205 3121.5,-205 3121.5,-199 3127.5,-193 3133.5,-193 3133.5,-193 3264.5,-193 3264.5,-193 3270.5,-193 3276.5,-199 3276.5,-205 3276.5,-205 3276.5,-249 3276.5,-249 3276.5,-255 3270.5,-261 3264.5,-261\"/>\n<text text-anchor=\"start\" x=\"3129.5\" y=\"-245.8\" font-family=\"Helvetica,sans-Serif\" font-size=\"14.00\" fill=\"#000000\">PaperlessBilling ≤ 0.5</text>\n<text text-anchor=\"start\" x=\"3161\" y=\"-230.8\" font-family=\"Helvetica,sans-Serif\" font-size=\"14.00\" fill=\"#000000\">gini = 0.447</text>\n<text text-anchor=\"start\" x=\"3147\" y=\"-215.8\" font-family=\"Helvetica,sans-Serif\" font-size=\"14.00\" fill=\"#000000\">samples = 1101</text>\n<text text-anchor=\"start\" x=\"3141\" y=\"-200.8\" font-family=\"Helvetica,sans-Serif\" font-size=\"14.00\" fill=\"#000000\">value = [729, 372]</text>\n</g>\n<!-- 46&#45;&gt;47 -->\n<g id=\"edge47\" class=\"edge\">\n<title>46&#45;&gt;47</title>\n<path fill=\"none\" stroke=\"#000000\" d=\"M3199,-296.9465C3199,-288.776 3199,-279.9318 3199,-271.3697\"/>\n<polygon fill=\"#000000\" stroke=\"#000000\" points=\"3202.5001,-271.13 3199,-261.13 3195.5001,-271.13 3202.5001,-271.13\"/>\n</g>\n<!-- 54 -->\n<g id=\"node55\" class=\"node\">\n<title>54</title>\n<path fill=\"#e89051\" stroke=\"#000000\" d=\"M3659,-261C3659,-261 3559,-261 3559,-261 3553,-261 3547,-255 3547,-249 3547,-249 3547,-205 3547,-205 3547,-199 3553,-193 3559,-193 3559,-193 3659,-193 3659,-193 3665,-193 3671,-199 3671,-205 3671,-205 3671,-249 3671,-249 3671,-255 3665,-261 3659,-261\"/>\n<text text-anchor=\"start\" x=\"3566.5\" y=\"-245.8\" font-family=\"Helvetica,sans-Serif\" font-size=\"14.00\" fill=\"#000000\">tenure ≤ 70.5</text>\n<text text-anchor=\"start\" x=\"3571\" y=\"-230.8\" font-family=\"Helvetica,sans-Serif\" font-size=\"14.00\" fill=\"#000000\">gini = 0.193</text>\n<text text-anchor=\"start\" x=\"3561\" y=\"-215.8\" font-family=\"Helvetica,sans-Serif\" font-size=\"14.00\" fill=\"#000000\">samples = 813</text>\n<text text-anchor=\"start\" x=\"3555\" y=\"-200.8\" font-family=\"Helvetica,sans-Serif\" font-size=\"14.00\" fill=\"#000000\">value = [725, 88]</text>\n</g>\n<!-- 46&#45;&gt;54 -->\n<g id=\"edge54\" class=\"edge\">\n<title>46&#45;&gt;54</title>\n<path fill=\"none\" stroke=\"#000000\" d=\"M3269.0157,-313.2399C3343.7649,-294.2791 3461.6173,-264.3849 3537.0865,-245.2415\"/>\n<polygon fill=\"#000000\" stroke=\"#000000\" points=\"3538.1553,-248.5813 3546.9877,-242.7299 3536.4341,-241.7962 3538.1553,-248.5813\"/>\n</g>\n<!-- 48 -->\n<g id=\"node49\" class=\"node\">\n<title>48</title>\n<path fill=\"#eda673\" stroke=\"#000000\" d=\"M3188.5,-157C3188.5,-157 3037.5,-157 3037.5,-157 3031.5,-157 3025.5,-151 3025.5,-145 3025.5,-145 3025.5,-101 3025.5,-101 3025.5,-95 3031.5,-89 3037.5,-89 3037.5,-89 3188.5,-89 3188.5,-89 3194.5,-89 3200.5,-95 3200.5,-101 3200.5,-101 3200.5,-145 3200.5,-145 3200.5,-151 3194.5,-157 3188.5,-157\"/>\n<text text-anchor=\"start\" x=\"3033.5\" y=\"-141.8\" font-family=\"Helvetica,sans-Serif\" font-size=\"14.00\" fill=\"#000000\">MonthlyCharges ≤ 82.25</text>\n<text text-anchor=\"start\" x=\"3075\" y=\"-126.8\" font-family=\"Helvetica,sans-Serif\" font-size=\"14.00\" fill=\"#000000\">gini = 0.349</text>\n<text text-anchor=\"start\" x=\"3065\" y=\"-111.8\" font-family=\"Helvetica,sans-Serif\" font-size=\"14.00\" fill=\"#000000\">samples = 297</text>\n<text text-anchor=\"start\" x=\"3059\" y=\"-96.8\" font-family=\"Helvetica,sans-Serif\" font-size=\"14.00\" fill=\"#000000\">value = [230, 67]</text>\n</g>\n<!-- 47&#45;&gt;48 -->\n<g id=\"edge48\" class=\"edge\">\n<title>47&#45;&gt;48</title>\n<path fill=\"none\" stroke=\"#000000\" d=\"M3170.8404,-192.9465C3163.4158,-183.968 3155.3185,-174.1758 3147.5972,-164.8385\"/>\n<polygon fill=\"#000000\" stroke=\"#000000\" points=\"3150.2928,-162.606 3141.2229,-157.13 3144.8983,-167.0669 3150.2928,-162.606\"/>\n</g>\n<!-- 51 -->\n<g id=\"node52\" class=\"node\">\n<title>51</title>\n<path fill=\"#f5ceb2\" stroke=\"#000000\" d=\"M3339,-157C3339,-157 3231,-157 3231,-157 3225,-157 3219,-151 3219,-145 3219,-145 3219,-101 3219,-101 3219,-95 3225,-89 3231,-89 3231,-89 3339,-89 3339,-89 3345,-89 3351,-95 3351,-101 3351,-101 3351,-145 3351,-145 3351,-151 3345,-157 3339,-157\"/>\n<text text-anchor=\"start\" x=\"3242.5\" y=\"-141.8\" font-family=\"Helvetica,sans-Serif\" font-size=\"14.00\" fill=\"#000000\">tenure ≤ 33.5</text>\n<text text-anchor=\"start\" x=\"3247\" y=\"-126.8\" font-family=\"Helvetica,sans-Serif\" font-size=\"14.00\" fill=\"#000000\">gini = 0.471</text>\n<text text-anchor=\"start\" x=\"3237\" y=\"-111.8\" font-family=\"Helvetica,sans-Serif\" font-size=\"14.00\" fill=\"#000000\">samples = 804</text>\n<text text-anchor=\"start\" x=\"3227\" y=\"-96.8\" font-family=\"Helvetica,sans-Serif\" font-size=\"14.00\" fill=\"#000000\">value = [499, 305]</text>\n</g>\n<!-- 47&#45;&gt;51 -->\n<g id=\"edge51\" class=\"edge\">\n<title>47&#45;&gt;51</title>\n<path fill=\"none\" stroke=\"#000000\" d=\"M3227.1596,-192.9465C3234.5842,-183.968 3242.6815,-174.1758 3250.4028,-164.8385\"/>\n<polygon fill=\"#000000\" stroke=\"#000000\" points=\"3253.1017,-167.0669 3256.7771,-157.13 3247.7072,-162.606 3253.1017,-167.0669\"/>\n</g>\n<!-- 49 -->\n<g id=\"node50\" class=\"node\">\n<title>49</title>\n<path fill=\"#e99457\" stroke=\"#000000\" d=\"M3034,-53C3034,-53 2934,-53 2934,-53 2928,-53 2922,-47 2922,-41 2922,-41 2922,-12 2922,-12 2922,-6 2928,0 2934,0 2934,0 3034,0 3034,0 3040,0 3046,-6 3046,-12 3046,-12 3046,-41 3046,-41 3046,-47 3040,-53 3034,-53\"/>\n<text text-anchor=\"start\" x=\"2946\" y=\"-37.8\" font-family=\"Helvetica,sans-Serif\" font-size=\"14.00\" fill=\"#000000\">gini = 0.228</text>\n<text text-anchor=\"start\" x=\"2936\" y=\"-22.8\" font-family=\"Helvetica,sans-Serif\" font-size=\"14.00\" fill=\"#000000\">samples = 122</text>\n<text text-anchor=\"start\" x=\"2930\" y=\"-7.8\" font-family=\"Helvetica,sans-Serif\" font-size=\"14.00\" fill=\"#000000\">value = [106, 16]</text>\n</g>\n<!-- 48&#45;&gt;49 -->\n<g id=\"edge49\" class=\"edge\">\n<title>48&#45;&gt;49</title>\n<path fill=\"none\" stroke=\"#000000\" d=\"M3067.5194,-88.9777C3054.6665,-79.3629 3040.7069,-68.9203 3027.946,-59.3743\"/>\n<polygon fill=\"#000000\" stroke=\"#000000\" points=\"3029.861,-56.436 3019.757,-53.2485 3025.668,-62.0412 3029.861,-56.436\"/>\n</g>\n<!-- 50 -->\n<g id=\"node51\" class=\"node\">\n<title>50</title>\n<path fill=\"#f0b58a\" stroke=\"#000000\" d=\"M3176,-53C3176,-53 3076,-53 3076,-53 3070,-53 3064,-47 3064,-41 3064,-41 3064,-12 3064,-12 3064,-6 3070,0 3076,0 3076,0 3176,0 3176,0 3182,0 3188,-6 3188,-12 3188,-12 3188,-41 3188,-41 3188,-47 3182,-53 3176,-53\"/>\n<text text-anchor=\"start\" x=\"3088\" y=\"-37.8\" font-family=\"Helvetica,sans-Serif\" font-size=\"14.00\" fill=\"#000000\">gini = 0.413</text>\n<text text-anchor=\"start\" x=\"3078\" y=\"-22.8\" font-family=\"Helvetica,sans-Serif\" font-size=\"14.00\" fill=\"#000000\">samples = 175</text>\n<text text-anchor=\"start\" x=\"3072\" y=\"-7.8\" font-family=\"Helvetica,sans-Serif\" font-size=\"14.00\" fill=\"#000000\">value = [124, 51]</text>\n</g>\n<!-- 48&#45;&gt;50 -->\n<g id=\"edge50\" class=\"edge\">\n<title>48&#45;&gt;50</title>\n<path fill=\"none\" stroke=\"#000000\" d=\"M3117.5833,-88.9777C3118.7059,-80.6449 3119.9122,-71.6903 3121.051,-63.2364\"/>\n<polygon fill=\"#000000\" stroke=\"#000000\" points=\"3124.5301,-63.6263 3122.3966,-53.2485 3117.5927,-62.6916 3124.5301,-63.6263\"/>\n</g>\n<!-- 52 -->\n<g id=\"node53\" class=\"node\">\n<title>52</title>\n<path fill=\"#fae9dd\" stroke=\"#000000\" d=\"M3326,-53C3326,-53 3218,-53 3218,-53 3212,-53 3206,-47 3206,-41 3206,-41 3206,-12 3206,-12 3206,-6 3212,0 3218,0 3218,0 3326,0 3326,0 3332,0 3338,-6 3338,-12 3338,-12 3338,-41 3338,-41 3338,-47 3332,-53 3326,-53\"/>\n<text text-anchor=\"start\" x=\"3234\" y=\"-37.8\" font-family=\"Helvetica,sans-Serif\" font-size=\"14.00\" fill=\"#000000\">gini = 0.495</text>\n<text text-anchor=\"start\" x=\"3224\" y=\"-22.8\" font-family=\"Helvetica,sans-Serif\" font-size=\"14.00\" fill=\"#000000\">samples = 420</text>\n<text text-anchor=\"start\" x=\"3214\" y=\"-7.8\" font-family=\"Helvetica,sans-Serif\" font-size=\"14.00\" fill=\"#000000\">value = [230, 190]</text>\n</g>\n<!-- 51&#45;&gt;52 -->\n<g id=\"edge52\" class=\"edge\">\n<title>51&#45;&gt;52</title>\n<path fill=\"none\" stroke=\"#000000\" d=\"M3280.4167,-88.9777C3279.2941,-80.6449 3278.0878,-71.6903 3276.949,-63.2364\"/>\n<polygon fill=\"#000000\" stroke=\"#000000\" points=\"3280.4073,-62.6916 3275.6034,-53.2485 3273.4699,-63.6263 3280.4073,-62.6916\"/>\n</g>\n<!-- 53 -->\n<g id=\"node54\" class=\"node\">\n<title>53</title>\n<path fill=\"#f0b78e\" stroke=\"#000000\" d=\"M3476,-53C3476,-53 3368,-53 3368,-53 3362,-53 3356,-47 3356,-41 3356,-41 3356,-12 3356,-12 3356,-6 3362,0 3368,0 3368,0 3476,0 3476,0 3482,0 3488,-6 3488,-12 3488,-12 3488,-41 3488,-41 3488,-47 3482,-53 3476,-53\"/>\n<text text-anchor=\"start\" x=\"3388.5\" y=\"-37.8\" font-family=\"Helvetica,sans-Serif\" font-size=\"14.00\" fill=\"#000000\">gini = 0.42</text>\n<text text-anchor=\"start\" x=\"3374\" y=\"-22.8\" font-family=\"Helvetica,sans-Serif\" font-size=\"14.00\" fill=\"#000000\">samples = 384</text>\n<text text-anchor=\"start\" x=\"3364\" y=\"-7.8\" font-family=\"Helvetica,sans-Serif\" font-size=\"14.00\" fill=\"#000000\">value = [269, 115]</text>\n</g>\n<!-- 51&#45;&gt;53 -->\n<g id=\"edge53\" class=\"edge\">\n<title>51&#45;&gt;53</title>\n<path fill=\"none\" stroke=\"#000000\" d=\"M3333.3011,-88.9777C3347.0811,-79.2713 3362.0589,-68.7213 3375.7155,-59.1018\"/>\n<polygon fill=\"#000000\" stroke=\"#000000\" points=\"3377.8655,-61.8686 3384.0255,-53.2485 3373.8345,-56.1457 3377.8655,-61.8686\"/>\n</g>\n<!-- 55 -->\n<g id=\"node56\" class=\"node\">\n<title>55</title>\n<path fill=\"#e9975b\" stroke=\"#000000\" d=\"M3688.5,-157C3688.5,-157 3529.5,-157 3529.5,-157 3523.5,-157 3517.5,-151 3517.5,-145 3517.5,-145 3517.5,-101 3517.5,-101 3517.5,-95 3523.5,-89 3529.5,-89 3529.5,-89 3688.5,-89 3688.5,-89 3694.5,-89 3700.5,-95 3700.5,-101 3700.5,-101 3700.5,-145 3700.5,-145 3700.5,-151 3694.5,-157 3688.5,-157\"/>\n<text text-anchor=\"start\" x=\"3525.5\" y=\"-141.8\" font-family=\"Helvetica,sans-Serif\" font-size=\"14.00\" fill=\"#000000\">MonthlyCharges ≤ 93.375</text>\n<text text-anchor=\"start\" x=\"3575.5\" y=\"-126.8\" font-family=\"Helvetica,sans-Serif\" font-size=\"14.00\" fill=\"#000000\">gini = 0.25</text>\n<text text-anchor=\"start\" x=\"3561\" y=\"-111.8\" font-family=\"Helvetica,sans-Serif\" font-size=\"14.00\" fill=\"#000000\">samples = 552</text>\n<text text-anchor=\"start\" x=\"3555\" y=\"-96.8\" font-family=\"Helvetica,sans-Serif\" font-size=\"14.00\" fill=\"#000000\">value = [471, 81]</text>\n</g>\n<!-- 54&#45;&gt;55 -->\n<g id=\"edge55\" class=\"edge\">\n<title>54&#45;&gt;55</title>\n<path fill=\"none\" stroke=\"#000000\" d=\"M3609,-192.9465C3609,-184.776 3609,-175.9318 3609,-167.3697\"/>\n<polygon fill=\"#000000\" stroke=\"#000000\" points=\"3612.5001,-167.13 3609,-157.13 3605.5001,-167.13 3612.5001,-167.13\"/>\n</g>\n<!-- 58 -->\n<g id=\"node59\" class=\"node\">\n<title>58</title>\n<path fill=\"#e6843e\" stroke=\"#000000\" d=\"M3923.5,-157C3923.5,-157 3772.5,-157 3772.5,-157 3766.5,-157 3760.5,-151 3760.5,-145 3760.5,-145 3760.5,-101 3760.5,-101 3760.5,-95 3766.5,-89 3772.5,-89 3772.5,-89 3923.5,-89 3923.5,-89 3929.5,-89 3935.5,-95 3935.5,-101 3935.5,-101 3935.5,-145 3935.5,-145 3935.5,-151 3929.5,-157 3923.5,-157\"/>\n<text text-anchor=\"start\" x=\"3768.5\" y=\"-141.8\" font-family=\"Helvetica,sans-Serif\" font-size=\"14.00\" fill=\"#000000\">MonthlyCharges ≤ 117.7</text>\n<text text-anchor=\"start\" x=\"3810\" y=\"-126.8\" font-family=\"Helvetica,sans-Serif\" font-size=\"14.00\" fill=\"#000000\">gini = 0.052</text>\n<text text-anchor=\"start\" x=\"3800\" y=\"-111.8\" font-family=\"Helvetica,sans-Serif\" font-size=\"14.00\" fill=\"#000000\">samples = 261</text>\n<text text-anchor=\"start\" x=\"3798\" y=\"-96.8\" font-family=\"Helvetica,sans-Serif\" font-size=\"14.00\" fill=\"#000000\">value = [254, 7]</text>\n</g>\n<!-- 54&#45;&gt;58 -->\n<g id=\"edge58\" class=\"edge\">\n<title>54&#45;&gt;58</title>\n<path fill=\"none\" stroke=\"#000000\" d=\"M3671.1705,-199.9467C3698.2528,-188.162 3730.4834,-174.1369 3759.9635,-161.3088\"/>\n<polygon fill=\"#000000\" stroke=\"#000000\" points=\"3761.6553,-164.3897 3769.4283,-157.1902 3758.8622,-157.971 3761.6553,-164.3897\"/>\n</g>\n<!-- 56 -->\n<g id=\"node57\" class=\"node\">\n<title>56</title>\n<path fill=\"#e78a47\" stroke=\"#000000\" d=\"M3618,-53C3618,-53 3518,-53 3518,-53 3512,-53 3506,-47 3506,-41 3506,-41 3506,-12 3506,-12 3506,-6 3512,0 3518,0 3518,0 3618,0 3618,0 3624,0 3630,-6 3630,-12 3630,-12 3630,-41 3630,-41 3630,-47 3624,-53 3618,-53\"/>\n<text text-anchor=\"start\" x=\"3530\" y=\"-37.8\" font-family=\"Helvetica,sans-Serif\" font-size=\"14.00\" fill=\"#000000\">gini = 0.122</text>\n<text text-anchor=\"start\" x=\"3520\" y=\"-22.8\" font-family=\"Helvetica,sans-Serif\" font-size=\"14.00\" fill=\"#000000\">samples = 246</text>\n<text text-anchor=\"start\" x=\"3514\" y=\"-7.8\" font-family=\"Helvetica,sans-Serif\" font-size=\"14.00\" fill=\"#000000\">value = [230, 16]</text>\n</g>\n<!-- 55&#45;&gt;56 -->\n<g id=\"edge56\" class=\"edge\">\n<title>55&#45;&gt;56</title>\n<path fill=\"none\" stroke=\"#000000\" d=\"M3594.5449,-88.9777C3590.9267,-80.4617 3587.0326,-71.2963 3583.3717,-62.6798\"/>\n<polygon fill=\"#000000\" stroke=\"#000000\" points=\"3586.4964,-61.0836 3579.3646,-53.2485 3580.0538,-63.8209 3586.4964,-61.0836\"/>\n</g>\n<!-- 57 -->\n<g id=\"node58\" class=\"node\">\n<title>57</title>\n<path fill=\"#eca36e\" stroke=\"#000000\" d=\"M3760,-53C3760,-53 3660,-53 3660,-53 3654,-53 3648,-47 3648,-41 3648,-41 3648,-12 3648,-12 3648,-6 3654,0 3660,0 3660,0 3760,0 3760,0 3766,0 3772,-6 3772,-12 3772,-12 3772,-41 3772,-41 3772,-47 3766,-53 3760,-53\"/>\n<text text-anchor=\"start\" x=\"3672\" y=\"-37.8\" font-family=\"Helvetica,sans-Serif\" font-size=\"14.00\" fill=\"#000000\">gini = 0.335</text>\n<text text-anchor=\"start\" x=\"3662\" y=\"-22.8\" font-family=\"Helvetica,sans-Serif\" font-size=\"14.00\" fill=\"#000000\">samples = 306</text>\n<text text-anchor=\"start\" x=\"3656\" y=\"-7.8\" font-family=\"Helvetica,sans-Serif\" font-size=\"14.00\" fill=\"#000000\">value = [241, 65]</text>\n</g>\n<!-- 55&#45;&gt;57 -->\n<g id=\"edge57\" class=\"edge\">\n<title>55&#45;&gt;57</title>\n<path fill=\"none\" stroke=\"#000000\" d=\"M3644.6088,-88.9777C3654.3845,-79.6376 3664.9777,-69.5163 3674.734,-60.1947\"/>\n<polygon fill=\"#000000\" stroke=\"#000000\" points=\"3677.1917,-62.6873 3682.0042,-53.2485 3672.356,-57.6261 3677.1917,-62.6873\"/>\n</g>\n<!-- 59 -->\n<g id=\"node60\" class=\"node\">\n<title>59</title>\n<path fill=\"#e6843e\" stroke=\"#000000\" d=\"M3894,-53C3894,-53 3802,-53 3802,-53 3796,-53 3790,-47 3790,-41 3790,-41 3790,-12 3790,-12 3790,-6 3796,0 3802,0 3802,0 3894,0 3894,0 3900,0 3906,-6 3906,-12 3906,-12 3906,-41 3906,-41 3906,-47 3900,-53 3894,-53\"/>\n<text text-anchor=\"start\" x=\"3810\" y=\"-37.8\" font-family=\"Helvetica,sans-Serif\" font-size=\"14.00\" fill=\"#000000\">gini = 0.045</text>\n<text text-anchor=\"start\" x=\"3800\" y=\"-22.8\" font-family=\"Helvetica,sans-Serif\" font-size=\"14.00\" fill=\"#000000\">samples = 259</text>\n<text text-anchor=\"start\" x=\"3798\" y=\"-7.8\" font-family=\"Helvetica,sans-Serif\" font-size=\"14.00\" fill=\"#000000\">value = [253, 6]</text>\n</g>\n<!-- 58&#45;&gt;59 -->\n<g id=\"edge59\" class=\"edge\">\n<title>58&#45;&gt;59</title>\n<path fill=\"none\" stroke=\"#000000\" d=\"M3848,-88.9777C3848,-80.7364 3848,-71.887 3848,-63.5153\"/>\n<polygon fill=\"#000000\" stroke=\"#000000\" points=\"3851.5001,-63.2484 3848,-53.2485 3844.5001,-63.2485 3851.5001,-63.2484\"/>\n</g>\n<!-- 60 -->\n<g id=\"node61\" class=\"node\">\n<title>60</title>\n<path fill=\"#ffffff\" stroke=\"#000000\" d=\"M4011.5,-53C4011.5,-53 3936.5,-53 3936.5,-53 3930.5,-53 3924.5,-47 3924.5,-41 3924.5,-41 3924.5,-12 3924.5,-12 3924.5,-6 3930.5,0 3936.5,0 3936.5,0 4011.5,0 4011.5,0 4017.5,0 4023.5,-6 4023.5,-12 4023.5,-12 4023.5,-41 4023.5,-41 4023.5,-47 4017.5,-53 4011.5,-53\"/>\n<text text-anchor=\"start\" x=\"3944.5\" y=\"-37.8\" font-family=\"Helvetica,sans-Serif\" font-size=\"14.00\" fill=\"#000000\">gini = 0.5</text>\n<text text-anchor=\"start\" x=\"3934.5\" y=\"-22.8\" font-family=\"Helvetica,sans-Serif\" font-size=\"14.00\" fill=\"#000000\">samples = 2</text>\n<text text-anchor=\"start\" x=\"3932.5\" y=\"-7.8\" font-family=\"Helvetica,sans-Serif\" font-size=\"14.00\" fill=\"#000000\">value = [1, 1]</text>\n</g>\n<!-- 58&#45;&gt;60 -->\n<g id=\"edge60\" class=\"edge\">\n<title>58&#45;&gt;60</title>\n<path fill=\"none\" stroke=\"#000000\" d=\"M3892.4229,-88.9777C3904.977,-79.3629 3918.6119,-68.9203 3931.076,-59.3743\"/>\n<polygon fill=\"#000000\" stroke=\"#000000\" points=\"3933.2635,-62.1076 3939.0745,-53.2485 3929.0073,-56.5502 3933.2635,-62.1076\"/>\n</g>\n</g>\n</svg>\n"
          },
          "metadata": {},
          "execution_count": 39
        }
      ]
    },
    {
      "cell_type": "code",
      "source": [
        "print('Training set score : {:.4f}'.format(clf_gini.score(X_train, y_train)))\n",
        "print('Test set score : {:.4f}'.format(clf_gini.score(X_test, y_test)))"
      ],
      "metadata": {
        "id": "GsB3icAvlVEY",
        "colab": {
          "base_uri": "https://localhost:8080/"
        },
        "outputId": "96a439eb-aa72-4daa-fa98-f342f6b83b32"
      },
      "execution_count": null,
      "outputs": [
        {
          "output_type": "stream",
          "name": "stdout",
          "text": [
            "Training set score : 0.7941\n",
            "Test set score : 0.7837\n"
          ]
        }
      ]
    },
    {
      "cell_type": "code",
      "source": [
        "acc_dtc = accuracy_score(y_test, y_pred_gini)\n",
        "conf = confusion_matrix(y_test, y_pred_gini)\n",
        "clf_report = classification_report(y_test, y_pred_gini)\n",
        "\n",
        "print(f\"Accuracy Score of Decision Tree is : : {acc_dtc}\")\n",
        "print(f\"Confusion Matrix : {conf}\")\n",
        "print(f\"Classification Report : \\n{clf_report}\")"
      ],
      "metadata": {
        "id": "f2-DQ0ODlaZ4",
        "colab": {
          "base_uri": "https://localhost:8080/"
        },
        "outputId": "abde9540-9b62-4151-fc33-cd63ebadc741"
      },
      "execution_count": null,
      "outputs": [
        {
          "output_type": "stream",
          "name": "stdout",
          "text": [
            "Accuracy Score of Decision Tree is : : 0.783719829626124\n",
            "Confusion Matrix : [[1432  107]\n",
            " [ 350  224]]\n",
            "Classification Report : \n",
            "              precision    recall  f1-score   support\n",
            "\n",
            "           0       0.80      0.93      0.86      1539\n",
            "           1       0.68      0.39      0.50       574\n",
            "\n",
            "    accuracy                           0.78      2113\n",
            "   macro avg       0.74      0.66      0.68      2113\n",
            "weighted avg       0.77      0.78      0.76      2113\n",
            "\n"
          ]
        }
      ]
    }
  ],
  "metadata": {
    "colab": {
      "provenance": [],
      "include_colab_link": true
    },
    "kernelspec": {
      "display_name": "Python 3",
      "language": "python",
      "name": "python3"
    },
    "language_info": {
      "codemirror_mode": {
        "name": "ipython",
        "version": 3
      },
      "file_extension": ".py",
      "mimetype": "text/x-python",
      "name": "python",
      "nbconvert_exporter": "python",
      "pygments_lexer": "ipython3",
      "version": "3.9.4"
    }
  },
  "nbformat": 4,
  "nbformat_minor": 0
}