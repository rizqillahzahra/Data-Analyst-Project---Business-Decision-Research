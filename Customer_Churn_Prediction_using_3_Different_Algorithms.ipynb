{
  "nbformat": 4,
  "nbformat_minor": 0,
  "metadata": {
    "colab": {
      "provenance": [],
      "collapsed_sections": [
        "aJsg1LDfRXzT",
        "5JYY--CrZrvx",
        "_C7fmCl49HCJ"
      ],
      "authorship_tag": "ABX9TyOza+XFBixaqgrPhWBRKblF",
      "include_colab_link": true
    },
    "kernelspec": {
      "name": "python3",
      "display_name": "Python 3"
    },
    "language_info": {
      "name": "python"
    }
  },
  "cells": [
    {
      "cell_type": "markdown",
      "metadata": {
        "id": "view-in-github",
        "colab_type": "text"
      },
      "source": [
        "<a href=\"https://colab.research.google.com/github/rizqillahzahra/Data-Project/blob/master/Customer_Churn_Prediction_using_3_Different_Algorithms.ipynb\" target=\"_parent\"><img src=\"https://colab.research.google.com/assets/colab-badge.svg\" alt=\"Open In Colab\"/></a>"
      ]
    },
    {
      "cell_type": "markdown",
      "source": [
        "# Problem Statement\n",
        "Seberapa akurat prediksi customer yang akan churn dengan semua variabel (numerik dan kategorikal) dikalkulasi dengan menggunakan 3 algoritma yang berbeda"
      ],
      "metadata": {
        "id": "03GHPlZr6STs"
      }
    },
    {
      "cell_type": "markdown",
      "source": [
        "# Business Objective\n",
        "3 model untuk prediksi customer yang akan churn"
      ],
      "metadata": {
        "id": "QOrQZg856tv9"
      }
    },
    {
      "cell_type": "markdown",
      "source": [
        "# **Exploratory Data Analysis**"
      ],
      "metadata": {
        "id": "aJsg1LDfRXzT"
      }
    },
    {
      "cell_type": "code",
      "source": [
        "import pandas as pd\n",
        "import numpy as np\n",
        "import matplotlib.pyplot as plt\n",
        "import seaborn as sns\n",
        "\n",
        "from sklearn.preprocessing import LabelEncoder\n",
        "from sklearn.model_selection import train_test_split\n",
        "from sklearn.linear_model import LogisticRegression\n",
        "from sklearn.ensemble import RandomForestClassifier\n",
        "from sklearn.ensemble import GradientBoostingClassifier\n",
        "from sklearn.metrics import confusion_matrix, classification_report\n",
        "import pickle\n",
        "from pathlib import Path\n",
        "\t\n",
        "import warnings\n",
        "warnings.filterwarnings('ignore')"
      ],
      "metadata": {
        "id": "mmvWH8HkRcJU"
      },
      "execution_count": null,
      "outputs": []
    },
    {
      "cell_type": "code",
      "source": [
        "df_load = pd.read_csv('https://storage.googleapis.com/dqlab-dataset/dqlab_telco_final.csv')"
      ],
      "metadata": {
        "id": "6cpZx3LUVvJ7"
      },
      "execution_count": null,
      "outputs": []
    },
    {
      "cell_type": "code",
      "source": [
        "print(df_load.head())"
      ],
      "metadata": {
        "colab": {
          "base_uri": "https://localhost:8080/"
        },
        "id": "L0pKeDPlV246",
        "outputId": "a95c63dd-b6bd-4606-f58e-5b628eb5a904"
      },
      "execution_count": null,
      "outputs": [
        {
          "output_type": "stream",
          "name": "stdout",
          "text": [
            "   UpdatedAt   customerID  gender SeniorCitizen Partner  tenure PhoneService  \\\n",
            "0     202006  45759018157  Female            No     Yes       1           No   \n",
            "1     202006  45315483266    Male            No     Yes      60          Yes   \n",
            "2     202006  45236961615    Male            No      No       5          Yes   \n",
            "3     202006  45929827382  Female            No     Yes      72          Yes   \n",
            "4     202006  45305082233  Female            No     Yes      56          Yes   \n",
            "\n",
            "  StreamingTV InternetService PaperlessBilling  MonthlyCharges  TotalCharges  \\\n",
            "0          No             Yes              Yes           29.85         29.85   \n",
            "1          No              No              Yes           20.50       1198.80   \n",
            "2         Yes             Yes               No          104.10        541.90   \n",
            "3         Yes             Yes              Yes          115.50       8312.75   \n",
            "4         Yes             Yes               No           81.25       4620.40   \n",
            "\n",
            "  Churn  \n",
            "0    No  \n",
            "1    No  \n",
            "2   Yes  \n",
            "3    No  \n",
            "4    No  \n"
          ]
        }
      ]
    },
    {
      "cell_type": "code",
      "source": [
        "df_load.info()"
      ],
      "metadata": {
        "id": "CjIlAZePyehq",
        "outputId": "c76d9f79-4495-4a20-8da1-55dc4eb03f16",
        "colab": {
          "base_uri": "https://localhost:8080/"
        }
      },
      "execution_count": null,
      "outputs": [
        {
          "output_type": "stream",
          "name": "stdout",
          "text": [
            "<class 'pandas.core.frame.DataFrame'>\n",
            "RangeIndex: 6950 entries, 0 to 6949\n",
            "Data columns (total 13 columns):\n",
            " #   Column            Non-Null Count  Dtype  \n",
            "---  ------            --------------  -----  \n",
            " 0   UpdatedAt         6950 non-null   int64  \n",
            " 1   customerID        6950 non-null   int64  \n",
            " 2   gender            6950 non-null   object \n",
            " 3   SeniorCitizen     6950 non-null   object \n",
            " 4   Partner           6950 non-null   object \n",
            " 5   tenure            6950 non-null   int64  \n",
            " 6   PhoneService      6950 non-null   object \n",
            " 7   StreamingTV       6950 non-null   object \n",
            " 8   InternetService   6950 non-null   object \n",
            " 9   PaperlessBilling  6950 non-null   object \n",
            " 10  MonthlyCharges    6950 non-null   float64\n",
            " 11  TotalCharges      6950 non-null   float64\n",
            " 12  Churn             6950 non-null   object \n",
            "dtypes: float64(2), int64(3), object(8)\n",
            "memory usage: 706.0+ KB\n"
          ]
        }
      ]
    },
    {
      "cell_type": "code",
      "source": [
        "df_load.isna().sum()"
      ],
      "metadata": {
        "colab": {
          "base_uri": "https://localhost:8080/"
        },
        "id": "DAU75gjYhgHs",
        "outputId": "75533b3d-c378-4c77-ff1f-3243e804621f"
      },
      "execution_count": null,
      "outputs": [
        {
          "output_type": "execute_result",
          "data": {
            "text/plain": [
              "UpdatedAt           0\n",
              "customerID          0\n",
              "gender              0\n",
              "SeniorCitizen       0\n",
              "Partner             0\n",
              "tenure              0\n",
              "PhoneService        0\n",
              "StreamingTV         0\n",
              "InternetService     0\n",
              "PaperlessBilling    0\n",
              "MonthlyCharges      0\n",
              "TotalCharges        0\n",
              "Churn               0\n",
              "dtype: int64"
            ]
          },
          "metadata": {},
          "execution_count": 421
        }
      ]
    },
    {
      "cell_type": "code",
      "source": [
        "df_load.duplicated().sum()"
      ],
      "metadata": {
        "colab": {
          "base_uri": "https://localhost:8080/"
        },
        "id": "F1PK_y4Qh0DS",
        "outputId": "70576895-9448-445f-8574-8935ee583eb1"
      },
      "execution_count": null,
      "outputs": [
        {
          "output_type": "execute_result",
          "data": {
            "text/plain": [
              "0"
            ]
          },
          "metadata": {},
          "execution_count": 422
        }
      ]
    },
    {
      "cell_type": "markdown",
      "source": [
        "### **Prosentase Churn**"
      ],
      "metadata": {
        "id": "KI_z-zrlWIb1"
      }
    },
    {
      "cell_type": "code",
      "source": [
        "fig = plt.figure()\n",
        "ax = fig.add_axes([0,0,1,1])\n",
        "ax.axis('equal')\n",
        "labels = ['Yes','No']\n",
        "churn = df_load.Churn.value_counts()\n",
        "ax.pie(churn, labels=labels, autopct='%.0f%%')\n",
        "plt.show()"
      ],
      "metadata": {
        "colab": {
          "base_uri": "https://localhost:8080/"
        },
        "id": "h02Jy3MiWLye",
        "outputId": "c61ac4a2-8abe-4140-c3e3-f73b45af7049"
      },
      "execution_count": null,
      "outputs": [
        {
          "output_type": "display_data",
          "data": {
            "text/plain": [
              "<Figure size 432x288 with 1 Axes>"
            ],
            "image/png": "[encoded data removed]"
          },
          "metadata": {}
        }
      ]
    },
    {
      "cell_type": "markdown",
      "source": [
        "### **EDA Numeric Variables**"
      ],
      "metadata": {
        "id": "dgTxcyxfWf16"
      }
    },
    {
      "cell_type": "code",
      "source": [
        "numerical_features =  ['MonthlyCharges','TotalCharges','tenure']\n",
        "fig, ax = plt.subplots(1, 3, figsize=(15, 6))\n",
        "# Use the following code to plot two overlays of histogram per each numerical_features, use a color of blue and orange, respectively\n",
        "df_load[df_load.Churn == 'No'][numerical_features].hist(bins=20, color='blue', alpha=0.5, ax=ax)\n",
        "df_load[df_load.Churn == 'Yes'][numerical_features].hist(bins=20, color='orange', alpha=0.5, ax=ax)\n",
        "plt.show()"
      ],
      "metadata": {
        "colab": {
          "base_uri": "https://localhost:8080/"
        },
        "id": "HUntrad_WkCR",
        "outputId": "2e5fd1e2-71c8-4513-b411-71ed284c9d88"
      },
      "execution_count": null,
      "outputs": [
        {
          "output_type": "display_data",
          "data": {
            "text/plain": [
              "<Figure size 1080x432 with 3 Axes>"
            ],
            "image/png": "[encoded data removed]"
          },
          "metadata": {
            "needs_background": "light"
          }
        }
      ]
    },
    {
      "cell_type": "markdown",
      "source": [
        "### **EDA Categorical Variables**"
      ],
      "metadata": {
        "id": "_ddyydfDXlfi"
      }
    },
    {
      "cell_type": "code",
      "source": [
        "fig, ax = plt.subplots(3, 3, figsize=(14, 12))\n",
        "sns.countplot(data=df_load, x='gender', hue='Churn', ax=ax[0][0])\n",
        "sns.countplot(data=df_load, x='Partner', hue='Churn', ax=ax[0][1])\n",
        "sns.countplot(data=df_load, x='SeniorCitizen', hue='Churn', ax=ax[0][2])\n",
        "sns.countplot(data=df_load, x='PhoneService', hue='Churn', ax=ax[1][0])\n",
        "sns.countplot(data=df_load, x='StreamingTV', hue='Churn', ax=ax[1][1])\n",
        "sns.countplot(data=df_load, x='InternetService', hue='Churn', ax=ax[1][2])\n",
        "sns.countplot(data=df_load, x='PaperlessBilling', hue='Churn', ax=ax[2][1])\n",
        "plt.tight_layout()\n",
        "plt.show()"
      ],
      "metadata": {
        "colab": {
          "base_uri": "https://localhost:8080/"
        },
        "id": "RXczttPtXnfO",
        "outputId": "23f45bcb-6528-4f9b-efe8-f816a7756101"
      },
      "execution_count": null,
      "outputs": [
        {
          "output_type": "display_data",
          "data": {
            "text/plain": [
              "<Figure size 1008x864 with 9 Axes>"
            ],
            "image/png": "[encoded data removed]"
          },
          "metadata": {
            "needs_background": "light"
          }
        }
      ]
    },
    {
      "cell_type": "markdown",
      "source": [
        "# **Cleaning Data**"
      ],
      "metadata": {
        "id": "5JYY--CrZrvx"
      }
    },
    {
      "cell_type": "code",
      "source": [
        "cleaned_df = df_load.drop(['customerID', 'UpdatedAt'],axis=1)\n",
        "print(cleaned_df.head())"
      ],
      "metadata": {
        "colab": {
          "base_uri": "https://localhost:8080/"
        },
        "id": "zY9DTF4ZZvh-",
        "outputId": "90d8bec7-9c66-48e2-9402-0363dc74aef8"
      },
      "execution_count": null,
      "outputs": [
        {
          "output_type": "stream",
          "name": "stdout",
          "text": [
            "   gender SeniorCitizen Partner  tenure PhoneService StreamingTV  \\\n",
            "0  Female            No     Yes       1           No          No   \n",
            "1    Male            No     Yes      60          Yes          No   \n",
            "2    Male            No      No       5          Yes         Yes   \n",
            "3  Female            No     Yes      72          Yes         Yes   \n",
            "4  Female            No     Yes      56          Yes         Yes   \n",
            "\n",
            "  InternetService PaperlessBilling  MonthlyCharges  TotalCharges Churn  \n",
            "0             Yes              Yes           29.85         29.85    No  \n",
            "1              No              Yes           20.50       1198.80    No  \n",
            "2             Yes               No          104.10        541.90   Yes  \n",
            "3             Yes              Yes          115.50       8312.75    No  \n",
            "4             Yes               No           81.25       4620.40    No  \n"
          ]
        }
      ]
    },
    {
      "cell_type": "markdown",
      "source": [
        "# **Overview Data Correlation**"
      ],
      "metadata": {
        "id": "_C7fmCl49HCJ"
      }
    },
    {
      "cell_type": "code",
      "source": [
        "mask = np.triu(np.ones_like(cleaned_df.corr(), dtype=np.bool))\n",
        "\n",
        "# Create heatmap\n",
        "plt.figure(figsize=(10,8))\n",
        "sns.heatmap(cleaned_df.corr(), annot=True, mask=mask)"
      ],
      "metadata": {
        "colab": {
          "base_uri": "https://localhost:8080/"
        },
        "id": "Oa7KXgaA884m",
        "outputId": "e8c4b55f-ea91-4441-9ad3-dfef118eabf0"
      },
      "execution_count": null,
      "outputs": [
        {
          "output_type": "execute_result",
          "data": {
            "text/plain": [
              "<matplotlib.axes._subplots.AxesSubplot at 0x7fa787184cd0>"
            ]
          },
          "metadata": {},
          "execution_count": 427
        },
        {
          "output_type": "display_data",
          "data": {
            "text/plain": [
              "<Figure size 720x576 with 2 Axes>"
            ],
            "image/png": "[encoded data removed]"
          },
          "metadata": {
            "needs_background": "light"
          }
        }
      ]
    },
    {
      "cell_type": "markdown",
      "source": [
        "### **Encoding Data**"
      ],
      "metadata": {
        "id": "zw-7RgeTbYsk"
      }
    },
    {
      "cell_type": "code",
      "source": [
        "#Convert all the non-numeric columns to numerical data types\n",
        "for column in cleaned_df.columns:\n",
        "    if cleaned_df[column].dtype == np.number: continue\n",
        "    # Perform encoding for each non-numeric column\n",
        "    cleaned_df[column] = LabelEncoder().fit_transform(cleaned_df[column])\n",
        "print(cleaned_df.describe())"
      ],
      "metadata": {
        "colab": {
          "base_uri": "https://localhost:8080/"
        },
        "id": "23VJpZ5aZznf",
        "outputId": "f58031ca-24a9-4802-f028-9ebed0fa16c0"
      },
      "execution_count": null,
      "outputs": [
        {
          "output_type": "stream",
          "name": "stdout",
          "text": [
            "            gender  SeniorCitizen      Partner       tenure  PhoneService  \\\n",
            "count  6950.000000    6950.000000  6950.000000  6950.000000   6950.000000   \n",
            "mean      0.504317       0.162302     0.483309    32.415827      0.903741   \n",
            "std       0.500017       0.368754     0.499757    24.561336      0.294967   \n",
            "min       0.000000       0.000000     0.000000     0.000000      0.000000   \n",
            "25%       0.000000       0.000000     0.000000     9.000000      1.000000   \n",
            "50%       1.000000       0.000000     0.000000    29.000000      1.000000   \n",
            "75%       1.000000       0.000000     1.000000    55.000000      1.000000   \n",
            "max       1.000000       1.000000     1.000000    73.000000      1.000000   \n",
            "\n",
            "       StreamingTV  InternetService  PaperlessBilling  MonthlyCharges  \\\n",
            "count  6950.000000      6950.000000       6950.000000     6950.000000   \n",
            "mean      0.384317         0.783453          0.591942       64.992201   \n",
            "std       0.486468         0.411921          0.491509       30.032040   \n",
            "min       0.000000         0.000000          0.000000        0.000000   \n",
            "25%       0.000000         1.000000          0.000000       36.462500   \n",
            "50%       0.000000         1.000000          1.000000       70.450000   \n",
            "75%       1.000000         1.000000          1.000000       89.850000   \n",
            "max       1.000000         1.000000          1.000000      169.931250   \n",
            "\n",
            "       TotalCharges        Churn  \n",
            "count   6950.000000  6950.000000  \n",
            "mean    2286.058750     0.264173  \n",
            "std     2265.702553     0.440923  \n",
            "min       19.000000     0.000000  \n",
            "25%      406.975000     0.000000  \n",
            "50%     1400.850000     0.000000  \n",
            "75%     3799.837500     1.000000  \n",
            "max     8889.131250     1.000000  \n"
          ]
        }
      ]
    },
    {
      "cell_type": "markdown",
      "source": [
        "### **Splitting Dataset**"
      ],
      "metadata": {
        "id": "uFHcwJV_cCcK"
      }
    },
    {
      "cell_type": "code",
      "source": [
        "from sklearn.model_selection import train_test_split\n",
        "# Predictor dan target\n",
        "X = cleaned_df.drop('Churn', axis = 1) \n",
        "y = cleaned_df['Churn']\n",
        "# Splitting train and test\n",
        "x_train, x_test, y_train, y_test = train_test_split(X, y, test_size=0.2)\n",
        "# Print according to the expected result\n",
        "print('Jumlah baris dan kolom dari x_train adalah:', x_train.shape,', sedangkan Jumlah baris dan kolom dari y_train adalah:', y_train.shape)\n",
        "print('Prosentase Churn di data Training adalah:')\n",
        "print(y_train.value_counts(normalize=True))\n",
        "print('Jumlah baris dan kolom dari x_test adalah:', x_test.shape,', sedangkan Jumlah baris dan kolom dari y_test adalah:', y_test.shape)\n",
        "print('Prosentase Churn di data Testing adalah:')\n",
        "print(y_test.value_counts(normalize=True))"
      ],
      "metadata": {
        "colab": {
          "base_uri": "https://localhost:8080/"
        },
        "id": "95BRqxIncFJV",
        "outputId": "51d65e18-321b-4ea4-8300-83226e3f6a48"
      },
      "execution_count": null,
      "outputs": [
        {
          "output_type": "stream",
          "name": "stdout",
          "text": [
            "Jumlah baris dan kolom dari x_train adalah: (5560, 10) , sedangkan Jumlah baris dan kolom dari y_train adalah: (5560,)\n",
            "Prosentase Churn di data Training adalah:\n",
            "0    0.735971\n",
            "1    0.264029\n",
            "Name: Churn, dtype: float64\n",
            "Jumlah baris dan kolom dari x_test adalah: (1390, 10) , sedangkan Jumlah baris dan kolom dari y_test adalah: (1390,)\n",
            "Prosentase Churn di data Testing adalah:\n",
            "0    0.735252\n",
            "1    0.264748\n",
            "Name: Churn, dtype: float64\n"
          ]
        }
      ]
    },
    {
      "cell_type": "markdown",
      "source": [
        "# **Building Model 1: Logistic Regression**"
      ],
      "metadata": {
        "id": "8FghBx8YcePH"
      }
    },
    {
      "cell_type": "code",
      "source": [
        "# Call the classifier\n",
        "logreg = LogisticRegression()\n",
        "# Fit the classifier to the training data  \n",
        "logreg = logreg.fit(x_train,y_train)\n",
        "#Training Model: Predict \n",
        "y_pred = logreg.predict(x_test)\n",
        "\n",
        "#Evaluate Model Performance\n",
        "print('Training Accuracy :', logreg.score(x_train, y_train))  \n",
        "print('Testing Accuracy :', logreg.score(x_test, y_test))  \n",
        "\n",
        "# confusion matrix\n",
        "print('\\nConfusion matrix')  \n",
        "cm = confusion_matrix(y_test, y_pred)  \n",
        "print(cm)\n",
        "\n",
        "# classification report  \n",
        "print('\\nClassification report')  \n",
        "cr = classification_report(y_test, y_pred)  \n",
        "print(cr)"
      ],
      "metadata": {
        "colab": {
          "base_uri": "https://localhost:8080/"
        },
        "id": "tJjiKMZrdOY3",
        "outputId": "d1d6b026-d7be-48ff-b2be-9847be8cb635"
      },
      "execution_count": null,
      "outputs": [
        {
          "output_type": "stream",
          "name": "stdout",
          "text": [
            "Training Accuracy : 0.791726618705036\n",
            "Testing Accuracy : 0.7964028776978417\n",
            "\n",
            "Confusion matrix\n",
            "[[928  94]\n",
            " [189 179]]\n",
            "\n",
            "Classification report\n",
            "              precision    recall  f1-score   support\n",
            "\n",
            "           0       0.83      0.91      0.87      1022\n",
            "           1       0.66      0.49      0.56       368\n",
            "\n",
            "    accuracy                           0.80      1390\n",
            "   macro avg       0.74      0.70      0.71      1390\n",
            "weighted avg       0.78      0.80      0.79      1390\n",
            "\n"
          ]
        }
      ]
    },
    {
      "cell_type": "code",
      "source": [
        "df_test_set = x_test\n",
        "df_test_set = df_test_set.join(y_test)\n",
        "df_test_set['CHURN PREDICTIONS'] = y_pred\n",
        "df_test_set.sample(5)"
      ],
      "metadata": {
        "colab": {
          "base_uri": "https://localhost:8080/",
          "height": 268
        },
        "id": "QzDm2x6W4JuY",
        "outputId": "197216fa-3a7e-4375-8e8d-8873944422ae"
      },
      "execution_count": null,
      "outputs": [
        {
          "output_type": "execute_result",
          "data": {
            "text/plain": [
              "      gender  SeniorCitizen  Partner  tenure  PhoneService  StreamingTV  \\\n",
              "6319       1              0        0       1             1            0   \n",
              "1605       1              0        1      45             1            1   \n",
              "1058       0              0        0      17             1            0   \n",
              "3461       0              0        1      53             1            1   \n",
              "370        1              0        0       3             1            1   \n",
              "\n",
              "      InternetService  PaperlessBilling  MonthlyCharges  TotalCharges  Churn  \\\n",
              "6319                1                 0           47.95         47.95      0   \n",
              "1605                1                 1          109.75       4900.65      0   \n",
              "1058                0                 0           19.70        340.35      0   \n",
              "3461                1                 1           93.45       4872.20      0   \n",
              "370                 1                 1           65.25        209.90      0   \n",
              "\n",
              "      CHURN PREDICTIONS  \n",
              "6319                  0  \n",
              "1605                  0  \n",
              "1058                  0  \n",
              "3461                  0  \n",
              "370                   1  "
            ],
            "text/html": [
              "\n",
              "  <div id=\"df-991d625c-db7e-4c5f-82de-f89dc64b9a15\">\n",
              "    <div class=\"colab-df-container\">\n",
              "      <div>\n",
              "<style scoped>\n",
              "    .dataframe tbody tr th:only-of-type {\n",
              "        vertical-align: middle;\n",
              "    }\n",
              "\n",
              "    .dataframe tbody tr th {\n",
              "        vertical-align: top;\n",
              "    }\n",
              "\n",
              "    .dataframe thead th {\n",
              "        text-align: right;\n",
              "    }\n",
              "</style>\n",
              "<table border=\"1\" class=\"dataframe\">\n",
              "  <thead>\n",
              "    <tr style=\"text-align: right;\">\n",
              "      <th></th>\n",
              "      <th>gender</th>\n",
              "      <th>SeniorCitizen</th>\n",
              "      <th>Partner</th>\n",
              "      <th>tenure</th>\n",
              "      <th>PhoneService</th>\n",
              "      <th>StreamingTV</th>\n",
              "      <th>InternetService</th>\n",
              "      <th>PaperlessBilling</th>\n",
              "      <th>MonthlyCharges</th>\n",
              "      <th>TotalCharges</th>\n",
              "      <th>Churn</th>\n",
              "      <th>CHURN PREDICTIONS</th>\n",
              "    </tr>\n",
              "  </thead>\n",
              "  <tbody>\n",
              "    <tr>\n",
              "      <th>6319</th>\n",
              "      <td>1</td>\n",
              "      <td>0</td>\n",
              "      <td>0</td>\n",
              "      <td>1</td>\n",
              "      <td>1</td>\n",
              "      <td>0</td>\n",
              "      <td>1</td>\n",
              "      <td>0</td>\n",
              "      <td>47.95</td>\n",
              "      <td>47.95</td>\n",
              "      <td>0</td>\n",
              "      <td>0</td>\n",
              "    </tr>\n",
              "    <tr>\n",
              "      <th>1605</th>\n",
              "      <td>1</td>\n",
              "      <td>0</td>\n",
              "      <td>1</td>\n",
              "      <td>45</td>\n",
              "      <td>1</td>\n",
              "      <td>1</td>\n",
              "      <td>1</td>\n",
              "      <td>1</td>\n",
              "      <td>109.75</td>\n",
              "      <td>4900.65</td>\n",
              "      <td>0</td>\n",
              "      <td>0</td>\n",
              "    </tr>\n",
              "    <tr>\n",
              "      <th>1058</th>\n",
              "      <td>0</td>\n",
              "      <td>0</td>\n",
              "      <td>0</td>\n",
              "      <td>17</td>\n",
              "      <td>1</td>\n",
              "      <td>0</td>\n",
              "      <td>0</td>\n",
              "      <td>0</td>\n",
              "      <td>19.70</td>\n",
              "      <td>340.35</td>\n",
              "      <td>0</td>\n",
              "      <td>0</td>\n",
              "    </tr>\n",
              "    <tr>\n",
              "      <th>3461</th>\n",
              "      <td>0</td>\n",
              "      <td>0</td>\n",
              "      <td>1</td>\n",
              "      <td>53</td>\n",
              "      <td>1</td>\n",
              "      <td>1</td>\n",
              "      <td>1</td>\n",
              "      <td>1</td>\n",
              "      <td>93.45</td>\n",
              "      <td>4872.20</td>\n",
              "      <td>0</td>\n",
              "      <td>0</td>\n",
              "    </tr>\n",
              "    <tr>\n",
              "      <th>370</th>\n",
              "      <td>1</td>\n",
              "      <td>0</td>\n",
              "      <td>0</td>\n",
              "      <td>3</td>\n",
              "      <td>1</td>\n",
              "      <td>1</td>\n",
              "      <td>1</td>\n",
              "      <td>1</td>\n",
              "      <td>65.25</td>\n",
              "      <td>209.90</td>\n",
              "      <td>0</td>\n",
              "      <td>1</td>\n",
              "    </tr>\n",
              "  </tbody>\n",
              "</table>\n",
              "</div>\n",
              "      <button class=\"colab-df-convert\" onclick=\"convertToInteractive('df-991d625c-db7e-4c5f-82de-f89dc64b9a15')\"\n",
              "              title=\"Convert this dataframe to an interactive table.\"\n",
              "              style=\"display:none;\">\n",
              "        \n",
              "  <svg xmlns=\"http://www.w3.org/2000/svg\" height=\"24px\"viewBox=\"0 0 24 24\"\n",
              "       width=\"24px\">\n",
              "    <path d=\"M0 0h24v24H0V0z\" fill=\"none\"/>\n",
              "    <path d=\"M18.56 5.44l.94 2.06.94-2.06 2.06-.94-2.06-.94-.94-2.06-.94 2.06-2.06.94zm-11 1L8.5 8.5l.94-2.06 2.06-.94-2.06-.94L8.5 2.5l-.94 2.06-2.06.94zm10 10l.94 2.06.94-2.06 2.06-.94-2.06-.94-.94-2.06-.94 2.06-2.06.94z\"/><path d=\"M17.41 7.96l-1.37-1.37c-.4-.4-.92-.59-1.43-.59-.52 0-1.04.2-1.43.59L10.3 9.45l-7.72 7.72c-.78.78-.78 2.05 0 2.83L4 21.41c.39.39.9.59 1.41.59.51 0 1.02-.2 1.41-.59l7.78-7.78 2.81-2.81c.8-.78.8-2.07 0-2.86zM5.41 20L4 18.59l7.72-7.72 1.47 1.35L5.41 20z\"/>\n",
              "  </svg>\n",
              "      </button>\n",
              "      \n",
              "  <style>\n",
              "    .colab-df-container {\n",
              "      display:flex;\n",
              "      flex-wrap:wrap;\n",
              "      gap: 12px;\n",
              "    }\n",
              "\n",
              "    .colab-df-convert {\n",
              "      background-color: #E8F0FE;\n",
              "      border: none;\n",
              "      border-radius: 50%;\n",
              "      cursor: pointer;\n",
              "      display: none;\n",
              "      fill: #1967D2;\n",
              "      height: 32px;\n",
              "      padding: 0 0 0 0;\n",
              "      width: 32px;\n",
              "    }\n",
              "\n",
              "    .colab-df-convert:hover {\n",
              "      background-color: #E2EBFA;\n",
              "      box-shadow: 0px 1px 2px rgba(60, 64, 67, 0.3), 0px 1px 3px 1px rgba(60, 64, 67, 0.15);\n",
              "      fill: #174EA6;\n",
              "    }\n",
              "\n",
              "    [theme=dark] .colab-df-convert {\n",
              "      background-color: #3B4455;\n",
              "      fill: #D2E3FC;\n",
              "    }\n",
              "\n",
              "    [theme=dark] .colab-df-convert:hover {\n",
              "      background-color: #434B5C;\n",
              "      box-shadow: 0px 1px 3px 1px rgba(0, 0, 0, 0.15);\n",
              "      filter: drop-shadow(0px 1px 2px rgba(0, 0, 0, 0.3));\n",
              "      fill: #FFFFFF;\n",
              "    }\n",
              "  </style>\n",
              "\n",
              "      <script>\n",
              "        const buttonEl =\n",
              "          document.querySelector('#df-991d625c-db7e-4c5f-82de-f89dc64b9a15 button.colab-df-convert');\n",
              "        buttonEl.style.display =\n",
              "          google.colab.kernel.accessAllowed ? 'block' : 'none';\n",
              "\n",
              "        async function convertToInteractive(key) {\n",
              "          const element = document.querySelector('#df-991d625c-db7e-4c5f-82de-f89dc64b9a15');\n",
              "          const dataTable =\n",
              "            await google.colab.kernel.invokeFunction('convertToInteractive',\n",
              "                                                     [key], {});\n",
              "          if (!dataTable) return;\n",
              "\n",
              "          const docLinkHtml = 'Like what you see? Visit the ' +\n",
              "            '<a target=\"_blank\" href=https://colab.research.google.com/notebooks/data_table.ipynb>data table notebook</a>'\n",
              "            + ' to learn more about interactive tables.';\n",
              "          element.innerHTML = '';\n",
              "          dataTable['output_type'] = 'display_data';\n",
              "          await google.colab.output.renderOutput(dataTable, element);\n",
              "          const docLink = document.createElement('div');\n",
              "          docLink.innerHTML = docLinkHtml;\n",
              "          element.appendChild(docLink);\n",
              "        }\n",
              "      </script>\n",
              "    </div>\n",
              "  </div>\n",
              "  "
            ]
          },
          "metadata": {},
          "execution_count": 431
        }
      ]
    },
    {
      "cell_type": "markdown",
      "source": [
        "# **Building Model 2: Random Forest Classifier**"
      ],
      "metadata": {
        "id": "MA22VOVskVm4"
      }
    },
    {
      "cell_type": "code",
      "source": [
        "# Call the classifier\n",
        "rdf_model = RandomForestClassifier()\n",
        "# Fit the classifier to the training data  \n",
        "rdf_model = rdf_model.fit(x_train,y_train)\n",
        "#Training Model: Predict \n",
        "y_pred = rdf_model.predict(x_test)\n",
        "\n",
        "#Evaluate Model Performance\n",
        "print('Training Accuracy :', rdf_model.score(x_train, y_train))  \n",
        "print('Testing Accuracy :', rdf_model.score(x_test, y_test))  \n",
        "\n",
        "# confusion matrix\n",
        "print('\\nConfusion matrix')  \n",
        "cm = confusion_matrix(y_test, y_pred)  \n",
        "print(cm)\n",
        "\n",
        "# classification report  \n",
        "print('\\nClassification report')  \n",
        "cr = classification_report(y_test, y_pred)  \n",
        "print(cr)"
      ],
      "metadata": {
        "colab": {
          "base_uri": "https://localhost:8080/"
        },
        "id": "Wm_7LN0B_7_G",
        "outputId": "fe225bba-54bd-4dd1-8731-ed26a792e69f"
      },
      "execution_count": null,
      "outputs": [
        {
          "output_type": "stream",
          "name": "stdout",
          "text": [
            "Training Accuracy : 0.9964028776978417\n",
            "Testing Accuracy : 0.7661870503597122\n",
            "\n",
            "Confusion matrix\n",
            "[[901 121]\n",
            " [204 164]]\n",
            "\n",
            "Classification report\n",
            "              precision    recall  f1-score   support\n",
            "\n",
            "           0       0.82      0.88      0.85      1022\n",
            "           1       0.58      0.45      0.50       368\n",
            "\n",
            "    accuracy                           0.77      1390\n",
            "   macro avg       0.70      0.66      0.67      1390\n",
            "weighted avg       0.75      0.77      0.76      1390\n",
            "\n"
          ]
        }
      ]
    },
    {
      "cell_type": "code",
      "source": [
        "df_test_set = x_test\n",
        "df_test_set = df_test_set.join(y_test)\n",
        "df_test_set['CHURN PREDICTIONS'] = y_pred\n",
        "df_test_set.sample(5)"
      ],
      "metadata": {
        "colab": {
          "base_uri": "https://localhost:8080/",
          "height": 268
        },
        "id": "Tq8JBLF_AfyI",
        "outputId": "2c24069a-d947-44bd-c2b9-0c3ec05b6c0e"
      },
      "execution_count": null,
      "outputs": [
        {
          "output_type": "execute_result",
          "data": {
            "text/plain": [
              "      gender  SeniorCitizen  Partner  tenure  PhoneService  StreamingTV  \\\n",
              "5881       1              0        1      24             1            0   \n",
              "3401       0              0        0      70             1            1   \n",
              "4232       0              1        1      58             1            1   \n",
              "871        1              0        1      71             1            1   \n",
              "3256       0              0        0       9             1            1   \n",
              "\n",
              "      InternetService  PaperlessBilling  MonthlyCharges  TotalCharges  Churn  \\\n",
              "5881                0                 0           20.25        439.75      0   \n",
              "3401                1                 0           98.90       6838.60      0   \n",
              "4232                1                 1           97.80       5458.80      0   \n",
              "871                 1                 0          109.30       7782.85      0   \n",
              "3256                1                 1           90.80        809.75      1   \n",
              "\n",
              "      CHURN PREDICTIONS  \n",
              "5881                  0  \n",
              "3401                  0  \n",
              "4232                  0  \n",
              "871                   0  \n",
              "3256                  1  "
            ],
            "text/html": [
              "\n",
              "  <div id=\"df-7007b03d-d021-44d9-a4c5-829bd2fa3290\">\n",
              "    <div class=\"colab-df-container\">\n",
              "      <div>\n",
              "<style scoped>\n",
              "    .dataframe tbody tr th:only-of-type {\n",
              "        vertical-align: middle;\n",
              "    }\n",
              "\n",
              "    .dataframe tbody tr th {\n",
              "        vertical-align: top;\n",
              "    }\n",
              "\n",
              "    .dataframe thead th {\n",
              "        text-align: right;\n",
              "    }\n",
              "</style>\n",
              "<table border=\"1\" class=\"dataframe\">\n",
              "  <thead>\n",
              "    <tr style=\"text-align: right;\">\n",
              "      <th></th>\n",
              "      <th>gender</th>\n",
              "      <th>SeniorCitizen</th>\n",
              "      <th>Partner</th>\n",
              "      <th>tenure</th>\n",
              "      <th>PhoneService</th>\n",
              "      <th>StreamingTV</th>\n",
              "      <th>InternetService</th>\n",
              "      <th>PaperlessBilling</th>\n",
              "      <th>MonthlyCharges</th>\n",
              "      <th>TotalCharges</th>\n",
              "      <th>Churn</th>\n",
              "      <th>CHURN PREDICTIONS</th>\n",
              "    </tr>\n",
              "  </thead>\n",
              "  <tbody>\n",
              "    <tr>\n",
              "      <th>5881</th>\n",
              "      <td>1</td>\n",
              "      <td>0</td>\n",
              "      <td>1</td>\n",
              "      <td>24</td>\n",
              "      <td>1</td>\n",
              "      <td>0</td>\n",
              "      <td>0</td>\n",
              "      <td>0</td>\n",
              "      <td>20.25</td>\n",
              "      <td>439.75</td>\n",
              "      <td>0</td>\n",
              "      <td>0</td>\n",
              "    </tr>\n",
              "    <tr>\n",
              "      <th>3401</th>\n",
              "      <td>0</td>\n",
              "      <td>0</td>\n",
              "      <td>0</td>\n",
              "      <td>70</td>\n",
              "      <td>1</td>\n",
              "      <td>1</td>\n",
              "      <td>1</td>\n",
              "      <td>0</td>\n",
              "      <td>98.90</td>\n",
              "      <td>6838.60</td>\n",
              "      <td>0</td>\n",
              "      <td>0</td>\n",
              "    </tr>\n",
              "    <tr>\n",
              "      <th>4232</th>\n",
              "      <td>0</td>\n",
              "      <td>1</td>\n",
              "      <td>1</td>\n",
              "      <td>58</td>\n",
              "      <td>1</td>\n",
              "      <td>1</td>\n",
              "      <td>1</td>\n",
              "      <td>1</td>\n",
              "      <td>97.80</td>\n",
              "      <td>5458.80</td>\n",
              "      <td>0</td>\n",
              "      <td>0</td>\n",
              "    </tr>\n",
              "    <tr>\n",
              "      <th>871</th>\n",
              "      <td>1</td>\n",
              "      <td>0</td>\n",
              "      <td>1</td>\n",
              "      <td>71</td>\n",
              "      <td>1</td>\n",
              "      <td>1</td>\n",
              "      <td>1</td>\n",
              "      <td>0</td>\n",
              "      <td>109.30</td>\n",
              "      <td>7782.85</td>\n",
              "      <td>0</td>\n",
              "      <td>0</td>\n",
              "    </tr>\n",
              "    <tr>\n",
              "      <th>3256</th>\n",
              "      <td>0</td>\n",
              "      <td>0</td>\n",
              "      <td>0</td>\n",
              "      <td>9</td>\n",
              "      <td>1</td>\n",
              "      <td>1</td>\n",
              "      <td>1</td>\n",
              "      <td>1</td>\n",
              "      <td>90.80</td>\n",
              "      <td>809.75</td>\n",
              "      <td>1</td>\n",
              "      <td>1</td>\n",
              "    </tr>\n",
              "  </tbody>\n",
              "</table>\n",
              "</div>\n",
              "      <button class=\"colab-df-convert\" onclick=\"convertToInteractive('df-7007b03d-d021-44d9-a4c5-829bd2fa3290')\"\n",
              "              title=\"Convert this dataframe to an interactive table.\"\n",
              "              style=\"display:none;\">\n",
              "        \n",
              "  <svg xmlns=\"http://www.w3.org/2000/svg\" height=\"24px\"viewBox=\"0 0 24 24\"\n",
              "       width=\"24px\">\n",
              "    <path d=\"M0 0h24v24H0V0z\" fill=\"none\"/>\n",
              "    <path d=\"M18.56 5.44l.94 2.06.94-2.06 2.06-.94-2.06-.94-.94-2.06-.94 2.06-2.06.94zm-11 1L8.5 8.5l.94-2.06 2.06-.94-2.06-.94L8.5 2.5l-.94 2.06-2.06.94zm10 10l.94 2.06.94-2.06 2.06-.94-2.06-.94-.94-2.06-.94 2.06-2.06.94z\"/><path d=\"M17.41 7.96l-1.37-1.37c-.4-.4-.92-.59-1.43-.59-.52 0-1.04.2-1.43.59L10.3 9.45l-7.72 7.72c-.78.78-.78 2.05 0 2.83L4 21.41c.39.39.9.59 1.41.59.51 0 1.02-.2 1.41-.59l7.78-7.78 2.81-2.81c.8-.78.8-2.07 0-2.86zM5.41 20L4 18.59l7.72-7.72 1.47 1.35L5.41 20z\"/>\n",
              "  </svg>\n",
              "      </button>\n",
              "      \n",
              "  <style>\n",
              "    .colab-df-container {\n",
              "      display:flex;\n",
              "      flex-wrap:wrap;\n",
              "      gap: 12px;\n",
              "    }\n",
              "\n",
              "    .colab-df-convert {\n",
              "      background-color: #E8F0FE;\n",
              "      border: none;\n",
              "      border-radius: 50%;\n",
              "      cursor: pointer;\n",
              "      display: none;\n",
              "      fill: #1967D2;\n",
              "      height: 32px;\n",
              "      padding: 0 0 0 0;\n",
              "      width: 32px;\n",
              "    }\n",
              "\n",
              "    .colab-df-convert:hover {\n",
              "      background-color: #E2EBFA;\n",
              "      box-shadow: 0px 1px 2px rgba(60, 64, 67, 0.3), 0px 1px 3px 1px rgba(60, 64, 67, 0.15);\n",
              "      fill: #174EA6;\n",
              "    }\n",
              "\n",
              "    [theme=dark] .colab-df-convert {\n",
              "      background-color: #3B4455;\n",
              "      fill: #D2E3FC;\n",
              "    }\n",
              "\n",
              "    [theme=dark] .colab-df-convert:hover {\n",
              "      background-color: #434B5C;\n",
              "      box-shadow: 0px 1px 3px 1px rgba(0, 0, 0, 0.15);\n",
              "      filter: drop-shadow(0px 1px 2px rgba(0, 0, 0, 0.3));\n",
              "      fill: #FFFFFF;\n",
              "    }\n",
              "  </style>\n",
              "\n",
              "      <script>\n",
              "        const buttonEl =\n",
              "          document.querySelector('#df-7007b03d-d021-44d9-a4c5-829bd2fa3290 button.colab-df-convert');\n",
              "        buttonEl.style.display =\n",
              "          google.colab.kernel.accessAllowed ? 'block' : 'none';\n",
              "\n",
              "        async function convertToInteractive(key) {\n",
              "          const element = document.querySelector('#df-7007b03d-d021-44d9-a4c5-829bd2fa3290');\n",
              "          const dataTable =\n",
              "            await google.colab.kernel.invokeFunction('convertToInteractive',\n",
              "                                                     [key], {});\n",
              "          if (!dataTable) return;\n",
              "\n",
              "          const docLinkHtml = 'Like what you see? Visit the ' +\n",
              "            '<a target=\"_blank\" href=https://colab.research.google.com/notebooks/data_table.ipynb>data table notebook</a>'\n",
              "            + ' to learn more about interactive tables.';\n",
              "          element.innerHTML = '';\n",
              "          dataTable['output_type'] = 'display_data';\n",
              "          await google.colab.output.renderOutput(dataTable, element);\n",
              "          const docLink = document.createElement('div');\n",
              "          docLink.innerHTML = docLinkHtml;\n",
              "          element.appendChild(docLink);\n",
              "        }\n",
              "      </script>\n",
              "    </div>\n",
              "  </div>\n",
              "  "
            ]
          },
          "metadata": {},
          "execution_count": 433
        }
      ]
    },
    {
      "cell_type": "markdown",
      "source": [
        "# **Building Model 3: Gradient Boosting Classifier**"
      ],
      "metadata": {
        "id": "L7naLosKlcvG"
      }
    },
    {
      "cell_type": "code",
      "source": [
        "# Call the classifier\n",
        "gbt_model = GradientBoostingClassifier()\n",
        "# Fit the classifier to the training data  \n",
        "gbt_model = gbt_model.fit(x_train,y_train)\n",
        "#Training Model: Predict \n",
        "y_pred = gbt_model.predict(x_test)\n",
        "\n",
        "#Evaluate Model Performance\n",
        "print('Training Accuracy :', gbt_model.score(x_train, y_train))  \n",
        "print('Testing Accuracy :', gbt_model.score(x_test, y_test))  \n",
        "\n",
        "# confusion matrix\n",
        "print('\\nConfusion matrix')  \n",
        "cm = confusion_matrix(y_test, y_pred)  \n",
        "print(cm)\n",
        "\n",
        "# classification report  \n",
        "print('\\nClassification report')  \n",
        "cr = classification_report(y_test, y_pred)  \n",
        "print(cr)"
      ],
      "metadata": {
        "colab": {
          "base_uri": "https://localhost:8080/"
        },
        "id": "krf7MohlAQBk",
        "outputId": "1182d243-a010-4f13-d8ec-b748ec5b67c8"
      },
      "execution_count": null,
      "outputs": [
        {
          "output_type": "stream",
          "name": "stdout",
          "text": [
            "Training Accuracy : 0.8140287769784172\n",
            "Testing Accuracy : 0.8086330935251799\n",
            "\n",
            "Confusion matrix\n",
            "[[944  78]\n",
            " [188 180]]\n",
            "\n",
            "Classification report\n",
            "              precision    recall  f1-score   support\n",
            "\n",
            "           0       0.83      0.92      0.88      1022\n",
            "           1       0.70      0.49      0.58       368\n",
            "\n",
            "    accuracy                           0.81      1390\n",
            "   macro avg       0.77      0.71      0.73      1390\n",
            "weighted avg       0.80      0.81      0.80      1390\n",
            "\n"
          ]
        }
      ]
    },
    {
      "cell_type": "code",
      "source": [
        "df_test_set = x_test\n",
        "df_test_set = df_test_set.join(y_test)\n",
        "df_test_set['CHURN PREDICTIONS'] = y_pred\n",
        "df_test_set.sample(5)"
      ],
      "metadata": {
        "colab": {
          "base_uri": "https://localhost:8080/",
          "height": 268
        },
        "id": "NfFiAZNJAiOi",
        "outputId": "9e02a773-6a3e-494f-fcff-664d0ce8e8a4"
      },
      "execution_count": null,
      "outputs": [
        {
          "output_type": "execute_result",
          "data": {
            "text/plain": [
              "      gender  SeniorCitizen  Partner  tenure  PhoneService  StreamingTV  \\\n",
              "4762       0              0        0       8             1            0   \n",
              "5766       0              0        0      70             1            1   \n",
              "144        0              0        1      72             1            1   \n",
              "1147       0              1        1       2             1            0   \n",
              "145        1              0        1      58             1            1   \n",
              "\n",
              "      InternetService  PaperlessBilling  MonthlyCharges  TotalCharges  Churn  \\\n",
              "4762                1                 0           71.15        563.65      1   \n",
              "5766                1                 1          113.65       7939.25      0   \n",
              "144                 1                 1           84.90       6065.30      0   \n",
              "1147                1                 0           50.15        115.10      1   \n",
              "145                 1                 1           75.20       4300.80      0   \n",
              "\n",
              "      CHURN PREDICTIONS  \n",
              "4762                  0  \n",
              "5766                  0  \n",
              "144                   0  \n",
              "1147                  1  \n",
              "145                   0  "
            ],
            "text/html": [
              "\n",
              "  <div id=\"df-76cf3989-f541-40f6-bfc4-872e9b2b82de\">\n",
              "    <div class=\"colab-df-container\">\n",
              "      <div>\n",
              "<style scoped>\n",
              "    .dataframe tbody tr th:only-of-type {\n",
              "        vertical-align: middle;\n",
              "    }\n",
              "\n",
              "    .dataframe tbody tr th {\n",
              "        vertical-align: top;\n",
              "    }\n",
              "\n",
              "    .dataframe thead th {\n",
              "        text-align: right;\n",
              "    }\n",
              "</style>\n",
              "<table border=\"1\" class=\"dataframe\">\n",
              "  <thead>\n",
              "    <tr style=\"text-align: right;\">\n",
              "      <th></th>\n",
              "      <th>gender</th>\n",
              "      <th>SeniorCitizen</th>\n",
              "      <th>Partner</th>\n",
              "      <th>tenure</th>\n",
              "      <th>PhoneService</th>\n",
              "      <th>StreamingTV</th>\n",
              "      <th>InternetService</th>\n",
              "      <th>PaperlessBilling</th>\n",
              "      <th>MonthlyCharges</th>\n",
              "      <th>TotalCharges</th>\n",
              "      <th>Churn</th>\n",
              "      <th>CHURN PREDICTIONS</th>\n",
              "    </tr>\n",
              "  </thead>\n",
              "  <tbody>\n",
              "    <tr>\n",
              "      <th>4762</th>\n",
              "      <td>0</td>\n",
              "      <td>0</td>\n",
              "      <td>0</td>\n",
              "      <td>8</td>\n",
              "      <td>1</td>\n",
              "      <td>0</td>\n",
              "      <td>1</td>\n",
              "      <td>0</td>\n",
              "      <td>71.15</td>\n",
              "      <td>563.65</td>\n",
              "      <td>1</td>\n",
              "      <td>0</td>\n",
              "    </tr>\n",
              "    <tr>\n",
              "      <th>5766</th>\n",
              "      <td>0</td>\n",
              "      <td>0</td>\n",
              "      <td>0</td>\n",
              "      <td>70</td>\n",
              "      <td>1</td>\n",
              "      <td>1</td>\n",
              "      <td>1</td>\n",
              "      <td>1</td>\n",
              "      <td>113.65</td>\n",
              "      <td>7939.25</td>\n",
              "      <td>0</td>\n",
              "      <td>0</td>\n",
              "    </tr>\n",
              "    <tr>\n",
              "      <th>144</th>\n",
              "      <td>0</td>\n",
              "      <td>0</td>\n",
              "      <td>1</td>\n",
              "      <td>72</td>\n",
              "      <td>1</td>\n",
              "      <td>1</td>\n",
              "      <td>1</td>\n",
              "      <td>1</td>\n",
              "      <td>84.90</td>\n",
              "      <td>6065.30</td>\n",
              "      <td>0</td>\n",
              "      <td>0</td>\n",
              "    </tr>\n",
              "    <tr>\n",
              "      <th>1147</th>\n",
              "      <td>0</td>\n",
              "      <td>1</td>\n",
              "      <td>1</td>\n",
              "      <td>2</td>\n",
              "      <td>1</td>\n",
              "      <td>0</td>\n",
              "      <td>1</td>\n",
              "      <td>0</td>\n",
              "      <td>50.15</td>\n",
              "      <td>115.10</td>\n",
              "      <td>1</td>\n",
              "      <td>1</td>\n",
              "    </tr>\n",
              "    <tr>\n",
              "      <th>145</th>\n",
              "      <td>1</td>\n",
              "      <td>0</td>\n",
              "      <td>1</td>\n",
              "      <td>58</td>\n",
              "      <td>1</td>\n",
              "      <td>1</td>\n",
              "      <td>1</td>\n",
              "      <td>1</td>\n",
              "      <td>75.20</td>\n",
              "      <td>4300.80</td>\n",
              "      <td>0</td>\n",
              "      <td>0</td>\n",
              "    </tr>\n",
              "  </tbody>\n",
              "</table>\n",
              "</div>\n",
              "      <button class=\"colab-df-convert\" onclick=\"convertToInteractive('df-76cf3989-f541-40f6-bfc4-872e9b2b82de')\"\n",
              "              title=\"Convert this dataframe to an interactive table.\"\n",
              "              style=\"display:none;\">\n",
              "        \n",
              "  <svg xmlns=\"http://www.w3.org/2000/svg\" height=\"24px\"viewBox=\"0 0 24 24\"\n",
              "       width=\"24px\">\n",
              "    <path d=\"M0 0h24v24H0V0z\" fill=\"none\"/>\n",
              "    <path d=\"M18.56 5.44l.94 2.06.94-2.06 2.06-.94-2.06-.94-.94-2.06-.94 2.06-2.06.94zm-11 1L8.5 8.5l.94-2.06 2.06-.94-2.06-.94L8.5 2.5l-.94 2.06-2.06.94zm10 10l.94 2.06.94-2.06 2.06-.94-2.06-.94-.94-2.06-.94 2.06-2.06.94z\"/><path d=\"M17.41 7.96l-1.37-1.37c-.4-.4-.92-.59-1.43-.59-.52 0-1.04.2-1.43.59L10.3 9.45l-7.72 7.72c-.78.78-.78 2.05 0 2.83L4 21.41c.39.39.9.59 1.41.59.51 0 1.02-.2 1.41-.59l7.78-7.78 2.81-2.81c.8-.78.8-2.07 0-2.86zM5.41 20L4 18.59l7.72-7.72 1.47 1.35L5.41 20z\"/>\n",
              "  </svg>\n",
              "      </button>\n",
              "      \n",
              "  <style>\n",
              "    .colab-df-container {\n",
              "      display:flex;\n",
              "      flex-wrap:wrap;\n",
              "      gap: 12px;\n",
              "    }\n",
              "\n",
              "    .colab-df-convert {\n",
              "      background-color: #E8F0FE;\n",
              "      border: none;\n",
              "      border-radius: 50%;\n",
              "      cursor: pointer;\n",
              "      display: none;\n",
              "      fill: #1967D2;\n",
              "      height: 32px;\n",
              "      padding: 0 0 0 0;\n",
              "      width: 32px;\n",
              "    }\n",
              "\n",
              "    .colab-df-convert:hover {\n",
              "      background-color: #E2EBFA;\n",
              "      box-shadow: 0px 1px 2px rgba(60, 64, 67, 0.3), 0px 1px 3px 1px rgba(60, 64, 67, 0.15);\n",
              "      fill: #174EA6;\n",
              "    }\n",
              "\n",
              "    [theme=dark] .colab-df-convert {\n",
              "      background-color: #3B4455;\n",
              "      fill: #D2E3FC;\n",
              "    }\n",
              "\n",
              "    [theme=dark] .colab-df-convert:hover {\n",
              "      background-color: #434B5C;\n",
              "      box-shadow: 0px 1px 3px 1px rgba(0, 0, 0, 0.15);\n",
              "      filter: drop-shadow(0px 1px 2px rgba(0, 0, 0, 0.3));\n",
              "      fill: #FFFFFF;\n",
              "    }\n",
              "  </style>\n",
              "\n",
              "      <script>\n",
              "        const buttonEl =\n",
              "          document.querySelector('#df-76cf3989-f541-40f6-bfc4-872e9b2b82de button.colab-df-convert');\n",
              "        buttonEl.style.display =\n",
              "          google.colab.kernel.accessAllowed ? 'block' : 'none';\n",
              "\n",
              "        async function convertToInteractive(key) {\n",
              "          const element = document.querySelector('#df-76cf3989-f541-40f6-bfc4-872e9b2b82de');\n",
              "          const dataTable =\n",
              "            await google.colab.kernel.invokeFunction('convertToInteractive',\n",
              "                                                     [key], {});\n",
              "          if (!dataTable) return;\n",
              "\n",
              "          const docLinkHtml = 'Like what you see? Visit the ' +\n",
              "            '<a target=\"_blank\" href=https://colab.research.google.com/notebooks/data_table.ipynb>data table notebook</a>'\n",
              "            + ' to learn more about interactive tables.';\n",
              "          element.innerHTML = '';\n",
              "          dataTable['output_type'] = 'display_data';\n",
              "          await google.colab.output.renderOutput(dataTable, element);\n",
              "          const docLink = document.createElement('div');\n",
              "          docLink.innerHTML = docLinkHtml;\n",
              "          element.appendChild(docLink);\n",
              "        }\n",
              "      </script>\n",
              "    </div>\n",
              "  </div>\n",
              "  "
            ]
          },
          "metadata": {},
          "execution_count": 435
        }
      ]
    },
    {
      "cell_type": "markdown",
      "source": [
        "# **Choosing The Best Model**"
      ],
      "metadata": {
        "id": "39HA74eNnCiB"
      }
    },
    {
      "cell_type": "markdown",
      "source": [
        "Summary:\n",
        "\n",
        "\n",
        "*   Logistic Regression: Akurasi training 79% dan akurasi testing 79%\n",
        "*   Random Forest: Akurasi training 99% dan akurasi testing 79%\n",
        "*   Gradiant Boost: Akurasi training 81% dan akurasi testing 80%\n",
        "\n",
        "\n"
      ],
      "metadata": {
        "id": "xQVoJ6Oaof_c"
      }
    },
    {
      "cell_type": "markdown",
      "source": [
        "\n",
        "\n",
        "Berdasarkan pemodelan yang telah dilakukan dengan menggunakan 3 model (Logistic Regression, Random Forest dan Gradiant Boost) maka dapat disimpulkan untuk memprediksi churn dari pelanggan telco dengan menggunakan dataset ini model terbaiknya adalah menggunakan algortima **Logistic Regression**, karena akurasi training sama baiknya dengan akurasi testing.\n",
        "\n",
        "\n",
        "\n"
      ],
      "metadata": {
        "id": "AB9NknUToOVG"
      }
    }
  ]
}