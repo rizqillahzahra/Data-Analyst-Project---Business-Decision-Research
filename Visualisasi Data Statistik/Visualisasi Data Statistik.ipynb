{
 "cells": [
  {
   "cell_type": "markdown",
   "metadata": {},
   "source": [
    "### Implementasi Visualisasi Data Statistik"
   ]
  },
  {
   "cell_type": "code",
   "execution_count": 1,
   "metadata": {},
   "outputs": [
    {
     "name": "stdout",
     "output_type": "stream",
     "text": [
      "      Tanggal Kode Produk            Nama Produk  Jumlah  Harga\n",
      "0  10-04-2020     Item-11      Sabun Cuci Piring       3  14000\n",
      "1  10-04-2020     Item-11      Sabun Cuci Piring       3  14000\n",
      "2  10-04-2020     Item-11      Sabun Cuci Piring       2  14000\n",
      "3  10-04-2020     Item-02  Bawang Putih 200 gram       3  15000\n",
      "4  10-04-2020     Item-03  Gula Pasir Putih 1 kg       2  12500\n"
     ]
    }
   ],
   "source": [
    "# import library pandas\n",
    "import pandas as pd\n",
    "\n",
    "# membaca file transaksi_retail_dqlab_v2.tsv\n",
    "df = pd.read_csv(\"https://storage.googleapis.com/dqlab-dataset/transaksi_retail_dqlab_v2.tsv\", delimiter=\"\\t\")\n",
    "\n",
    "# menampilkan 5 data pertama\n",
    "print(df.head(5))\n"
   ]
  },
  {
   "cell_type": "markdown",
   "metadata": {},
   "source": [
    "Mengelompokkan Data"
   ]
  },
  {
   "cell_type": "code",
   "execution_count": 2,
   "metadata": {},
   "outputs": [
    {
     "name": "stdout",
     "output_type": "stream",
     "text": [
      "Nama Produk\n",
      "Balsem Putih 20 gram        13\n",
      "Batere AA                  184\n",
      "Bawang Putih 200 gram      402\n",
      "Beras Pulen 5 kg            27\n",
      "Biskuit Waver Kaleng       135\n",
      "Gula Pasir Putih 1 kg      547\n",
      "Ketan Hitam 500 gram        23\n",
      "Kopi Instant               384\n",
      "Mi Goreng Instant          642\n",
      "Obat Batuk                  73\n",
      "Obat Diare                   4\n",
      "Pisau Cukur                 31\n",
      "Roti Tawar                 172\n",
      "Sabun Cuci Piring          108\n",
      "Sabun Mandi Cair 100 ml    394\n",
      "Sabut Cuci Piring           36\n",
      "Teh Celup Melati            58\n",
      "Telur Ayam Negeri           29\n",
      "Vitamin C                  146\n",
      "Name: Jumlah, dtype: int64\n"
     ]
    }
   ],
   "source": [
    "# menghitung total jumlah barang yang dibeli berdasarkan produk\n",
    "print(df[\"Jumlah\"].groupby(df[\"Nama Produk\"]).sum())"
   ]
  },
  {
   "cell_type": "markdown",
   "metadata": {},
   "source": [
    "Mengubah Tanggal"
   ]
  },
  {
   "cell_type": "code",
   "execution_count": 3,
   "metadata": {},
   "outputs": [],
   "source": [
    "import datetime\n",
    "# membuat kolom baru bernama \"Bulan\" yang bertipe datetime dalam format \"%m-%Y\"\n",
    "df[\"Bulan\"] = df[\"Tanggal\"].apply(\n",
    "\tlambda x: datetime.datetime.strptime(x, \"%d-%m-%Y\").strftime(\"%m-%Y\")\n",
    ")"
   ]
  },
  {
   "cell_type": "code",
   "execution_count": 4,
   "metadata": {},
   "outputs": [
    {
     "name": "stdout",
     "output_type": "stream",
     "text": [
      "Bulan    Nama Produk            \n",
      "04-2020  Balsem Putih 20 gram        13\n",
      "         Batere AA                   79\n",
      "         Bawang Putih 200 gram      169\n",
      "         Beras Pulen 5 kg            27\n",
      "         Biskuit Waver Kaleng        92\n",
      "         Gula Pasir Putih 1 kg      272\n",
      "         Ketan Hitam 500 gram        23\n",
      "         Kopi Instant               123\n",
      "         Mi Goreng Instant          247\n",
      "         Obat Batuk                  73\n",
      "         Obat Diare                   4\n",
      "         Pisau Cukur                 31\n",
      "         Roti Tawar                  96\n",
      "         Sabun Cuci Piring           96\n",
      "         Sabun Mandi Cair 100 ml    195\n",
      "         Sabut Cuci Piring           28\n",
      "         Teh Celup Melati            58\n",
      "         Telur Ayam Negeri           29\n",
      "         Vitamin C                   98\n",
      "05-2020  Batere AA                   93\n",
      "         Bawang Putih 200 gram      220\n",
      "         Biskuit Waver Kaleng        43\n",
      "         Gula Pasir Putih 1 kg      246\n",
      "         Kopi Instant               217\n",
      "         Mi Goreng Instant          323\n",
      "         Roti Tawar                  76\n",
      "         Sabun Cuci Piring           12\n",
      "         Sabun Mandi Cair 100 ml    199\n",
      "         Sabut Cuci Piring            8\n",
      "         Vitamin C                   48\n",
      "06-2020  Batere AA                   12\n",
      "         Bawang Putih 200 gram       13\n",
      "         Gula Pasir Putih 1 kg       29\n",
      "         Kopi Instant                44\n",
      "         Mi Goreng Instant           72\n",
      "Name: Jumlah, dtype: int64\n"
     ]
    }
   ],
   "source": [
    "# menghitung jumlah item penjualan per produk per bulan\n",
    "print(df.groupby([\"Bulan\",\"Nama Produk\"])[\"Jumlah\"].sum())"
   ]
  },
  {
   "cell_type": "markdown",
   "metadata": {},
   "source": [
    "Grafik Scatter Plot"
   ]
  },
  {
   "cell_type": "code",
   "execution_count": 5,
   "metadata": {},
   "outputs": [
    {
     "data": {
      "image/png": "[encoded data removed]",
      "text/plain": [
       "<Figure size 432x288 with 1 Axes>"
      ]
     },
     "metadata": {
      "needs_background": "light"
     },
     "output_type": "display_data"
    }
   ],
   "source": [
    "import matplotlib.pyplot as plt\n",
    "# plot scatter untuuk kolom \"Harga\" dan \"Jumlah\"\n",
    "plt.scatter(df[\"Harga\"], df[\"Jumlah\"], alpha = 0.2)\n",
    "plt.xlabel(\"Harga\", fontsize=11)\n",
    "plt.ylabel(\"Jumlah\", fontsize=11)\n",
    "plt.tight_layout()\n",
    "plt.show()"
   ]
  },
  {
   "cell_type": "markdown",
   "metadata": {},
   "source": [
    "Grafik Histogram"
   ]
  },
  {
   "cell_type": "code",
   "execution_count": 6,
   "metadata": {},
   "outputs": [
    {
     "data": {
      "image/png": "[encoded data removed]",
      "text/plain": [
       "<Figure size 576x432 with 1 Axes>"
      ]
     },
     "metadata": {
      "needs_background": "light"
     },
     "output_type": "display_data"
    }
   ],
   "source": [
    "# menampilkan histogram jumlah\n",
    "import matplotlib.pyplot as plt\n",
    "plt.figure(figsize=(8,6))\n",
    "plt.hist(df[\"Jumlah\"])\n",
    "plt.grid(color=\"gray\", linestyle=\"-\", linewidth=0.5)\n",
    "plt.xticks(rotation=45)\n",
    "plt.tight_layout()\n",
    "plt.show()"
   ]
  },
  {
   "cell_type": "markdown",
   "metadata": {},
   "source": [
    "Line Chart"
   ]
  },
  {
   "cell_type": "code",
   "execution_count": 7,
   "metadata": {},
   "outputs": [
    {
     "data": {
      "image/png": "[encoded data removed]",
      "text/plain": [
       "<Figure size 432x288 with 1 Axes>"
      ]
     },
     "metadata": {
      "needs_background": "light"
     },
     "output_type": "display_data"
    }
   ],
   "source": [
    "import datetime\n",
    "# membuat kolom baru bernama \"Bulan\" yang bertipe datetime dalam format \"%m-%Y\"\n",
    "df[\"Bulan\"] = df[\"Tanggal\"].apply(\n",
    "\tlambda x: datetime.datetime.strptime(x, \"%d-%m-%Y\").strftime(\"%m-%Y\")\n",
    ")\n",
    "\n",
    "# mengambil data Mi Goreng Instant saja\n",
    "produk_mi = df[df[\"Nama Produk\"] == \"Mi Goreng Instant\"]\n",
    "\n",
    "# x adalah bulan transaksi\n",
    "x = [\"04-2020\",\"05-2020\",\"06-2020\"]\n",
    "\n",
    "# y jumlah item Mi Goreng Instant yang terjual\n",
    "y = produk_mi.groupby([\"Bulan\",\"Nama Produk\"])[\"Jumlah\"].sum()\n",
    "\n",
    "# membuat line chart menggunakan fungsi plot\n",
    "plt.plot(x,y)\n",
    "plt.title(\"Jumlah Penjualan Mi Goreng Instant Per Bulan\", pad=10, fontsize=12, color=\"blue\")\n",
    "plt.xlabel(\"Bulan\", fontsize=11)\n",
    "plt.ylabel(\"Jumlah\", fontsize=11)\n",
    "plt.grid(color=\"gray\", linestyle=\"-\", linewidth=0.5)\n",
    "plt.tight_layout()\n",
    "plt.show()"
   ]
  },
  {
   "cell_type": "markdown",
   "metadata": {},
   "source": [
    "## Mini Project"
   ]
  },
  {
   "cell_type": "markdown",
   "metadata": {},
   "source": [
    "Tabel Frekuensi Total Penjualan Produk Perbulan"
   ]
  },
  {
   "cell_type": "code",
   "execution_count": 8,
   "metadata": {},
   "outputs": [],
   "source": [
    "import datetime\n",
    "# membuat kolom baru bernama \"Bulan\" yang bertipe datetime dalam format \"%m-%Y\"\n",
    "df[\"Bulan\"] = df[\"Tanggal\"].apply(\n",
    "\tlambda x: datetime.datetime.strptime(x, \"%d-%m-%Y\").strftime(\"%m-%Y\")\n",
    ")"
   ]
  },
  {
   "cell_type": "code",
   "execution_count": 9,
   "metadata": {},
   "outputs": [],
   "source": [
    "# Menghitung total harga untuk setiap row\n",
    "df[\"Total\"] = df[\"Jumlah\"] * df[\"Harga\"]"
   ]
  },
  {
   "cell_type": "code",
   "execution_count": 10,
   "metadata": {},
   "outputs": [
    {
     "name": "stdout",
     "output_type": "stream",
     "text": [
      "Bulan    Nama Produk            \n",
      "04-2020  Balsem Putih 20 gram        289900\n",
      "         Batere AA                   948000\n",
      "         Bawang Putih 200 gram      2535000\n",
      "         Beras Pulen 5 kg           1701000\n",
      "         Biskuit Waver Kaleng       2208000\n",
      "         Gula Pasir Putih 1 kg      3400000\n",
      "         Ketan Hitam 500 gram        414000\n",
      "         Kopi Instant                639600\n",
      "         Mi Goreng Instant           642200\n",
      "         Obat Batuk                  365000\n",
      "         Obat Diare                   20000\n",
      "         Pisau Cukur                 201500\n",
      "         Roti Tawar                 1200000\n",
      "         Sabun Cuci Piring          1344000\n",
      "         Sabun Mandi Cair 100 ml    2047500\n",
      "         Sabut Cuci Piring           210000\n",
      "         Teh Celup Melati            452400\n",
      "         Telur Ayam Negeri            49300\n",
      "         Vitamin C                   196000\n",
      "05-2020  Batere AA                  1116000\n",
      "         Bawang Putih 200 gram      3300000\n",
      "         Biskuit Waver Kaleng       1032000\n",
      "         Gula Pasir Putih 1 kg      3075000\n",
      "         Kopi Instant               1128400\n",
      "         Mi Goreng Instant           839800\n",
      "         Roti Tawar                  950000\n",
      "         Sabun Cuci Piring           168000\n",
      "         Sabun Mandi Cair 100 ml    2089500\n",
      "         Sabut Cuci Piring            60000\n",
      "         Vitamin C                    96000\n",
      "06-2020  Batere AA                   144000\n",
      "         Bawang Putih 200 gram       195000\n",
      "         Gula Pasir Putih 1 kg       362500\n",
      "         Kopi Instant                228800\n",
      "         Mi Goreng Instant           187200\n",
      "Name: Total, dtype: int64\n"
     ]
    }
   ],
   "source": [
    "# menghitung total penjualan per produk per bulan\n",
    "print(df.groupby([\"Bulan\", \"Nama Produk\"])[\"Total\"].sum())"
   ]
  },
  {
   "cell_type": "markdown",
   "metadata": {},
   "source": [
    "Line Chart Penjualan Kopi Instan Per Bulan"
   ]
  },
  {
   "cell_type": "code",
   "execution_count": 11,
   "metadata": {},
   "outputs": [
    {
     "data": {
      "image/png": "[encoded data removed]",
      "text/plain": [
       "<Figure size 432x288 with 1 Axes>"
      ]
     },
     "metadata": {
      "needs_background": "light"
     },
     "output_type": "display_data"
    }
   ],
   "source": [
    "# mengambil data Kopi Instant saja\n",
    "produk_kopi = df[df[\"Nama Produk\"] == \"Kopi Instant\"]\n",
    "\n",
    "# x adalah bulan transaksi\n",
    "x = [\"04-2020\", \"05-2020\", \"06-2020\"]\n",
    "\n",
    "# y jumlah item Kopi Instant yang terjual\n",
    "y = produk_kopi.groupby([\"Bulan\", \"Nama Produk\"])[\"Jumlah\"].sum()\n",
    "\n",
    "import matplotlib.pyplot as plt\n",
    "# membuat line chart menggunakan fungsi plot\n",
    "plt.plot(x, y)\n",
    "plt.title(\"Jumlah Penjualan Kopi Instant Per Bulan\", pad=10, fontsize=12, color=\"blue\")\n",
    "plt.xlabel(\"Bulan\", fontsize=11)\n",
    "plt.ylabel(\"Jumlah\",fontsize=11)\n",
    "plt.grid(color=\"gray\", linestyle=\"-\", linewidth=0.5)\n",
    "plt.tight_layout()\n",
    "plt.show()"
   ]
  }
 ],
 "metadata": {
  "kernelspec": {
   "display_name": "Python 3.10.1 64-bit",
   "language": "python",
   "name": "python3"
  },
  "language_info": {
   "codemirror_mode": {
    "name": "ipython",
    "version": 3
   },
   "file_extension": ".py",
   "mimetype": "text/x-python",
   "name": "python",
   "nbconvert_exporter": "python",
   "pygments_lexer": "ipython3",
   "version": "3.10.1"
  },
  "orig_nbformat": 4,
  "vscode": {
   "interpreter": {
    "hash": "df95319d8ce4e1d89f5365ae10992bc1f65da593082b1d264e8f529830ec2f02"
   }
  }
 },
 "nbformat": 4,
 "nbformat_minor": 2
}
